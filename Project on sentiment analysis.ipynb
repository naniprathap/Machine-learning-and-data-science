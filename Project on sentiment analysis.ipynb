{
 "cells": [
  {
   "cell_type": "code",
   "execution_count": 1,
   "metadata": {
    "execution": {
     "iopub.execute_input": "2021-08-24T20:39:08.717592Z",
     "iopub.status.busy": "2021-08-24T20:39:08.717186Z",
     "iopub.status.idle": "2021-08-24T20:39:08.727882Z",
     "shell.execute_reply": "2021-08-24T20:39:08.727133Z",
     "shell.execute_reply.started": "2021-08-24T20:39:08.717512Z"
    }
   },
   "outputs": [],
   "source": [
    "import pandas as pd"
   ]
  },
  {
   "cell_type": "markdown",
   "metadata": {},
   "source": [
    "# Loading the Data Set"
   ]
  },
  {
   "cell_type": "code",
   "execution_count": 2,
   "metadata": {
    "execution": {
     "iopub.execute_input": "2021-08-24T20:39:08.748149Z",
     "iopub.status.busy": "2021-08-24T20:39:08.747654Z",
     "iopub.status.idle": "2021-08-24T20:39:09.261548Z",
     "shell.execute_reply": "2021-08-24T20:39:09.260419Z",
     "shell.execute_reply.started": "2021-08-24T20:39:08.748114Z"
    }
   },
   "outputs": [
    {
     "data": {
      "text/html": [
       "<div>\n",
       "<style scoped>\n",
       "    .dataframe tbody tr th:only-of-type {\n",
       "        vertical-align: middle;\n",
       "    }\n",
       "\n",
       "    .dataframe tbody tr th {\n",
       "        vertical-align: top;\n",
       "    }\n",
       "\n",
       "    .dataframe thead th {\n",
       "        text-align: right;\n",
       "    }\n",
       "</style>\n",
       "<table border=\"1\" class=\"dataframe\">\n",
       "  <thead>\n",
       "    <tr style=\"text-align: right;\">\n",
       "      <th></th>\n",
       "      <th>_3x5_awTA href</th>\n",
       "      <th>_3x5_awTA src</th>\n",
       "      <th>_2fxQ4TOx</th>\n",
       "      <th>ui_header_link</th>\n",
       "      <th>ui_header_link href</th>\n",
       "      <th>default</th>\n",
       "      <th>_3fPsSAYi</th>\n",
       "      <th>_1fk70GUn</th>\n",
       "      <th>ocfR3SKN href</th>\n",
       "      <th>ocfR3SKN</th>\n",
       "      <th>...</th>\n",
       "      <th>_34Xs-BQm</th>\n",
       "      <th>_355y0nZn</th>\n",
       "      <th>ui_link</th>\n",
       "      <th>ui_link 2</th>\n",
       "      <th>_204cKjWJ</th>\n",
       "      <th>_2lY-Jowi</th>\n",
       "      <th>sT5TMxg3</th>\n",
       "      <th>_3fPsSAYi 2</th>\n",
       "      <th>_1fk70GUn 2</th>\n",
       "      <th>_3kbymg8R</th>\n",
       "    </tr>\n",
       "  </thead>\n",
       "  <tbody>\n",
       "    <tr>\n",
       "      <th>0</th>\n",
       "      <td>https://www.tripadvisor.in/Profile/anshumaditya</td>\n",
       "      <td>https://media-cdn.tripadvisor.com/media/photo-...</td>\n",
       "      <td>wrote a review Yesterday</td>\n",
       "      <td>Anshum A Ghai</td>\n",
       "      <td>https://www.tripadvisor.in/Profile/anshumaditya</td>\n",
       "      <td>Dubai, United Arab Emirates</td>\n",
       "      <td>contributions</td>\n",
       "      <td>2.0</td>\n",
       "      <td>https://www.tripadvisor.in/ShowUserReviews-g30...</td>\n",
       "      <td>Good service!</td>\n",
       "      <td>...</td>\n",
       "      <td>August 2021</td>\n",
       "      <td>Date of stay:</td>\n",
       "      <td>Helpful</td>\n",
       "      <td>Share</td>\n",
       "      <td>Response from Sofitel MumbaiBKC, General Manag...</td>\n",
       "      <td>Responded yesterday</td>\n",
       "      <td>Bonjour anshumaditya,  Thank you for choosing ...</td>\n",
       "      <td>NaN</td>\n",
       "      <td>NaN</td>\n",
       "      <td>NaN</td>\n",
       "    </tr>\n",
       "    <tr>\n",
       "      <th>1</th>\n",
       "      <td>https://www.tripadvisor.in/Profile/ananyavora08</td>\n",
       "      <td>NaN</td>\n",
       "      <td>wrote a review 2 Aug</td>\n",
       "      <td>Ananya Vora</td>\n",
       "      <td>https://www.tripadvisor.in/Profile/ananyavora08</td>\n",
       "      <td>NaN</td>\n",
       "      <td>contributions</td>\n",
       "      <td>2.0</td>\n",
       "      <td>https://www.tripadvisor.in/ShowUserReviews-g30...</td>\n",
       "      <td>Lunch at Sofitel</td>\n",
       "      <td>...</td>\n",
       "      <td>August 2021</td>\n",
       "      <td>Date of stay:</td>\n",
       "      <td>Helpful</td>\n",
       "      <td>Share</td>\n",
       "      <td>Response from Sofitel MumbaiBKC, General Manag...</td>\n",
       "      <td>Responded 2 days ago</td>\n",
       "      <td>Bonjour ananyavora08,  Thank you for choosing ...</td>\n",
       "      <td>helpful votes</td>\n",
       "      <td>4.0</td>\n",
       "      <td>NaN</td>\n",
       "    </tr>\n",
       "    <tr>\n",
       "      <th>2</th>\n",
       "      <td>https://www.tripadvisor.in/Profile/928jaideepc</td>\n",
       "      <td>NaN</td>\n",
       "      <td>wrote a review 2 Aug</td>\n",
       "      <td>Jaideep c</td>\n",
       "      <td>https://www.tripadvisor.in/Profile/928jaideepc</td>\n",
       "      <td>Mumbai, India</td>\n",
       "      <td>contribution</td>\n",
       "      <td>1.0</td>\n",
       "      <td>https://www.tripadvisor.in/ShowUserReviews-g30...</td>\n",
       "      <td>excellent service</td>\n",
       "      <td>...</td>\n",
       "      <td>August 2021</td>\n",
       "      <td>Date of stay:</td>\n",
       "      <td>Helpful</td>\n",
       "      <td>Share</td>\n",
       "      <td>Response from Sofitel MumbaiBKC, General Manag...</td>\n",
       "      <td>Responded 2 days ago</td>\n",
       "      <td>Bonjour 928jaideepc,  Thank you for choosing S...</td>\n",
       "      <td>NaN</td>\n",
       "      <td>NaN</td>\n",
       "      <td>NaN</td>\n",
       "    </tr>\n",
       "    <tr>\n",
       "      <th>3</th>\n",
       "      <td>https://www.tripadvisor.in/Profile/Keuree</td>\n",
       "      <td>NaN</td>\n",
       "      <td>wrote a review 2 Aug</td>\n",
       "      <td>Keuree Ganatra</td>\n",
       "      <td>https://www.tripadvisor.in/Profile/Keuree</td>\n",
       "      <td>Mumbai, India</td>\n",
       "      <td>contributions</td>\n",
       "      <td>3.0</td>\n",
       "      <td>https://www.tripadvisor.in/ShowUserReviews-g30...</td>\n",
       "      <td>Happy Friendship Day Celebration 🥳</td>\n",
       "      <td>...</td>\n",
       "      <td>August 2021</td>\n",
       "      <td>Date of stay:</td>\n",
       "      <td>Helpful</td>\n",
       "      <td>Share</td>\n",
       "      <td>Response from Sofitel MumbaiBKC, General Manag...</td>\n",
       "      <td>Responded 2 days ago</td>\n",
       "      <td>Bonjour Keuree,  Thank you for choosing Sofite...</td>\n",
       "      <td>helpful vote</td>\n",
       "      <td>1.0</td>\n",
       "      <td>NaN</td>\n",
       "    </tr>\n",
       "    <tr>\n",
       "      <th>4</th>\n",
       "      <td>https://www.tripadvisor.in/Profile/Nilaynb</td>\n",
       "      <td>NaN</td>\n",
       "      <td>wrote a review 1 Aug</td>\n",
       "      <td>Nilaynb</td>\n",
       "      <td>https://www.tripadvisor.in/Profile/Nilaynb</td>\n",
       "      <td>Ahmedabad, India</td>\n",
       "      <td>contributions</td>\n",
       "      <td>107.0</td>\n",
       "      <td>https://www.tripadvisor.in/ShowUserReviews-g30...</td>\n",
       "      <td>Stay at SofitelBKC</td>\n",
       "      <td>...</td>\n",
       "      <td>July 2021</td>\n",
       "      <td>Date of stay:</td>\n",
       "      <td>Helpful</td>\n",
       "      <td>Share</td>\n",
       "      <td>Response from Sofitel MumbaiBKC, General Manag...</td>\n",
       "      <td>Responded 3 days ago</td>\n",
       "      <td>Bonjour Nilaynb,  Thank you for choosing Sofit...</td>\n",
       "      <td>helpful votes</td>\n",
       "      <td>32.0</td>\n",
       "      <td>1 Helpful vote</td>\n",
       "    </tr>\n",
       "  </tbody>\n",
       "</table>\n",
       "<p>5 rows × 22 columns</p>\n",
       "</div>"
      ],
      "text/plain": [
       "                                    _3x5_awTA href  \\\n",
       "0  https://www.tripadvisor.in/Profile/anshumaditya   \n",
       "1  https://www.tripadvisor.in/Profile/ananyavora08   \n",
       "2   https://www.tripadvisor.in/Profile/928jaideepc   \n",
       "3        https://www.tripadvisor.in/Profile/Keuree   \n",
       "4       https://www.tripadvisor.in/Profile/Nilaynb   \n",
       "\n",
       "                                       _3x5_awTA src  \\\n",
       "0  https://media-cdn.tripadvisor.com/media/photo-...   \n",
       "1                                                NaN   \n",
       "2                                                NaN   \n",
       "3                                                NaN   \n",
       "4                                                NaN   \n",
       "\n",
       "                  _2fxQ4TOx  ui_header_link  \\\n",
       "0  wrote a review Yesterday   Anshum A Ghai   \n",
       "1      wrote a review 2 Aug     Ananya Vora   \n",
       "2      wrote a review 2 Aug       Jaideep c   \n",
       "3      wrote a review 2 Aug  Keuree Ganatra   \n",
       "4      wrote a review 1 Aug         Nilaynb   \n",
       "\n",
       "                               ui_header_link href  \\\n",
       "0  https://www.tripadvisor.in/Profile/anshumaditya   \n",
       "1  https://www.tripadvisor.in/Profile/ananyavora08   \n",
       "2   https://www.tripadvisor.in/Profile/928jaideepc   \n",
       "3        https://www.tripadvisor.in/Profile/Keuree   \n",
       "4       https://www.tripadvisor.in/Profile/Nilaynb   \n",
       "\n",
       "                       default      _3fPsSAYi  _1fk70GUn  \\\n",
       "0  Dubai, United Arab Emirates  contributions        2.0   \n",
       "1                          NaN  contributions        2.0   \n",
       "2                Mumbai, India   contribution        1.0   \n",
       "3                Mumbai, India  contributions        3.0   \n",
       "4             Ahmedabad, India  contributions      107.0   \n",
       "\n",
       "                                       ocfR3SKN href  \\\n",
       "0  https://www.tripadvisor.in/ShowUserReviews-g30...   \n",
       "1  https://www.tripadvisor.in/ShowUserReviews-g30...   \n",
       "2  https://www.tripadvisor.in/ShowUserReviews-g30...   \n",
       "3  https://www.tripadvisor.in/ShowUserReviews-g30...   \n",
       "4  https://www.tripadvisor.in/ShowUserReviews-g30...   \n",
       "\n",
       "                             ocfR3SKN  ...    _34Xs-BQm      _355y0nZn  \\\n",
       "0                       Good service!  ...  August 2021  Date of stay:   \n",
       "1                    Lunch at Sofitel  ...  August 2021  Date of stay:   \n",
       "2                   excellent service  ...  August 2021  Date of stay:   \n",
       "3  Happy Friendship Day Celebration 🥳  ...  August 2021  Date of stay:   \n",
       "4                  Stay at SofitelBKC  ...    July 2021  Date of stay:   \n",
       "\n",
       "   ui_link ui_link 2                                          _204cKjWJ  \\\n",
       "0  Helpful     Share  Response from Sofitel MumbaiBKC, General Manag...   \n",
       "1  Helpful     Share  Response from Sofitel MumbaiBKC, General Manag...   \n",
       "2  Helpful     Share  Response from Sofitel MumbaiBKC, General Manag...   \n",
       "3  Helpful     Share  Response from Sofitel MumbaiBKC, General Manag...   \n",
       "4  Helpful     Share  Response from Sofitel MumbaiBKC, General Manag...   \n",
       "\n",
       "              _2lY-Jowi                                           sT5TMxg3  \\\n",
       "0   Responded yesterday  Bonjour anshumaditya,  Thank you for choosing ...   \n",
       "1  Responded 2 days ago  Bonjour ananyavora08,  Thank you for choosing ...   \n",
       "2  Responded 2 days ago  Bonjour 928jaideepc,  Thank you for choosing S...   \n",
       "3  Responded 2 days ago  Bonjour Keuree,  Thank you for choosing Sofite...   \n",
       "4  Responded 3 days ago  Bonjour Nilaynb,  Thank you for choosing Sofit...   \n",
       "\n",
       "     _3fPsSAYi 2 _1fk70GUn 2       _3kbymg8R  \n",
       "0            NaN         NaN             NaN  \n",
       "1  helpful votes         4.0             NaN  \n",
       "2            NaN         NaN             NaN  \n",
       "3   helpful vote         1.0             NaN  \n",
       "4  helpful votes        32.0  1 Helpful vote  \n",
       "\n",
       "[5 rows x 22 columns]"
      ]
     },
     "execution_count": 2,
     "metadata": {},
     "output_type": "execute_result"
    }
   ],
   "source": [
    "data_new=pd.read_csv(\"C:/Users/khann/Downloads/tripadvisor (5).csv\")\n",
    "data_new.head()"
   ]
  },
  {
   "cell_type": "markdown",
   "metadata": {},
   "source": [
    "# Exploratory Data Analysis"
   ]
  },
  {
   "cell_type": "code",
   "execution_count": 3,
   "metadata": {
    "execution": {
     "iopub.execute_input": "2021-08-24T20:39:09.263853Z",
     "iopub.status.busy": "2021-08-24T20:39:09.263410Z",
     "iopub.status.idle": "2021-08-24T20:39:09.305668Z",
     "shell.execute_reply": "2021-08-24T20:39:09.304697Z",
     "shell.execute_reply.started": "2021-08-24T20:39:09.263807Z"
    }
   },
   "outputs": [
    {
     "name": "stdout",
     "output_type": "stream",
     "text": [
      "<class 'pandas.core.frame.DataFrame'>\n",
      "RangeIndex: 6135 entries, 0 to 6134\n",
      "Data columns (total 22 columns):\n",
      " #   Column               Non-Null Count  Dtype  \n",
      "---  ------               --------------  -----  \n",
      " 0   _3x5_awTA href       6125 non-null   object \n",
      " 1   _3x5_awTA src        1240 non-null   object \n",
      " 2   _2fxQ4TOx            6130 non-null   object \n",
      " 3   ui_header_link       6130 non-null   object \n",
      " 4   ui_header_link href  6130 non-null   object \n",
      " 5   default              3720 non-null   object \n",
      " 6   _3fPsSAYi            6130 non-null   object \n",
      " 7   _1fk70GUn            6130 non-null   float64\n",
      " 8   ocfR3SKN href        6125 non-null   object \n",
      " 9   ocfR3SKN             6129 non-null   object \n",
      " 10  IRsGHoPm             6130 non-null   object \n",
      " 11  _3maEfNCR            6130 non-null   object \n",
      " 12  _34Xs-BQm            6125 non-null   object \n",
      " 13  _355y0nZn            6125 non-null   object \n",
      " 14  ui_link              6130 non-null   object \n",
      " 15  ui_link 2            6130 non-null   object \n",
      " 16  _204cKjWJ            6130 non-null   object \n",
      " 17  _2lY-Jowi            6130 non-null   object \n",
      " 18  sT5TMxg3             6130 non-null   object \n",
      " 19  _3fPsSAYi 2          3947 non-null   object \n",
      " 20  _1fk70GUn 2          3947 non-null   float64\n",
      " 21  _3kbymg8R            1487 non-null   object \n",
      "dtypes: float64(2), object(20)\n",
      "memory usage: 1.0+ MB\n"
     ]
    }
   ],
   "source": [
    "data_new.info()"
   ]
  },
  {
   "cell_type": "code",
   "execution_count": 4,
   "metadata": {
    "execution": {
     "iopub.execute_input": "2021-08-24T20:39:09.308114Z",
     "iopub.status.busy": "2021-08-24T20:39:09.307713Z",
     "iopub.status.idle": "2021-08-24T20:39:09.388541Z",
     "shell.execute_reply": "2021-08-24T20:39:09.387547Z",
     "shell.execute_reply.started": "2021-08-24T20:39:09.308071Z"
    }
   },
   "outputs": [
    {
     "data": {
      "text/plain": [
       "_3x5_awTA href         5562\n",
       "_3x5_awTA src           356\n",
       "_2fxQ4TOx                87\n",
       "ui_header_link         5443\n",
       "ui_header_link href    5563\n",
       "default                 859\n",
       "_3fPsSAYi                 2\n",
       "_1fk70GUn               412\n",
       "ocfR3SKN href          6125\n",
       "ocfR3SKN               5082\n",
       "IRsGHoPm               6128\n",
       "_3maEfNCR                 1\n",
       "_34Xs-BQm                95\n",
       "_355y0nZn                 1\n",
       "ui_link                   1\n",
       "ui_link 2                 1\n",
       "_204cKjWJ                 3\n",
       "_2lY-Jowi              1262\n",
       "sT5TMxg3               6124\n",
       "_3fPsSAYi 2               2\n",
       "_1fk70GUn 2             214\n",
       "_3kbymg8R                 9\n",
       "dtype: int64"
      ]
     },
     "execution_count": 4,
     "metadata": {},
     "output_type": "execute_result"
    }
   ],
   "source": [
    "data_new.nunique()"
   ]
  },
  {
   "cell_type": "code",
   "execution_count": 5,
   "metadata": {
    "execution": {
     "iopub.execute_input": "2021-08-24T20:39:09.390459Z",
     "iopub.status.busy": "2021-08-24T20:39:09.390001Z",
     "iopub.status.idle": "2021-08-24T20:39:09.398756Z",
     "shell.execute_reply": "2021-08-24T20:39:09.397802Z",
     "shell.execute_reply.started": "2021-08-24T20:39:09.390421Z"
    }
   },
   "outputs": [],
   "source": [
    "data =data_new.drop([6130])"
   ]
  },
  {
   "cell_type": "code",
   "execution_count": 6,
   "metadata": {
    "execution": {
     "iopub.execute_input": "2021-08-24T20:39:09.400822Z",
     "iopub.status.busy": "2021-08-24T20:39:09.400197Z",
     "iopub.status.idle": "2021-08-24T20:39:09.425578Z",
     "shell.execute_reply": "2021-08-24T20:39:09.424491Z",
     "shell.execute_reply.started": "2021-08-24T20:39:09.400786Z"
    }
   },
   "outputs": [
    {
     "data": {
      "text/html": [
       "<div>\n",
       "<style scoped>\n",
       "    .dataframe tbody tr th:only-of-type {\n",
       "        vertical-align: middle;\n",
       "    }\n",
       "\n",
       "    .dataframe tbody tr th {\n",
       "        vertical-align: top;\n",
       "    }\n",
       "\n",
       "    .dataframe thead th {\n",
       "        text-align: right;\n",
       "    }\n",
       "</style>\n",
       "<table border=\"1\" class=\"dataframe\">\n",
       "  <thead>\n",
       "    <tr style=\"text-align: right;\">\n",
       "      <th></th>\n",
       "      <th>_3x5_awTA href</th>\n",
       "      <th>_3x5_awTA src</th>\n",
       "      <th>_2fxQ4TOx</th>\n",
       "      <th>ui_header_link</th>\n",
       "      <th>ui_header_link href</th>\n",
       "      <th>default</th>\n",
       "    </tr>\n",
       "  </thead>\n",
       "  <tbody>\n",
       "    <tr>\n",
       "      <th>0</th>\n",
       "      <td>https://www.tripadvisor.in/Profile/anshumaditya</td>\n",
       "      <td>https://media-cdn.tripadvisor.com/media/photo-...</td>\n",
       "      <td>wrote a review Yesterday</td>\n",
       "      <td>Anshum A Ghai</td>\n",
       "      <td>https://www.tripadvisor.in/Profile/anshumaditya</td>\n",
       "      <td>Dubai, United Arab Emirates</td>\n",
       "    </tr>\n",
       "    <tr>\n",
       "      <th>1</th>\n",
       "      <td>https://www.tripadvisor.in/Profile/ananyavora08</td>\n",
       "      <td>NaN</td>\n",
       "      <td>wrote a review 2 Aug</td>\n",
       "      <td>Ananya Vora</td>\n",
       "      <td>https://www.tripadvisor.in/Profile/ananyavora08</td>\n",
       "      <td>NaN</td>\n",
       "    </tr>\n",
       "    <tr>\n",
       "      <th>2</th>\n",
       "      <td>https://www.tripadvisor.in/Profile/928jaideepc</td>\n",
       "      <td>NaN</td>\n",
       "      <td>wrote a review 2 Aug</td>\n",
       "      <td>Jaideep c</td>\n",
       "      <td>https://www.tripadvisor.in/Profile/928jaideepc</td>\n",
       "      <td>Mumbai, India</td>\n",
       "    </tr>\n",
       "    <tr>\n",
       "      <th>3</th>\n",
       "      <td>https://www.tripadvisor.in/Profile/Keuree</td>\n",
       "      <td>NaN</td>\n",
       "      <td>wrote a review 2 Aug</td>\n",
       "      <td>Keuree Ganatra</td>\n",
       "      <td>https://www.tripadvisor.in/Profile/Keuree</td>\n",
       "      <td>Mumbai, India</td>\n",
       "    </tr>\n",
       "    <tr>\n",
       "      <th>4</th>\n",
       "      <td>https://www.tripadvisor.in/Profile/Nilaynb</td>\n",
       "      <td>NaN</td>\n",
       "      <td>wrote a review 1 Aug</td>\n",
       "      <td>Nilaynb</td>\n",
       "      <td>https://www.tripadvisor.in/Profile/Nilaynb</td>\n",
       "      <td>Ahmedabad, India</td>\n",
       "    </tr>\n",
       "    <tr>\n",
       "      <th>...</th>\n",
       "      <td>...</td>\n",
       "      <td>...</td>\n",
       "      <td>...</td>\n",
       "      <td>...</td>\n",
       "      <td>...</td>\n",
       "      <td>...</td>\n",
       "    </tr>\n",
       "    <tr>\n",
       "      <th>6129</th>\n",
       "      <td>https://www.tripadvisor.in/Profile/sweta3modi</td>\n",
       "      <td>NaN</td>\n",
       "      <td>wrote a review Jun 2014</td>\n",
       "      <td>sweta3modi</td>\n",
       "      <td>https://www.tripadvisor.in/Profile/sweta3modi</td>\n",
       "      <td>Mumbai, India</td>\n",
       "    </tr>\n",
       "    <tr>\n",
       "      <th>6131</th>\n",
       "      <td>https://www.tripadvisor.in/Profile/RussellG763</td>\n",
       "      <td>NaN</td>\n",
       "      <td>wrote a review Jun 2014</td>\n",
       "      <td>Russell G</td>\n",
       "      <td>https://www.tripadvisor.in/Profile/RussellG763</td>\n",
       "      <td>Bangkok, Thailand</td>\n",
       "    </tr>\n",
       "    <tr>\n",
       "      <th>6132</th>\n",
       "      <td>https://www.tripadvisor.in/Profile/googly108</td>\n",
       "      <td>NaN</td>\n",
       "      <td>wrote a review Jun 2014</td>\n",
       "      <td>googly108</td>\n",
       "      <td>https://www.tripadvisor.in/Profile/googly108</td>\n",
       "      <td>Bengaluru, India</td>\n",
       "    </tr>\n",
       "    <tr>\n",
       "      <th>6133</th>\n",
       "      <td>https://www.tripadvisor.in/Profile/lukhakaran</td>\n",
       "      <td>NaN</td>\n",
       "      <td>wrote a review Jun 2014</td>\n",
       "      <td>lukhakaran</td>\n",
       "      <td>https://www.tripadvisor.in/Profile/lukhakaran</td>\n",
       "      <td>Mumbai, India</td>\n",
       "    </tr>\n",
       "    <tr>\n",
       "      <th>6134</th>\n",
       "      <td>https://www.tripadvisor.in/Profile/AnjaliHeaven</td>\n",
       "      <td>NaN</td>\n",
       "      <td>wrote a review Jun 2014</td>\n",
       "      <td>AnjaliHeaven</td>\n",
       "      <td>https://www.tripadvisor.in/Profile/AnjaliHeaven</td>\n",
       "      <td>Heaven</td>\n",
       "    </tr>\n",
       "  </tbody>\n",
       "</table>\n",
       "<p>6134 rows × 6 columns</p>\n",
       "</div>"
      ],
      "text/plain": [
       "                                       _3x5_awTA href  \\\n",
       "0     https://www.tripadvisor.in/Profile/anshumaditya   \n",
       "1     https://www.tripadvisor.in/Profile/ananyavora08   \n",
       "2      https://www.tripadvisor.in/Profile/928jaideepc   \n",
       "3           https://www.tripadvisor.in/Profile/Keuree   \n",
       "4          https://www.tripadvisor.in/Profile/Nilaynb   \n",
       "...                                               ...   \n",
       "6129    https://www.tripadvisor.in/Profile/sweta3modi   \n",
       "6131   https://www.tripadvisor.in/Profile/RussellG763   \n",
       "6132     https://www.tripadvisor.in/Profile/googly108   \n",
       "6133    https://www.tripadvisor.in/Profile/lukhakaran   \n",
       "6134  https://www.tripadvisor.in/Profile/AnjaliHeaven   \n",
       "\n",
       "                                          _3x5_awTA src  \\\n",
       "0     https://media-cdn.tripadvisor.com/media/photo-...   \n",
       "1                                                   NaN   \n",
       "2                                                   NaN   \n",
       "3                                                   NaN   \n",
       "4                                                   NaN   \n",
       "...                                                 ...   \n",
       "6129                                                NaN   \n",
       "6131                                                NaN   \n",
       "6132                                                NaN   \n",
       "6133                                                NaN   \n",
       "6134                                                NaN   \n",
       "\n",
       "                     _2fxQ4TOx  ui_header_link  \\\n",
       "0     wrote a review Yesterday   Anshum A Ghai   \n",
       "1         wrote a review 2 Aug     Ananya Vora   \n",
       "2         wrote a review 2 Aug       Jaideep c   \n",
       "3         wrote a review 2 Aug  Keuree Ganatra   \n",
       "4         wrote a review 1 Aug         Nilaynb   \n",
       "...                        ...             ...   \n",
       "6129   wrote a review Jun 2014      sweta3modi   \n",
       "6131   wrote a review Jun 2014       Russell G   \n",
       "6132   wrote a review Jun 2014       googly108   \n",
       "6133   wrote a review Jun 2014      lukhakaran   \n",
       "6134   wrote a review Jun 2014    AnjaliHeaven   \n",
       "\n",
       "                                  ui_header_link href  \\\n",
       "0     https://www.tripadvisor.in/Profile/anshumaditya   \n",
       "1     https://www.tripadvisor.in/Profile/ananyavora08   \n",
       "2      https://www.tripadvisor.in/Profile/928jaideepc   \n",
       "3           https://www.tripadvisor.in/Profile/Keuree   \n",
       "4          https://www.tripadvisor.in/Profile/Nilaynb   \n",
       "...                                               ...   \n",
       "6129    https://www.tripadvisor.in/Profile/sweta3modi   \n",
       "6131   https://www.tripadvisor.in/Profile/RussellG763   \n",
       "6132     https://www.tripadvisor.in/Profile/googly108   \n",
       "6133    https://www.tripadvisor.in/Profile/lukhakaran   \n",
       "6134  https://www.tripadvisor.in/Profile/AnjaliHeaven   \n",
       "\n",
       "                          default  \n",
       "0     Dubai, United Arab Emirates  \n",
       "1                             NaN  \n",
       "2                   Mumbai, India  \n",
       "3                   Mumbai, India  \n",
       "4                Ahmedabad, India  \n",
       "...                           ...  \n",
       "6129                Mumbai, India  \n",
       "6131            Bangkok, Thailand  \n",
       "6132             Bengaluru, India  \n",
       "6133                Mumbai, India  \n",
       "6134                       Heaven  \n",
       "\n",
       "[6134 rows x 6 columns]"
      ]
     },
     "execution_count": 6,
     "metadata": {},
     "output_type": "execute_result"
    }
   ],
   "source": [
    "data1=data.iloc[:,:6]\n",
    "data1"
   ]
  },
  {
   "cell_type": "code",
   "execution_count": 7,
   "metadata": {
    "execution": {
     "iopub.execute_input": "2021-08-24T20:39:09.427316Z",
     "iopub.status.busy": "2021-08-24T20:39:09.426879Z",
     "iopub.status.idle": "2021-08-24T20:39:09.433189Z",
     "shell.execute_reply": "2021-08-24T20:39:09.432014Z",
     "shell.execute_reply.started": "2021-08-24T20:39:09.427267Z"
    }
   },
   "outputs": [],
   "source": [
    "data2=data.iloc[:,6:11]"
   ]
  },
  {
   "cell_type": "code",
   "execution_count": 8,
   "metadata": {
    "execution": {
     "iopub.execute_input": "2021-08-24T20:39:09.434861Z",
     "iopub.status.busy": "2021-08-24T20:39:09.434576Z",
     "iopub.status.idle": "2021-08-24T20:39:09.466317Z",
     "shell.execute_reply": "2021-08-24T20:39:09.465310Z",
     "shell.execute_reply.started": "2021-08-24T20:39:09.434835Z"
    }
   },
   "outputs": [
    {
     "data": {
      "text/html": [
       "<div>\n",
       "<style scoped>\n",
       "    .dataframe tbody tr th:only-of-type {\n",
       "        vertical-align: middle;\n",
       "    }\n",
       "\n",
       "    .dataframe tbody tr th {\n",
       "        vertical-align: top;\n",
       "    }\n",
       "\n",
       "    .dataframe thead th {\n",
       "        text-align: right;\n",
       "    }\n",
       "</style>\n",
       "<table border=\"1\" class=\"dataframe\">\n",
       "  <thead>\n",
       "    <tr style=\"text-align: right;\">\n",
       "      <th></th>\n",
       "      <th>_3fPsSAYi</th>\n",
       "      <th>_1fk70GUn</th>\n",
       "      <th>ocfR3SKN href</th>\n",
       "      <th>ocfR3SKN</th>\n",
       "      <th>IRsGHoPm</th>\n",
       "    </tr>\n",
       "  </thead>\n",
       "  <tbody>\n",
       "    <tr>\n",
       "      <th>0</th>\n",
       "      <td>contributions</td>\n",
       "      <td>2.0</td>\n",
       "      <td>https://www.tripadvisor.in/ShowUserReviews-g30...</td>\n",
       "      <td>Good service!</td>\n",
       "      <td>Mr. Bhanuprakash jaiswar drives very safely. W...</td>\n",
       "    </tr>\n",
       "    <tr>\n",
       "      <th>1</th>\n",
       "      <td>contributions</td>\n",
       "      <td>2.0</td>\n",
       "      <td>https://www.tripadvisor.in/ShowUserReviews-g30...</td>\n",
       "      <td>Lunch at Sofitel</td>\n",
       "      <td>My family and I visited Pondicherry Cafe and w...</td>\n",
       "    </tr>\n",
       "    <tr>\n",
       "      <th>2</th>\n",
       "      <td>contribution</td>\n",
       "      <td>1.0</td>\n",
       "      <td>https://www.tripadvisor.in/ShowUserReviews-g30...</td>\n",
       "      <td>excellent service</td>\n",
       "      <td>superb hospitality !!! detailed service very n...</td>\n",
       "    </tr>\n",
       "    <tr>\n",
       "      <th>3</th>\n",
       "      <td>contributions</td>\n",
       "      <td>3.0</td>\n",
       "      <td>https://www.tripadvisor.in/ShowUserReviews-g30...</td>\n",
       "      <td>Happy Friendship Day Celebration 🥳</td>\n",
       "      <td>We had a fantastic lunch and had a great time ...</td>\n",
       "    </tr>\n",
       "    <tr>\n",
       "      <th>4</th>\n",
       "      <td>contributions</td>\n",
       "      <td>107.0</td>\n",
       "      <td>https://www.tripadvisor.in/ShowUserReviews-g30...</td>\n",
       "      <td>Stay at SofitelBKC</td>\n",
       "      <td>Stay at Sofitel BKC was excellent ! Spacious r...</td>\n",
       "    </tr>\n",
       "    <tr>\n",
       "      <th>...</th>\n",
       "      <td>...</td>\n",
       "      <td>...</td>\n",
       "      <td>...</td>\n",
       "      <td>...</td>\n",
       "      <td>...</td>\n",
       "    </tr>\n",
       "    <tr>\n",
       "      <th>6129</th>\n",
       "      <td>contribution</td>\n",
       "      <td>1.0</td>\n",
       "      <td>https://www.tripadvisor.in/ShowUserReviews-g30...</td>\n",
       "      <td>seamless functioning</td>\n",
       "      <td>We chose Sofitel to host a family engagement a...</td>\n",
       "    </tr>\n",
       "    <tr>\n",
       "      <th>6131</th>\n",
       "      <td>contributions</td>\n",
       "      <td>161.0</td>\n",
       "      <td>https://www.tripadvisor.in/ShowUserReviews-g30...</td>\n",
       "      <td>Beautiful Hotel</td>\n",
       "      <td>I have traveled to Mumbai many times and the S...</td>\n",
       "    </tr>\n",
       "    <tr>\n",
       "      <th>6132</th>\n",
       "      <td>contribution</td>\n",
       "      <td>1.0</td>\n",
       "      <td>https://www.tripadvisor.in/ShowUserReviews-g30...</td>\n",
       "      <td>Best hotel in Mumbai!</td>\n",
       "      <td>My stay at the Sofitel Mumbai BKC was absolute...</td>\n",
       "    </tr>\n",
       "    <tr>\n",
       "      <th>6133</th>\n",
       "      <td>contributions</td>\n",
       "      <td>4.0</td>\n",
       "      <td>https://www.tripadvisor.in/ShowUserReviews-g30...</td>\n",
       "      <td>Se sentir comme à la maison</td>\n",
       "      <td>We had an event named IBOM last month on 30th ...</td>\n",
       "    </tr>\n",
       "    <tr>\n",
       "      <th>6134</th>\n",
       "      <td>contributions</td>\n",
       "      <td>57.0</td>\n",
       "      <td>https://www.tripadvisor.in/ShowUserReviews-g30...</td>\n",
       "      <td>Great hotel but amazing staff!</td>\n",
       "      <td>We stayed for 6 nights and everything from the...</td>\n",
       "    </tr>\n",
       "  </tbody>\n",
       "</table>\n",
       "<p>6134 rows × 5 columns</p>\n",
       "</div>"
      ],
      "text/plain": [
       "          _3fPsSAYi  _1fk70GUn  \\\n",
       "0     contributions        2.0   \n",
       "1     contributions        2.0   \n",
       "2      contribution        1.0   \n",
       "3     contributions        3.0   \n",
       "4     contributions      107.0   \n",
       "...             ...        ...   \n",
       "6129   contribution        1.0   \n",
       "6131  contributions      161.0   \n",
       "6132   contribution        1.0   \n",
       "6133  contributions        4.0   \n",
       "6134  contributions       57.0   \n",
       "\n",
       "                                          ocfR3SKN href  \\\n",
       "0     https://www.tripadvisor.in/ShowUserReviews-g30...   \n",
       "1     https://www.tripadvisor.in/ShowUserReviews-g30...   \n",
       "2     https://www.tripadvisor.in/ShowUserReviews-g30...   \n",
       "3     https://www.tripadvisor.in/ShowUserReviews-g30...   \n",
       "4     https://www.tripadvisor.in/ShowUserReviews-g30...   \n",
       "...                                                 ...   \n",
       "6129  https://www.tripadvisor.in/ShowUserReviews-g30...   \n",
       "6131  https://www.tripadvisor.in/ShowUserReviews-g30...   \n",
       "6132  https://www.tripadvisor.in/ShowUserReviews-g30...   \n",
       "6133  https://www.tripadvisor.in/ShowUserReviews-g30...   \n",
       "6134  https://www.tripadvisor.in/ShowUserReviews-g30...   \n",
       "\n",
       "                                ocfR3SKN  \\\n",
       "0                          Good service!   \n",
       "1                       Lunch at Sofitel   \n",
       "2                      excellent service   \n",
       "3     Happy Friendship Day Celebration 🥳   \n",
       "4                     Stay at SofitelBKC   \n",
       "...                                  ...   \n",
       "6129                seamless functioning   \n",
       "6131                     Beautiful Hotel   \n",
       "6132               Best hotel in Mumbai!   \n",
       "6133         Se sentir comme à la maison   \n",
       "6134      Great hotel but amazing staff!   \n",
       "\n",
       "                                               IRsGHoPm  \n",
       "0     Mr. Bhanuprakash jaiswar drives very safely. W...  \n",
       "1     My family and I visited Pondicherry Cafe and w...  \n",
       "2     superb hospitality !!! detailed service very n...  \n",
       "3     We had a fantastic lunch and had a great time ...  \n",
       "4     Stay at Sofitel BKC was excellent ! Spacious r...  \n",
       "...                                                 ...  \n",
       "6129  We chose Sofitel to host a family engagement a...  \n",
       "6131  I have traveled to Mumbai many times and the S...  \n",
       "6132  My stay at the Sofitel Mumbai BKC was absolute...  \n",
       "6133  We had an event named IBOM last month on 30th ...  \n",
       "6134  We stayed for 6 nights and everything from the...  \n",
       "\n",
       "[6134 rows x 5 columns]"
      ]
     },
     "execution_count": 8,
     "metadata": {},
     "output_type": "execute_result"
    }
   ],
   "source": [
    "data2"
   ]
  },
  {
   "cell_type": "code",
   "execution_count": 9,
   "metadata": {
    "execution": {
     "iopub.execute_input": "2021-08-24T20:39:09.470423Z",
     "iopub.status.busy": "2021-08-24T20:39:09.469654Z",
     "iopub.status.idle": "2021-08-24T20:39:09.487868Z",
     "shell.execute_reply": "2021-08-24T20:39:09.486681Z",
     "shell.execute_reply.started": "2021-08-24T20:39:09.470377Z"
    }
   },
   "outputs": [
    {
     "data": {
      "text/html": [
       "<div>\n",
       "<style scoped>\n",
       "    .dataframe tbody tr th:only-of-type {\n",
       "        vertical-align: middle;\n",
       "    }\n",
       "\n",
       "    .dataframe tbody tr th {\n",
       "        vertical-align: top;\n",
       "    }\n",
       "\n",
       "    .dataframe thead th {\n",
       "        text-align: right;\n",
       "    }\n",
       "</style>\n",
       "<table border=\"1\" class=\"dataframe\">\n",
       "  <thead>\n",
       "    <tr style=\"text-align: right;\">\n",
       "      <th></th>\n",
       "      <th>_3maEfNCR</th>\n",
       "      <th>_34Xs-BQm</th>\n",
       "      <th>_355y0nZn</th>\n",
       "      <th>ui_link</th>\n",
       "      <th>ui_link 2</th>\n",
       "    </tr>\n",
       "  </thead>\n",
       "  <tbody>\n",
       "    <tr>\n",
       "      <th>0</th>\n",
       "      <td>Read more</td>\n",
       "      <td>August 2021</td>\n",
       "      <td>Date of stay:</td>\n",
       "      <td>Helpful</td>\n",
       "      <td>Share</td>\n",
       "    </tr>\n",
       "    <tr>\n",
       "      <th>1</th>\n",
       "      <td>Read more</td>\n",
       "      <td>August 2021</td>\n",
       "      <td>Date of stay:</td>\n",
       "      <td>Helpful</td>\n",
       "      <td>Share</td>\n",
       "    </tr>\n",
       "    <tr>\n",
       "      <th>2</th>\n",
       "      <td>Read more</td>\n",
       "      <td>August 2021</td>\n",
       "      <td>Date of stay:</td>\n",
       "      <td>Helpful</td>\n",
       "      <td>Share</td>\n",
       "    </tr>\n",
       "    <tr>\n",
       "      <th>3</th>\n",
       "      <td>Read more</td>\n",
       "      <td>August 2021</td>\n",
       "      <td>Date of stay:</td>\n",
       "      <td>Helpful</td>\n",
       "      <td>Share</td>\n",
       "    </tr>\n",
       "    <tr>\n",
       "      <th>4</th>\n",
       "      <td>Read more</td>\n",
       "      <td>July 2021</td>\n",
       "      <td>Date of stay:</td>\n",
       "      <td>Helpful</td>\n",
       "      <td>Share</td>\n",
       "    </tr>\n",
       "    <tr>\n",
       "      <th>...</th>\n",
       "      <td>...</td>\n",
       "      <td>...</td>\n",
       "      <td>...</td>\n",
       "      <td>...</td>\n",
       "      <td>...</td>\n",
       "    </tr>\n",
       "    <tr>\n",
       "      <th>6129</th>\n",
       "      <td>Read more</td>\n",
       "      <td>June 2014</td>\n",
       "      <td>Date of stay:</td>\n",
       "      <td>Helpful</td>\n",
       "      <td>Share</td>\n",
       "    </tr>\n",
       "    <tr>\n",
       "      <th>6131</th>\n",
       "      <td>Read more</td>\n",
       "      <td>June 2014</td>\n",
       "      <td>Date of stay:</td>\n",
       "      <td>Helpful</td>\n",
       "      <td>Share</td>\n",
       "    </tr>\n",
       "    <tr>\n",
       "      <th>6132</th>\n",
       "      <td>Read more</td>\n",
       "      <td>May 2014</td>\n",
       "      <td>Date of stay:</td>\n",
       "      <td>Helpful</td>\n",
       "      <td>Share</td>\n",
       "    </tr>\n",
       "    <tr>\n",
       "      <th>6133</th>\n",
       "      <td>Read more</td>\n",
       "      <td>May 2014</td>\n",
       "      <td>Date of stay:</td>\n",
       "      <td>Helpful</td>\n",
       "      <td>Share</td>\n",
       "    </tr>\n",
       "    <tr>\n",
       "      <th>6134</th>\n",
       "      <td>Read more</td>\n",
       "      <td>May 2014</td>\n",
       "      <td>Date of stay:</td>\n",
       "      <td>Helpful</td>\n",
       "      <td>Share</td>\n",
       "    </tr>\n",
       "  </tbody>\n",
       "</table>\n",
       "<p>6134 rows × 5 columns</p>\n",
       "</div>"
      ],
      "text/plain": [
       "      _3maEfNCR    _34Xs-BQm      _355y0nZn  ui_link ui_link 2\n",
       "0     Read more  August 2021  Date of stay:  Helpful     Share\n",
       "1     Read more  August 2021  Date of stay:  Helpful     Share\n",
       "2     Read more  August 2021  Date of stay:  Helpful     Share\n",
       "3     Read more  August 2021  Date of stay:  Helpful     Share\n",
       "4     Read more    July 2021  Date of stay:  Helpful     Share\n",
       "...         ...          ...            ...      ...       ...\n",
       "6129  Read more    June 2014  Date of stay:  Helpful     Share\n",
       "6131  Read more    June 2014  Date of stay:  Helpful     Share\n",
       "6132  Read more     May 2014  Date of stay:  Helpful     Share\n",
       "6133  Read more     May 2014  Date of stay:  Helpful     Share\n",
       "6134  Read more     May 2014  Date of stay:  Helpful     Share\n",
       "\n",
       "[6134 rows x 5 columns]"
      ]
     },
     "execution_count": 9,
     "metadata": {},
     "output_type": "execute_result"
    }
   ],
   "source": [
    "data3=data.iloc[:,11:16]\n",
    "data3"
   ]
  },
  {
   "cell_type": "code",
   "execution_count": 10,
   "metadata": {
    "execution": {
     "iopub.execute_input": "2021-08-24T20:39:09.490348Z",
     "iopub.status.busy": "2021-08-24T20:39:09.490010Z",
     "iopub.status.idle": "2021-08-24T20:39:09.517807Z",
     "shell.execute_reply": "2021-08-24T20:39:09.516676Z",
     "shell.execute_reply.started": "2021-08-24T20:39:09.490318Z"
    }
   },
   "outputs": [
    {
     "data": {
      "text/html": [
       "<div>\n",
       "<style scoped>\n",
       "    .dataframe tbody tr th:only-of-type {\n",
       "        vertical-align: middle;\n",
       "    }\n",
       "\n",
       "    .dataframe tbody tr th {\n",
       "        vertical-align: top;\n",
       "    }\n",
       "\n",
       "    .dataframe thead th {\n",
       "        text-align: right;\n",
       "    }\n",
       "</style>\n",
       "<table border=\"1\" class=\"dataframe\">\n",
       "  <thead>\n",
       "    <tr style=\"text-align: right;\">\n",
       "      <th></th>\n",
       "      <th>_204cKjWJ</th>\n",
       "      <th>_2lY-Jowi</th>\n",
       "      <th>sT5TMxg3</th>\n",
       "      <th>_3fPsSAYi 2</th>\n",
       "      <th>_1fk70GUn 2</th>\n",
       "      <th>_3kbymg8R</th>\n",
       "    </tr>\n",
       "  </thead>\n",
       "  <tbody>\n",
       "    <tr>\n",
       "      <th>0</th>\n",
       "      <td>Response from Sofitel MumbaiBKC, General Manag...</td>\n",
       "      <td>Responded yesterday</td>\n",
       "      <td>Bonjour anshumaditya,  Thank you for choosing ...</td>\n",
       "      <td>NaN</td>\n",
       "      <td>NaN</td>\n",
       "      <td>NaN</td>\n",
       "    </tr>\n",
       "    <tr>\n",
       "      <th>1</th>\n",
       "      <td>Response from Sofitel MumbaiBKC, General Manag...</td>\n",
       "      <td>Responded 2 days ago</td>\n",
       "      <td>Bonjour ananyavora08,  Thank you for choosing ...</td>\n",
       "      <td>helpful votes</td>\n",
       "      <td>4.0</td>\n",
       "      <td>NaN</td>\n",
       "    </tr>\n",
       "    <tr>\n",
       "      <th>2</th>\n",
       "      <td>Response from Sofitel MumbaiBKC, General Manag...</td>\n",
       "      <td>Responded 2 days ago</td>\n",
       "      <td>Bonjour 928jaideepc,  Thank you for choosing S...</td>\n",
       "      <td>NaN</td>\n",
       "      <td>NaN</td>\n",
       "      <td>NaN</td>\n",
       "    </tr>\n",
       "    <tr>\n",
       "      <th>3</th>\n",
       "      <td>Response from Sofitel MumbaiBKC, General Manag...</td>\n",
       "      <td>Responded 2 days ago</td>\n",
       "      <td>Bonjour Keuree,  Thank you for choosing Sofite...</td>\n",
       "      <td>helpful vote</td>\n",
       "      <td>1.0</td>\n",
       "      <td>NaN</td>\n",
       "    </tr>\n",
       "    <tr>\n",
       "      <th>4</th>\n",
       "      <td>Response from Sofitel MumbaiBKC, General Manag...</td>\n",
       "      <td>Responded 3 days ago</td>\n",
       "      <td>Bonjour Nilaynb,  Thank you for choosing Sofit...</td>\n",
       "      <td>helpful votes</td>\n",
       "      <td>32.0</td>\n",
       "      <td>1 Helpful vote</td>\n",
       "    </tr>\n",
       "    <tr>\n",
       "      <th>...</th>\n",
       "      <td>...</td>\n",
       "      <td>...</td>\n",
       "      <td>...</td>\n",
       "      <td>...</td>\n",
       "      <td>...</td>\n",
       "      <td>...</td>\n",
       "    </tr>\n",
       "    <tr>\n",
       "      <th>6129</th>\n",
       "      <td>Response from Sofitel-Mumbai-BKC, General Mana...</td>\n",
       "      <td>Responded 12 Jun 2014</td>\n",
       "      <td>Bonjour Valued Guest,  I would like to thank y...</td>\n",
       "      <td>NaN</td>\n",
       "      <td>NaN</td>\n",
       "      <td>NaN</td>\n",
       "    </tr>\n",
       "    <tr>\n",
       "      <th>6131</th>\n",
       "      <td>Response from Sofitel-Mumbai-BKC, General Mana...</td>\n",
       "      <td>Responded 5 Jun 2014</td>\n",
       "      <td>Bonjour Valued Guest,  Thank you for taking th...</td>\n",
       "      <td>helpful votes</td>\n",
       "      <td>131.0</td>\n",
       "      <td>NaN</td>\n",
       "    </tr>\n",
       "    <tr>\n",
       "      <th>6132</th>\n",
       "      <td>Response from Sofitel-Mumbai-BKC, General Mana...</td>\n",
       "      <td>Responded 5 Jun 2014</td>\n",
       "      <td>Bonjour Valued Guest,  I would like to thank y...</td>\n",
       "      <td>helpful vote</td>\n",
       "      <td>1.0</td>\n",
       "      <td>NaN</td>\n",
       "    </tr>\n",
       "    <tr>\n",
       "      <th>6133</th>\n",
       "      <td>Response from Sofitel-Mumbai-BKC, General Mana...</td>\n",
       "      <td>Responded 9 Jun 2014</td>\n",
       "      <td>Bonjour Valued Guest,  Thank you for choosing ...</td>\n",
       "      <td>helpful vote</td>\n",
       "      <td>1.0</td>\n",
       "      <td>NaN</td>\n",
       "    </tr>\n",
       "    <tr>\n",
       "      <th>6134</th>\n",
       "      <td>Response from Sofitel-Mumbai-BKC, General Mana...</td>\n",
       "      <td>Responded 5 Jun 2014</td>\n",
       "      <td>Bonjour Valued Guest,  Thank you for taking th...</td>\n",
       "      <td>helpful votes</td>\n",
       "      <td>24.0</td>\n",
       "      <td>NaN</td>\n",
       "    </tr>\n",
       "  </tbody>\n",
       "</table>\n",
       "<p>6134 rows × 6 columns</p>\n",
       "</div>"
      ],
      "text/plain": [
       "                                              _204cKjWJ  \\\n",
       "0     Response from Sofitel MumbaiBKC, General Manag...   \n",
       "1     Response from Sofitel MumbaiBKC, General Manag...   \n",
       "2     Response from Sofitel MumbaiBKC, General Manag...   \n",
       "3     Response from Sofitel MumbaiBKC, General Manag...   \n",
       "4     Response from Sofitel MumbaiBKC, General Manag...   \n",
       "...                                                 ...   \n",
       "6129  Response from Sofitel-Mumbai-BKC, General Mana...   \n",
       "6131  Response from Sofitel-Mumbai-BKC, General Mana...   \n",
       "6132  Response from Sofitel-Mumbai-BKC, General Mana...   \n",
       "6133  Response from Sofitel-Mumbai-BKC, General Mana...   \n",
       "6134  Response from Sofitel-Mumbai-BKC, General Mana...   \n",
       "\n",
       "                  _2lY-Jowi  \\\n",
       "0       Responded yesterday   \n",
       "1      Responded 2 days ago   \n",
       "2      Responded 2 days ago   \n",
       "3      Responded 2 days ago   \n",
       "4      Responded 3 days ago   \n",
       "...                     ...   \n",
       "6129  Responded 12 Jun 2014   \n",
       "6131   Responded 5 Jun 2014   \n",
       "6132   Responded 5 Jun 2014   \n",
       "6133   Responded 9 Jun 2014   \n",
       "6134   Responded 5 Jun 2014   \n",
       "\n",
       "                                               sT5TMxg3    _3fPsSAYi 2  \\\n",
       "0     Bonjour anshumaditya,  Thank you for choosing ...            NaN   \n",
       "1     Bonjour ananyavora08,  Thank you for choosing ...  helpful votes   \n",
       "2     Bonjour 928jaideepc,  Thank you for choosing S...            NaN   \n",
       "3     Bonjour Keuree,  Thank you for choosing Sofite...   helpful vote   \n",
       "4     Bonjour Nilaynb,  Thank you for choosing Sofit...  helpful votes   \n",
       "...                                                 ...            ...   \n",
       "6129  Bonjour Valued Guest,  I would like to thank y...            NaN   \n",
       "6131  Bonjour Valued Guest,  Thank you for taking th...  helpful votes   \n",
       "6132  Bonjour Valued Guest,  I would like to thank y...   helpful vote   \n",
       "6133  Bonjour Valued Guest,  Thank you for choosing ...   helpful vote   \n",
       "6134  Bonjour Valued Guest,  Thank you for taking th...  helpful votes   \n",
       "\n",
       "      _1fk70GUn 2       _3kbymg8R  \n",
       "0             NaN             NaN  \n",
       "1             4.0             NaN  \n",
       "2             NaN             NaN  \n",
       "3             1.0             NaN  \n",
       "4            32.0  1 Helpful vote  \n",
       "...           ...             ...  \n",
       "6129          NaN             NaN  \n",
       "6131        131.0             NaN  \n",
       "6132          1.0             NaN  \n",
       "6133          1.0             NaN  \n",
       "6134         24.0             NaN  \n",
       "\n",
       "[6134 rows x 6 columns]"
      ]
     },
     "execution_count": 10,
     "metadata": {},
     "output_type": "execute_result"
    }
   ],
   "source": [
    "data4=data.iloc[:,16:]\n",
    "data4"
   ]
  },
  {
   "cell_type": "code",
   "execution_count": 11,
   "metadata": {
    "execution": {
     "iopub.execute_input": "2021-08-24T20:39:09.520598Z",
     "iopub.status.busy": "2021-08-24T20:39:09.519317Z",
     "iopub.status.idle": "2021-08-24T20:39:09.531974Z",
     "shell.execute_reply": "2021-08-24T20:39:09.530862Z",
     "shell.execute_reply.started": "2021-08-24T20:39:09.520563Z"
    }
   },
   "outputs": [],
   "source": [
    "data.drop(data.iloc[:, 11:], inplace = True, axis = 1)"
   ]
  },
  {
   "cell_type": "code",
   "execution_count": 12,
   "metadata": {
    "execution": {
     "iopub.execute_input": "2021-08-24T20:39:09.534245Z",
     "iopub.status.busy": "2021-08-24T20:39:09.533719Z",
     "iopub.status.idle": "2021-08-24T20:39:09.546935Z",
     "shell.execute_reply": "2021-08-24T20:39:09.545755Z",
     "shell.execute_reply.started": "2021-08-24T20:39:09.534202Z"
    }
   },
   "outputs": [],
   "source": [
    "data.drop(data.columns[[0, 1, 2, 4]], axis = 1, inplace = True)"
   ]
  },
  {
   "cell_type": "code",
   "execution_count": 13,
   "metadata": {
    "execution": {
     "iopub.execute_input": "2021-08-24T20:39:09.548784Z",
     "iopub.status.busy": "2021-08-24T20:39:09.548406Z",
     "iopub.status.idle": "2021-08-24T20:39:09.581616Z",
     "shell.execute_reply": "2021-08-24T20:39:09.578566Z",
     "shell.execute_reply.started": "2021-08-24T20:39:09.548748Z"
    }
   },
   "outputs": [
    {
     "data": {
      "text/html": [
       "<div>\n",
       "<style scoped>\n",
       "    .dataframe tbody tr th:only-of-type {\n",
       "        vertical-align: middle;\n",
       "    }\n",
       "\n",
       "    .dataframe tbody tr th {\n",
       "        vertical-align: top;\n",
       "    }\n",
       "\n",
       "    .dataframe thead th {\n",
       "        text-align: right;\n",
       "    }\n",
       "</style>\n",
       "<table border=\"1\" class=\"dataframe\">\n",
       "  <thead>\n",
       "    <tr style=\"text-align: right;\">\n",
       "      <th></th>\n",
       "      <th>ui_header_link</th>\n",
       "      <th>default</th>\n",
       "      <th>_3fPsSAYi</th>\n",
       "      <th>_1fk70GUn</th>\n",
       "      <th>ocfR3SKN href</th>\n",
       "      <th>ocfR3SKN</th>\n",
       "      <th>IRsGHoPm</th>\n",
       "    </tr>\n",
       "  </thead>\n",
       "  <tbody>\n",
       "    <tr>\n",
       "      <th>0</th>\n",
       "      <td>Anshum A Ghai</td>\n",
       "      <td>Dubai, United Arab Emirates</td>\n",
       "      <td>contributions</td>\n",
       "      <td>2.0</td>\n",
       "      <td>https://www.tripadvisor.in/ShowUserReviews-g30...</td>\n",
       "      <td>Good service!</td>\n",
       "      <td>Mr. Bhanuprakash jaiswar drives very safely. W...</td>\n",
       "    </tr>\n",
       "    <tr>\n",
       "      <th>1</th>\n",
       "      <td>Ananya Vora</td>\n",
       "      <td>NaN</td>\n",
       "      <td>contributions</td>\n",
       "      <td>2.0</td>\n",
       "      <td>https://www.tripadvisor.in/ShowUserReviews-g30...</td>\n",
       "      <td>Lunch at Sofitel</td>\n",
       "      <td>My family and I visited Pondicherry Cafe and w...</td>\n",
       "    </tr>\n",
       "    <tr>\n",
       "      <th>2</th>\n",
       "      <td>Jaideep c</td>\n",
       "      <td>Mumbai, India</td>\n",
       "      <td>contribution</td>\n",
       "      <td>1.0</td>\n",
       "      <td>https://www.tripadvisor.in/ShowUserReviews-g30...</td>\n",
       "      <td>excellent service</td>\n",
       "      <td>superb hospitality !!! detailed service very n...</td>\n",
       "    </tr>\n",
       "    <tr>\n",
       "      <th>3</th>\n",
       "      <td>Keuree Ganatra</td>\n",
       "      <td>Mumbai, India</td>\n",
       "      <td>contributions</td>\n",
       "      <td>3.0</td>\n",
       "      <td>https://www.tripadvisor.in/ShowUserReviews-g30...</td>\n",
       "      <td>Happy Friendship Day Celebration 🥳</td>\n",
       "      <td>We had a fantastic lunch and had a great time ...</td>\n",
       "    </tr>\n",
       "    <tr>\n",
       "      <th>4</th>\n",
       "      <td>Nilaynb</td>\n",
       "      <td>Ahmedabad, India</td>\n",
       "      <td>contributions</td>\n",
       "      <td>107.0</td>\n",
       "      <td>https://www.tripadvisor.in/ShowUserReviews-g30...</td>\n",
       "      <td>Stay at SofitelBKC</td>\n",
       "      <td>Stay at Sofitel BKC was excellent ! Spacious r...</td>\n",
       "    </tr>\n",
       "    <tr>\n",
       "      <th>...</th>\n",
       "      <td>...</td>\n",
       "      <td>...</td>\n",
       "      <td>...</td>\n",
       "      <td>...</td>\n",
       "      <td>...</td>\n",
       "      <td>...</td>\n",
       "      <td>...</td>\n",
       "    </tr>\n",
       "    <tr>\n",
       "      <th>6129</th>\n",
       "      <td>sweta3modi</td>\n",
       "      <td>Mumbai, India</td>\n",
       "      <td>contribution</td>\n",
       "      <td>1.0</td>\n",
       "      <td>https://www.tripadvisor.in/ShowUserReviews-g30...</td>\n",
       "      <td>seamless functioning</td>\n",
       "      <td>We chose Sofitel to host a family engagement a...</td>\n",
       "    </tr>\n",
       "    <tr>\n",
       "      <th>6131</th>\n",
       "      <td>Russell G</td>\n",
       "      <td>Bangkok, Thailand</td>\n",
       "      <td>contributions</td>\n",
       "      <td>161.0</td>\n",
       "      <td>https://www.tripadvisor.in/ShowUserReviews-g30...</td>\n",
       "      <td>Beautiful Hotel</td>\n",
       "      <td>I have traveled to Mumbai many times and the S...</td>\n",
       "    </tr>\n",
       "    <tr>\n",
       "      <th>6132</th>\n",
       "      <td>googly108</td>\n",
       "      <td>Bengaluru, India</td>\n",
       "      <td>contribution</td>\n",
       "      <td>1.0</td>\n",
       "      <td>https://www.tripadvisor.in/ShowUserReviews-g30...</td>\n",
       "      <td>Best hotel in Mumbai!</td>\n",
       "      <td>My stay at the Sofitel Mumbai BKC was absolute...</td>\n",
       "    </tr>\n",
       "    <tr>\n",
       "      <th>6133</th>\n",
       "      <td>lukhakaran</td>\n",
       "      <td>Mumbai, India</td>\n",
       "      <td>contributions</td>\n",
       "      <td>4.0</td>\n",
       "      <td>https://www.tripadvisor.in/ShowUserReviews-g30...</td>\n",
       "      <td>Se sentir comme à la maison</td>\n",
       "      <td>We had an event named IBOM last month on 30th ...</td>\n",
       "    </tr>\n",
       "    <tr>\n",
       "      <th>6134</th>\n",
       "      <td>AnjaliHeaven</td>\n",
       "      <td>Heaven</td>\n",
       "      <td>contributions</td>\n",
       "      <td>57.0</td>\n",
       "      <td>https://www.tripadvisor.in/ShowUserReviews-g30...</td>\n",
       "      <td>Great hotel but amazing staff!</td>\n",
       "      <td>We stayed for 6 nights and everything from the...</td>\n",
       "    </tr>\n",
       "  </tbody>\n",
       "</table>\n",
       "<p>6134 rows × 7 columns</p>\n",
       "</div>"
      ],
      "text/plain": [
       "      ui_header_link                      default      _3fPsSAYi  _1fk70GUn  \\\n",
       "0      Anshum A Ghai  Dubai, United Arab Emirates  contributions        2.0   \n",
       "1        Ananya Vora                          NaN  contributions        2.0   \n",
       "2          Jaideep c                Mumbai, India   contribution        1.0   \n",
       "3     Keuree Ganatra                Mumbai, India  contributions        3.0   \n",
       "4            Nilaynb             Ahmedabad, India  contributions      107.0   \n",
       "...              ...                          ...            ...        ...   \n",
       "6129      sweta3modi                Mumbai, India   contribution        1.0   \n",
       "6131       Russell G            Bangkok, Thailand  contributions      161.0   \n",
       "6132       googly108             Bengaluru, India   contribution        1.0   \n",
       "6133      lukhakaran                Mumbai, India  contributions        4.0   \n",
       "6134    AnjaliHeaven                       Heaven  contributions       57.0   \n",
       "\n",
       "                                          ocfR3SKN href  \\\n",
       "0     https://www.tripadvisor.in/ShowUserReviews-g30...   \n",
       "1     https://www.tripadvisor.in/ShowUserReviews-g30...   \n",
       "2     https://www.tripadvisor.in/ShowUserReviews-g30...   \n",
       "3     https://www.tripadvisor.in/ShowUserReviews-g30...   \n",
       "4     https://www.tripadvisor.in/ShowUserReviews-g30...   \n",
       "...                                                 ...   \n",
       "6129  https://www.tripadvisor.in/ShowUserReviews-g30...   \n",
       "6131  https://www.tripadvisor.in/ShowUserReviews-g30...   \n",
       "6132  https://www.tripadvisor.in/ShowUserReviews-g30...   \n",
       "6133  https://www.tripadvisor.in/ShowUserReviews-g30...   \n",
       "6134  https://www.tripadvisor.in/ShowUserReviews-g30...   \n",
       "\n",
       "                                ocfR3SKN  \\\n",
       "0                          Good service!   \n",
       "1                       Lunch at Sofitel   \n",
       "2                      excellent service   \n",
       "3     Happy Friendship Day Celebration 🥳   \n",
       "4                     Stay at SofitelBKC   \n",
       "...                                  ...   \n",
       "6129                seamless functioning   \n",
       "6131                     Beautiful Hotel   \n",
       "6132               Best hotel in Mumbai!   \n",
       "6133         Se sentir comme à la maison   \n",
       "6134      Great hotel but amazing staff!   \n",
       "\n",
       "                                               IRsGHoPm  \n",
       "0     Mr. Bhanuprakash jaiswar drives very safely. W...  \n",
       "1     My family and I visited Pondicherry Cafe and w...  \n",
       "2     superb hospitality !!! detailed service very n...  \n",
       "3     We had a fantastic lunch and had a great time ...  \n",
       "4     Stay at Sofitel BKC was excellent ! Spacious r...  \n",
       "...                                                 ...  \n",
       "6129  We chose Sofitel to host a family engagement a...  \n",
       "6131  I have traveled to Mumbai many times and the S...  \n",
       "6132  My stay at the Sofitel Mumbai BKC was absolute...  \n",
       "6133  We had an event named IBOM last month on 30th ...  \n",
       "6134  We stayed for 6 nights and everything from the...  \n",
       "\n",
       "[6134 rows x 7 columns]"
      ]
     },
     "execution_count": 13,
     "metadata": {},
     "output_type": "execute_result"
    }
   ],
   "source": [
    "data"
   ]
  },
  {
   "cell_type": "code",
   "execution_count": 14,
   "metadata": {
    "execution": {
     "iopub.execute_input": "2021-08-24T20:39:09.584079Z",
     "iopub.status.busy": "2021-08-24T20:39:09.583569Z",
     "iopub.status.idle": "2021-08-24T20:39:09.592436Z",
     "shell.execute_reply": "2021-08-24T20:39:09.590712Z",
     "shell.execute_reply.started": "2021-08-24T20:39:09.584023Z"
    }
   },
   "outputs": [],
   "source": [
    "data.drop(data.columns[[2, 3, 4]], axis = 1, inplace = True)"
   ]
  },
  {
   "cell_type": "code",
   "execution_count": 15,
   "metadata": {
    "execution": {
     "iopub.execute_input": "2021-08-24T20:39:09.594679Z",
     "iopub.status.busy": "2021-08-24T20:39:09.594065Z",
     "iopub.status.idle": "2021-08-24T20:39:09.616046Z",
     "shell.execute_reply": "2021-08-24T20:39:09.615017Z",
     "shell.execute_reply.started": "2021-08-24T20:39:09.594635Z"
    }
   },
   "outputs": [
    {
     "data": {
      "text/html": [
       "<div>\n",
       "<style scoped>\n",
       "    .dataframe tbody tr th:only-of-type {\n",
       "        vertical-align: middle;\n",
       "    }\n",
       "\n",
       "    .dataframe tbody tr th {\n",
       "        vertical-align: top;\n",
       "    }\n",
       "\n",
       "    .dataframe thead th {\n",
       "        text-align: right;\n",
       "    }\n",
       "</style>\n",
       "<table border=\"1\" class=\"dataframe\">\n",
       "  <thead>\n",
       "    <tr style=\"text-align: right;\">\n",
       "      <th></th>\n",
       "      <th>ui_header_link</th>\n",
       "      <th>default</th>\n",
       "      <th>ocfR3SKN</th>\n",
       "      <th>IRsGHoPm</th>\n",
       "    </tr>\n",
       "  </thead>\n",
       "  <tbody>\n",
       "    <tr>\n",
       "      <th>0</th>\n",
       "      <td>Anshum A Ghai</td>\n",
       "      <td>Dubai, United Arab Emirates</td>\n",
       "      <td>Good service!</td>\n",
       "      <td>Mr. Bhanuprakash jaiswar drives very safely. W...</td>\n",
       "    </tr>\n",
       "    <tr>\n",
       "      <th>1</th>\n",
       "      <td>Ananya Vora</td>\n",
       "      <td>NaN</td>\n",
       "      <td>Lunch at Sofitel</td>\n",
       "      <td>My family and I visited Pondicherry Cafe and w...</td>\n",
       "    </tr>\n",
       "    <tr>\n",
       "      <th>2</th>\n",
       "      <td>Jaideep c</td>\n",
       "      <td>Mumbai, India</td>\n",
       "      <td>excellent service</td>\n",
       "      <td>superb hospitality !!! detailed service very n...</td>\n",
       "    </tr>\n",
       "    <tr>\n",
       "      <th>3</th>\n",
       "      <td>Keuree Ganatra</td>\n",
       "      <td>Mumbai, India</td>\n",
       "      <td>Happy Friendship Day Celebration 🥳</td>\n",
       "      <td>We had a fantastic lunch and had a great time ...</td>\n",
       "    </tr>\n",
       "    <tr>\n",
       "      <th>4</th>\n",
       "      <td>Nilaynb</td>\n",
       "      <td>Ahmedabad, India</td>\n",
       "      <td>Stay at SofitelBKC</td>\n",
       "      <td>Stay at Sofitel BKC was excellent ! Spacious r...</td>\n",
       "    </tr>\n",
       "    <tr>\n",
       "      <th>...</th>\n",
       "      <td>...</td>\n",
       "      <td>...</td>\n",
       "      <td>...</td>\n",
       "      <td>...</td>\n",
       "    </tr>\n",
       "    <tr>\n",
       "      <th>6129</th>\n",
       "      <td>sweta3modi</td>\n",
       "      <td>Mumbai, India</td>\n",
       "      <td>seamless functioning</td>\n",
       "      <td>We chose Sofitel to host a family engagement a...</td>\n",
       "    </tr>\n",
       "    <tr>\n",
       "      <th>6131</th>\n",
       "      <td>Russell G</td>\n",
       "      <td>Bangkok, Thailand</td>\n",
       "      <td>Beautiful Hotel</td>\n",
       "      <td>I have traveled to Mumbai many times and the S...</td>\n",
       "    </tr>\n",
       "    <tr>\n",
       "      <th>6132</th>\n",
       "      <td>googly108</td>\n",
       "      <td>Bengaluru, India</td>\n",
       "      <td>Best hotel in Mumbai!</td>\n",
       "      <td>My stay at the Sofitel Mumbai BKC was absolute...</td>\n",
       "    </tr>\n",
       "    <tr>\n",
       "      <th>6133</th>\n",
       "      <td>lukhakaran</td>\n",
       "      <td>Mumbai, India</td>\n",
       "      <td>Se sentir comme à la maison</td>\n",
       "      <td>We had an event named IBOM last month on 30th ...</td>\n",
       "    </tr>\n",
       "    <tr>\n",
       "      <th>6134</th>\n",
       "      <td>AnjaliHeaven</td>\n",
       "      <td>Heaven</td>\n",
       "      <td>Great hotel but amazing staff!</td>\n",
       "      <td>We stayed for 6 nights and everything from the...</td>\n",
       "    </tr>\n",
       "  </tbody>\n",
       "</table>\n",
       "<p>6134 rows × 4 columns</p>\n",
       "</div>"
      ],
      "text/plain": [
       "      ui_header_link                      default  \\\n",
       "0      Anshum A Ghai  Dubai, United Arab Emirates   \n",
       "1        Ananya Vora                          NaN   \n",
       "2          Jaideep c                Mumbai, India   \n",
       "3     Keuree Ganatra                Mumbai, India   \n",
       "4            Nilaynb             Ahmedabad, India   \n",
       "...              ...                          ...   \n",
       "6129      sweta3modi                Mumbai, India   \n",
       "6131       Russell G            Bangkok, Thailand   \n",
       "6132       googly108             Bengaluru, India   \n",
       "6133      lukhakaran                Mumbai, India   \n",
       "6134    AnjaliHeaven                       Heaven   \n",
       "\n",
       "                                ocfR3SKN  \\\n",
       "0                          Good service!   \n",
       "1                       Lunch at Sofitel   \n",
       "2                      excellent service   \n",
       "3     Happy Friendship Day Celebration 🥳   \n",
       "4                     Stay at SofitelBKC   \n",
       "...                                  ...   \n",
       "6129                seamless functioning   \n",
       "6131                     Beautiful Hotel   \n",
       "6132               Best hotel in Mumbai!   \n",
       "6133         Se sentir comme à la maison   \n",
       "6134      Great hotel but amazing staff!   \n",
       "\n",
       "                                               IRsGHoPm  \n",
       "0     Mr. Bhanuprakash jaiswar drives very safely. W...  \n",
       "1     My family and I visited Pondicherry Cafe and w...  \n",
       "2     superb hospitality !!! detailed service very n...  \n",
       "3     We had a fantastic lunch and had a great time ...  \n",
       "4     Stay at Sofitel BKC was excellent ! Spacious r...  \n",
       "...                                                 ...  \n",
       "6129  We chose Sofitel to host a family engagement a...  \n",
       "6131  I have traveled to Mumbai many times and the S...  \n",
       "6132  My stay at the Sofitel Mumbai BKC was absolute...  \n",
       "6133  We had an event named IBOM last month on 30th ...  \n",
       "6134  We stayed for 6 nights and everything from the...  \n",
       "\n",
       "[6134 rows x 4 columns]"
      ]
     },
     "execution_count": 15,
     "metadata": {},
     "output_type": "execute_result"
    }
   ],
   "source": [
    "data"
   ]
  },
  {
   "cell_type": "code",
   "execution_count": 16,
   "metadata": {
    "execution": {
     "iopub.execute_input": "2021-08-24T20:39:09.618266Z",
     "iopub.status.busy": "2021-08-24T20:39:09.617666Z",
     "iopub.status.idle": "2021-08-24T20:39:09.636715Z",
     "shell.execute_reply": "2021-08-24T20:39:09.635502Z",
     "shell.execute_reply.started": "2021-08-24T20:39:09.618220Z"
    }
   },
   "outputs": [
    {
     "data": {
      "text/html": [
       "<div>\n",
       "<style scoped>\n",
       "    .dataframe tbody tr th:only-of-type {\n",
       "        vertical-align: middle;\n",
       "    }\n",
       "\n",
       "    .dataframe tbody tr th {\n",
       "        vertical-align: top;\n",
       "    }\n",
       "\n",
       "    .dataframe thead th {\n",
       "        text-align: right;\n",
       "    }\n",
       "</style>\n",
       "<table border=\"1\" class=\"dataframe\">\n",
       "  <thead>\n",
       "    <tr style=\"text-align: right;\">\n",
       "      <th></th>\n",
       "      <th>Name</th>\n",
       "      <th>Place</th>\n",
       "      <th>Review_title</th>\n",
       "      <th>Review</th>\n",
       "    </tr>\n",
       "  </thead>\n",
       "  <tbody>\n",
       "    <tr>\n",
       "      <th>0</th>\n",
       "      <td>Anshum A Ghai</td>\n",
       "      <td>Dubai, United Arab Emirates</td>\n",
       "      <td>Good service!</td>\n",
       "      <td>Mr. Bhanuprakash jaiswar drives very safely. W...</td>\n",
       "    </tr>\n",
       "    <tr>\n",
       "      <th>1</th>\n",
       "      <td>Ananya Vora</td>\n",
       "      <td>NaN</td>\n",
       "      <td>Lunch at Sofitel</td>\n",
       "      <td>My family and I visited Pondicherry Cafe and w...</td>\n",
       "    </tr>\n",
       "    <tr>\n",
       "      <th>2</th>\n",
       "      <td>Jaideep c</td>\n",
       "      <td>Mumbai, India</td>\n",
       "      <td>excellent service</td>\n",
       "      <td>superb hospitality !!! detailed service very n...</td>\n",
       "    </tr>\n",
       "    <tr>\n",
       "      <th>3</th>\n",
       "      <td>Keuree Ganatra</td>\n",
       "      <td>Mumbai, India</td>\n",
       "      <td>Happy Friendship Day Celebration 🥳</td>\n",
       "      <td>We had a fantastic lunch and had a great time ...</td>\n",
       "    </tr>\n",
       "    <tr>\n",
       "      <th>4</th>\n",
       "      <td>Nilaynb</td>\n",
       "      <td>Ahmedabad, India</td>\n",
       "      <td>Stay at SofitelBKC</td>\n",
       "      <td>Stay at Sofitel BKC was excellent ! Spacious r...</td>\n",
       "    </tr>\n",
       "    <tr>\n",
       "      <th>...</th>\n",
       "      <td>...</td>\n",
       "      <td>...</td>\n",
       "      <td>...</td>\n",
       "      <td>...</td>\n",
       "    </tr>\n",
       "    <tr>\n",
       "      <th>6129</th>\n",
       "      <td>sweta3modi</td>\n",
       "      <td>Mumbai, India</td>\n",
       "      <td>seamless functioning</td>\n",
       "      <td>We chose Sofitel to host a family engagement a...</td>\n",
       "    </tr>\n",
       "    <tr>\n",
       "      <th>6131</th>\n",
       "      <td>Russell G</td>\n",
       "      <td>Bangkok, Thailand</td>\n",
       "      <td>Beautiful Hotel</td>\n",
       "      <td>I have traveled to Mumbai many times and the S...</td>\n",
       "    </tr>\n",
       "    <tr>\n",
       "      <th>6132</th>\n",
       "      <td>googly108</td>\n",
       "      <td>Bengaluru, India</td>\n",
       "      <td>Best hotel in Mumbai!</td>\n",
       "      <td>My stay at the Sofitel Mumbai BKC was absolute...</td>\n",
       "    </tr>\n",
       "    <tr>\n",
       "      <th>6133</th>\n",
       "      <td>lukhakaran</td>\n",
       "      <td>Mumbai, India</td>\n",
       "      <td>Se sentir comme à la maison</td>\n",
       "      <td>We had an event named IBOM last month on 30th ...</td>\n",
       "    </tr>\n",
       "    <tr>\n",
       "      <th>6134</th>\n",
       "      <td>AnjaliHeaven</td>\n",
       "      <td>Heaven</td>\n",
       "      <td>Great hotel but amazing staff!</td>\n",
       "      <td>We stayed for 6 nights and everything from the...</td>\n",
       "    </tr>\n",
       "  </tbody>\n",
       "</table>\n",
       "<p>6134 rows × 4 columns</p>\n",
       "</div>"
      ],
      "text/plain": [
       "                Name                        Place  \\\n",
       "0      Anshum A Ghai  Dubai, United Arab Emirates   \n",
       "1        Ananya Vora                          NaN   \n",
       "2          Jaideep c                Mumbai, India   \n",
       "3     Keuree Ganatra                Mumbai, India   \n",
       "4            Nilaynb             Ahmedabad, India   \n",
       "...              ...                          ...   \n",
       "6129      sweta3modi                Mumbai, India   \n",
       "6131       Russell G            Bangkok, Thailand   \n",
       "6132       googly108             Bengaluru, India   \n",
       "6133      lukhakaran                Mumbai, India   \n",
       "6134    AnjaliHeaven                       Heaven   \n",
       "\n",
       "                            Review_title  \\\n",
       "0                          Good service!   \n",
       "1                       Lunch at Sofitel   \n",
       "2                      excellent service   \n",
       "3     Happy Friendship Day Celebration 🥳   \n",
       "4                     Stay at SofitelBKC   \n",
       "...                                  ...   \n",
       "6129                seamless functioning   \n",
       "6131                     Beautiful Hotel   \n",
       "6132               Best hotel in Mumbai!   \n",
       "6133         Se sentir comme à la maison   \n",
       "6134      Great hotel but amazing staff!   \n",
       "\n",
       "                                                 Review  \n",
       "0     Mr. Bhanuprakash jaiswar drives very safely. W...  \n",
       "1     My family and I visited Pondicherry Cafe and w...  \n",
       "2     superb hospitality !!! detailed service very n...  \n",
       "3     We had a fantastic lunch and had a great time ...  \n",
       "4     Stay at Sofitel BKC was excellent ! Spacious r...  \n",
       "...                                                 ...  \n",
       "6129  We chose Sofitel to host a family engagement a...  \n",
       "6131  I have traveled to Mumbai many times and the S...  \n",
       "6132  My stay at the Sofitel Mumbai BKC was absolute...  \n",
       "6133  We had an event named IBOM last month on 30th ...  \n",
       "6134  We stayed for 6 nights and everything from the...  \n",
       "\n",
       "[6134 rows x 4 columns]"
      ]
     },
     "execution_count": 16,
     "metadata": {},
     "output_type": "execute_result"
    }
   ],
   "source": [
    "data.rename(columns = {'ui_header_link':'Name', 'default':'Place',\n",
    "                              'ocfR3SKN':'Review_title', 'IRsGHoPm':'Review'}, inplace = True)\n",
    "data"
   ]
  },
  {
   "cell_type": "code",
   "execution_count": 17,
   "metadata": {
    "execution": {
     "iopub.execute_input": "2021-08-24T20:39:09.638647Z",
     "iopub.status.busy": "2021-08-24T20:39:09.638219Z",
     "iopub.status.idle": "2021-08-24T20:39:09.665620Z",
     "shell.execute_reply": "2021-08-24T20:39:09.664583Z",
     "shell.execute_reply.started": "2021-08-24T20:39:09.638604Z"
    }
   },
   "outputs": [
    {
     "data": {
      "text/plain": [
       "Name            5443\n",
       "Place            859\n",
       "Review_title    5081\n",
       "Review          6127\n",
       "dtype: int64"
      ]
     },
     "execution_count": 17,
     "metadata": {},
     "output_type": "execute_result"
    }
   ],
   "source": [
    "data.nunique()"
   ]
  },
  {
   "cell_type": "code",
   "execution_count": 18,
   "metadata": {
    "execution": {
     "iopub.execute_input": "2021-08-24T20:39:09.667487Z",
     "iopub.status.busy": "2021-08-24T20:39:09.667077Z",
     "iopub.status.idle": "2021-08-24T20:39:09.685998Z",
     "shell.execute_reply": "2021-08-24T20:39:09.685330Z",
     "shell.execute_reply.started": "2021-08-24T20:39:09.667449Z"
    }
   },
   "outputs": [
    {
     "data": {
      "text/html": [
       "<div>\n",
       "<style scoped>\n",
       "    .dataframe tbody tr th:only-of-type {\n",
       "        vertical-align: middle;\n",
       "    }\n",
       "\n",
       "    .dataframe tbody tr th {\n",
       "        vertical-align: top;\n",
       "    }\n",
       "\n",
       "    .dataframe thead th {\n",
       "        text-align: right;\n",
       "    }\n",
       "</style>\n",
       "<table border=\"1\" class=\"dataframe\">\n",
       "  <thead>\n",
       "    <tr style=\"text-align: right;\">\n",
       "      <th></th>\n",
       "      <th>Review_title</th>\n",
       "      <th>Review</th>\n",
       "    </tr>\n",
       "  </thead>\n",
       "  <tbody>\n",
       "    <tr>\n",
       "      <th>0</th>\n",
       "      <td>Good service!</td>\n",
       "      <td>Mr. Bhanuprakash jaiswar drives very safely. W...</td>\n",
       "    </tr>\n",
       "    <tr>\n",
       "      <th>1</th>\n",
       "      <td>Lunch at Sofitel</td>\n",
       "      <td>My family and I visited Pondicherry Cafe and w...</td>\n",
       "    </tr>\n",
       "    <tr>\n",
       "      <th>2</th>\n",
       "      <td>excellent service</td>\n",
       "      <td>superb hospitality !!! detailed service very n...</td>\n",
       "    </tr>\n",
       "    <tr>\n",
       "      <th>3</th>\n",
       "      <td>Happy Friendship Day Celebration 🥳</td>\n",
       "      <td>We had a fantastic lunch and had a great time ...</td>\n",
       "    </tr>\n",
       "    <tr>\n",
       "      <th>4</th>\n",
       "      <td>Stay at SofitelBKC</td>\n",
       "      <td>Stay at Sofitel BKC was excellent ! Spacious r...</td>\n",
       "    </tr>\n",
       "    <tr>\n",
       "      <th>...</th>\n",
       "      <td>...</td>\n",
       "      <td>...</td>\n",
       "    </tr>\n",
       "    <tr>\n",
       "      <th>6129</th>\n",
       "      <td>seamless functioning</td>\n",
       "      <td>We chose Sofitel to host a family engagement a...</td>\n",
       "    </tr>\n",
       "    <tr>\n",
       "      <th>6131</th>\n",
       "      <td>Beautiful Hotel</td>\n",
       "      <td>I have traveled to Mumbai many times and the S...</td>\n",
       "    </tr>\n",
       "    <tr>\n",
       "      <th>6132</th>\n",
       "      <td>Best hotel in Mumbai!</td>\n",
       "      <td>My stay at the Sofitel Mumbai BKC was absolute...</td>\n",
       "    </tr>\n",
       "    <tr>\n",
       "      <th>6133</th>\n",
       "      <td>Se sentir comme à la maison</td>\n",
       "      <td>We had an event named IBOM last month on 30th ...</td>\n",
       "    </tr>\n",
       "    <tr>\n",
       "      <th>6134</th>\n",
       "      <td>Great hotel but amazing staff!</td>\n",
       "      <td>We stayed for 6 nights and everything from the...</td>\n",
       "    </tr>\n",
       "  </tbody>\n",
       "</table>\n",
       "<p>6134 rows × 2 columns</p>\n",
       "</div>"
      ],
      "text/plain": [
       "                            Review_title  \\\n",
       "0                          Good service!   \n",
       "1                       Lunch at Sofitel   \n",
       "2                      excellent service   \n",
       "3     Happy Friendship Day Celebration 🥳   \n",
       "4                     Stay at SofitelBKC   \n",
       "...                                  ...   \n",
       "6129                seamless functioning   \n",
       "6131                     Beautiful Hotel   \n",
       "6132               Best hotel in Mumbai!   \n",
       "6133         Se sentir comme à la maison   \n",
       "6134      Great hotel but amazing staff!   \n",
       "\n",
       "                                                 Review  \n",
       "0     Mr. Bhanuprakash jaiswar drives very safely. W...  \n",
       "1     My family and I visited Pondicherry Cafe and w...  \n",
       "2     superb hospitality !!! detailed service very n...  \n",
       "3     We had a fantastic lunch and had a great time ...  \n",
       "4     Stay at Sofitel BKC was excellent ! Spacious r...  \n",
       "...                                                 ...  \n",
       "6129  We chose Sofitel to host a family engagement a...  \n",
       "6131  I have traveled to Mumbai many times and the S...  \n",
       "6132  My stay at the Sofitel Mumbai BKC was absolute...  \n",
       "6133  We had an event named IBOM last month on 30th ...  \n",
       "6134  We stayed for 6 nights and everything from the...  \n",
       "\n",
       "[6134 rows x 2 columns]"
      ]
     },
     "execution_count": 18,
     "metadata": {},
     "output_type": "execute_result"
    }
   ],
   "source": [
    "data_tm=data[['Review_title', 'Review']]\n",
    "data_tm"
   ]
  },
  {
   "cell_type": "code",
   "execution_count": 19,
   "metadata": {
    "execution": {
     "iopub.execute_input": "2021-08-24T20:39:09.687485Z",
     "iopub.status.busy": "2021-08-24T20:39:09.687036Z",
     "iopub.status.idle": "2021-08-24T20:39:09.692016Z",
     "shell.execute_reply": "2021-08-24T20:39:09.691274Z",
     "shell.execute_reply.started": "2021-08-24T20:39:09.687449Z"
    }
   },
   "outputs": [],
   "source": [
    "text=data[['Review']]"
   ]
  },
  {
   "cell_type": "code",
   "execution_count": 20,
   "metadata": {
    "execution": {
     "iopub.execute_input": "2021-08-24T20:39:09.693413Z",
     "iopub.status.busy": "2021-08-24T20:39:09.693086Z",
     "iopub.status.idle": "2021-08-24T20:39:09.710904Z",
     "shell.execute_reply": "2021-08-24T20:39:09.709919Z",
     "shell.execute_reply.started": "2021-08-24T20:39:09.693385Z"
    }
   },
   "outputs": [
    {
     "data": {
      "text/html": [
       "<div>\n",
       "<style scoped>\n",
       "    .dataframe tbody tr th:only-of-type {\n",
       "        vertical-align: middle;\n",
       "    }\n",
       "\n",
       "    .dataframe tbody tr th {\n",
       "        vertical-align: top;\n",
       "    }\n",
       "\n",
       "    .dataframe thead th {\n",
       "        text-align: right;\n",
       "    }\n",
       "</style>\n",
       "<table border=\"1\" class=\"dataframe\">\n",
       "  <thead>\n",
       "    <tr style=\"text-align: right;\">\n",
       "      <th></th>\n",
       "      <th>Review</th>\n",
       "    </tr>\n",
       "  </thead>\n",
       "  <tbody>\n",
       "    <tr>\n",
       "      <th>0</th>\n",
       "      <td>Mr. Bhanuprakash jaiswar drives very safely. W...</td>\n",
       "    </tr>\n",
       "    <tr>\n",
       "      <th>1</th>\n",
       "      <td>My family and I visited Pondicherry Cafe and w...</td>\n",
       "    </tr>\n",
       "    <tr>\n",
       "      <th>2</th>\n",
       "      <td>superb hospitality !!! detailed service very n...</td>\n",
       "    </tr>\n",
       "    <tr>\n",
       "      <th>3</th>\n",
       "      <td>We had a fantastic lunch and had a great time ...</td>\n",
       "    </tr>\n",
       "    <tr>\n",
       "      <th>4</th>\n",
       "      <td>Stay at Sofitel BKC was excellent ! Spacious r...</td>\n",
       "    </tr>\n",
       "    <tr>\n",
       "      <th>...</th>\n",
       "      <td>...</td>\n",
       "    </tr>\n",
       "    <tr>\n",
       "      <th>6129</th>\n",
       "      <td>We chose Sofitel to host a family engagement a...</td>\n",
       "    </tr>\n",
       "    <tr>\n",
       "      <th>6131</th>\n",
       "      <td>I have traveled to Mumbai many times and the S...</td>\n",
       "    </tr>\n",
       "    <tr>\n",
       "      <th>6132</th>\n",
       "      <td>My stay at the Sofitel Mumbai BKC was absolute...</td>\n",
       "    </tr>\n",
       "    <tr>\n",
       "      <th>6133</th>\n",
       "      <td>We had an event named IBOM last month on 30th ...</td>\n",
       "    </tr>\n",
       "    <tr>\n",
       "      <th>6134</th>\n",
       "      <td>We stayed for 6 nights and everything from the...</td>\n",
       "    </tr>\n",
       "  </tbody>\n",
       "</table>\n",
       "<p>6134 rows × 1 columns</p>\n",
       "</div>"
      ],
      "text/plain": [
       "                                                 Review\n",
       "0     Mr. Bhanuprakash jaiswar drives very safely. W...\n",
       "1     My family and I visited Pondicherry Cafe and w...\n",
       "2     superb hospitality !!! detailed service very n...\n",
       "3     We had a fantastic lunch and had a great time ...\n",
       "4     Stay at Sofitel BKC was excellent ! Spacious r...\n",
       "...                                                 ...\n",
       "6129  We chose Sofitel to host a family engagement a...\n",
       "6131  I have traveled to Mumbai many times and the S...\n",
       "6132  My stay at the Sofitel Mumbai BKC was absolute...\n",
       "6133  We had an event named IBOM last month on 30th ...\n",
       "6134  We stayed for 6 nights and everything from the...\n",
       "\n",
       "[6134 rows x 1 columns]"
      ]
     },
     "execution_count": 20,
     "metadata": {},
     "output_type": "execute_result"
    }
   ],
   "source": [
    "text"
   ]
  },
  {
   "cell_type": "code",
   "execution_count": 21,
   "metadata": {
    "execution": {
     "iopub.execute_input": "2021-08-24T20:39:09.712741Z",
     "iopub.status.busy": "2021-08-24T20:39:09.712206Z",
     "iopub.status.idle": "2021-08-24T20:39:09.737055Z",
     "shell.execute_reply": "2021-08-24T20:39:09.736317Z",
     "shell.execute_reply.started": "2021-08-24T20:39:09.712711Z"
    }
   },
   "outputs": [],
   "source": [
    "text1=text.dropna()"
   ]
  },
  {
   "cell_type": "code",
   "execution_count": 22,
   "metadata": {
    "execution": {
     "iopub.execute_input": "2021-08-24T20:39:09.738448Z",
     "iopub.status.busy": "2021-08-24T20:39:09.738007Z",
     "iopub.status.idle": "2021-08-24T20:39:09.752022Z",
     "shell.execute_reply": "2021-08-24T20:39:09.751053Z",
     "shell.execute_reply.started": "2021-08-24T20:39:09.738400Z"
    }
   },
   "outputs": [
    {
     "name": "stdout",
     "output_type": "stream",
     "text": [
      "<class 'pandas.core.frame.DataFrame'>\n",
      "Int64Index: 6129 entries, 0 to 6134\n",
      "Data columns (total 1 columns):\n",
      " #   Column  Non-Null Count  Dtype \n",
      "---  ------  --------------  ----- \n",
      " 0   Review  6129 non-null   object\n",
      "dtypes: object(1)\n",
      "memory usage: 95.8+ KB\n"
     ]
    }
   ],
   "source": [
    "text1.info()"
   ]
  },
  {
   "cell_type": "markdown",
   "metadata": {},
   "source": [
    "## Feature Extraction"
   ]
  },
  {
   "cell_type": "code",
   "execution_count": 23,
   "metadata": {
    "execution": {
     "iopub.execute_input": "2021-08-24T20:39:09.753584Z",
     "iopub.status.busy": "2021-08-24T20:39:09.753141Z",
     "iopub.status.idle": "2021-08-24T20:39:10.515149Z",
     "shell.execute_reply": "2021-08-24T20:39:10.513195Z",
     "shell.execute_reply.started": "2021-08-24T20:39:09.753554Z"
    }
   },
   "outputs": [],
   "source": [
    "import numpy as np \n",
    "import string \n",
    "import spacy \n",
    "\n",
    "from matplotlib.pyplot import imread\n",
    "from matplotlib import pyplot as plt\n",
    "from wordcloud import WordCloud\n",
    "%matplotlib inline"
   ]
  },
  {
   "cell_type": "markdown",
   "metadata": {},
   "source": [
    "# Tonekenization"
   ]
  },
  {
   "cell_type": "code",
   "execution_count": 24,
   "metadata": {
    "execution": {
     "iopub.execute_input": "2021-08-24T20:39:10.521065Z",
     "iopub.status.busy": "2021-08-24T20:39:10.520755Z",
     "iopub.status.idle": "2021-08-24T20:39:12.042437Z",
     "shell.execute_reply": "2021-08-24T20:39:12.041597Z",
     "shell.execute_reply.started": "2021-08-24T20:39:10.521035Z"
    }
   },
   "outputs": [],
   "source": [
    "import nltk\n",
    "from nltk.tokenize import word_tokenize\n",
    "reviews = text1.Review.str.cat(sep=' ')"
   ]
  },
  {
   "cell_type": "code",
   "execution_count": 25,
   "metadata": {
    "execution": {
     "iopub.execute_input": "2021-08-24T20:39:12.046122Z",
     "iopub.status.busy": "2021-08-24T20:39:12.045523Z",
     "iopub.status.idle": "2021-08-24T20:39:18.937700Z",
     "shell.execute_reply": "2021-08-24T20:39:18.936740Z",
     "shell.execute_reply.started": "2021-08-24T20:39:12.046078Z"
    }
   },
   "outputs": [
    {
     "name": "stdout",
     "output_type": "stream",
     "text": [
      "18465\n"
     ]
    },
    {
     "data": {
      "text/plain": [
       "['.',\n",
       " 'the',\n",
       " 'and',\n",
       " ',',\n",
       " 'to',\n",
       " 'a',\n",
       " 'was',\n",
       " 'of',\n",
       " 'in',\n",
       " 'I',\n",
       " 'for',\n",
       " 'is',\n",
       " 'The',\n",
       " 'at',\n",
       " 'very',\n",
       " 'with',\n",
       " 'hotel',\n",
       " 'staff',\n",
       " 'my',\n",
       " '!',\n",
       " 'service',\n",
       " 'Sofitel',\n",
       " 'stay',\n",
       " 'are',\n",
       " 'good',\n",
       " 'you',\n",
       " 'it',\n",
       " 'were',\n",
       " 'food',\n",
       " 'all',\n",
       " 'had',\n",
       " 'from',\n",
       " 'this',\n",
       " 'we',\n",
       " 'room',\n",
       " 'great',\n",
       " 'have',\n",
       " 'our',\n",
       " 'on',\n",
       " 'that',\n",
       " 'as',\n",
       " 'Mumbai',\n",
       " 'We',\n",
       " 'us',\n",
       " 'by',\n",
       " 'experience',\n",
       " 'me',\n",
       " 'time',\n",
       " 'well',\n",
       " 'best']"
      ]
     },
     "execution_count": 25,
     "metadata": {},
     "output_type": "execute_result"
    }
   ],
   "source": [
    "#function to split text into word\n",
    "tokens = word_tokenize(reviews)\n",
    "\n",
    "vocabulary = set(tokens)\n",
    "print(len(vocabulary))\n",
    "frequency_dist = nltk.FreqDist(tokens)\n",
    "sorted(frequency_dist,key=frequency_dist.__getitem__, reverse=True)[0:50]"
   ]
  },
  {
   "cell_type": "markdown",
   "metadata": {},
   "source": [
    "# Word Cloud of most Frequest words"
   ]
  },
  {
   "cell_type": "code",
   "execution_count": 26,
   "metadata": {
    "execution": {
     "iopub.execute_input": "2021-08-24T20:39:18.939211Z",
     "iopub.status.busy": "2021-08-24T20:39:18.938937Z",
     "iopub.status.idle": "2021-08-24T20:39:19.359309Z",
     "shell.execute_reply": "2021-08-24T20:39:19.358407Z",
     "shell.execute_reply.started": "2021-08-24T20:39:18.939186Z"
    }
   },
   "outputs": [
    {
     "data": {
      "image/png": "[encoded data removed]",
      "text/plain": [
       "<Figure size 432x288 with 1 Axes>"
      ]
     },
     "metadata": {
      "needs_background": "light"
     },
     "output_type": "display_data"
    }
   ],
   "source": [
    "import matplotlib.pyplot as plt\n",
    "wordcloud = WordCloud().generate_from_frequencies(frequency_dist)\n",
    "plt.imshow(wordcloud)\n",
    "plt.axis(\"off\")\n",
    "plt.show()"
   ]
  },
  {
   "cell_type": "code",
   "execution_count": 27,
   "metadata": {
    "execution": {
     "iopub.execute_input": "2021-08-24T20:39:19.361027Z",
     "iopub.status.busy": "2021-08-24T20:39:19.360652Z",
     "iopub.status.idle": "2021-08-24T20:39:19.364790Z",
     "shell.execute_reply": "2021-08-24T20:39:19.363821Z",
     "shell.execute_reply.started": "2021-08-24T20:39:19.360991Z"
    }
   },
   "outputs": [],
   "source": [
    "from PIL import Image"
   ]
  },
  {
   "cell_type": "code",
   "execution_count": 28,
   "metadata": {
    "execution": {
     "iopub.execute_input": "2021-08-24T20:39:19.366709Z",
     "iopub.status.busy": "2021-08-24T20:39:19.366136Z",
     "iopub.status.idle": "2021-08-24T20:39:19.377589Z",
     "shell.execute_reply": "2021-08-24T20:39:19.376795Z",
     "shell.execute_reply.started": "2021-08-24T20:39:19.366659Z"
    }
   },
   "outputs": [],
   "source": [
    "from nltk.corpus import stopwords\n",
    "from nltk import sent_tokenize, word_tokenize\n",
    "from wordcloud import WordCloud, STOPWORDS\n",
    "\n",
    "def wc(text1,bgcolor,title):\n",
    "    plt.figure(figsize = (100,100))\n",
    "    wc = WordCloud(background_color = bgcolor, max_words = 1000,  max_font_size = 50)\n",
    "    wc.generate(' '.join(text1))\n",
    "    plt.imshow(wc)\n",
    "    plt.axis('off')"
   ]
  },
  {
   "cell_type": "code",
   "execution_count": 29,
   "metadata": {
    "execution": {
     "iopub.execute_input": "2021-08-24T20:39:19.379096Z",
     "iopub.status.busy": "2021-08-24T20:39:19.378704Z",
     "iopub.status.idle": "2021-08-24T20:39:19.523694Z",
     "shell.execute_reply": "2021-08-24T20:39:19.522704Z",
     "shell.execute_reply.started": "2021-08-24T20:39:19.379057Z"
    }
   },
   "outputs": [
    {
     "name": "stderr",
     "output_type": "stream",
     "text": [
      "[nltk_data] Downloading package stopwords to\n",
      "[nltk_data]     C:\\Users\\khann\\AppData\\Roaming\\nltk_data...\n",
      "[nltk_data]   Package stopwords is already up-to-date!\n"
     ]
    },
    {
     "data": {
      "text/plain": [
       "True"
      ]
     },
     "execution_count": 29,
     "metadata": {},
     "output_type": "execute_result"
    }
   ],
   "source": [
    "from nltk.corpus import stopwords\n",
    "nltk.download('stopwords')"
   ]
  },
  {
   "cell_type": "code",
   "execution_count": 30,
   "metadata": {
    "execution": {
     "iopub.execute_input": "2021-08-24T20:39:19.525050Z",
     "iopub.status.busy": "2021-08-24T20:39:19.524769Z",
     "iopub.status.idle": "2021-08-24T20:39:19.528710Z",
     "shell.execute_reply": "2021-08-24T20:39:19.527651Z",
     "shell.execute_reply.started": "2021-08-24T20:39:19.525024Z"
    }
   },
   "outputs": [],
   "source": [
    "#pip install stop-words"
   ]
  },
  {
   "cell_type": "code",
   "execution_count": 31,
   "metadata": {
    "execution": {
     "iopub.execute_input": "2021-08-24T20:39:19.530101Z",
     "iopub.status.busy": "2021-08-24T20:39:19.529838Z",
     "iopub.status.idle": "2021-08-24T20:39:27.211277Z",
     "shell.execute_reply": "2021-08-24T20:39:27.210399Z",
     "shell.execute_reply.started": "2021-08-24T20:39:19.530077Z"
    }
   },
   "outputs": [
    {
     "data": {
      "image/png": "[encoded data removed]",
      "text/plain": [
       "<Figure size 720x720 with 1 Axes>"
      ]
     },
     "metadata": {
      "needs_background": "light"
     },
     "output_type": "display_data"
    }
   ],
   "source": [
    "from collections import Counter\n",
    "from nltk.tokenize import RegexpTokenizer\n",
    "from stop_words import get_stop_words\n",
    "import re\n",
    "import seaborn as sns\n",
    "\n",
    "top_N = 100\n",
    "\n",
    "a = text1['Review'].str.lower().str.cat(sep=' ')\n",
    "\n",
    "# removes punctuation,numbers and returns list of words\n",
    "b = re.sub('[^A-Za-z]+', ' ', a)\n",
    "\n",
    "#remove all the stopwords from the text\n",
    "stop_words = list(get_stop_words('en'))         \n",
    "nltk_words = list(stopwords.words('english'))   \n",
    "stop_words.extend(nltk_words)\n",
    "\n",
    "word_tokens = word_tokenize(b)\n",
    "filtered_sentence = [w for w in word_tokens if not w in stop_words]\n",
    "filtered_sentence = []\n",
    "for w in word_tokens:\n",
    "    if w not in stop_words:\n",
    "        filtered_sentence.append(w)\n",
    "\n",
    "# Remove characters which have length less than 2  \n",
    "without_single_chr = [word for word in filtered_sentence if len(word) > 2]\n",
    "\n",
    "# Remove numbers\n",
    "cleaned_data_review = [word for word in without_single_chr if not word.isnumeric()]        \n",
    "\n",
    "# Calculate frequency distribution\n",
    "word_dist = nltk.FreqDist(cleaned_data_review)\n",
    "rslt = pd.DataFrame(word_dist.most_common(top_N),\n",
    "                    columns=['Word', 'Frequency'])\n",
    "\n",
    "plt.figure(figsize=(10,10))\n",
    "sns.set_style(\"whitegrid\")\n",
    "ax = sns.barplot(x=\"Word\",y=\"Frequency\", data=rslt.head(7))"
   ]
  },
  {
   "cell_type": "code",
   "execution_count": 32,
   "metadata": {
    "execution": {
     "iopub.execute_input": "2021-08-24T20:39:27.212900Z",
     "iopub.status.busy": "2021-08-24T20:39:27.212610Z",
     "iopub.status.idle": "2021-08-24T20:39:32.090373Z",
     "shell.execute_reply": "2021-08-24T20:39:32.089361Z",
     "shell.execute_reply.started": "2021-08-24T20:39:27.212869Z"
    }
   },
   "outputs": [
    {
     "data": {
      "image/png": "[encoded data removed]",
      "text/plain": [
       "<Figure size 7200x7200 with 1 Axes>"
      ]
     },
     "metadata": {},
     "output_type": "display_data"
    }
   ],
   "source": [
    "wc(cleaned_data_review,'black','Common Words' )"
   ]
  },
  {
   "cell_type": "markdown",
   "metadata": {},
   "source": [
    "# Sentiment Analysis"
   ]
  },
  {
   "cell_type": "code",
   "execution_count": 33,
   "metadata": {
    "execution": {
     "iopub.execute_input": "2021-08-24T20:39:32.092150Z",
     "iopub.status.busy": "2021-08-24T20:39:32.091831Z",
     "iopub.status.idle": "2021-08-24T20:39:49.264763Z",
     "shell.execute_reply": "2021-08-24T20:39:49.264041Z",
     "shell.execute_reply.started": "2021-08-24T20:39:32.092120Z"
    }
   },
   "outputs": [
    {
     "data": {
      "image/png": "[encoded data removed]",
      "text/plain": [
       "<Figure size 720x720 with 1 Axes>"
      ]
     },
     "metadata": {},
     "output_type": "display_data"
    }
   ],
   "source": [
    "from textblob import TextBlob\n",
    "\n",
    "bloblist_desc = list()\n",
    "\n",
    "text1_descr_str=text1['Review'].astype(str)\n",
    "for row in text1_descr_str:\n",
    "    blob = TextBlob(row)\n",
    "    bloblist_desc.append((row,blob.sentiment.polarity, blob.sentiment.subjectivity))\n",
    "    text1_polarity_desc = pd.DataFrame(bloblist_desc, columns = ['sentence','sentiment','polarity'])\n",
    " \n",
    "def f(text1_polarity_desc):\n",
    "    if text1_polarity_desc['sentiment'] > 0.25:\n",
    "        val = \"1\"\n",
    "    elif text1_polarity_desc['sentiment'] == 0:\n",
    "        val = \"0\"\n",
    "    else:\n",
    "        val = \"-1\"\n",
    "    return val\n",
    "\n",
    "text1_polarity_desc['Sentiment_Type'] = text1_polarity_desc.apply(f, axis=1)\n",
    "\n",
    "plt.figure(figsize=(10,10))\n",
    "sns.set_style(\"whitegrid\")\n",
    "ax = sns.countplot(x=\"Sentiment_Type\", data=text1_polarity_desc)"
   ]
  },
  {
   "cell_type": "code",
   "execution_count": 34,
   "metadata": {
    "execution": {
     "iopub.execute_input": "2021-08-24T20:39:49.266392Z",
     "iopub.status.busy": "2021-08-24T20:39:49.265931Z",
     "iopub.status.idle": "2021-08-24T20:39:49.284004Z",
     "shell.execute_reply": "2021-08-24T20:39:49.282989Z",
     "shell.execute_reply.started": "2021-08-24T20:39:49.266362Z"
    }
   },
   "outputs": [
    {
     "data": {
      "text/html": [
       "<div>\n",
       "<style scoped>\n",
       "    .dataframe tbody tr th:only-of-type {\n",
       "        vertical-align: middle;\n",
       "    }\n",
       "\n",
       "    .dataframe tbody tr th {\n",
       "        vertical-align: top;\n",
       "    }\n",
       "\n",
       "    .dataframe thead th {\n",
       "        text-align: right;\n",
       "    }\n",
       "</style>\n",
       "<table border=\"1\" class=\"dataframe\">\n",
       "  <thead>\n",
       "    <tr style=\"text-align: right;\">\n",
       "      <th></th>\n",
       "      <th>sentence</th>\n",
       "      <th>sentiment</th>\n",
       "      <th>polarity</th>\n",
       "      <th>Sentiment_Type</th>\n",
       "    </tr>\n",
       "  </thead>\n",
       "  <tbody>\n",
       "    <tr>\n",
       "      <th>0</th>\n",
       "      <td>Mr. Bhanuprakash jaiswar drives very safely. W...</td>\n",
       "      <td>0.160000</td>\n",
       "      <td>0.415385</td>\n",
       "      <td>-1</td>\n",
       "    </tr>\n",
       "    <tr>\n",
       "      <th>1</th>\n",
       "      <td>My family and I visited Pondicherry Cafe and w...</td>\n",
       "      <td>0.600000</td>\n",
       "      <td>0.725000</td>\n",
       "      <td>1</td>\n",
       "    </tr>\n",
       "    <tr>\n",
       "      <th>2</th>\n",
       "      <td>superb hospitality !!! detailed service very n...</td>\n",
       "      <td>0.536042</td>\n",
       "      <td>0.677083</td>\n",
       "      <td>1</td>\n",
       "    </tr>\n",
       "    <tr>\n",
       "      <th>3</th>\n",
       "      <td>We had a fantastic lunch and had a great time ...</td>\n",
       "      <td>0.479592</td>\n",
       "      <td>0.731633</td>\n",
       "      <td>1</td>\n",
       "    </tr>\n",
       "    <tr>\n",
       "      <th>4</th>\n",
       "      <td>Stay at Sofitel BKC was excellent ! Spacious r...</td>\n",
       "      <td>0.558333</td>\n",
       "      <td>0.810000</td>\n",
       "      <td>1</td>\n",
       "    </tr>\n",
       "    <tr>\n",
       "      <th>...</th>\n",
       "      <td>...</td>\n",
       "      <td>...</td>\n",
       "      <td>...</td>\n",
       "      <td>...</td>\n",
       "    </tr>\n",
       "    <tr>\n",
       "      <th>6124</th>\n",
       "      <td>We chose Sofitel to host a family engagement a...</td>\n",
       "      <td>0.338214</td>\n",
       "      <td>0.590582</td>\n",
       "      <td>1</td>\n",
       "    </tr>\n",
       "    <tr>\n",
       "      <th>6125</th>\n",
       "      <td>I have traveled to Mumbai many times and the S...</td>\n",
       "      <td>0.506786</td>\n",
       "      <td>0.591429</td>\n",
       "      <td>1</td>\n",
       "    </tr>\n",
       "    <tr>\n",
       "      <th>6126</th>\n",
       "      <td>My stay at the Sofitel Mumbai BKC was absolute...</td>\n",
       "      <td>0.537121</td>\n",
       "      <td>0.748485</td>\n",
       "      <td>1</td>\n",
       "    </tr>\n",
       "    <tr>\n",
       "      <th>6127</th>\n",
       "      <td>We had an event named IBOM last month on 30th ...</td>\n",
       "      <td>0.315714</td>\n",
       "      <td>0.693810</td>\n",
       "      <td>1</td>\n",
       "    </tr>\n",
       "    <tr>\n",
       "      <th>6128</th>\n",
       "      <td>We stayed for 6 nights and everything from the...</td>\n",
       "      <td>0.339807</td>\n",
       "      <td>0.598810</td>\n",
       "      <td>1</td>\n",
       "    </tr>\n",
       "  </tbody>\n",
       "</table>\n",
       "<p>6129 rows × 4 columns</p>\n",
       "</div>"
      ],
      "text/plain": [
       "                                               sentence  sentiment  polarity  \\\n",
       "0     Mr. Bhanuprakash jaiswar drives very safely. W...   0.160000  0.415385   \n",
       "1     My family and I visited Pondicherry Cafe and w...   0.600000  0.725000   \n",
       "2     superb hospitality !!! detailed service very n...   0.536042  0.677083   \n",
       "3     We had a fantastic lunch and had a great time ...   0.479592  0.731633   \n",
       "4     Stay at Sofitel BKC was excellent ! Spacious r...   0.558333  0.810000   \n",
       "...                                                 ...        ...       ...   \n",
       "6124  We chose Sofitel to host a family engagement a...   0.338214  0.590582   \n",
       "6125  I have traveled to Mumbai many times and the S...   0.506786  0.591429   \n",
       "6126  My stay at the Sofitel Mumbai BKC was absolute...   0.537121  0.748485   \n",
       "6127  We had an event named IBOM last month on 30th ...   0.315714  0.693810   \n",
       "6128  We stayed for 6 nights and everything from the...   0.339807  0.598810   \n",
       "\n",
       "     Sentiment_Type  \n",
       "0                -1  \n",
       "1                 1  \n",
       "2                 1  \n",
       "3                 1  \n",
       "4                 1  \n",
       "...             ...  \n",
       "6124              1  \n",
       "6125              1  \n",
       "6126              1  \n",
       "6127              1  \n",
       "6128              1  \n",
       "\n",
       "[6129 rows x 4 columns]"
      ]
     },
     "execution_count": 34,
     "metadata": {},
     "output_type": "execute_result"
    }
   ],
   "source": [
    "text1_polarity_desc"
   ]
  },
  {
   "cell_type": "code",
   "execution_count": 35,
   "metadata": {
    "execution": {
     "iopub.execute_input": "2021-08-24T20:39:49.285536Z",
     "iopub.status.busy": "2021-08-24T20:39:49.285232Z",
     "iopub.status.idle": "2021-08-24T20:39:49.294975Z",
     "shell.execute_reply": "2021-08-24T20:39:49.293802Z",
     "shell.execute_reply.started": "2021-08-24T20:39:49.285509Z"
    }
   },
   "outputs": [],
   "source": [
    "data2.rename(columns = {'ocfR3SKN':'review_title'}, inplace = True)"
   ]
  },
  {
   "cell_type": "code",
   "execution_count": 36,
   "metadata": {
    "execution": {
     "iopub.execute_input": "2021-08-24T20:39:49.296684Z",
     "iopub.status.busy": "2021-08-24T20:39:49.296396Z",
     "iopub.status.idle": "2021-08-24T20:39:49.313781Z",
     "shell.execute_reply": "2021-08-24T20:39:49.312960Z",
     "shell.execute_reply.started": "2021-08-24T20:39:49.296657Z"
    }
   },
   "outputs": [
    {
     "data": {
      "text/plain": [
       "0                            Good service!\n",
       "1                         Lunch at Sofitel\n",
       "2                        excellent service\n",
       "3       Happy Friendship Day Celebration 🥳\n",
       "4                       Stay at SofitelBKC\n",
       "                       ...                \n",
       "6129                  seamless functioning\n",
       "6131                       Beautiful Hotel\n",
       "6132                 Best hotel in Mumbai!\n",
       "6133           Se sentir comme à la maison\n",
       "6134        Great hotel but amazing staff!\n",
       "Name: review_title, Length: 6134, dtype: object"
      ]
     },
     "metadata": {},
     "output_type": "display_data"
    }
   ],
   "source": [
    "extracted_col = data2[\"review_title\"]\n",
    "display(extracted_col)"
   ]
  },
  {
   "cell_type": "code",
   "execution_count": 37,
   "metadata": {
    "execution": {
     "iopub.execute_input": "2021-08-24T20:39:49.315141Z",
     "iopub.status.busy": "2021-08-24T20:39:49.314762Z",
     "iopub.status.idle": "2021-08-24T20:39:49.347124Z",
     "shell.execute_reply": "2021-08-24T20:39:49.346181Z",
     "shell.execute_reply.started": "2021-08-24T20:39:49.315112Z"
    }
   },
   "outputs": [
    {
     "data": {
      "text/html": [
       "<div>\n",
       "<style scoped>\n",
       "    .dataframe tbody tr th:only-of-type {\n",
       "        vertical-align: middle;\n",
       "    }\n",
       "\n",
       "    .dataframe tbody tr th {\n",
       "        vertical-align: top;\n",
       "    }\n",
       "\n",
       "    .dataframe thead th {\n",
       "        text-align: right;\n",
       "    }\n",
       "</style>\n",
       "<table border=\"1\" class=\"dataframe\">\n",
       "  <thead>\n",
       "    <tr style=\"text-align: right;\">\n",
       "      <th></th>\n",
       "      <th>sentence</th>\n",
       "      <th>sentiment</th>\n",
       "      <th>polarity</th>\n",
       "      <th>Sentiment_Type</th>\n",
       "      <th>review_title</th>\n",
       "    </tr>\n",
       "  </thead>\n",
       "  <tbody>\n",
       "    <tr>\n",
       "      <th>0</th>\n",
       "      <td>Mr. Bhanuprakash jaiswar drives very safely. W...</td>\n",
       "      <td>0.160000</td>\n",
       "      <td>0.415385</td>\n",
       "      <td>-1</td>\n",
       "      <td>Good service!</td>\n",
       "    </tr>\n",
       "    <tr>\n",
       "      <th>1</th>\n",
       "      <td>My family and I visited Pondicherry Cafe and w...</td>\n",
       "      <td>0.600000</td>\n",
       "      <td>0.725000</td>\n",
       "      <td>1</td>\n",
       "      <td>Lunch at Sofitel</td>\n",
       "    </tr>\n",
       "    <tr>\n",
       "      <th>2</th>\n",
       "      <td>superb hospitality !!! detailed service very n...</td>\n",
       "      <td>0.536042</td>\n",
       "      <td>0.677083</td>\n",
       "      <td>1</td>\n",
       "      <td>excellent service</td>\n",
       "    </tr>\n",
       "    <tr>\n",
       "      <th>3</th>\n",
       "      <td>We had a fantastic lunch and had a great time ...</td>\n",
       "      <td>0.479592</td>\n",
       "      <td>0.731633</td>\n",
       "      <td>1</td>\n",
       "      <td>Happy Friendship Day Celebration 🥳</td>\n",
       "    </tr>\n",
       "    <tr>\n",
       "      <th>4</th>\n",
       "      <td>Stay at Sofitel BKC was excellent ! Spacious r...</td>\n",
       "      <td>0.558333</td>\n",
       "      <td>0.810000</td>\n",
       "      <td>1</td>\n",
       "      <td>Stay at SofitelBKC</td>\n",
       "    </tr>\n",
       "    <tr>\n",
       "      <th>...</th>\n",
       "      <td>...</td>\n",
       "      <td>...</td>\n",
       "      <td>...</td>\n",
       "      <td>...</td>\n",
       "      <td>...</td>\n",
       "    </tr>\n",
       "    <tr>\n",
       "      <th>6124</th>\n",
       "      <td>We chose Sofitel to host a family engagement a...</td>\n",
       "      <td>0.338214</td>\n",
       "      <td>0.590582</td>\n",
       "      <td>1</td>\n",
       "      <td>Nice hotel in quiet area</td>\n",
       "    </tr>\n",
       "    <tr>\n",
       "      <th>6125</th>\n",
       "      <td>I have traveled to Mumbai many times and the S...</td>\n",
       "      <td>0.506786</td>\n",
       "      <td>0.591429</td>\n",
       "      <td>1</td>\n",
       "      <td>Great stay</td>\n",
       "    </tr>\n",
       "    <tr>\n",
       "      <th>6126</th>\n",
       "      <td>My stay at the Sofitel Mumbai BKC was absolute...</td>\n",
       "      <td>0.537121</td>\n",
       "      <td>0.748485</td>\n",
       "      <td>1</td>\n",
       "      <td>Amazing staff makes for a great business stay</td>\n",
       "    </tr>\n",
       "    <tr>\n",
       "      <th>6127</th>\n",
       "      <td>We had an event named IBOM last month on 30th ...</td>\n",
       "      <td>0.315714</td>\n",
       "      <td>0.693810</td>\n",
       "      <td>1</td>\n",
       "      <td>Excellent Business Hotel</td>\n",
       "    </tr>\n",
       "    <tr>\n",
       "      <th>6128</th>\n",
       "      <td>We stayed for 6 nights and everything from the...</td>\n",
       "      <td>0.339807</td>\n",
       "      <td>0.598810</td>\n",
       "      <td>1</td>\n",
       "      <td>Stylish decor, comfortable bed, great gym - ne...</td>\n",
       "    </tr>\n",
       "  </tbody>\n",
       "</table>\n",
       "<p>6129 rows × 5 columns</p>\n",
       "</div>"
      ],
      "text/plain": [
       "                                               sentence  sentiment  polarity  \\\n",
       "0     Mr. Bhanuprakash jaiswar drives very safely. W...   0.160000  0.415385   \n",
       "1     My family and I visited Pondicherry Cafe and w...   0.600000  0.725000   \n",
       "2     superb hospitality !!! detailed service very n...   0.536042  0.677083   \n",
       "3     We had a fantastic lunch and had a great time ...   0.479592  0.731633   \n",
       "4     Stay at Sofitel BKC was excellent ! Spacious r...   0.558333  0.810000   \n",
       "...                                                 ...        ...       ...   \n",
       "6124  We chose Sofitel to host a family engagement a...   0.338214  0.590582   \n",
       "6125  I have traveled to Mumbai many times and the S...   0.506786  0.591429   \n",
       "6126  My stay at the Sofitel Mumbai BKC was absolute...   0.537121  0.748485   \n",
       "6127  We had an event named IBOM last month on 30th ...   0.315714  0.693810   \n",
       "6128  We stayed for 6 nights and everything from the...   0.339807  0.598810   \n",
       "\n",
       "     Sentiment_Type                                       review_title  \n",
       "0                -1                                      Good service!  \n",
       "1                 1                                   Lunch at Sofitel  \n",
       "2                 1                                  excellent service  \n",
       "3                 1                 Happy Friendship Day Celebration 🥳  \n",
       "4                 1                                 Stay at SofitelBKC  \n",
       "...             ...                                                ...  \n",
       "6124              1                           Nice hotel in quiet area  \n",
       "6125              1                                         Great stay  \n",
       "6126              1      Amazing staff makes for a great business stay  \n",
       "6127              1                           Excellent Business Hotel  \n",
       "6128              1  Stylish decor, comfortable bed, great gym - ne...  \n",
       "\n",
       "[6129 rows x 5 columns]"
      ]
     },
     "metadata": {},
     "output_type": "display_data"
    }
   ],
   "source": [
    "text1_polarity_desc = text1_polarity_desc.join(extracted_col)\n",
    "display(text1_polarity_desc)"
   ]
  },
  {
   "cell_type": "code",
   "execution_count": 38,
   "metadata": {
    "execution": {
     "iopub.execute_input": "2021-08-24T20:39:49.348596Z",
     "iopub.status.busy": "2021-08-24T20:39:49.348312Z",
     "iopub.status.idle": "2021-08-24T20:39:49.359396Z",
     "shell.execute_reply": "2021-08-24T20:39:49.358628Z",
     "shell.execute_reply.started": "2021-08-24T20:39:49.348569Z"
    }
   },
   "outputs": [],
   "source": [
    "text1_polarity_desc.dropna(inplace=True)"
   ]
  },
  {
   "cell_type": "code",
   "execution_count": 39,
   "metadata": {
    "execution": {
     "iopub.execute_input": "2021-08-24T20:39:49.360835Z",
     "iopub.status.busy": "2021-08-24T20:39:49.360405Z",
     "iopub.status.idle": "2021-08-24T20:39:49.383258Z",
     "shell.execute_reply": "2021-08-24T20:39:49.382271Z",
     "shell.execute_reply.started": "2021-08-24T20:39:49.360795Z"
    }
   },
   "outputs": [
    {
     "data": {
      "text/html": [
       "<div>\n",
       "<style scoped>\n",
       "    .dataframe tbody tr th:only-of-type {\n",
       "        vertical-align: middle;\n",
       "    }\n",
       "\n",
       "    .dataframe tbody tr th {\n",
       "        vertical-align: top;\n",
       "    }\n",
       "\n",
       "    .dataframe thead th {\n",
       "        text-align: right;\n",
       "    }\n",
       "</style>\n",
       "<table border=\"1\" class=\"dataframe\">\n",
       "  <thead>\n",
       "    <tr style=\"text-align: right;\">\n",
       "      <th></th>\n",
       "      <th>sentence</th>\n",
       "      <th>sentiment</th>\n",
       "      <th>polarity</th>\n",
       "      <th>Sentiment_Type</th>\n",
       "      <th>review_title</th>\n",
       "    </tr>\n",
       "  </thead>\n",
       "  <tbody>\n",
       "    <tr>\n",
       "      <th>0</th>\n",
       "      <td>Mr. Bhanuprakash jaiswar drives very safely. W...</td>\n",
       "      <td>0.160000</td>\n",
       "      <td>0.415385</td>\n",
       "      <td>-1</td>\n",
       "      <td>Good service!</td>\n",
       "    </tr>\n",
       "    <tr>\n",
       "      <th>1</th>\n",
       "      <td>My family and I visited Pondicherry Cafe and w...</td>\n",
       "      <td>0.600000</td>\n",
       "      <td>0.725000</td>\n",
       "      <td>1</td>\n",
       "      <td>Lunch at Sofitel</td>\n",
       "    </tr>\n",
       "    <tr>\n",
       "      <th>2</th>\n",
       "      <td>superb hospitality !!! detailed service very n...</td>\n",
       "      <td>0.536042</td>\n",
       "      <td>0.677083</td>\n",
       "      <td>1</td>\n",
       "      <td>excellent service</td>\n",
       "    </tr>\n",
       "    <tr>\n",
       "      <th>3</th>\n",
       "      <td>We had a fantastic lunch and had a great time ...</td>\n",
       "      <td>0.479592</td>\n",
       "      <td>0.731633</td>\n",
       "      <td>1</td>\n",
       "      <td>Happy Friendship Day Celebration 🥳</td>\n",
       "    </tr>\n",
       "    <tr>\n",
       "      <th>4</th>\n",
       "      <td>Stay at Sofitel BKC was excellent ! Spacious r...</td>\n",
       "      <td>0.558333</td>\n",
       "      <td>0.810000</td>\n",
       "      <td>1</td>\n",
       "      <td>Stay at SofitelBKC</td>\n",
       "    </tr>\n",
       "    <tr>\n",
       "      <th>...</th>\n",
       "      <td>...</td>\n",
       "      <td>...</td>\n",
       "      <td>...</td>\n",
       "      <td>...</td>\n",
       "      <td>...</td>\n",
       "    </tr>\n",
       "    <tr>\n",
       "      <th>6124</th>\n",
       "      <td>We chose Sofitel to host a family engagement a...</td>\n",
       "      <td>0.338214</td>\n",
       "      <td>0.590582</td>\n",
       "      <td>1</td>\n",
       "      <td>Nice hotel in quiet area</td>\n",
       "    </tr>\n",
       "    <tr>\n",
       "      <th>6125</th>\n",
       "      <td>I have traveled to Mumbai many times and the S...</td>\n",
       "      <td>0.506786</td>\n",
       "      <td>0.591429</td>\n",
       "      <td>1</td>\n",
       "      <td>Great stay</td>\n",
       "    </tr>\n",
       "    <tr>\n",
       "      <th>6126</th>\n",
       "      <td>My stay at the Sofitel Mumbai BKC was absolute...</td>\n",
       "      <td>0.537121</td>\n",
       "      <td>0.748485</td>\n",
       "      <td>1</td>\n",
       "      <td>Amazing staff makes for a great business stay</td>\n",
       "    </tr>\n",
       "    <tr>\n",
       "      <th>6127</th>\n",
       "      <td>We had an event named IBOM last month on 30th ...</td>\n",
       "      <td>0.315714</td>\n",
       "      <td>0.693810</td>\n",
       "      <td>1</td>\n",
       "      <td>Excellent Business Hotel</td>\n",
       "    </tr>\n",
       "    <tr>\n",
       "      <th>6128</th>\n",
       "      <td>We stayed for 6 nights and everything from the...</td>\n",
       "      <td>0.339807</td>\n",
       "      <td>0.598810</td>\n",
       "      <td>1</td>\n",
       "      <td>Stylish decor, comfortable bed, great gym - ne...</td>\n",
       "    </tr>\n",
       "  </tbody>\n",
       "</table>\n",
       "<p>6123 rows × 5 columns</p>\n",
       "</div>"
      ],
      "text/plain": [
       "                                               sentence  sentiment  polarity  \\\n",
       "0     Mr. Bhanuprakash jaiswar drives very safely. W...   0.160000  0.415385   \n",
       "1     My family and I visited Pondicherry Cafe and w...   0.600000  0.725000   \n",
       "2     superb hospitality !!! detailed service very n...   0.536042  0.677083   \n",
       "3     We had a fantastic lunch and had a great time ...   0.479592  0.731633   \n",
       "4     Stay at Sofitel BKC was excellent ! Spacious r...   0.558333  0.810000   \n",
       "...                                                 ...        ...       ...   \n",
       "6124  We chose Sofitel to host a family engagement a...   0.338214  0.590582   \n",
       "6125  I have traveled to Mumbai many times and the S...   0.506786  0.591429   \n",
       "6126  My stay at the Sofitel Mumbai BKC was absolute...   0.537121  0.748485   \n",
       "6127  We had an event named IBOM last month on 30th ...   0.315714  0.693810   \n",
       "6128  We stayed for 6 nights and everything from the...   0.339807  0.598810   \n",
       "\n",
       "     Sentiment_Type                                       review_title  \n",
       "0                -1                                      Good service!  \n",
       "1                 1                                   Lunch at Sofitel  \n",
       "2                 1                                  excellent service  \n",
       "3                 1                 Happy Friendship Day Celebration 🥳  \n",
       "4                 1                                 Stay at SofitelBKC  \n",
       "...             ...                                                ...  \n",
       "6124              1                           Nice hotel in quiet area  \n",
       "6125              1                                         Great stay  \n",
       "6126              1      Amazing staff makes for a great business stay  \n",
       "6127              1                           Excellent Business Hotel  \n",
       "6128              1  Stylish decor, comfortable bed, great gym - ne...  \n",
       "\n",
       "[6123 rows x 5 columns]"
      ]
     },
     "execution_count": 39,
     "metadata": {},
     "output_type": "execute_result"
    }
   ],
   "source": [
    "text1_polarity_desc"
   ]
  },
  {
   "cell_type": "code",
   "execution_count": 40,
   "metadata": {
    "execution": {
     "iopub.execute_input": "2021-08-24T20:39:49.385205Z",
     "iopub.status.busy": "2021-08-24T20:39:49.384808Z",
     "iopub.status.idle": "2021-08-24T20:39:49.396875Z",
     "shell.execute_reply": "2021-08-24T20:39:49.395963Z",
     "shell.execute_reply.started": "2021-08-24T20:39:49.385171Z"
    }
   },
   "outputs": [],
   "source": [
    "# split df - positive and negative sentiment:\n",
    "positive = text1_polarity_desc[text1_polarity_desc['sentiment'] > 0]\n",
    "negative = text1_polarity_desc[text1_polarity_desc['sentiment'] < 0]"
   ]
  },
  {
   "cell_type": "markdown",
   "metadata": {},
   "source": [
    "# Positive Sentiment WordCloud"
   ]
  },
  {
   "cell_type": "code",
   "execution_count": 41,
   "metadata": {
    "execution": {
     "iopub.execute_input": "2021-08-24T20:39:49.398508Z",
     "iopub.status.busy": "2021-08-24T20:39:49.398171Z",
     "iopub.status.idle": "2021-08-24T20:39:49.945779Z",
     "shell.execute_reply": "2021-08-24T20:39:49.944651Z",
     "shell.execute_reply.started": "2021-08-24T20:39:49.398472Z"
    }
   },
   "outputs": [
    {
     "data": {
      "image/png": "[encoded data removed]",
      "text/plain": [
       "<Figure size 432x288 with 1 Axes>"
      ]
     },
     "metadata": {},
     "output_type": "display_data"
    }
   ],
   "source": [
    "stopwords = set(STOPWORDS)\n",
    "stopwords.update([\"br\", \"href\"])\n",
    "\n",
    "pos = \" \".join(review for review in positive.review_title)\n",
    "wordcloud2 = WordCloud(stopwords=stopwords).generate(pos)\n",
    "plt.imshow(wordcloud2, interpolation='bilinear')\n",
    "plt.axis(\"off\")\n",
    "plt.show()"
   ]
  },
  {
   "cell_type": "markdown",
   "metadata": {},
   "source": [
    "# Negative Sentiment WordCloud"
   ]
  },
  {
   "cell_type": "code",
   "execution_count": 42,
   "metadata": {
    "execution": {
     "iopub.execute_input": "2021-08-24T20:39:49.947725Z",
     "iopub.status.busy": "2021-08-24T20:39:49.947321Z",
     "iopub.status.idle": "2021-08-24T20:39:50.346374Z",
     "shell.execute_reply": "2021-08-24T20:39:50.345439Z",
     "shell.execute_reply.started": "2021-08-24T20:39:49.947689Z"
    }
   },
   "outputs": [
    {
     "data": {
      "image/png": "[encoded data removed]",
      "text/plain": [
       "<Figure size 432x288 with 1 Axes>"
      ]
     },
     "metadata": {},
     "output_type": "display_data"
    }
   ],
   "source": [
    "stopwords = set(STOPWORDS)\n",
    "stopwords.update([\"br\", \"href\",\"Great\",\"Best\",\"Good\",\"Nice\"])\n",
    "\n",
    "                                                                      ## number of positive words were used in negative context hence to be removed because they were included in negative sentiment\n",
    "\n",
    "neg = \" \".join(review for review in negative.review_title)\n",
    "wordcloud3 = WordCloud(stopwords=stopwords).generate(neg)\n",
    "plt.imshow(wordcloud3, interpolation='bilinear')\n",
    "plt.axis(\"off\")\n",
    "plt.savefig('wordcloud33.png')\n",
    "plt.show()"
   ]
  },
  {
   "cell_type": "code",
   "execution_count": 43,
   "metadata": {
    "execution": {
     "iopub.execute_input": "2021-08-24T20:39:50.348084Z",
     "iopub.status.busy": "2021-08-24T20:39:50.347774Z",
     "iopub.status.idle": "2021-08-24T20:39:50.510583Z",
     "shell.execute_reply": "2021-08-24T20:39:50.509840Z",
     "shell.execute_reply.started": "2021-08-24T20:39:50.348057Z"
    }
   },
   "outputs": [
    {
     "data": {
      "text/html": [
       "<div>\n",
       "<style scoped>\n",
       "    .dataframe tbody tr th:only-of-type {\n",
       "        vertical-align: middle;\n",
       "    }\n",
       "\n",
       "    .dataframe tbody tr th {\n",
       "        vertical-align: top;\n",
       "    }\n",
       "\n",
       "    .dataframe thead th {\n",
       "        text-align: right;\n",
       "    }\n",
       "</style>\n",
       "<table border=\"1\" class=\"dataframe\">\n",
       "  <thead>\n",
       "    <tr style=\"text-align: right;\">\n",
       "      <th></th>\n",
       "      <th>sentence</th>\n",
       "      <th>sentiment</th>\n",
       "      <th>polarity</th>\n",
       "      <th>Sentiment_Type</th>\n",
       "      <th>review_title</th>\n",
       "      <th>word_count</th>\n",
       "      <th>char_count</th>\n",
       "    </tr>\n",
       "  </thead>\n",
       "  <tbody>\n",
       "    <tr>\n",
       "      <th>0</th>\n",
       "      <td>mr. bhanuprakash jaiswar drives very safely. w...</td>\n",
       "      <td>0.160000</td>\n",
       "      <td>0.415385</td>\n",
       "      <td>-1</td>\n",
       "      <td>Good service!</td>\n",
       "      <td>33</td>\n",
       "      <td>206</td>\n",
       "    </tr>\n",
       "    <tr>\n",
       "      <th>1</th>\n",
       "      <td>my family and i visited pondicherry cafe and w...</td>\n",
       "      <td>0.600000</td>\n",
       "      <td>0.725000</td>\n",
       "      <td>1</td>\n",
       "      <td>Lunch at Sofitel</td>\n",
       "      <td>71</td>\n",
       "      <td>398</td>\n",
       "    </tr>\n",
       "    <tr>\n",
       "      <th>2</th>\n",
       "      <td>superb hospitality !!! detailed service very n...</td>\n",
       "      <td>0.536042</td>\n",
       "      <td>0.677083</td>\n",
       "      <td>1</td>\n",
       "      <td>excellent service</td>\n",
       "      <td>34</td>\n",
       "      <td>206</td>\n",
       "    </tr>\n",
       "    <tr>\n",
       "      <th>3</th>\n",
       "      <td>we had a fantastic lunch and had a great time ...</td>\n",
       "      <td>0.479592</td>\n",
       "      <td>0.731633</td>\n",
       "      <td>1</td>\n",
       "      <td>Happy Friendship Day Celebration 🥳</td>\n",
       "      <td>41</td>\n",
       "      <td>212</td>\n",
       "    </tr>\n",
       "    <tr>\n",
       "      <th>4</th>\n",
       "      <td>stay at sofitel bkc was excellent ! spacious r...</td>\n",
       "      <td>0.558333</td>\n",
       "      <td>0.810000</td>\n",
       "      <td>1</td>\n",
       "      <td>Stay at SofitelBKC</td>\n",
       "      <td>49</td>\n",
       "      <td>276</td>\n",
       "    </tr>\n",
       "  </tbody>\n",
       "</table>\n",
       "</div>"
      ],
      "text/plain": [
       "                                            sentence  sentiment  polarity  \\\n",
       "0  mr. bhanuprakash jaiswar drives very safely. w...   0.160000  0.415385   \n",
       "1  my family and i visited pondicherry cafe and w...   0.600000  0.725000   \n",
       "2  superb hospitality !!! detailed service very n...   0.536042  0.677083   \n",
       "3  we had a fantastic lunch and had a great time ...   0.479592  0.731633   \n",
       "4  stay at sofitel bkc was excellent ! spacious r...   0.558333  0.810000   \n",
       "\n",
       "  Sentiment_Type                        review_title  word_count  char_count  \n",
       "0             -1                       Good service!          33         206  \n",
       "1              1                    Lunch at Sofitel          71         398  \n",
       "2              1                   excellent service          34         206  \n",
       "3              1  Happy Friendship Day Celebration 🥳          41         212  \n",
       "4              1                  Stay at SofitelBKC          49         276  "
      ]
     },
     "execution_count": 43,
     "metadata": {},
     "output_type": "execute_result"
    }
   ],
   "source": [
    "text1_polarity_desc['word_count'] = text1_polarity_desc['sentence'].apply(lambda x: len(str(x).split(\" \")))\n",
    "text1_polarity_desc['char_count'] = text1_polarity_desc['sentence'].str.len() \n",
    "text1_polarity_desc['sentence'] = text1_polarity_desc['sentence'].apply(lambda x: \" \".join(x.lower() for x in x.split()))\n",
    "text1_polarity_desc.head()"
   ]
  },
  {
   "cell_type": "code",
   "execution_count": 44,
   "metadata": {
    "execution": {
     "iopub.execute_input": "2021-08-24T20:39:50.511911Z",
     "iopub.status.busy": "2021-08-24T20:39:50.511526Z",
     "iopub.status.idle": "2021-08-24T20:39:50.624561Z",
     "shell.execute_reply": "2021-08-24T20:39:50.623487Z",
     "shell.execute_reply.started": "2021-08-24T20:39:50.511883Z"
    }
   },
   "outputs": [],
   "source": [
    "text1_polarity_desc['sentence'] = text1_polarity_desc['sentence'].str.replace('[^\\w\\s]','')"
   ]
  },
  {
   "cell_type": "code",
   "execution_count": 45,
   "metadata": {
    "execution": {
     "iopub.execute_input": "2021-08-24T20:39:50.626024Z",
     "iopub.status.busy": "2021-08-24T20:39:50.625731Z",
     "iopub.status.idle": "2021-08-24T20:39:50.746464Z",
     "shell.execute_reply": "2021-08-24T20:39:50.745590Z",
     "shell.execute_reply.started": "2021-08-24T20:39:50.625995Z"
    }
   },
   "outputs": [
    {
     "data": {
      "text/html": [
       "<div>\n",
       "<style scoped>\n",
       "    .dataframe tbody tr th:only-of-type {\n",
       "        vertical-align: middle;\n",
       "    }\n",
       "\n",
       "    .dataframe tbody tr th {\n",
       "        vertical-align: top;\n",
       "    }\n",
       "\n",
       "    .dataframe thead th {\n",
       "        text-align: right;\n",
       "    }\n",
       "</style>\n",
       "<table border=\"1\" class=\"dataframe\">\n",
       "  <thead>\n",
       "    <tr style=\"text-align: right;\">\n",
       "      <th></th>\n",
       "      <th>sentence</th>\n",
       "      <th>sentiment</th>\n",
       "      <th>polarity</th>\n",
       "      <th>Sentiment_Type</th>\n",
       "      <th>review_title</th>\n",
       "      <th>word_count</th>\n",
       "      <th>char_count</th>\n",
       "    </tr>\n",
       "  </thead>\n",
       "  <tbody>\n",
       "    <tr>\n",
       "      <th>0</th>\n",
       "      <td>mr bhanuprakash jaiswar drives safely regular ...</td>\n",
       "      <td>0.160000</td>\n",
       "      <td>0.415385</td>\n",
       "      <td>-1</td>\n",
       "      <td>Good service!</td>\n",
       "      <td>33</td>\n",
       "      <td>206</td>\n",
       "    </tr>\n",
       "    <tr>\n",
       "      <th>1</th>\n",
       "      <td>family visited pondicherry cafe warmly receive...</td>\n",
       "      <td>0.600000</td>\n",
       "      <td>0.725000</td>\n",
       "      <td>1</td>\n",
       "      <td>Lunch at Sofitel</td>\n",
       "      <td>71</td>\n",
       "      <td>398</td>\n",
       "    </tr>\n",
       "    <tr>\n",
       "      <th>2</th>\n",
       "      <td>superb hospitality detailed service nicely wel...</td>\n",
       "      <td>0.536042</td>\n",
       "      <td>0.677083</td>\n",
       "      <td>1</td>\n",
       "      <td>excellent service</td>\n",
       "      <td>34</td>\n",
       "      <td>206</td>\n",
       "    </tr>\n",
       "    <tr>\n",
       "      <th>3</th>\n",
       "      <td>fantastic lunch great time mr prakash made eve...</td>\n",
       "      <td>0.479592</td>\n",
       "      <td>0.731633</td>\n",
       "      <td>1</td>\n",
       "      <td>Happy Friendship Day Celebration 🥳</td>\n",
       "      <td>41</td>\n",
       "      <td>212</td>\n",
       "    </tr>\n",
       "    <tr>\n",
       "      <th>4</th>\n",
       "      <td>stay sofitel bkc excellent spacious room reall...</td>\n",
       "      <td>0.558333</td>\n",
       "      <td>0.810000</td>\n",
       "      <td>1</td>\n",
       "      <td>Stay at SofitelBKC</td>\n",
       "      <td>49</td>\n",
       "      <td>276</td>\n",
       "    </tr>\n",
       "  </tbody>\n",
       "</table>\n",
       "</div>"
      ],
      "text/plain": [
       "                                            sentence  sentiment  polarity  \\\n",
       "0  mr bhanuprakash jaiswar drives safely regular ...   0.160000  0.415385   \n",
       "1  family visited pondicherry cafe warmly receive...   0.600000  0.725000   \n",
       "2  superb hospitality detailed service nicely wel...   0.536042  0.677083   \n",
       "3  fantastic lunch great time mr prakash made eve...   0.479592  0.731633   \n",
       "4  stay sofitel bkc excellent spacious room reall...   0.558333  0.810000   \n",
       "\n",
       "  Sentiment_Type                        review_title  word_count  char_count  \n",
       "0             -1                       Good service!          33         206  \n",
       "1              1                    Lunch at Sofitel          71         398  \n",
       "2              1                   excellent service          34         206  \n",
       "3              1  Happy Friendship Day Celebration 🥳          41         212  \n",
       "4              1                  Stay at SofitelBKC          49         276  "
      ]
     },
     "execution_count": 45,
     "metadata": {},
     "output_type": "execute_result"
    }
   ],
   "source": [
    "text1_polarity_desc['sentence'] = text1_polarity_desc['sentence'].apply(lambda x: \" \".join(x for x in x.split() if x not in stopwords))\n",
    "text1_polarity_desc.head()"
   ]
  },
  {
   "cell_type": "markdown",
   "metadata": {},
   "source": [
    "# Removing Punctuation"
   ]
  },
  {
   "cell_type": "code",
   "execution_count": 46,
   "metadata": {
    "execution": {
     "iopub.execute_input": "2021-08-24T20:39:50.748030Z",
     "iopub.status.busy": "2021-08-24T20:39:50.747712Z",
     "iopub.status.idle": "2021-08-24T20:39:51.239317Z",
     "shell.execute_reply": "2021-08-24T20:39:51.238419Z",
     "shell.execute_reply.started": "2021-08-24T20:39:50.748003Z"
    }
   },
   "outputs": [],
   "source": [
    "def remove_punctuation(sentence):\n",
    "    final = \"\".join(u for u in sentence if u not in (\"?\", \".\", \";\", \":\",  \"!\",'\"'))\n",
    "    return final\n",
    "\n",
    "text1_polarity_desc['sentence'] = text1_polarity_desc['sentence'].apply(remove_punctuation)\n",
    "\n",
    "text1_polarity_desc = text1_polarity_desc.dropna(subset=['review_title'])\n",
    "\n",
    "text1_polarity_desc['review_title'] = text1_polarity_desc['review_title'].apply(remove_punctuation)"
   ]
  },
  {
   "cell_type": "code",
   "execution_count": 47,
   "metadata": {
    "execution": {
     "iopub.execute_input": "2021-08-24T20:39:51.240690Z",
     "iopub.status.busy": "2021-08-24T20:39:51.240422Z",
     "iopub.status.idle": "2021-08-24T20:39:51.254122Z",
     "shell.execute_reply": "2021-08-24T20:39:51.253151Z",
     "shell.execute_reply.started": "2021-08-24T20:39:51.240666Z"
    }
   },
   "outputs": [
    {
     "data": {
      "text/html": [
       "<div>\n",
       "<style scoped>\n",
       "    .dataframe tbody tr th:only-of-type {\n",
       "        vertical-align: middle;\n",
       "    }\n",
       "\n",
       "    .dataframe tbody tr th {\n",
       "        vertical-align: top;\n",
       "    }\n",
       "\n",
       "    .dataframe thead th {\n",
       "        text-align: right;\n",
       "    }\n",
       "</style>\n",
       "<table border=\"1\" class=\"dataframe\">\n",
       "  <thead>\n",
       "    <tr style=\"text-align: right;\">\n",
       "      <th></th>\n",
       "      <th>sentence</th>\n",
       "      <th>sentiment</th>\n",
       "      <th>polarity</th>\n",
       "      <th>Sentiment_Type</th>\n",
       "      <th>review_title</th>\n",
       "      <th>word_count</th>\n",
       "      <th>char_count</th>\n",
       "    </tr>\n",
       "  </thead>\n",
       "  <tbody>\n",
       "    <tr>\n",
       "      <th>0</th>\n",
       "      <td>mr bhanuprakash jaiswar drives safely regular ...</td>\n",
       "      <td>0.160000</td>\n",
       "      <td>0.415385</td>\n",
       "      <td>-1</td>\n",
       "      <td>Good service</td>\n",
       "      <td>33</td>\n",
       "      <td>206</td>\n",
       "    </tr>\n",
       "    <tr>\n",
       "      <th>1</th>\n",
       "      <td>family visited pondicherry cafe warmly receive...</td>\n",
       "      <td>0.600000</td>\n",
       "      <td>0.725000</td>\n",
       "      <td>1</td>\n",
       "      <td>Lunch at Sofitel</td>\n",
       "      <td>71</td>\n",
       "      <td>398</td>\n",
       "    </tr>\n",
       "    <tr>\n",
       "      <th>2</th>\n",
       "      <td>superb hospitality detailed service nicely wel...</td>\n",
       "      <td>0.536042</td>\n",
       "      <td>0.677083</td>\n",
       "      <td>1</td>\n",
       "      <td>excellent service</td>\n",
       "      <td>34</td>\n",
       "      <td>206</td>\n",
       "    </tr>\n",
       "    <tr>\n",
       "      <th>3</th>\n",
       "      <td>fantastic lunch great time mr prakash made eve...</td>\n",
       "      <td>0.479592</td>\n",
       "      <td>0.731633</td>\n",
       "      <td>1</td>\n",
       "      <td>Happy Friendship Day Celebration 🥳</td>\n",
       "      <td>41</td>\n",
       "      <td>212</td>\n",
       "    </tr>\n",
       "    <tr>\n",
       "      <th>4</th>\n",
       "      <td>stay sofitel bkc excellent spacious room reall...</td>\n",
       "      <td>0.558333</td>\n",
       "      <td>0.810000</td>\n",
       "      <td>1</td>\n",
       "      <td>Stay at SofitelBKC</td>\n",
       "      <td>49</td>\n",
       "      <td>276</td>\n",
       "    </tr>\n",
       "  </tbody>\n",
       "</table>\n",
       "</div>"
      ],
      "text/plain": [
       "                                            sentence  sentiment  polarity  \\\n",
       "0  mr bhanuprakash jaiswar drives safely regular ...   0.160000  0.415385   \n",
       "1  family visited pondicherry cafe warmly receive...   0.600000  0.725000   \n",
       "2  superb hospitality detailed service nicely wel...   0.536042  0.677083   \n",
       "3  fantastic lunch great time mr prakash made eve...   0.479592  0.731633   \n",
       "4  stay sofitel bkc excellent spacious room reall...   0.558333  0.810000   \n",
       "\n",
       "  Sentiment_Type                        review_title  word_count  char_count  \n",
       "0             -1                        Good service          33         206  \n",
       "1              1                    Lunch at Sofitel          71         398  \n",
       "2              1                   excellent service          34         206  \n",
       "3              1  Happy Friendship Day Celebration 🥳          41         212  \n",
       "4              1                  Stay at SofitelBKC          49         276  "
      ]
     },
     "execution_count": 47,
     "metadata": {},
     "output_type": "execute_result"
    }
   ],
   "source": [
    "text1_polarity_desc.head()"
   ]
  },
  {
   "cell_type": "code",
   "execution_count": 48,
   "metadata": {
    "execution": {
     "iopub.execute_input": "2021-08-24T20:39:51.255576Z",
     "iopub.status.busy": "2021-08-24T20:39:51.255276Z",
     "iopub.status.idle": "2021-08-24T20:39:51.272280Z",
     "shell.execute_reply": "2021-08-24T20:39:51.271400Z",
     "shell.execute_reply.started": "2021-08-24T20:39:51.255549Z"
    }
   },
   "outputs": [
    {
     "data": {
      "text/html": [
       "<div>\n",
       "<style scoped>\n",
       "    .dataframe tbody tr th:only-of-type {\n",
       "        vertical-align: middle;\n",
       "    }\n",
       "\n",
       "    .dataframe tbody tr th {\n",
       "        vertical-align: top;\n",
       "    }\n",
       "\n",
       "    .dataframe thead th {\n",
       "        text-align: right;\n",
       "    }\n",
       "</style>\n",
       "<table border=\"1\" class=\"dataframe\">\n",
       "  <thead>\n",
       "    <tr style=\"text-align: right;\">\n",
       "      <th></th>\n",
       "      <th>sentence</th>\n",
       "      <th>review_title</th>\n",
       "      <th>Sentiment_Type</th>\n",
       "    </tr>\n",
       "  </thead>\n",
       "  <tbody>\n",
       "    <tr>\n",
       "      <th>0</th>\n",
       "      <td>mr bhanuprakash jaiswar drives safely regular ...</td>\n",
       "      <td>Good service</td>\n",
       "      <td>-1</td>\n",
       "    </tr>\n",
       "    <tr>\n",
       "      <th>1</th>\n",
       "      <td>family visited pondicherry cafe warmly receive...</td>\n",
       "      <td>Lunch at Sofitel</td>\n",
       "      <td>1</td>\n",
       "    </tr>\n",
       "    <tr>\n",
       "      <th>2</th>\n",
       "      <td>superb hospitality detailed service nicely wel...</td>\n",
       "      <td>excellent service</td>\n",
       "      <td>1</td>\n",
       "    </tr>\n",
       "    <tr>\n",
       "      <th>3</th>\n",
       "      <td>fantastic lunch great time mr prakash made eve...</td>\n",
       "      <td>Happy Friendship Day Celebration 🥳</td>\n",
       "      <td>1</td>\n",
       "    </tr>\n",
       "    <tr>\n",
       "      <th>4</th>\n",
       "      <td>stay sofitel bkc excellent spacious room reall...</td>\n",
       "      <td>Stay at SofitelBKC</td>\n",
       "      <td>1</td>\n",
       "    </tr>\n",
       "  </tbody>\n",
       "</table>\n",
       "</div>"
      ],
      "text/plain": [
       "                                            sentence  \\\n",
       "0  mr bhanuprakash jaiswar drives safely regular ...   \n",
       "1  family visited pondicherry cafe warmly receive...   \n",
       "2  superb hospitality detailed service nicely wel...   \n",
       "3  fantastic lunch great time mr prakash made eve...   \n",
       "4  stay sofitel bkc excellent spacious room reall...   \n",
       "\n",
       "                         review_title Sentiment_Type  \n",
       "0                        Good service             -1  \n",
       "1                    Lunch at Sofitel              1  \n",
       "2                   excellent service              1  \n",
       "3  Happy Friendship Day Celebration 🥳              1  \n",
       "4                  Stay at SofitelBKC              1  "
      ]
     },
     "execution_count": 48,
     "metadata": {},
     "output_type": "execute_result"
    }
   ],
   "source": [
    "df = text1_polarity_desc[['sentence','review_title','Sentiment_Type']]\n",
    "df.head()"
   ]
  },
  {
   "cell_type": "markdown",
   "metadata": {},
   "source": [
    "# Most Frequent Words"
   ]
  },
  {
   "cell_type": "code",
   "execution_count": 49,
   "metadata": {
    "execution": {
     "iopub.execute_input": "2021-08-24T20:39:51.273752Z",
     "iopub.status.busy": "2021-08-24T20:39:51.273459Z",
     "iopub.status.idle": "2021-08-24T20:39:51.535900Z",
     "shell.execute_reply": "2021-08-24T20:39:51.535062Z",
     "shell.execute_reply.started": "2021-08-24T20:39:51.273720Z"
    }
   },
   "outputs": [],
   "source": [
    "pd.options.mode.chained_assignment = None\n",
    "\n",
    "freq = pd.Series(' '.join(df['sentence']).split()).value_counts()[:20]\n",
    "freq = list(freq.index)\n",
    "df['sentence'] = df['sentence'].apply(lambda x: \" \".join(x for x in x.split() if x not in freq))"
   ]
  },
  {
   "cell_type": "code",
   "execution_count": 50,
   "metadata": {
    "execution": {
     "iopub.execute_input": "2021-08-24T20:39:51.537324Z",
     "iopub.status.busy": "2021-08-24T20:39:51.537036Z",
     "iopub.status.idle": "2021-08-24T20:39:51.544003Z",
     "shell.execute_reply": "2021-08-24T20:39:51.543013Z",
     "shell.execute_reply.started": "2021-08-24T20:39:51.537282Z"
    }
   },
   "outputs": [
    {
     "data": {
      "text/plain": [
       "['hotel',\n",
       " 'staff',\n",
       " 'sofitel',\n",
       " 'service',\n",
       " 'good',\n",
       " 'stay',\n",
       " 'food',\n",
       " 'great',\n",
       " 'room',\n",
       " 'mumbai',\n",
       " 'us',\n",
       " 'excellent',\n",
       " 'well',\n",
       " 'experience',\n",
       " 'rooms',\n",
       " 'one',\n",
       " 'best',\n",
       " 'time',\n",
       " 'team',\n",
       " 'bkc']"
      ]
     },
     "execution_count": 50,
     "metadata": {},
     "output_type": "execute_result"
    }
   ],
   "source": [
    "freq"
   ]
  },
  {
   "cell_type": "markdown",
   "metadata": {},
   "source": [
    "# Least Frequent Words"
   ]
  },
  {
   "cell_type": "code",
   "execution_count": 51,
   "metadata": {
    "execution": {
     "iopub.execute_input": "2021-08-24T20:39:51.545494Z",
     "iopub.status.busy": "2021-08-24T20:39:51.545206Z",
     "iopub.status.idle": "2021-08-24T20:39:51.766428Z",
     "shell.execute_reply": "2021-08-24T20:39:51.765499Z",
     "shell.execute_reply.started": "2021-08-24T20:39:51.545469Z"
    }
   },
   "outputs": [],
   "source": [
    "pd.options.mode.chained_assignment = None\n",
    "\n",
    "low_freq = pd.Series(' '.join(df['sentence']).split()).value_counts()[-20:]\n",
    "freq1 = list(low_freq.index)\n",
    "df['sentence'] = df['sentence'].apply(lambda x: \" \".join(x for x in x.split() if x not in freq1))"
   ]
  },
  {
   "cell_type": "code",
   "execution_count": 52,
   "metadata": {
    "execution": {
     "iopub.execute_input": "2021-08-24T20:39:51.767923Z",
     "iopub.status.busy": "2021-08-24T20:39:51.767651Z",
     "iopub.status.idle": "2021-08-24T20:39:51.773788Z",
     "shell.execute_reply": "2021-08-24T20:39:51.772860Z",
     "shell.execute_reply.started": "2021-08-24T20:39:51.767899Z"
    }
   },
   "outputs": [
    {
     "data": {
      "text/plain": [
       "['expressed',\n",
       " 'amarendalm',\n",
       " 'sofitelthey',\n",
       " 'hospitalitycheck',\n",
       " 'ofice',\n",
       " 'brimming',\n",
       " 'shakeel',\n",
       " 'amentha',\n",
       " 'guysthis',\n",
       " 'highceiling',\n",
       " 'againhad',\n",
       " 'fantabulouseverything',\n",
       " 'millenia',\n",
       " 'tiresome',\n",
       " 'productiongurudev',\n",
       " 'whetted',\n",
       " 'rahuelvrushaliniteshmayursujaydenver',\n",
       " 'servicesimply',\n",
       " 'march2017',\n",
       " 'ganshyam']"
      ]
     },
     "execution_count": 52,
     "metadata": {},
     "output_type": "execute_result"
    }
   ],
   "source": [
    "freq1"
   ]
  },
  {
   "cell_type": "markdown",
   "metadata": {},
   "source": [
    "# Bigrams Creation"
   ]
  },
  {
   "cell_type": "code",
   "execution_count": 53,
   "metadata": {
    "execution": {
     "iopub.execute_input": "2021-08-24T20:39:51.775255Z",
     "iopub.status.busy": "2021-08-24T20:39:51.774985Z",
     "iopub.status.idle": "2021-08-24T20:39:54.530877Z",
     "shell.execute_reply": "2021-08-24T20:39:54.530162Z",
     "shell.execute_reply.started": "2021-08-24T20:39:51.775230Z"
    }
   },
   "outputs": [
    {
     "data": {
      "text/plain": [
       "[(('special', 'thanks'), 401),\n",
       " (('pondicherry', 'cafe'), 318),\n",
       " (('front', 'desk'), 278),\n",
       " (('special', 'mention'), 218),\n",
       " (('club', 'lounge'), 204),\n",
       " (('club', 'millesime'), 197),\n",
       " (('14th', 'floor'), 174),\n",
       " (('come', 'back'), 164),\n",
       " (('5', 'star'), 163),\n",
       " (('highly', 'recommend'), 156)]"
      ]
     },
     "execution_count": 53,
     "metadata": {},
     "output_type": "execute_result"
    }
   ],
   "source": [
    "import collections\n",
    "from collections import Counter\n",
    "\n",
    "counts_Reviews = collections.Counter()\n",
    "for i in df['sentence']:\n",
    "    words_A = word_tokenize(i)\n",
    "    counts_Reviews.update(nltk.bigrams(words_A))    \n",
    "Bigram_counts_Reviews = counts_Reviews.most_common(10)\n",
    "Bigram_counts_Reviews"
   ]
  },
  {
   "cell_type": "markdown",
   "metadata": {},
   "source": []
  },
  {
   "cell_type": "markdown",
   "metadata": {},
   "source": [
    "# TfidfVectorizer "
   ]
  },
  {
   "cell_type": "code",
   "execution_count": 54,
   "metadata": {
    "execution": {
     "iopub.execute_input": "2021-08-24T20:39:54.532349Z",
     "iopub.status.busy": "2021-08-24T20:39:54.532070Z",
     "iopub.status.idle": "2021-08-24T20:39:54.852179Z",
     "shell.execute_reply": "2021-08-24T20:39:54.851115Z",
     "shell.execute_reply.started": "2021-08-24T20:39:54.532323Z"
    }
   },
   "outputs": [
    {
     "name": "stdout",
     "output_type": "stream",
     "text": [
      "  (0, 10534)\t0.14571249828472718\n",
      "  (0, 10987)\t0.2649175178202463\n",
      "  (0, 2907)\t0.25085896153719717\n",
      "  (0, 11857)\t0.2042680954226544\n",
      "  (0, 1680)\t0.25085896153719717\n",
      "  (0, 10813)\t0.2571805359872413\n",
      "  (0, 5767)\t0.2387822398484194\n",
      "  (0, 11552)\t0.18177609583505197\n",
      "  (0, 9548)\t0.2283013561286268\n",
      "  (0, 14745)\t0.2748922222431696\n",
      "  (0, 2894)\t0.21089248984152825\n",
      "  (0, 11398)\t0.1939185477160967\n",
      "  (0, 11932)\t0.2748922222431696\n",
      "  (0, 4410)\t0.298925482949142\n",
      "  (0, 7378)\t0.3129840392321911\n",
      "  (0, 1886)\t0.3129840392321911\n",
      "  (0, 9015)\t0.11912961484029345\n",
      "  (1, 4880)\t0.1395596596176802\n",
      "  (1, 11317)\t0.10587680024183801\n",
      "  (1, 12177)\t0.2204029531083273\n",
      "  (1, 3636)\t0.1892197100156057\n",
      "  (1, 8885)\t0.2617653672270926\n",
      "  (1, 3926)\t0.12827613977616956\n",
      "  (1, 1872)\t0.14965213730280005\n",
      "  (1, 4234)\t0.16124451768902243\n",
      "  :\t:\n",
      "  (6122, 10481)\t0.14325802647896732\n",
      "  (6122, 6672)\t0.12980149192509816\n",
      "  (6122, 1647)\t0.09790506747635676\n",
      "  (6122, 10867)\t0.19630388045939673\n",
      "  (6122, 12214)\t0.10739899170625947\n",
      "  (6122, 4651)\t0.15808554791989238\n",
      "  (6122, 4875)\t0.08044354132869472\n",
      "  (6122, 9326)\t0.10258540928456648\n",
      "  (6122, 13328)\t0.06952907656168526\n",
      "  (6122, 4698)\t0.1100822986356527\n",
      "  (6122, 4887)\t0.0839140771811534\n",
      "  (6122, 9129)\t0.08721381837229521\n",
      "  (6122, 6491)\t0.06981108745130225\n",
      "  (6122, 874)\t0.07362839378657794\n",
      "  (6122, 2659)\t0.08538539316515051\n",
      "  (6122, 14072)\t0.11500703202202278\n",
      "  (6122, 14005)\t0.07332855327556485\n",
      "  (6122, 896)\t0.13770085066663731\n",
      "  (6122, 4691)\t0.09140584990784567\n",
      "  (6122, 762)\t0.0887375140470137\n",
      "  (6122, 8340)\t0.09556511377036579\n",
      "  (6122, 5707)\t0.07377971199324244\n",
      "  (6122, 5147)\t0.09191246734351495\n",
      "  (6122, 13619)\t0.10278472808366357\n",
      "  (6122, 10534)\t0.10219160703681207\n"
     ]
    }
   ],
   "source": [
    "from sklearn.feature_extraction.text import TfidfVectorizer\n",
    "tfidf=TfidfVectorizer()\n",
    "TFIDF=tfidf.fit_transform(df['sentence'])\n",
    "print(TFIDF)"
   ]
  },
  {
   "cell_type": "code",
   "execution_count": 55,
   "metadata": {
    "execution": {
     "iopub.execute_input": "2021-08-24T20:39:54.853630Z",
     "iopub.status.busy": "2021-08-24T20:39:54.853379Z",
     "iopub.status.idle": "2021-08-24T20:39:58.673884Z",
     "shell.execute_reply": "2021-08-24T20:39:58.672762Z",
     "shell.execute_reply.started": "2021-08-24T20:39:54.853605Z"
    }
   },
   "outputs": [],
   "source": [
    "# Lemmatization\n",
    "from textblob import Word\n",
    "df['sentence']= df['sentence'].apply(lambda x: \" \".join([Word(word).lemmatize() for word in x.split()]))"
   ]
  },
  {
   "cell_type": "code",
   "execution_count": 56,
   "metadata": {
    "execution": {
     "iopub.execute_input": "2021-08-24T20:39:58.675877Z",
     "iopub.status.busy": "2021-08-24T20:39:58.675463Z",
     "iopub.status.idle": "2021-08-24T20:39:58.991383Z",
     "shell.execute_reply": "2021-08-24T20:39:58.990310Z",
     "shell.execute_reply.started": "2021-08-24T20:39:58.675832Z"
    }
   },
   "outputs": [
    {
     "data": {
      "text/plain": [
       "0    mr bhanuprakash jaiswar drive safely regular c...\n",
       "1    family visited pondicherry cafe warmly receive...\n",
       "2    superb hospitality detailed nicely welcomed to...\n",
       "3    fantastic lunch mr prakash made even special m...\n",
       "4    spacious really loved bathroom breakfast court...\n",
       "Name: sentence, dtype: object"
      ]
     },
     "execution_count": 56,
     "metadata": {},
     "output_type": "execute_result"
    }
   ],
   "source": [
    "import re\n",
    "pattern = r\"((?<=^)|(?<= )).((?=$)|(?= ))\"\n",
    "df['sentence']= df['sentence'].apply(lambda x:(re.sub(pattern, '',x).strip()))\n",
    "df['sentence'].head()"
   ]
  },
  {
   "cell_type": "code",
   "execution_count": 57,
   "metadata": {
    "execution": {
     "iopub.execute_input": "2021-08-24T20:39:58.993206Z",
     "iopub.status.busy": "2021-08-24T20:39:58.992811Z",
     "iopub.status.idle": "2021-08-24T20:39:58.997985Z",
     "shell.execute_reply": "2021-08-24T20:39:58.996673Z",
     "shell.execute_reply.started": "2021-08-24T20:39:58.993166Z"
    }
   },
   "outputs": [],
   "source": [
    "from sklearn.model_selection import train_test_split\n",
    "from sklearn.feature_extraction.text import TfidfVectorizer\n",
    "from sklearn.metrics import cohen_kappa_score"
   ]
  },
  {
   "cell_type": "code",
   "execution_count": 58,
   "metadata": {
    "execution": {
     "iopub.execute_input": "2021-08-24T20:39:58.999578Z",
     "iopub.status.busy": "2021-08-24T20:39:58.999273Z",
     "iopub.status.idle": "2021-08-24T20:39:59.010736Z",
     "shell.execute_reply": "2021-08-24T20:39:59.009926Z",
     "shell.execute_reply.started": "2021-08-24T20:39:58.999548Z"
    }
   },
   "outputs": [],
   "source": [
    "tv=TfidfVectorizer()"
   ]
  },
  {
   "cell_type": "code",
   "execution_count": 59,
   "metadata": {
    "execution": {
     "iopub.execute_input": "2021-08-24T20:39:59.012460Z",
     "iopub.status.busy": "2021-08-24T20:39:59.012009Z",
     "iopub.status.idle": "2021-08-24T20:39:59.034867Z",
     "shell.execute_reply": "2021-08-24T20:39:59.033848Z",
     "shell.execute_reply.started": "2021-08-24T20:39:59.012417Z"
    }
   },
   "outputs": [
    {
     "data": {
      "text/html": [
       "<div>\n",
       "<style scoped>\n",
       "    .dataframe tbody tr th:only-of-type {\n",
       "        vertical-align: middle;\n",
       "    }\n",
       "\n",
       "    .dataframe tbody tr th {\n",
       "        vertical-align: top;\n",
       "    }\n",
       "\n",
       "    .dataframe thead th {\n",
       "        text-align: right;\n",
       "    }\n",
       "</style>\n",
       "<table border=\"1\" class=\"dataframe\">\n",
       "  <thead>\n",
       "    <tr style=\"text-align: right;\">\n",
       "      <th></th>\n",
       "      <th>sentence</th>\n",
       "      <th>review_title</th>\n",
       "      <th>Sentiment_Type</th>\n",
       "    </tr>\n",
       "  </thead>\n",
       "  <tbody>\n",
       "    <tr>\n",
       "      <th>0</th>\n",
       "      <td>mr bhanuprakash jaiswar drive safely regular c...</td>\n",
       "      <td>Good service</td>\n",
       "      <td>-1</td>\n",
       "    </tr>\n",
       "    <tr>\n",
       "      <th>1</th>\n",
       "      <td>family visited pondicherry cafe warmly receive...</td>\n",
       "      <td>Lunch at Sofitel</td>\n",
       "      <td>1</td>\n",
       "    </tr>\n",
       "    <tr>\n",
       "      <th>2</th>\n",
       "      <td>superb hospitality detailed nicely welcomed to...</td>\n",
       "      <td>excellent service</td>\n",
       "      <td>1</td>\n",
       "    </tr>\n",
       "    <tr>\n",
       "      <th>3</th>\n",
       "      <td>fantastic lunch mr prakash made even special m...</td>\n",
       "      <td>Happy Friendship Day Celebration 🥳</td>\n",
       "      <td>1</td>\n",
       "    </tr>\n",
       "    <tr>\n",
       "      <th>4</th>\n",
       "      <td>spacious really loved bathroom breakfast court...</td>\n",
       "      <td>Stay at SofitelBKC</td>\n",
       "      <td>1</td>\n",
       "    </tr>\n",
       "    <tr>\n",
       "      <th>...</th>\n",
       "      <td>...</td>\n",
       "      <td>...</td>\n",
       "      <td>...</td>\n",
       "    </tr>\n",
       "    <tr>\n",
       "      <th>6124</th>\n",
       "      <td>chose host family engagement ballroom superior...</td>\n",
       "      <td>Nice hotel in quiet area</td>\n",
       "      <td>1</td>\n",
       "    </tr>\n",
       "    <tr>\n",
       "      <th>6125</th>\n",
       "      <td>traveled many time stayed elegantly appointed ...</td>\n",
       "      <td>Great stay</td>\n",
       "      <td>1</td>\n",
       "    </tr>\n",
       "    <tr>\n",
       "      <th>6126</th>\n",
       "      <td>absolutely delightful dined pondicherry café d...</td>\n",
       "      <td>Amazing staff makes for a great business stay</td>\n",
       "      <td>1</td>\n",
       "    </tr>\n",
       "    <tr>\n",
       "      <th>6127</th>\n",
       "      <td>event named ibom last month 30th 31st may 2014...</td>\n",
       "      <td>Excellent Business Hotel</td>\n",
       "      <td>1</td>\n",
       "    </tr>\n",
       "    <tr>\n",
       "      <th>6128</th>\n",
       "      <td>stayed  night everything airport collection un...</td>\n",
       "      <td>Stylish decor, comfortable bed, great gym - ne...</td>\n",
       "      <td>1</td>\n",
       "    </tr>\n",
       "  </tbody>\n",
       "</table>\n",
       "<p>6123 rows × 3 columns</p>\n",
       "</div>"
      ],
      "text/plain": [
       "                                               sentence  \\\n",
       "0     mr bhanuprakash jaiswar drive safely regular c...   \n",
       "1     family visited pondicherry cafe warmly receive...   \n",
       "2     superb hospitality detailed nicely welcomed to...   \n",
       "3     fantastic lunch mr prakash made even special m...   \n",
       "4     spacious really loved bathroom breakfast court...   \n",
       "...                                                 ...   \n",
       "6124  chose host family engagement ballroom superior...   \n",
       "6125  traveled many time stayed elegantly appointed ...   \n",
       "6126  absolutely delightful dined pondicherry café d...   \n",
       "6127  event named ibom last month 30th 31st may 2014...   \n",
       "6128  stayed  night everything airport collection un...   \n",
       "\n",
       "                                           review_title Sentiment_Type  \n",
       "0                                          Good service             -1  \n",
       "1                                      Lunch at Sofitel              1  \n",
       "2                                     excellent service              1  \n",
       "3                    Happy Friendship Day Celebration 🥳              1  \n",
       "4                                    Stay at SofitelBKC              1  \n",
       "...                                                 ...            ...  \n",
       "6124                           Nice hotel in quiet area              1  \n",
       "6125                                         Great stay              1  \n",
       "6126      Amazing staff makes for a great business stay              1  \n",
       "6127                           Excellent Business Hotel              1  \n",
       "6128  Stylish decor, comfortable bed, great gym - ne...              1  \n",
       "\n",
       "[6123 rows x 3 columns]"
      ]
     },
     "execution_count": 59,
     "metadata": {},
     "output_type": "execute_result"
    }
   ],
   "source": [
    "df"
   ]
  },
  {
   "cell_type": "code",
   "execution_count": 60,
   "metadata": {
    "execution": {
     "iopub.execute_input": "2021-08-24T20:39:59.037000Z",
     "iopub.status.busy": "2021-08-24T20:39:59.036342Z",
     "iopub.status.idle": "2021-08-24T20:39:59.047123Z",
     "shell.execute_reply": "2021-08-24T20:39:59.046232Z",
     "shell.execute_reply.started": "2021-08-24T20:39:59.036958Z"
    }
   },
   "outputs": [],
   "source": [
    "from sklearn.model_selection import train_test_split\n",
    "from sklearn.linear_model import LogisticRegression\n",
    "from sklearn.feature_extraction.text import TfidfVectorizer\n",
    "from sklearn.metrics import cohen_kappa_score"
   ]
  },
  {
   "cell_type": "code",
   "execution_count": 61,
   "metadata": {
    "execution": {
     "iopub.execute_input": "2021-08-24T20:39:59.048538Z",
     "iopub.status.busy": "2021-08-24T20:39:59.048242Z",
     "iopub.status.idle": "2021-08-24T20:39:59.066645Z",
     "shell.execute_reply": "2021-08-24T20:39:59.065863Z",
     "shell.execute_reply.started": "2021-08-24T20:39:59.048512Z"
    }
   },
   "outputs": [],
   "source": [
    "tv=TfidfVectorizer()"
   ]
  },
  {
   "cell_type": "code",
   "execution_count": 62,
   "metadata": {
    "execution": {
     "iopub.execute_input": "2021-08-24T20:39:59.068046Z",
     "iopub.status.busy": "2021-08-24T20:39:59.067651Z",
     "iopub.status.idle": "2021-08-24T20:39:59.080381Z",
     "shell.execute_reply": "2021-08-24T20:39:59.079384Z",
     "shell.execute_reply.started": "2021-08-24T20:39:59.068017Z"
    }
   },
   "outputs": [],
   "source": [
    "X=df.iloc[:,0]\n",
    "y=df.iloc[:,2]"
   ]
  },
  {
   "cell_type": "code",
   "execution_count": 63,
   "metadata": {
    "execution": {
     "iopub.execute_input": "2021-08-24T20:39:59.082526Z",
     "iopub.status.busy": "2021-08-24T20:39:59.081893Z",
     "iopub.status.idle": "2021-08-24T20:39:59.393919Z",
     "shell.execute_reply": "2021-08-24T20:39:59.392966Z",
     "shell.execute_reply.started": "2021-08-24T20:39:59.082478Z"
    }
   },
   "outputs": [
    {
     "data": {
      "text/plain": [
       "<6123x14485 sparse matrix of type '<class 'numpy.float64'>'\n",
       "\twith 178007 stored elements in Compressed Sparse Row format>"
      ]
     },
     "execution_count": 63,
     "metadata": {},
     "output_type": "execute_result"
    }
   ],
   "source": [
    "X=tv.fit_transform(df.sentence)\n",
    "X"
   ]
  },
  {
   "cell_type": "code",
   "execution_count": 64,
   "metadata": {
    "execution": {
     "iopub.execute_input": "2021-08-24T20:39:59.395725Z",
     "iopub.status.busy": "2021-08-24T20:39:59.395363Z",
     "iopub.status.idle": "2021-08-24T20:39:59.403173Z",
     "shell.execute_reply": "2021-08-24T20:39:59.401921Z",
     "shell.execute_reply.started": "2021-08-24T20:39:59.395693Z"
    }
   },
   "outputs": [],
   "source": [
    "X_train,X_test,y_train,y_test=train_test_split(X,y,test_size=0.3)"
   ]
  },
  {
   "cell_type": "markdown",
   "metadata": {},
   "source": [
    "# LOGISTIC REGRESSION without Smote"
   ]
  },
  {
   "cell_type": "code",
   "execution_count": 65,
   "metadata": {
    "execution": {
     "iopub.execute_input": "2021-08-24T20:39:59.405071Z",
     "iopub.status.busy": "2021-08-24T20:39:59.404667Z",
     "iopub.status.idle": "2021-08-24T20:40:00.612458Z",
     "shell.execute_reply": "2021-08-24T20:40:00.611217Z",
     "shell.execute_reply.started": "2021-08-24T20:39:59.405031Z"
    }
   },
   "outputs": [],
   "source": [
    "model=LogisticRegression()\n",
    "model.fit(X_train,y_train)\n",
    "y_pred=model.predict(X_test)"
   ]
  },
  {
   "cell_type": "code",
   "execution_count": 66,
   "metadata": {
    "execution": {
     "iopub.execute_input": "2021-08-24T20:40:00.614814Z",
     "iopub.status.busy": "2021-08-24T20:40:00.614342Z",
     "iopub.status.idle": "2021-08-24T20:40:00.746812Z",
     "shell.execute_reply": "2021-08-24T20:40:00.745930Z",
     "shell.execute_reply.started": "2021-08-24T20:40:00.614770Z"
    }
   },
   "outputs": [
    {
     "name": "stdout",
     "output_type": "stream",
     "text": [
      "Testing accuracy: 0.859553620032662\n",
      "[[  44    0  246]\n",
      " [   0    0    3]\n",
      " [   9    0 1535]]\n",
      "              precision    recall  f1-score   support\n",
      "\n",
      "          -1       0.83      0.15      0.26       290\n",
      "           0       0.00      0.00      0.00         3\n",
      "           1       0.86      0.99      0.92      1544\n",
      "\n",
      "    accuracy                           0.86      1837\n",
      "   macro avg       0.56      0.38      0.39      1837\n",
      "weighted avg       0.85      0.86      0.82      1837\n",
      "\n"
     ]
    },
    {
     "name": "stderr",
     "output_type": "stream",
     "text": [
      "C:\\Users\\khann\\anaconda3\\lib\\site-packages\\sklearn\\metrics\\_classification.py:1221: UndefinedMetricWarning: Precision and F-score are ill-defined and being set to 0.0 in labels with no predicted samples. Use `zero_division` parameter to control this behavior.\n",
      "  _warn_prf(average, modifier, msg_start, len(result))\n"
     ]
    }
   ],
   "source": [
    "from sklearn.metrics import accuracy_score,confusion_matrix,classification_report\n",
    "print('Testing accuracy:',accuracy_score(y_test,y_pred))\n",
    "print(confusion_matrix(y_test,y_pred))\n",
    "print(classification_report(y_test,y_pred))"
   ]
  },
  {
   "cell_type": "code",
   "execution_count": 67,
   "metadata": {
    "execution": {
     "iopub.execute_input": "2021-08-24T20:40:00.748089Z",
     "iopub.status.busy": "2021-08-24T20:40:00.747814Z",
     "iopub.status.idle": "2021-08-24T20:40:00.766759Z",
     "shell.execute_reply": "2021-08-24T20:40:00.765896Z",
     "shell.execute_reply.started": "2021-08-24T20:40:00.748062Z"
    }
   },
   "outputs": [
    {
     "name": "stdout",
     "output_type": "stream",
     "text": [
      "258\n"
     ]
    },
    {
     "data": {
      "text/plain": [
       "0.21623342368071607"
      ]
     },
     "execution_count": 67,
     "metadata": {},
     "output_type": "execute_result"
    }
   ],
   "source": [
    "n_errors_Log=print((y_pred!=y_test).sum())\n",
    "cohen_kappa_score(y_test,y_pred)\n"
   ]
  },
  {
   "cell_type": "code",
   "execution_count": 68,
   "metadata": {
    "execution": {
     "iopub.execute_input": "2021-08-24T20:40:00.768287Z",
     "iopub.status.busy": "2021-08-24T20:40:00.768017Z",
     "iopub.status.idle": "2021-08-24T20:40:00.782073Z",
     "shell.execute_reply": "2021-08-24T20:40:00.781376Z",
     "shell.execute_reply.started": "2021-08-24T20:40:00.768263Z"
    }
   },
   "outputs": [
    {
     "name": "stdout",
     "output_type": "stream",
     "text": [
      "Training accuracy: 0.9057396173588428\n"
     ]
    }
   ],
   "source": [
    "print('Training accuracy:',accuracy_score(y_train,model.predict(X_train)))"
   ]
  },
  {
   "cell_type": "markdown",
   "metadata": {},
   "source": [
    "# Decision Tree Classifier"
   ]
  },
  {
   "cell_type": "code",
   "execution_count": 69,
   "metadata": {
    "execution": {
     "iopub.execute_input": "2021-08-24T20:40:00.791384Z",
     "iopub.status.busy": "2021-08-24T20:40:00.791041Z",
     "iopub.status.idle": "2021-08-24T20:40:01.994065Z",
     "shell.execute_reply": "2021-08-24T20:40:01.993136Z",
     "shell.execute_reply.started": "2021-08-24T20:40:00.791352Z"
    }
   },
   "outputs": [
    {
     "data": {
      "text/plain": [
       "DecisionTreeClassifier(criterion='entropy')"
      ]
     },
     "execution_count": 69,
     "metadata": {},
     "output_type": "execute_result"
    }
   ],
   "source": [
    "from sklearn.tree import DecisionTreeClassifier\n",
    "\n",
    "model1=DecisionTreeClassifier(criterion='entropy')\n",
    "model1.fit(X_train,y_train)"
   ]
  },
  {
   "cell_type": "code",
   "execution_count": 70,
   "metadata": {
    "execution": {
     "iopub.execute_input": "2021-08-24T20:40:01.997376Z",
     "iopub.status.busy": "2021-08-24T20:40:01.997066Z",
     "iopub.status.idle": "2021-08-24T20:40:02.004612Z",
     "shell.execute_reply": "2021-08-24T20:40:02.003664Z",
     "shell.execute_reply.started": "2021-08-24T20:40:01.997340Z"
    }
   },
   "outputs": [],
   "source": [
    "y_pred1=model1.predict(X_test)"
   ]
  },
  {
   "cell_type": "code",
   "execution_count": 71,
   "metadata": {
    "execution": {
     "iopub.execute_input": "2021-08-24T20:40:02.006103Z",
     "iopub.status.busy": "2021-08-24T20:40:02.005806Z",
     "iopub.status.idle": "2021-08-24T20:40:02.019563Z",
     "shell.execute_reply": "2021-08-24T20:40:02.018404Z",
     "shell.execute_reply.started": "2021-08-24T20:40:02.006076Z"
    }
   },
   "outputs": [
    {
     "name": "stdout",
     "output_type": "stream",
     "text": [
      "Testing accuracy: 0.7985846488840501\n"
     ]
    }
   ],
   "source": [
    "from sklearn.metrics import accuracy_score,classification_report,confusion_matrix\n",
    "\n",
    "print('Testing accuracy:',accuracy_score(y_test,y_pred1))"
   ]
  },
  {
   "cell_type": "code",
   "execution_count": 72,
   "metadata": {
    "execution": {
     "iopub.execute_input": "2021-08-24T20:40:02.021189Z",
     "iopub.status.busy": "2021-08-24T20:40:02.020910Z",
     "iopub.status.idle": "2021-08-24T20:40:02.041482Z",
     "shell.execute_reply": "2021-08-24T20:40:02.040524Z",
     "shell.execute_reply.started": "2021-08-24T20:40:02.021163Z"
    }
   },
   "outputs": [
    {
     "name": "stdout",
     "output_type": "stream",
     "text": [
      "[[  96    0  194]\n",
      " [   1    0    2]\n",
      " [ 173    0 1371]]\n"
     ]
    }
   ],
   "source": [
    "print(confusion_matrix(y_test,y_pred1))"
   ]
  },
  {
   "cell_type": "code",
   "execution_count": 73,
   "metadata": {
    "execution": {
     "iopub.execute_input": "2021-08-24T20:40:02.042972Z",
     "iopub.status.busy": "2021-08-24T20:40:02.042693Z",
     "iopub.status.idle": "2021-08-24T20:40:02.118535Z",
     "shell.execute_reply": "2021-08-24T20:40:02.117461Z",
     "shell.execute_reply.started": "2021-08-24T20:40:02.042946Z"
    }
   },
   "outputs": [
    {
     "name": "stdout",
     "output_type": "stream",
     "text": [
      "              precision    recall  f1-score   support\n",
      "\n",
      "          -1       0.36      0.33      0.34       290\n",
      "           0       0.00      0.00      0.00         3\n",
      "           1       0.87      0.89      0.88      1544\n",
      "\n",
      "    accuracy                           0.80      1837\n",
      "   macro avg       0.41      0.41      0.41      1837\n",
      "weighted avg       0.79      0.80      0.79      1837\n",
      "\n"
     ]
    },
    {
     "name": "stderr",
     "output_type": "stream",
     "text": [
      "C:\\Users\\khann\\anaconda3\\lib\\site-packages\\sklearn\\metrics\\_classification.py:1221: UndefinedMetricWarning: Precision and F-score are ill-defined and being set to 0.0 in labels with no predicted samples. Use `zero_division` parameter to control this behavior.\n",
      "  _warn_prf(average, modifier, msg_start, len(result))\n"
     ]
    }
   ],
   "source": [
    "print(classification_report(y_test,y_pred1))"
   ]
  },
  {
   "cell_type": "code",
   "execution_count": 74,
   "metadata": {
    "execution": {
     "iopub.execute_input": "2021-08-24T20:40:02.119965Z",
     "iopub.status.busy": "2021-08-24T20:40:02.119697Z",
     "iopub.status.idle": "2021-08-24T20:40:02.139797Z",
     "shell.execute_reply": "2021-08-24T20:40:02.138732Z",
     "shell.execute_reply.started": "2021-08-24T20:40:02.119940Z"
    }
   },
   "outputs": [
    {
     "name": "stdout",
     "output_type": "stream",
     "text": [
      "370\n"
     ]
    },
    {
     "data": {
      "text/plain": [
       "0.22482467915344184"
      ]
     },
     "execution_count": 74,
     "metadata": {},
     "output_type": "execute_result"
    }
   ],
   "source": [
    "n_errors_Dec=print((y_pred1!=y_test).sum())\n",
    "cohen_kappa_score(y_test,y_pred1)\n"
   ]
  },
  {
   "cell_type": "code",
   "execution_count": 75,
   "metadata": {
    "execution": {
     "iopub.execute_input": "2021-08-24T20:40:02.141411Z",
     "iopub.status.busy": "2021-08-24T20:40:02.141066Z",
     "iopub.status.idle": "2021-08-24T20:40:02.161576Z",
     "shell.execute_reply": "2021-08-24T20:40:02.160550Z",
     "shell.execute_reply.started": "2021-08-24T20:40:02.141382Z"
    }
   },
   "outputs": [
    {
     "name": "stdout",
     "output_type": "stream",
     "text": [
      "Training accuracy: 1.0\n"
     ]
    }
   ],
   "source": [
    "print('Training accuracy:',accuracy_score(y_train,model1.predict(X_train)))"
   ]
  },
  {
   "cell_type": "markdown",
   "metadata": {},
   "source": [
    "# RANDOM FOREST CLASSIFIER"
   ]
  },
  {
   "cell_type": "code",
   "execution_count": 76,
   "metadata": {
    "execution": {
     "iopub.execute_input": "2021-08-24T20:40:02.163135Z",
     "iopub.status.busy": "2021-08-24T20:40:02.162833Z",
     "iopub.status.idle": "2021-08-24T20:40:08.605667Z",
     "shell.execute_reply": "2021-08-24T20:40:08.604649Z",
     "shell.execute_reply.started": "2021-08-24T20:40:02.163104Z"
    }
   },
   "outputs": [],
   "source": [
    "from sklearn.ensemble import RandomForestClassifier\n",
    "model2=RandomForestClassifier(n_estimators=100)\n",
    "model2.fit(X_train,y_train)\n",
    "y_pred2=model2.predict(X_test)"
   ]
  },
  {
   "cell_type": "code",
   "execution_count": 77,
   "metadata": {
    "execution": {
     "iopub.execute_input": "2021-08-24T20:40:08.607199Z",
     "iopub.status.busy": "2021-08-24T20:40:08.606908Z",
     "iopub.status.idle": "2021-08-24T20:40:08.695218Z",
     "shell.execute_reply": "2021-08-24T20:40:08.694243Z",
     "shell.execute_reply.started": "2021-08-24T20:40:08.607173Z"
    }
   },
   "outputs": [
    {
     "name": "stdout",
     "output_type": "stream",
     "text": [
      "Testing accuracy: 0.8415895481763745\n",
      "[[   2    0  288]\n",
      " [   0    0    3]\n",
      " [   0    0 1544]]\n",
      "              precision    recall  f1-score   support\n",
      "\n",
      "          -1       1.00      0.01      0.01       290\n",
      "           0       0.00      0.00      0.00         3\n",
      "           1       0.84      1.00      0.91      1544\n",
      "\n",
      "    accuracy                           0.84      1837\n",
      "   macro avg       0.61      0.34      0.31      1837\n",
      "weighted avg       0.87      0.84      0.77      1837\n",
      "\n"
     ]
    },
    {
     "name": "stderr",
     "output_type": "stream",
     "text": [
      "C:\\Users\\khann\\anaconda3\\lib\\site-packages\\sklearn\\metrics\\_classification.py:1221: UndefinedMetricWarning: Precision and F-score are ill-defined and being set to 0.0 in labels with no predicted samples. Use `zero_division` parameter to control this behavior.\n",
      "  _warn_prf(average, modifier, msg_start, len(result))\n"
     ]
    }
   ],
   "source": [
    "from sklearn.metrics import accuracy_score,classification_report,confusion_matrix\n",
    "print('Testing accuracy:',accuracy_score(y_test,y_pred2))\n",
    "print(confusion_matrix(y_test,y_pred2))\n",
    "print(classification_report(y_test,y_pred2))"
   ]
  },
  {
   "cell_type": "code",
   "execution_count": 78,
   "metadata": {
    "execution": {
     "iopub.execute_input": "2021-08-24T20:40:08.696626Z",
     "iopub.status.busy": "2021-08-24T20:40:08.696359Z",
     "iopub.status.idle": "2021-08-24T20:40:08.715284Z",
     "shell.execute_reply": "2021-08-24T20:40:08.714209Z",
     "shell.execute_reply.started": "2021-08-24T20:40:08.696598Z"
    }
   },
   "outputs": [
    {
     "name": "stdout",
     "output_type": "stream",
     "text": [
      "291\n"
     ]
    },
    {
     "data": {
      "text/plain": [
       "0.011432291136923234"
      ]
     },
     "execution_count": 78,
     "metadata": {},
     "output_type": "execute_result"
    }
   ],
   "source": [
    "n_errors_Ran=print((y_pred2!=y_test).sum())\n",
    "cohen_kappa_score(y_test,y_pred2)\n"
   ]
  },
  {
   "cell_type": "code",
   "execution_count": 79,
   "metadata": {
    "execution": {
     "iopub.execute_input": "2021-08-24T20:40:08.716632Z",
     "iopub.status.busy": "2021-08-24T20:40:08.716371Z",
     "iopub.status.idle": "2021-08-24T20:40:08.968415Z",
     "shell.execute_reply": "2021-08-24T20:40:08.967098Z",
     "shell.execute_reply.started": "2021-08-24T20:40:08.716603Z"
    }
   },
   "outputs": [
    {
     "name": "stdout",
     "output_type": "stream",
     "text": [
      "Training accuracy: 1.0\n"
     ]
    }
   ],
   "source": [
    "print('Training accuracy:',accuracy_score(y_train,model2.predict(X_train)))"
   ]
  },
  {
   "cell_type": "markdown",
   "metadata": {},
   "source": [
    "# Extratreeclassifier"
   ]
  },
  {
   "cell_type": "code",
   "execution_count": 80,
   "metadata": {
    "execution": {
     "iopub.execute_input": "2021-08-24T20:40:08.970088Z",
     "iopub.status.busy": "2021-08-24T20:40:08.969790Z",
     "iopub.status.idle": "2021-08-24T20:40:22.781420Z",
     "shell.execute_reply": "2021-08-24T20:40:22.780497Z",
     "shell.execute_reply.started": "2021-08-24T20:40:08.970059Z"
    }
   },
   "outputs": [],
   "source": [
    "from sklearn.ensemble import ExtraTreesClassifier \n",
    "\n",
    "model3=ExtraTreesClassifier()\n",
    "model3.fit(X_train,y_train)\n",
    "y_pred3=model3.predict(X_test)"
   ]
  },
  {
   "cell_type": "code",
   "execution_count": 81,
   "metadata": {
    "execution": {
     "iopub.execute_input": "2021-08-24T20:40:22.785506Z",
     "iopub.status.busy": "2021-08-24T20:40:22.785163Z",
     "iopub.status.idle": "2021-08-24T20:40:22.874000Z",
     "shell.execute_reply": "2021-08-24T20:40:22.873118Z",
     "shell.execute_reply.started": "2021-08-24T20:40:22.785478Z"
    }
   },
   "outputs": [
    {
     "name": "stdout",
     "output_type": "stream",
     "text": [
      "Testing accuracy: 0.8415895481763745\n",
      "[[   5    0  285]\n",
      " [   0    0    3]\n",
      " [   3    0 1541]]\n",
      "              precision    recall  f1-score   support\n",
      "\n",
      "          -1       0.62      0.02      0.03       290\n",
      "           0       0.00      0.00      0.00         3\n",
      "           1       0.84      1.00      0.91      1544\n",
      "\n",
      "    accuracy                           0.84      1837\n",
      "   macro avg       0.49      0.34      0.32      1837\n",
      "weighted avg       0.81      0.84      0.77      1837\n",
      "\n"
     ]
    },
    {
     "name": "stderr",
     "output_type": "stream",
     "text": [
      "C:\\Users\\khann\\anaconda3\\lib\\site-packages\\sklearn\\metrics\\_classification.py:1221: UndefinedMetricWarning: Precision and F-score are ill-defined and being set to 0.0 in labels with no predicted samples. Use `zero_division` parameter to control this behavior.\n",
      "  _warn_prf(average, modifier, msg_start, len(result))\n"
     ]
    }
   ],
   "source": [
    "from sklearn.metrics import accuracy_score,confusion_matrix,classification_report\n",
    "print('Testing accuracy:',accuracy_score(y_test,y_pred3))\n",
    "print(confusion_matrix(y_test,y_pred3))\n",
    "print(classification_report(y_test,y_pred3))"
   ]
  },
  {
   "cell_type": "code",
   "execution_count": 82,
   "metadata": {
    "execution": {
     "iopub.execute_input": "2021-08-24T20:40:22.875565Z",
     "iopub.status.busy": "2021-08-24T20:40:22.875251Z",
     "iopub.status.idle": "2021-08-24T20:40:22.895585Z",
     "shell.execute_reply": "2021-08-24T20:40:22.894462Z",
     "shell.execute_reply.started": "2021-08-24T20:40:22.875536Z"
    }
   },
   "outputs": [
    {
     "name": "stdout",
     "output_type": "stream",
     "text": [
      "291\n"
     ]
    },
    {
     "data": {
      "text/plain": [
       "0.02499849527516418"
      ]
     },
     "execution_count": 82,
     "metadata": {},
     "output_type": "execute_result"
    }
   ],
   "source": [
    "n_errors_ext=print((y_pred3!=y_test).sum())\n",
    "cohen_kappa_score(y_test,y_pred3) "
   ]
  },
  {
   "cell_type": "code",
   "execution_count": 83,
   "metadata": {
    "execution": {
     "iopub.execute_input": "2021-08-24T20:40:22.897524Z",
     "iopub.status.busy": "2021-08-24T20:40:22.897104Z",
     "iopub.status.idle": "2021-08-24T20:40:23.241313Z",
     "shell.execute_reply": "2021-08-24T20:40:23.240261Z",
     "shell.execute_reply.started": "2021-08-24T20:40:22.897483Z"
    }
   },
   "outputs": [
    {
     "name": "stdout",
     "output_type": "stream",
     "text": [
      "Training accuracy: 1.0\n"
     ]
    }
   ],
   "source": [
    "print('Training accuracy:',accuracy_score(y_train,model3.predict(X_train)))"
   ]
  },
  {
   "cell_type": "markdown",
   "metadata": {},
   "source": [
    "# Support Vector Machine"
   ]
  },
  {
   "cell_type": "code",
   "execution_count": 84,
   "metadata": {
    "execution": {
     "iopub.execute_input": "2021-08-24T20:40:23.243222Z",
     "iopub.status.busy": "2021-08-24T20:40:23.242828Z",
     "iopub.status.idle": "2021-08-24T20:40:31.622815Z",
     "shell.execute_reply": "2021-08-24T20:40:31.622066Z",
     "shell.execute_reply.started": "2021-08-24T20:40:23.243180Z"
    }
   },
   "outputs": [],
   "source": [
    "from sklearn.svm import SVC  \n",
    "\n",
    "model4=SVC()\n",
    "model4.fit(X_train,y_train)\n",
    "\n",
    "y_pred4=model4.predict(X_test)"
   ]
  },
  {
   "cell_type": "code",
   "execution_count": 85,
   "metadata": {
    "execution": {
     "iopub.execute_input": "2021-08-24T20:40:31.624203Z",
     "iopub.status.busy": "2021-08-24T20:40:31.623811Z",
     "iopub.status.idle": "2021-08-24T20:40:31.710124Z",
     "shell.execute_reply": "2021-08-24T20:40:31.709095Z",
     "shell.execute_reply.started": "2021-08-24T20:40:31.624175Z"
    }
   },
   "outputs": [
    {
     "name": "stdout",
     "output_type": "stream",
     "text": [
      "Testing accuracy: 0.8415895481763745\n",
      "[[   2    0  288]\n",
      " [   0    0    3]\n",
      " [   0    0 1544]]\n",
      "              precision    recall  f1-score   support\n",
      "\n",
      "          -1       1.00      0.01      0.01       290\n",
      "           0       0.00      0.00      0.00         3\n",
      "           1       0.84      1.00      0.91      1544\n",
      "\n",
      "    accuracy                           0.84      1837\n",
      "   macro avg       0.61      0.34      0.31      1837\n",
      "weighted avg       0.87      0.84      0.77      1837\n",
      "\n"
     ]
    }
   ],
   "source": [
    "from sklearn.metrics import accuracy_score,classification_report,confusion_matrix\n",
    "\n",
    "print('Testing accuracy:',accuracy_score(y_test,y_pred4))\n",
    "print(confusion_matrix(y_test,y_pred4))\n",
    "print(classification_report(y_test,y_pred4))"
   ]
  },
  {
   "cell_type": "code",
   "execution_count": 86,
   "metadata": {
    "execution": {
     "iopub.execute_input": "2021-08-24T20:40:31.711827Z",
     "iopub.status.busy": "2021-08-24T20:40:31.711436Z",
     "iopub.status.idle": "2021-08-24T20:40:31.729313Z",
     "shell.execute_reply": "2021-08-24T20:40:31.728212Z",
     "shell.execute_reply.started": "2021-08-24T20:40:31.711795Z"
    }
   },
   "outputs": [
    {
     "name": "stdout",
     "output_type": "stream",
     "text": [
      "291\n"
     ]
    },
    {
     "data": {
      "text/plain": [
       "0.011432291136923234"
      ]
     },
     "execution_count": 86,
     "metadata": {},
     "output_type": "execute_result"
    }
   ],
   "source": [
    "n_errors_svc=print((y_pred4!=y_test).sum())\n",
    "cohen_kappa_score(y_test,y_pred4)\n"
   ]
  },
  {
   "cell_type": "code",
   "execution_count": 87,
   "metadata": {
    "execution": {
     "iopub.execute_input": "2021-08-24T20:40:31.730858Z",
     "iopub.status.busy": "2021-08-24T20:40:31.730515Z",
     "iopub.status.idle": "2021-08-24T20:40:36.437864Z",
     "shell.execute_reply": "2021-08-24T20:40:36.436895Z",
     "shell.execute_reply.started": "2021-08-24T20:40:31.730828Z"
    }
   },
   "outputs": [
    {
     "name": "stdout",
     "output_type": "stream",
     "text": [
      "Training accuracy: 0.9682687820811946\n"
     ]
    }
   ],
   "source": [
    "print('Training accuracy:',accuracy_score(y_train,model4.predict(X_train)))"
   ]
  },
  {
   "cell_type": "markdown",
   "metadata": {},
   "source": [
    "# NEURAL NETWORK"
   ]
  },
  {
   "cell_type": "code",
   "execution_count": 88,
   "metadata": {
    "execution": {
     "iopub.execute_input": "2021-08-24T20:40:36.439461Z",
     "iopub.status.busy": "2021-08-24T20:40:36.439155Z",
     "iopub.status.idle": "2021-08-24T20:40:51.345900Z",
     "shell.execute_reply": "2021-08-24T20:40:51.344705Z",
     "shell.execute_reply.started": "2021-08-24T20:40:36.439432Z"
    }
   },
   "outputs": [
    {
     "name": "stderr",
     "output_type": "stream",
     "text": [
      "C:\\Users\\khann\\anaconda3\\lib\\site-packages\\sklearn\\neural_network\\_multilayer_perceptron.py:582: ConvergenceWarning: Stochastic Optimizer: Maximum iterations (200) reached and the optimization hasn't converged yet.\n",
      "  warnings.warn(\n"
     ]
    }
   ],
   "source": [
    "from sklearn.neural_network import MLPClassifier \n",
    "\n",
    "model5=MLPClassifier(hidden_layer_sizes=(5,5))\n",
    "model5.fit(X_train,y_train)\n",
    "y_pred5=model5.predict(X_test)"
   ]
  },
  {
   "cell_type": "code",
   "execution_count": 89,
   "metadata": {
    "execution": {
     "iopub.execute_input": "2021-08-24T20:40:51.353787Z",
     "iopub.status.busy": "2021-08-24T20:40:51.351069Z",
     "iopub.status.idle": "2021-08-24T20:40:51.456106Z",
     "shell.execute_reply": "2021-08-24T20:40:51.455205Z",
     "shell.execute_reply.started": "2021-08-24T20:40:51.353717Z"
    }
   },
   "outputs": [
    {
     "name": "stdout",
     "output_type": "stream",
     "text": [
      "Testing accuracy: 0.8519324986390855\n",
      "[[  53    0  237]\n",
      " [   0    0    3]\n",
      " [  32    0 1512]]\n",
      "              precision    recall  f1-score   support\n",
      "\n",
      "          -1       0.62      0.18      0.28       290\n",
      "           0       0.00      0.00      0.00         3\n",
      "           1       0.86      0.98      0.92      1544\n",
      "\n",
      "    accuracy                           0.85      1837\n",
      "   macro avg       0.50      0.39      0.40      1837\n",
      "weighted avg       0.82      0.85      0.82      1837\n",
      "\n"
     ]
    },
    {
     "name": "stderr",
     "output_type": "stream",
     "text": [
      "C:\\Users\\khann\\anaconda3\\lib\\site-packages\\sklearn\\metrics\\_classification.py:1221: UndefinedMetricWarning: Precision and F-score are ill-defined and being set to 0.0 in labels with no predicted samples. Use `zero_division` parameter to control this behavior.\n",
      "  _warn_prf(average, modifier, msg_start, len(result))\n"
     ]
    }
   ],
   "source": [
    "from sklearn.metrics import accuracy_score,classification_report,confusion_matrix\n",
    "\n",
    "print('Testing accuracy:',accuracy_score(y_test,y_pred5))\n",
    "print(confusion_matrix(y_test,y_pred5))\n",
    "print(classification_report(y_test,y_pred5))"
   ]
  },
  {
   "cell_type": "code",
   "execution_count": 90,
   "metadata": {
    "execution": {
     "iopub.execute_input": "2021-08-24T20:40:51.457578Z",
     "iopub.status.busy": "2021-08-24T20:40:51.457160Z",
     "iopub.status.idle": "2021-08-24T20:40:51.479632Z",
     "shell.execute_reply": "2021-08-24T20:40:51.478878Z",
     "shell.execute_reply.started": "2021-08-24T20:40:51.457547Z"
    }
   },
   "outputs": [
    {
     "name": "stdout",
     "output_type": "stream",
     "text": [
      "272\n",
      "Training accuracy: 0.9986000933271115\n"
     ]
    }
   ],
   "source": [
    "n_errors_nn=print((y_pred5!=y_test).sum())\n",
    "cohen_kappa_score(y_test,y_pred5)\n",
    "print('Training accuracy:',accuracy_score(y_train,model5.predict(X_train)))"
   ]
  },
  {
   "cell_type": "code",
   "execution_count": 91,
   "metadata": {
    "execution": {
     "iopub.execute_input": "2021-08-24T20:40:51.481012Z",
     "iopub.status.busy": "2021-08-24T20:40:51.480616Z",
     "iopub.status.idle": "2021-08-24T20:40:51.494414Z",
     "shell.execute_reply": "2021-08-24T20:40:51.493414Z",
     "shell.execute_reply.started": "2021-08-24T20:40:51.480984Z"
    }
   },
   "outputs": [
    {
     "name": "stdout",
     "output_type": "stream",
     "text": [
      "Training accuracy: 0.9986000933271115\n"
     ]
    }
   ],
   "source": [
    "print('Training accuracy:',accuracy_score(y_train,model5.predict(X_train)))"
   ]
  },
  {
   "cell_type": "markdown",
   "metadata": {},
   "source": [
    "# Bagging Classifier"
   ]
  },
  {
   "cell_type": "code",
   "execution_count": 92,
   "metadata": {
    "execution": {
     "iopub.execute_input": "2021-08-24T20:40:51.495988Z",
     "iopub.status.busy": "2021-08-24T20:40:51.495693Z",
     "iopub.status.idle": "2021-08-24T20:40:59.070105Z",
     "shell.execute_reply": "2021-08-24T20:40:59.069245Z",
     "shell.execute_reply.started": "2021-08-24T20:40:51.495958Z"
    }
   },
   "outputs": [],
   "source": [
    "from sklearn.ensemble import BaggingClassifier \n",
    "\n",
    "model6=BaggingClassifier(DecisionTreeClassifier(criterion='entropy'))\n",
    "model6.fit(X_train,y_train)\n",
    "\n",
    "y_pred6=model6.predict(X_test)"
   ]
  },
  {
   "cell_type": "code",
   "execution_count": 93,
   "metadata": {
    "execution": {
     "iopub.execute_input": "2021-08-24T20:40:59.071606Z",
     "iopub.status.busy": "2021-08-24T20:40:59.071194Z",
     "iopub.status.idle": "2021-08-24T20:40:59.162011Z",
     "shell.execute_reply": "2021-08-24T20:40:59.160921Z",
     "shell.execute_reply.started": "2021-08-24T20:40:59.071574Z"
    }
   },
   "outputs": [
    {
     "name": "stdout",
     "output_type": "stream",
     "text": [
      "Testing accuracy: 0.8410451823625477\n",
      "[[  72    0  218]\n",
      " [   0    0    3]\n",
      " [  71    0 1473]]\n",
      "              precision    recall  f1-score   support\n",
      "\n",
      "          -1       0.50      0.25      0.33       290\n",
      "           0       0.00      0.00      0.00         3\n",
      "           1       0.87      0.95      0.91      1544\n",
      "\n",
      "    accuracy                           0.84      1837\n",
      "   macro avg       0.46      0.40      0.41      1837\n",
      "weighted avg       0.81      0.84      0.82      1837\n",
      "\n"
     ]
    },
    {
     "name": "stderr",
     "output_type": "stream",
     "text": [
      "C:\\Users\\khann\\anaconda3\\lib\\site-packages\\sklearn\\metrics\\_classification.py:1221: UndefinedMetricWarning: Precision and F-score are ill-defined and being set to 0.0 in labels with no predicted samples. Use `zero_division` parameter to control this behavior.\n",
      "  _warn_prf(average, modifier, msg_start, len(result))\n"
     ]
    }
   ],
   "source": [
    "from sklearn.metrics import accuracy_score,classification_report,confusion_matrix\n",
    "\n",
    "print('Testing accuracy:',accuracy_score(y_test,y_pred6))\n",
    "print(confusion_matrix(y_test,y_pred6))\n",
    "print(classification_report(y_test,y_pred6))"
   ]
  },
  {
   "cell_type": "code",
   "execution_count": 94,
   "metadata": {
    "execution": {
     "iopub.execute_input": "2021-08-24T20:40:59.163629Z",
     "iopub.status.busy": "2021-08-24T20:40:59.163350Z",
     "iopub.status.idle": "2021-08-24T20:40:59.181220Z",
     "shell.execute_reply": "2021-08-24T20:40:59.180519Z",
     "shell.execute_reply.started": "2021-08-24T20:40:59.163603Z"
    }
   },
   "outputs": [
    {
     "name": "stdout",
     "output_type": "stream",
     "text": [
      "292\n"
     ]
    },
    {
     "data": {
      "text/plain": [
       "0.2524642435577086"
      ]
     },
     "execution_count": 94,
     "metadata": {},
     "output_type": "execute_result"
    }
   ],
   "source": [
    "n_errors_BC=print((y_pred6!=y_test).sum())\n",
    "cohen_kappa_score(y_test,y_pred6) \n"
   ]
  },
  {
   "cell_type": "code",
   "execution_count": 95,
   "metadata": {
    "execution": {
     "iopub.execute_input": "2021-08-24T20:40:59.182500Z",
     "iopub.status.busy": "2021-08-24T20:40:59.182200Z",
     "iopub.status.idle": "2021-08-24T20:40:59.223581Z",
     "shell.execute_reply": "2021-08-24T20:40:59.222667Z",
     "shell.execute_reply.started": "2021-08-24T20:40:59.182472Z"
    }
   },
   "outputs": [
    {
     "name": "stdout",
     "output_type": "stream",
     "text": [
      "Training accuracy: 0.9925338310779281\n"
     ]
    }
   ],
   "source": [
    "print('Training accuracy:',accuracy_score(y_train,model6.predict(X_train)))"
   ]
  },
  {
   "cell_type": "markdown",
   "metadata": {},
   "source": [
    "# Extreme Grdient Boosting Algorithm"
   ]
  },
  {
   "cell_type": "code",
   "execution_count": 96,
   "metadata": {
    "execution": {
     "iopub.execute_input": "2021-08-24T20:40:59.225088Z",
     "iopub.status.busy": "2021-08-24T20:40:59.224820Z",
     "iopub.status.idle": "2021-08-24T20:41:05.814611Z",
     "shell.execute_reply": "2021-08-24T20:41:05.813503Z",
     "shell.execute_reply.started": "2021-08-24T20:40:59.225063Z"
    }
   },
   "outputs": [
    {
     "name": "stderr",
     "output_type": "stream",
     "text": [
      "C:\\Users\\khann\\anaconda3\\lib\\site-packages\\xgboost\\sklearn.py:1146: UserWarning: The use of label encoder in XGBClassifier is deprecated and will be removed in a future release. To remove this warning, do the following: 1) Pass option use_label_encoder=False when constructing XGBClassifier object; and 2) Encode your labels (y) as integers starting with 0, i.e. 0, 1, 2, ..., [num_class - 1].\n",
      "  warnings.warn(label_encoder_deprecation_msg, UserWarning)\n"
     ]
    },
    {
     "name": "stdout",
     "output_type": "stream",
     "text": [
      "[02:55:27] WARNING: C:/Users/Administrator/workspace/xgboost-win64_release_1.4.0/src/learner.cc:1095: Starting in XGBoost 1.3.0, the default evaluation metric used with the objective 'multi:softprob' was changed from 'merror' to 'mlogloss'. Explicitly set eval_metric if you'd like to restore the old behavior.\n"
     ]
    },
    {
     "data": {
      "text/plain": [
       "XGBClassifier(base_score=0.5, booster='gbtree', colsample_bylevel=1,\n",
       "              colsample_bynode=1, colsample_bytree=1, gamma=0, gpu_id=-1,\n",
       "              importance_type='gain', interaction_constraints='',\n",
       "              learning_rate=0.300000012, max_delta_step=0, max_depth=6,\n",
       "              min_child_weight=1, missing=nan, monotone_constraints='()',\n",
       "              n_estimators=100, n_jobs=4, num_parallel_tree=1,\n",
       "              objective='multi:softprob', random_state=0, reg_alpha=0,\n",
       "              reg_lambda=1, scale_pos_weight=None, subsample=1,\n",
       "              tree_method='exact', validate_parameters=1, verbosity=None)"
      ]
     },
     "execution_count": 96,
     "metadata": {},
     "output_type": "execute_result"
    }
   ],
   "source": [
    "import xgboost as xgb \n",
    "\n",
    "model7=xgb.XGBClassifier()\n",
    "model7.fit(X_train,y_train)\n"
   ]
  },
  {
   "cell_type": "code",
   "execution_count": 97,
   "metadata": {
    "execution": {
     "iopub.execute_input": "2021-08-24T20:41:05.816063Z",
     "iopub.status.busy": "2021-08-24T20:41:05.815776Z",
     "iopub.status.idle": "2021-08-24T20:41:05.835045Z",
     "shell.execute_reply": "2021-08-24T20:41:05.834195Z",
     "shell.execute_reply.started": "2021-08-24T20:41:05.816036Z"
    }
   },
   "outputs": [],
   "source": [
    "y_pred7=model7.predict(X_test)"
   ]
  },
  {
   "cell_type": "code",
   "execution_count": 98,
   "metadata": {
    "execution": {
     "iopub.execute_input": "2021-08-24T20:41:05.837392Z",
     "iopub.status.busy": "2021-08-24T20:41:05.836644Z",
     "iopub.status.idle": "2021-08-24T20:41:05.842189Z",
     "shell.execute_reply": "2021-08-24T20:41:05.841247Z",
     "shell.execute_reply.started": "2021-08-24T20:41:05.837347Z"
    }
   },
   "outputs": [],
   "source": [
    "from sklearn.metrics import accuracy_score,classification_report,confusion_matrix"
   ]
  },
  {
   "cell_type": "code",
   "execution_count": 99,
   "metadata": {
    "execution": {
     "iopub.execute_input": "2021-08-24T20:41:05.844485Z",
     "iopub.status.busy": "2021-08-24T20:41:05.843800Z",
     "iopub.status.idle": "2021-08-24T20:41:05.940926Z",
     "shell.execute_reply": "2021-08-24T20:41:05.939440Z",
     "shell.execute_reply.started": "2021-08-24T20:41:05.844442Z"
    }
   },
   "outputs": [
    {
     "name": "stdout",
     "output_type": "stream",
     "text": [
      "Testing accuracy: 0.8649972781709309\n",
      "[[  88    0  202]\n",
      " [   0    0    3]\n",
      " [  43    0 1501]]\n",
      "              precision    recall  f1-score   support\n",
      "\n",
      "          -1       0.67      0.30      0.42       290\n",
      "           0       0.00      0.00      0.00         3\n",
      "           1       0.88      0.97      0.92      1544\n",
      "\n",
      "    accuracy                           0.86      1837\n",
      "   macro avg       0.52      0.43      0.45      1837\n",
      "weighted avg       0.85      0.86      0.84      1837\n",
      "\n"
     ]
    }
   ],
   "source": [
    "print('Testing accuracy:',accuracy_score(y_test,y_pred7))\n",
    "print(confusion_matrix(y_test,y_pred7))\n",
    "print(classification_report(y_test,y_pred7))"
   ]
  },
  {
   "cell_type": "code",
   "execution_count": 100,
   "metadata": {
    "execution": {
     "iopub.execute_input": "2021-08-24T20:41:05.942781Z",
     "iopub.status.busy": "2021-08-24T20:41:05.942374Z",
     "iopub.status.idle": "2021-08-24T20:41:05.962510Z",
     "shell.execute_reply": "2021-08-24T20:41:05.961387Z",
     "shell.execute_reply.started": "2021-08-24T20:41:05.942748Z"
    }
   },
   "outputs": [
    {
     "name": "stdout",
     "output_type": "stream",
     "text": [
      "248\n"
     ]
    },
    {
     "data": {
      "text/plain": [
       "0.35150708525796603"
      ]
     },
     "execution_count": 100,
     "metadata": {},
     "output_type": "execute_result"
    }
   ],
   "source": [
    "n_errors_BC=print((y_pred7!=y_test).sum())\n",
    "cohen_kappa_score(y_test,y_pred7) \n"
   ]
  },
  {
   "cell_type": "code",
   "execution_count": 101,
   "metadata": {
    "execution": {
     "iopub.execute_input": "2021-08-24T20:41:05.964101Z",
     "iopub.status.busy": "2021-08-24T20:41:05.963696Z",
     "iopub.status.idle": "2021-08-24T20:41:06.005924Z",
     "shell.execute_reply": "2021-08-24T20:41:06.004855Z",
     "shell.execute_reply.started": "2021-08-24T20:41:05.964072Z"
    }
   },
   "outputs": [
    {
     "name": "stdout",
     "output_type": "stream",
     "text": [
      "Training accuracy: 0.988100793280448\n"
     ]
    }
   ],
   "source": [
    "print('Training accuracy:',accuracy_score(y_train,model7.predict(X_train)))"
   ]
  },
  {
   "cell_type": "markdown",
   "metadata": {},
   "source": [
    "# SMOTE"
   ]
  },
  {
   "cell_type": "code",
   "execution_count": 102,
   "metadata": {
    "execution": {
     "iopub.execute_input": "2021-08-24T20:41:06.007877Z",
     "iopub.status.busy": "2021-08-24T20:41:06.007314Z",
     "iopub.status.idle": "2021-08-24T20:41:06.143453Z",
     "shell.execute_reply": "2021-08-24T20:41:06.142389Z",
     "shell.execute_reply.started": "2021-08-24T20:41:06.007835Z"
    }
   },
   "outputs": [],
   "source": [
    "#.We can observe majority class for no class and monority class for yes class\n",
    "#So we need to solve class imbalance problem with the help of SMOTE\n",
    "\n",
    "from imblearn.over_sampling import SMOTE\n"
   ]
  },
  {
   "cell_type": "code",
   "execution_count": 103,
   "metadata": {
    "execution": {
     "iopub.execute_input": "2021-08-24T20:41:06.145190Z",
     "iopub.status.busy": "2021-08-24T20:41:06.144796Z",
     "iopub.status.idle": "2021-08-24T20:41:06.217037Z",
     "shell.execute_reply": "2021-08-24T20:41:06.215953Z",
     "shell.execute_reply.started": "2021-08-24T20:41:06.145150Z"
    }
   },
   "outputs": [
    {
     "name": "stdout",
     "output_type": "stream",
     "text": [
      "Original dataset shape Counter({'1': 3622, '-1': 658, '0': 6})\n",
      "Resampled dataset shape Counter({'1': 3622, '-1': 3622, '0': 3622})\n"
     ]
    }
   ],
   "source": [
    "sm=SMOTE(random_state=444)\n",
    "X_train_res,y_train_res=sm.fit_resample(X_train,y_train)\n",
    "print('Original dataset shape %s' % Counter(y_train))\n",
    "print('Resampled dataset shape %s' % Counter(y_train_res))"
   ]
  },
  {
   "cell_type": "markdown",
   "metadata": {},
   "source": [
    "# LogisticRegression after SMOTE"
   ]
  },
  {
   "cell_type": "code",
   "execution_count": 104,
   "metadata": {
    "execution": {
     "iopub.execute_input": "2021-08-24T20:41:06.218965Z",
     "iopub.status.busy": "2021-08-24T20:41:06.218592Z",
     "iopub.status.idle": "2021-08-24T20:41:08.771661Z",
     "shell.execute_reply": "2021-08-24T20:41:08.770427Z",
     "shell.execute_reply.started": "2021-08-24T20:41:06.218934Z"
    }
   },
   "outputs": [],
   "source": [
    "from sklearn.linear_model import LogisticRegression \n",
    "\n",
    "model9=LogisticRegression()\n",
    "model9.fit(X_train_res,y_train_res)\n",
    "y_pred9=model9.predict(X_test)"
   ]
  },
  {
   "cell_type": "code",
   "execution_count": 105,
   "metadata": {
    "execution": {
     "iopub.execute_input": "2021-08-24T20:41:08.773683Z",
     "iopub.status.busy": "2021-08-24T20:41:08.773251Z",
     "iopub.status.idle": "2021-08-24T20:41:08.889626Z",
     "shell.execute_reply": "2021-08-24T20:41:08.888746Z",
     "shell.execute_reply.started": "2021-08-24T20:41:08.773642Z"
    }
   },
   "outputs": [
    {
     "name": "stdout",
     "output_type": "stream",
     "text": [
      "Testing accuracy: 0.8579205225911812\n",
      "[[ 166    0  124]\n",
      " [   0    0    3]\n",
      " [ 134    0 1410]]\n",
      "              precision    recall  f1-score   support\n",
      "\n",
      "          -1       0.55      0.57      0.56       290\n",
      "           0       0.00      0.00      0.00         3\n",
      "           1       0.92      0.91      0.92      1544\n",
      "\n",
      "    accuracy                           0.86      1837\n",
      "   macro avg       0.49      0.50      0.49      1837\n",
      "weighted avg       0.86      0.86      0.86      1837\n",
      "\n"
     ]
    },
    {
     "name": "stderr",
     "output_type": "stream",
     "text": [
      "C:\\Users\\khann\\anaconda3\\lib\\site-packages\\sklearn\\metrics\\_classification.py:1221: UndefinedMetricWarning: Precision and F-score are ill-defined and being set to 0.0 in labels with no predicted samples. Use `zero_division` parameter to control this behavior.\n",
      "  _warn_prf(average, modifier, msg_start, len(result))\n"
     ]
    }
   ],
   "source": [
    "from sklearn.metrics import accuracy_score,confusion_matrix,classification_report\n",
    "print('Testing accuracy:',accuracy_score(y_test,y_pred9))\n",
    "print(confusion_matrix(y_test,y_pred9))\n",
    "print(classification_report(y_test,y_pred9))"
   ]
  },
  {
   "cell_type": "code",
   "execution_count": 106,
   "metadata": {
    "execution": {
     "iopub.execute_input": "2021-08-24T20:41:08.891117Z",
     "iopub.status.busy": "2021-08-24T20:41:08.890828Z",
     "iopub.status.idle": "2021-08-24T20:41:08.911175Z",
     "shell.execute_reply": "2021-08-24T20:41:08.910131Z",
     "shell.execute_reply.started": "2021-08-24T20:41:08.891089Z"
    }
   },
   "outputs": [
    {
     "name": "stdout",
     "output_type": "stream",
     "text": [
      "261\n"
     ]
    },
    {
     "data": {
      "text/plain": [
       "0.47568295822256434"
      ]
     },
     "execution_count": 106,
     "metadata": {},
     "output_type": "execute_result"
    }
   ],
   "source": [
    "n_errors_Log_SM=print((y_pred9!=y_test).sum())\n",
    "cohen_kappa_score(y_test,y_pred9)\n"
   ]
  },
  {
   "cell_type": "code",
   "execution_count": 107,
   "metadata": {
    "execution": {
     "iopub.execute_input": "2021-08-24T20:41:08.912899Z",
     "iopub.status.busy": "2021-08-24T20:41:08.912598Z",
     "iopub.status.idle": "2021-08-24T20:41:08.927446Z",
     "shell.execute_reply": "2021-08-24T20:41:08.926373Z",
     "shell.execute_reply.started": "2021-08-24T20:41:08.912871Z"
    }
   },
   "outputs": [
    {
     "name": "stdout",
     "output_type": "stream",
     "text": [
      "Training accuracy: 0.9638357442837144\n"
     ]
    }
   ],
   "source": [
    "print('Training accuracy:',accuracy_score(y_train,model9.predict(X_train)))"
   ]
  },
  {
   "cell_type": "markdown",
   "metadata": {},
   "source": [
    "# DECISION TREE with Smote"
   ]
  },
  {
   "cell_type": "code",
   "execution_count": 108,
   "metadata": {
    "execution": {
     "iopub.execute_input": "2021-08-24T20:41:08.928973Z",
     "iopub.status.busy": "2021-08-24T20:41:08.928682Z",
     "iopub.status.idle": "2021-08-24T20:41:11.238145Z",
     "shell.execute_reply": "2021-08-24T20:41:11.237043Z",
     "shell.execute_reply.started": "2021-08-24T20:41:08.928946Z"
    }
   },
   "outputs": [
    {
     "data": {
      "text/plain": [
       "DecisionTreeClassifier(criterion='entropy')"
      ]
     },
     "execution_count": 108,
     "metadata": {},
     "output_type": "execute_result"
    }
   ],
   "source": [
    "from sklearn.tree import DecisionTreeClassifier\n",
    "\n",
    "model10=DecisionTreeClassifier(criterion='entropy')\n",
    "model10.fit(X_train_res,y_train_res)"
   ]
  },
  {
   "cell_type": "code",
   "execution_count": 109,
   "metadata": {
    "execution": {
     "iopub.execute_input": "2021-08-24T20:41:11.240056Z",
     "iopub.status.busy": "2021-08-24T20:41:11.239582Z",
     "iopub.status.idle": "2021-08-24T20:41:11.246399Z",
     "shell.execute_reply": "2021-08-24T20:41:11.245160Z",
     "shell.execute_reply.started": "2021-08-24T20:41:11.240015Z"
    }
   },
   "outputs": [],
   "source": [
    "y_pred10=model10.predict(X_test)\n"
   ]
  },
  {
   "cell_type": "code",
   "execution_count": 110,
   "metadata": {
    "execution": {
     "iopub.execute_input": "2021-08-24T20:41:11.248247Z",
     "iopub.status.busy": "2021-08-24T20:41:11.247852Z",
     "iopub.status.idle": "2021-08-24T20:41:11.345240Z",
     "shell.execute_reply": "2021-08-24T20:41:11.344111Z",
     "shell.execute_reply.started": "2021-08-24T20:41:11.248206Z"
    }
   },
   "outputs": [
    {
     "name": "stdout",
     "output_type": "stream",
     "text": [
      "Testing accuracy: 0.7778987479586282\n",
      "[[  90    0  200]\n",
      " [   0    0    3]\n",
      " [ 203    2 1339]]\n",
      "              precision    recall  f1-score   support\n",
      "\n",
      "          -1       0.31      0.31      0.31       290\n",
      "           0       0.00      0.00      0.00         3\n",
      "           1       0.87      0.87      0.87      1544\n",
      "\n",
      "    accuracy                           0.78      1837\n",
      "   macro avg       0.39      0.39      0.39      1837\n",
      "weighted avg       0.78      0.78      0.78      1837\n",
      "\n"
     ]
    }
   ],
   "source": [
    "from sklearn.metrics import accuracy_score,classification_report,confusion_matrix\n",
    "\n",
    "print('Testing accuracy:',accuracy_score(y_test,y_pred10))\n",
    "print(confusion_matrix(y_test,y_pred10))\n",
    "print(classification_report(y_test,y_pred10))"
   ]
  },
  {
   "cell_type": "code",
   "execution_count": 111,
   "metadata": {
    "execution": {
     "iopub.execute_input": "2021-08-24T20:41:11.346720Z",
     "iopub.status.busy": "2021-08-24T20:41:11.346458Z",
     "iopub.status.idle": "2021-08-24T20:41:11.365436Z",
     "shell.execute_reply": "2021-08-24T20:41:11.364142Z",
     "shell.execute_reply.started": "2021-08-24T20:41:11.346695Z"
    }
   },
   "outputs": [
    {
     "name": "stdout",
     "output_type": "stream",
     "text": [
      "408\n"
     ]
    },
    {
     "data": {
      "text/plain": [
       "0.17524057904032486"
      ]
     },
     "execution_count": 111,
     "metadata": {},
     "output_type": "execute_result"
    }
   ],
   "source": [
    "n_errors_Dec_SM=print((y_pred10!=y_test).sum())\n",
    "cohen_kappa_score(y_test,y_pred10)\n"
   ]
  },
  {
   "cell_type": "code",
   "execution_count": 112,
   "metadata": {
    "execution": {
     "iopub.execute_input": "2021-08-24T20:41:11.367161Z",
     "iopub.status.busy": "2021-08-24T20:41:11.366885Z",
     "iopub.status.idle": "2021-08-24T20:41:11.384961Z",
     "shell.execute_reply": "2021-08-24T20:41:11.383773Z",
     "shell.execute_reply.started": "2021-08-24T20:41:11.367135Z"
    }
   },
   "outputs": [
    {
     "name": "stdout",
     "output_type": "stream",
     "text": [
      "Training accuracy: 1.0\n"
     ]
    }
   ],
   "source": [
    "print('Training accuracy:',accuracy_score(y_train,model10.predict(X_train)))"
   ]
  },
  {
   "cell_type": "markdown",
   "metadata": {},
   "source": [
    "# RANDOM FOREST CLASSIFIER with Smote"
   ]
  },
  {
   "cell_type": "code",
   "execution_count": 113,
   "metadata": {
    "execution": {
     "iopub.execute_input": "2021-08-24T20:41:11.386527Z",
     "iopub.status.busy": "2021-08-24T20:41:11.386199Z",
     "iopub.status.idle": "2021-08-24T20:41:19.578598Z",
     "shell.execute_reply": "2021-08-24T20:41:19.577715Z",
     "shell.execute_reply.started": "2021-08-24T20:41:11.386498Z"
    }
   },
   "outputs": [
    {
     "data": {
      "text/plain": [
       "RandomForestClassifier()"
      ]
     },
     "execution_count": 113,
     "metadata": {},
     "output_type": "execute_result"
    }
   ],
   "source": [
    "from sklearn.ensemble import RandomForestClassifier\n",
    "model11=RandomForestClassifier(n_estimators=100)\n",
    "model11.fit(X_train_res,y_train_res)\n"
   ]
  },
  {
   "cell_type": "code",
   "execution_count": 114,
   "metadata": {
    "execution": {
     "iopub.execute_input": "2021-08-24T20:41:19.580115Z",
     "iopub.status.busy": "2021-08-24T20:41:19.579841Z",
     "iopub.status.idle": "2021-08-24T20:41:19.669554Z",
     "shell.execute_reply": "2021-08-24T20:41:19.668687Z",
     "shell.execute_reply.started": "2021-08-24T20:41:19.580090Z"
    }
   },
   "outputs": [],
   "source": [
    "y_pred11=model11.predict(X_test)"
   ]
  },
  {
   "cell_type": "code",
   "execution_count": 115,
   "metadata": {
    "execution": {
     "iopub.execute_input": "2021-08-24T20:41:19.671230Z",
     "iopub.status.busy": "2021-08-24T20:41:19.670840Z",
     "iopub.status.idle": "2021-08-24T20:41:19.762193Z",
     "shell.execute_reply": "2021-08-24T20:41:19.761283Z",
     "shell.execute_reply.started": "2021-08-24T20:41:19.671193Z"
    }
   },
   "outputs": [
    {
     "name": "stdout",
     "output_type": "stream",
     "text": [
      "Testing accuracy: 0.8524768644529124\n",
      "[[  41    0  249]\n",
      " [   0    0    3]\n",
      " [  19    0 1525]]\n",
      "              precision    recall  f1-score   support\n",
      "\n",
      "          -1       0.68      0.14      0.23       290\n",
      "           0       0.00      0.00      0.00         3\n",
      "           1       0.86      0.99      0.92      1544\n",
      "\n",
      "    accuracy                           0.85      1837\n",
      "   macro avg       0.51      0.38      0.38      1837\n",
      "weighted avg       0.83      0.85      0.81      1837\n",
      "\n"
     ]
    },
    {
     "name": "stderr",
     "output_type": "stream",
     "text": [
      "C:\\Users\\khann\\anaconda3\\lib\\site-packages\\sklearn\\metrics\\_classification.py:1221: UndefinedMetricWarning: Precision and F-score are ill-defined and being set to 0.0 in labels with no predicted samples. Use `zero_division` parameter to control this behavior.\n",
      "  _warn_prf(average, modifier, msg_start, len(result))\n"
     ]
    }
   ],
   "source": [
    "from sklearn.metrics import accuracy_score,classification_report,confusion_matrix\n",
    "print('Testing accuracy:',accuracy_score(y_test,y_pred11))\n",
    "print(confusion_matrix(y_test,y_pred11))\n",
    "print(classification_report(y_test,y_pred11))"
   ]
  },
  {
   "cell_type": "code",
   "execution_count": 116,
   "metadata": {
    "execution": {
     "iopub.execute_input": "2021-08-24T20:41:19.763714Z",
     "iopub.status.busy": "2021-08-24T20:41:19.763426Z",
     "iopub.status.idle": "2021-08-24T20:41:19.782238Z",
     "shell.execute_reply": "2021-08-24T20:41:19.781154Z",
     "shell.execute_reply.started": "2021-08-24T20:41:19.763685Z"
    }
   },
   "outputs": [
    {
     "name": "stdout",
     "output_type": "stream",
     "text": [
      "271\n"
     ]
    },
    {
     "data": {
      "text/plain": [
       "0.18852091588818576"
      ]
     },
     "execution_count": 116,
     "metadata": {},
     "output_type": "execute_result"
    }
   ],
   "source": [
    "n_errors_Ran_SM=print((y_pred11!=y_test).sum())\n",
    "cohen_kappa_score(y_test,y_pred11)\n"
   ]
  },
  {
   "cell_type": "code",
   "execution_count": 117,
   "metadata": {
    "execution": {
     "iopub.execute_input": "2021-08-24T20:41:19.783708Z",
     "iopub.status.busy": "2021-08-24T20:41:19.783411Z",
     "iopub.status.idle": "2021-08-24T20:41:19.968203Z",
     "shell.execute_reply": "2021-08-24T20:41:19.967012Z",
     "shell.execute_reply.started": "2021-08-24T20:41:19.783681Z"
    }
   },
   "outputs": [
    {
     "name": "stdout",
     "output_type": "stream",
     "text": [
      "Training accuracy: 1.0\n"
     ]
    }
   ],
   "source": [
    "print('Training accuracy:',accuracy_score(y_train,model11.predict(X_train)))"
   ]
  },
  {
   "cell_type": "markdown",
   "metadata": {},
   "source": [
    "# Extratreeclassifier with Smote"
   ]
  },
  {
   "cell_type": "code",
   "execution_count": 118,
   "metadata": {
    "execution": {
     "iopub.execute_input": "2021-08-24T20:41:19.969835Z",
     "iopub.status.busy": "2021-08-24T20:41:19.969505Z",
     "iopub.status.idle": "2021-08-24T20:41:34.074545Z",
     "shell.execute_reply": "2021-08-24T20:41:34.073494Z",
     "shell.execute_reply.started": "2021-08-24T20:41:19.969804Z"
    }
   },
   "outputs": [],
   "source": [
    "from sklearn.ensemble import ExtraTreesClassifier \n",
    "\n",
    "model12=ExtraTreesClassifier()\n",
    "model12.fit(X_train_res,y_train_res)\n",
    "y_pred12=model12.predict(X_test)"
   ]
  },
  {
   "cell_type": "code",
   "execution_count": 119,
   "metadata": {
    "execution": {
     "iopub.execute_input": "2021-08-24T20:41:34.076130Z",
     "iopub.status.busy": "2021-08-24T20:41:34.075794Z",
     "iopub.status.idle": "2021-08-24T20:41:34.167583Z",
     "shell.execute_reply": "2021-08-24T20:41:34.166554Z",
     "shell.execute_reply.started": "2021-08-24T20:41:34.076089Z"
    }
   },
   "outputs": [
    {
     "name": "stdout",
     "output_type": "stream",
     "text": [
      "Testing accuracy: 0.854109961894393\n",
      "[[  39    0  251]\n",
      " [   0    0    3]\n",
      " [  14    0 1530]]\n",
      "              precision    recall  f1-score   support\n",
      "\n",
      "          -1       0.74      0.13      0.23       290\n",
      "           0       0.00      0.00      0.00         3\n",
      "           1       0.86      0.99      0.92      1544\n",
      "\n",
      "    accuracy                           0.85      1837\n",
      "   macro avg       0.53      0.38      0.38      1837\n",
      "weighted avg       0.84      0.85      0.81      1837\n",
      "\n",
      "268\n"
     ]
    },
    {
     "name": "stderr",
     "output_type": "stream",
     "text": [
      "C:\\Users\\khann\\anaconda3\\lib\\site-packages\\sklearn\\metrics\\_classification.py:1221: UndefinedMetricWarning: Precision and F-score are ill-defined and being set to 0.0 in labels with no predicted samples. Use `zero_division` parameter to control this behavior.\n",
      "  _warn_prf(average, modifier, msg_start, len(result))\n"
     ]
    }
   ],
   "source": [
    "from sklearn.metrics import accuracy_score,confusion_matrix,classification_report\n",
    "print('Testing accuracy:',accuracy_score(y_test,y_pred12))\n",
    "print(confusion_matrix(y_test,y_pred12))\n",
    "print(classification_report(y_test,y_pred12))\n",
    "n_errors_ext_SM=print((y_pred12!=y_test).sum())"
   ]
  },
  {
   "cell_type": "code",
   "execution_count": 120,
   "metadata": {
    "execution": {
     "iopub.execute_input": "2021-08-24T20:41:34.168940Z",
     "iopub.status.busy": "2021-08-24T20:41:34.168665Z",
     "iopub.status.idle": "2021-08-24T20:41:34.185212Z",
     "shell.execute_reply": "2021-08-24T20:41:34.184097Z",
     "shell.execute_reply.started": "2021-08-24T20:41:34.168906Z"
    }
   },
   "outputs": [
    {
     "data": {
      "text/plain": [
       "0.18585487421097635"
      ]
     },
     "execution_count": 120,
     "metadata": {},
     "output_type": "execute_result"
    }
   ],
   "source": [
    "cohen_kappa_score(y_test,y_pred12) \n"
   ]
  },
  {
   "cell_type": "code",
   "execution_count": 121,
   "metadata": {
    "execution": {
     "iopub.execute_input": "2021-08-24T20:41:34.186799Z",
     "iopub.status.busy": "2021-08-24T20:41:34.186494Z",
     "iopub.status.idle": "2021-08-24T20:41:34.430099Z",
     "shell.execute_reply": "2021-08-24T20:41:34.428884Z",
     "shell.execute_reply.started": "2021-08-24T20:41:34.186772Z"
    }
   },
   "outputs": [
    {
     "name": "stdout",
     "output_type": "stream",
     "text": [
      "Training accuracy: 1.0\n"
     ]
    }
   ],
   "source": [
    "print('Training accuracy:',accuracy_score(y_train,model12.predict(X_train)))"
   ]
  },
  {
   "cell_type": "markdown",
   "metadata": {},
   "source": [
    "# SUPPORT VECTOR MACHINE With SMOTE"
   ]
  },
  {
   "cell_type": "code",
   "execution_count": 122,
   "metadata": {
    "execution": {
     "iopub.execute_input": "2021-08-24T20:41:34.431642Z",
     "iopub.status.busy": "2021-08-24T20:41:34.431367Z",
     "iopub.status.idle": "2021-08-24T20:41:34.435663Z",
     "shell.execute_reply": "2021-08-24T20:41:34.434636Z",
     "shell.execute_reply.started": "2021-08-24T20:41:34.431617Z"
    }
   },
   "outputs": [],
   "source": [
    "from sklearn.svm import SVC"
   ]
  },
  {
   "cell_type": "code",
   "execution_count": 123,
   "metadata": {
    "execution": {
     "iopub.execute_input": "2021-08-24T20:41:34.437380Z",
     "iopub.status.busy": "2021-08-24T20:41:34.436993Z",
     "iopub.status.idle": "2021-08-24T20:41:51.902995Z",
     "shell.execute_reply": "2021-08-24T20:41:51.902232Z",
     "shell.execute_reply.started": "2021-08-24T20:41:34.437350Z"
    }
   },
   "outputs": [
    {
     "data": {
      "text/plain": [
       "SVC()"
      ]
     },
     "execution_count": 123,
     "metadata": {},
     "output_type": "execute_result"
    }
   ],
   "source": [
    "model13=SVC()\n",
    "model13.fit(X_train_res,y_train_res)"
   ]
  },
  {
   "cell_type": "code",
   "execution_count": 124,
   "metadata": {
    "execution": {
     "iopub.execute_input": "2021-08-24T20:41:51.904401Z",
     "iopub.status.busy": "2021-08-24T20:41:51.904101Z",
     "iopub.status.idle": "2021-08-24T20:41:54.636243Z",
     "shell.execute_reply": "2021-08-24T20:41:54.635116Z",
     "shell.execute_reply.started": "2021-08-24T20:41:51.904372Z"
    }
   },
   "outputs": [],
   "source": [
    "y_pred13=model13.predict(X_test)"
   ]
  },
  {
   "cell_type": "code",
   "execution_count": 125,
   "metadata": {
    "execution": {
     "iopub.execute_input": "2021-08-24T20:41:54.637794Z",
     "iopub.status.busy": "2021-08-24T20:41:54.637507Z",
     "iopub.status.idle": "2021-08-24T20:41:54.729094Z",
     "shell.execute_reply": "2021-08-24T20:41:54.728169Z",
     "shell.execute_reply.started": "2021-08-24T20:41:54.637768Z"
    }
   },
   "outputs": [
    {
     "name": "stdout",
     "output_type": "stream",
     "text": [
      "Testing accuracy: 0.844311377245509\n",
      "[[   9    0  281]\n",
      " [   0    0    3]\n",
      " [   2    0 1542]]\n",
      "              precision    recall  f1-score   support\n",
      "\n",
      "          -1       0.82      0.03      0.06       290\n",
      "           0       0.00      0.00      0.00         3\n",
      "           1       0.84      1.00      0.92      1544\n",
      "\n",
      "    accuracy                           0.84      1837\n",
      "   macro avg       0.55      0.34      0.32      1837\n",
      "weighted avg       0.84      0.84      0.78      1837\n",
      "\n"
     ]
    }
   ],
   "source": [
    "from sklearn.metrics import accuracy_score,classification_report,confusion_matrix\n",
    "\n",
    "print('Testing accuracy:',accuracy_score(y_test,y_pred13))\n",
    "print(confusion_matrix(y_test,y_pred13))\n",
    "print(classification_report(y_test,y_pred13))"
   ]
  },
  {
   "cell_type": "code",
   "execution_count": 126,
   "metadata": {
    "execution": {
     "iopub.execute_input": "2021-08-24T20:41:54.730643Z",
     "iopub.status.busy": "2021-08-24T20:41:54.730230Z",
     "iopub.status.idle": "2021-08-24T20:41:54.749279Z",
     "shell.execute_reply": "2021-08-24T20:41:54.748006Z",
     "shell.execute_reply.started": "2021-08-24T20:41:54.730601Z"
    }
   },
   "outputs": [
    {
     "name": "stdout",
     "output_type": "stream",
     "text": [
      "286\n"
     ]
    },
    {
     "data": {
      "text/plain": [
       "0.04828135897180419"
      ]
     },
     "execution_count": 126,
     "metadata": {},
     "output_type": "execute_result"
    }
   ],
   "source": [
    "n_errors_svc_SM=print((y_pred13!=y_test).sum())\n",
    "cohen_kappa_score(y_test,y_pred13)"
   ]
  },
  {
   "cell_type": "code",
   "execution_count": 127,
   "metadata": {
    "execution": {
     "iopub.execute_input": "2021-08-24T20:41:54.751072Z",
     "iopub.status.busy": "2021-08-24T20:41:54.750698Z",
     "iopub.status.idle": "2021-08-24T20:42:01.181813Z",
     "shell.execute_reply": "2021-08-24T20:42:01.180548Z",
     "shell.execute_reply.started": "2021-08-24T20:41:54.751042Z"
    }
   },
   "outputs": [
    {
     "name": "stdout",
     "output_type": "stream",
     "text": [
      "Training accuracy: 0.999066728884741\n"
     ]
    }
   ],
   "source": [
    "print('Training accuracy:',accuracy_score(y_train,model13.predict(X_train)))"
   ]
  },
  {
   "cell_type": "markdown",
   "metadata": {},
   "source": [
    "# Neural_Networks With Smote"
   ]
  },
  {
   "cell_type": "code",
   "execution_count": 128,
   "metadata": {
    "execution": {
     "iopub.execute_input": "2021-08-24T20:42:01.183686Z",
     "iopub.status.busy": "2021-08-24T20:42:01.183330Z",
     "iopub.status.idle": "2021-08-24T20:42:14.121478Z",
     "shell.execute_reply": "2021-08-24T20:42:14.120352Z",
     "shell.execute_reply.started": "2021-08-24T20:42:01.183647Z"
    }
   },
   "outputs": [],
   "source": [
    "from sklearn.neural_network import MLPClassifier \n",
    "\n",
    "model14=MLPClassifier(hidden_layer_sizes=(5,5))\n",
    "model14.fit(X_train_res,y_train_res)\n",
    "y_pred14=model14.predict(X_test)"
   ]
  },
  {
   "cell_type": "code",
   "execution_count": 129,
   "metadata": {
    "execution": {
     "iopub.execute_input": "2021-08-24T20:42:14.124088Z",
     "iopub.status.busy": "2021-08-24T20:42:14.123343Z",
     "iopub.status.idle": "2021-08-24T20:42:14.220727Z",
     "shell.execute_reply": "2021-08-24T20:42:14.219686Z",
     "shell.execute_reply.started": "2021-08-24T20:42:14.124039Z"
    }
   },
   "outputs": [
    {
     "name": "stdout",
     "output_type": "stream",
     "text": [
      "Testing accuracy: 0.8519324986390855\n",
      "[[  99    0  191]\n",
      " [   0    0    3]\n",
      " [  78    0 1466]]\n",
      "              precision    recall  f1-score   support\n",
      "\n",
      "          -1       0.56      0.34      0.42       290\n",
      "           0       0.00      0.00      0.00         3\n",
      "           1       0.88      0.95      0.92      1544\n",
      "\n",
      "    accuracy                           0.85      1837\n",
      "   macro avg       0.48      0.43      0.45      1837\n",
      "weighted avg       0.83      0.85      0.84      1837\n",
      "\n"
     ]
    },
    {
     "name": "stderr",
     "output_type": "stream",
     "text": [
      "C:\\Users\\khann\\anaconda3\\lib\\site-packages\\sklearn\\metrics\\_classification.py:1221: UndefinedMetricWarning: Precision and F-score are ill-defined and being set to 0.0 in labels with no predicted samples. Use `zero_division` parameter to control this behavior.\n",
      "  _warn_prf(average, modifier, msg_start, len(result))\n"
     ]
    }
   ],
   "source": [
    "from sklearn.metrics import accuracy_score,classification_report,confusion_matrix\n",
    "\n",
    "print('Testing accuracy:',accuracy_score(y_test,y_pred14))\n",
    "print(confusion_matrix(y_test,y_pred14))\n",
    "print(classification_report(y_test,y_pred14))"
   ]
  },
  {
   "cell_type": "code",
   "execution_count": 130,
   "metadata": {
    "execution": {
     "iopub.execute_input": "2021-08-24T20:42:14.223190Z",
     "iopub.status.busy": "2021-08-24T20:42:14.222432Z",
     "iopub.status.idle": "2021-08-24T20:42:14.244412Z",
     "shell.execute_reply": "2021-08-24T20:42:14.243645Z",
     "shell.execute_reply.started": "2021-08-24T20:42:14.223137Z"
    }
   },
   "outputs": [
    {
     "name": "stdout",
     "output_type": "stream",
     "text": [
      "272\n"
     ]
    },
    {
     "data": {
      "text/plain": [
       "0.3427194721382165"
      ]
     },
     "execution_count": 130,
     "metadata": {},
     "output_type": "execute_result"
    }
   ],
   "source": [
    "n_errors_nn_SM=print((y_pred14!=y_test).sum())\n",
    "cohen_kappa_score(y_test,y_pred14)\n"
   ]
  },
  {
   "cell_type": "code",
   "execution_count": 131,
   "metadata": {
    "execution": {
     "iopub.execute_input": "2021-08-24T20:42:14.245973Z",
     "iopub.status.busy": "2021-08-24T20:42:14.245510Z",
     "iopub.status.idle": "2021-08-24T20:42:14.257249Z",
     "shell.execute_reply": "2021-08-24T20:42:14.256506Z",
     "shell.execute_reply.started": "2021-08-24T20:42:14.245942Z"
    }
   },
   "outputs": [
    {
     "name": "stdout",
     "output_type": "stream",
     "text": [
      "Training accuracy: 1.0\n"
     ]
    }
   ],
   "source": [
    "print('Training accuracy:',accuracy_score(y_train,model14.predict(X_train)))"
   ]
  },
  {
   "cell_type": "markdown",
   "metadata": {},
   "source": [
    "# Bagging classifier with Smote"
   ]
  },
  {
   "cell_type": "code",
   "execution_count": 132,
   "metadata": {
    "execution": {
     "iopub.execute_input": "2021-08-24T20:42:14.259080Z",
     "iopub.status.busy": "2021-08-24T20:42:14.258784Z",
     "iopub.status.idle": "2021-08-24T20:42:32.440850Z",
     "shell.execute_reply": "2021-08-24T20:42:32.439915Z",
     "shell.execute_reply.started": "2021-08-24T20:42:14.259052Z"
    }
   },
   "outputs": [
    {
     "data": {
      "text/plain": [
       "BaggingClassifier(base_estimator=DecisionTreeClassifier(criterion='entropy'))"
      ]
     },
     "execution_count": 132,
     "metadata": {},
     "output_type": "execute_result"
    }
   ],
   "source": [
    "from sklearn.ensemble import BaggingClassifier \n",
    "\n",
    "model15=BaggingClassifier(DecisionTreeClassifier(criterion='entropy'))\n",
    "model15.fit(X_train_res,y_train_res)"
   ]
  },
  {
   "cell_type": "code",
   "execution_count": 133,
   "metadata": {
    "execution": {
     "iopub.execute_input": "2021-08-24T20:42:32.442341Z",
     "iopub.status.busy": "2021-08-24T20:42:32.442031Z",
     "iopub.status.idle": "2021-08-24T20:42:32.463492Z",
     "shell.execute_reply": "2021-08-24T20:42:32.462692Z",
     "shell.execute_reply.started": "2021-08-24T20:42:32.442305Z"
    }
   },
   "outputs": [],
   "source": [
    "y_pred15=model15.predict(X_test)"
   ]
  },
  {
   "cell_type": "code",
   "execution_count": 134,
   "metadata": {
    "execution": {
     "iopub.execute_input": "2021-08-24T20:42:32.465141Z",
     "iopub.status.busy": "2021-08-24T20:42:32.464662Z",
     "iopub.status.idle": "2021-08-24T20:42:32.554690Z",
     "shell.execute_reply": "2021-08-24T20:42:32.553746Z",
     "shell.execute_reply.started": "2021-08-24T20:42:32.465111Z"
    }
   },
   "outputs": [
    {
     "name": "stdout",
     "output_type": "stream",
     "text": [
      "Testing accuracy: 0.8045726728361459\n",
      "[[ 103    0  187]\n",
      " [   0    0    3]\n",
      " [ 166    3 1375]]\n",
      "              precision    recall  f1-score   support\n",
      "\n",
      "          -1       0.38      0.36      0.37       290\n",
      "           0       0.00      0.00      0.00         3\n",
      "           1       0.88      0.89      0.88      1544\n",
      "\n",
      "    accuracy                           0.80      1837\n",
      "   macro avg       0.42      0.42      0.42      1837\n",
      "weighted avg       0.80      0.80      0.80      1837\n",
      "\n"
     ]
    }
   ],
   "source": [
    "from sklearn.metrics import accuracy_score,classification_report,confusion_matrix\n",
    "\n",
    "print('Testing accuracy:',accuracy_score(y_test,y_pred15))\n",
    "print(confusion_matrix(y_test,y_pred15))\n",
    "print(classification_report(y_test,y_pred15))"
   ]
  },
  {
   "cell_type": "code",
   "execution_count": 135,
   "metadata": {
    "execution": {
     "iopub.execute_input": "2021-08-24T20:42:32.556173Z",
     "iopub.status.busy": "2021-08-24T20:42:32.555896Z",
     "iopub.status.idle": "2021-08-24T20:42:32.572784Z",
     "shell.execute_reply": "2021-08-24T20:42:32.572085Z",
     "shell.execute_reply.started": "2021-08-24T20:42:32.556146Z"
    }
   },
   "outputs": [
    {
     "name": "stdout",
     "output_type": "stream",
     "text": [
      "359\n"
     ]
    },
    {
     "data": {
      "text/plain": [
       "0.25074927004396785"
      ]
     },
     "execution_count": 135,
     "metadata": {},
     "output_type": "execute_result"
    }
   ],
   "source": [
    "n_errors_BC_SM=print((y_pred15!=y_test).sum())\n",
    "cohen_kappa_score(y_test,y_pred15) \n"
   ]
  },
  {
   "cell_type": "code",
   "execution_count": 136,
   "metadata": {
    "execution": {
     "iopub.execute_input": "2021-08-24T20:42:32.574156Z",
     "iopub.status.busy": "2021-08-24T20:42:32.573767Z",
     "iopub.status.idle": "2021-08-24T20:42:32.618022Z",
     "shell.execute_reply": "2021-08-24T20:42:32.617054Z",
     "shell.execute_reply.started": "2021-08-24T20:42:32.574128Z"
    }
   },
   "outputs": [
    {
     "name": "stdout",
     "output_type": "stream",
     "text": [
      "Training accuracy: 0.9944003733084461\n"
     ]
    }
   ],
   "source": [
    "print('Training accuracy:',accuracy_score(y_train,model15.predict(X_train)))"
   ]
  },
  {
   "cell_type": "markdown",
   "metadata": {},
   "source": [
    "# Extreme Grdient Boosting Algorithm after smoot"
   ]
  },
  {
   "cell_type": "code",
   "execution_count": 137,
   "metadata": {
    "execution": {
     "iopub.execute_input": "2021-08-24T20:42:32.619529Z",
     "iopub.status.busy": "2021-08-24T20:42:32.619229Z",
     "iopub.status.idle": "2021-08-24T20:42:53.171444Z",
     "shell.execute_reply": "2021-08-24T20:42:53.169955Z",
     "shell.execute_reply.started": "2021-08-24T20:42:32.619502Z"
    }
   },
   "outputs": [
    {
     "name": "stderr",
     "output_type": "stream",
     "text": [
      "C:\\Users\\khann\\anaconda3\\lib\\site-packages\\xgboost\\sklearn.py:1146: UserWarning: The use of label encoder in XGBClassifier is deprecated and will be removed in a future release. To remove this warning, do the following: 1) Pass option use_label_encoder=False when constructing XGBClassifier object; and 2) Encode your labels (y) as integers starting with 0, i.e. 0, 1, 2, ..., [num_class - 1].\n",
      "  warnings.warn(label_encoder_deprecation_msg, UserWarning)\n"
     ]
    },
    {
     "name": "stdout",
     "output_type": "stream",
     "text": [
      "[02:57:19] WARNING: C:/Users/Administrator/workspace/xgboost-win64_release_1.4.0/src/learner.cc:1095: Starting in XGBoost 1.3.0, the default evaluation metric used with the objective 'multi:softprob' was changed from 'merror' to 'mlogloss'. Explicitly set eval_metric if you'd like to restore the old behavior.\n"
     ]
    },
    {
     "data": {
      "text/plain": [
       "XGBClassifier(base_score=0.5, booster='gbtree', colsample_bylevel=1,\n",
       "              colsample_bynode=1, colsample_bytree=1, gamma=0, gpu_id=-1,\n",
       "              importance_type='gain', interaction_constraints='',\n",
       "              learning_rate=0.300000012, max_delta_step=0, max_depth=6,\n",
       "              min_child_weight=1, missing=nan, monotone_constraints='()',\n",
       "              n_estimators=100, n_jobs=4, num_parallel_tree=1,\n",
       "              objective='multi:softprob', random_state=0, reg_alpha=0,\n",
       "              reg_lambda=1, scale_pos_weight=None, subsample=1,\n",
       "              tree_method='exact', validate_parameters=1, verbosity=None)"
      ]
     },
     "execution_count": 137,
     "metadata": {},
     "output_type": "execute_result"
    }
   ],
   "source": [
    "import xgboost as xgb \n",
    "\n",
    "model16=xgb.XGBClassifier()\n",
    "model16.fit(X_train_res,y_train_res)"
   ]
  },
  {
   "cell_type": "code",
   "execution_count": 138,
   "metadata": {
    "execution": {
     "iopub.execute_input": "2021-08-24T20:42:53.173933Z",
     "iopub.status.busy": "2021-08-24T20:42:53.173524Z",
     "iopub.status.idle": "2021-08-24T20:42:53.199393Z",
     "shell.execute_reply": "2021-08-24T20:42:53.198177Z",
     "shell.execute_reply.started": "2021-08-24T20:42:53.173891Z"
    }
   },
   "outputs": [],
   "source": [
    "y_pred16=model16.predict(X_test)"
   ]
  },
  {
   "cell_type": "code",
   "execution_count": 139,
   "metadata": {
    "execution": {
     "iopub.execute_input": "2021-08-24T20:42:53.201323Z",
     "iopub.status.busy": "2021-08-24T20:42:53.200703Z",
     "iopub.status.idle": "2021-08-24T20:42:53.302936Z",
     "shell.execute_reply": "2021-08-24T20:42:53.301962Z",
     "shell.execute_reply.started": "2021-08-24T20:42:53.201257Z"
    }
   },
   "outputs": [
    {
     "name": "stdout",
     "output_type": "stream",
     "text": [
      "Testing accuracy: 0.8508437670114317\n",
      "[[ 115    0  175]\n",
      " [   0    0    3]\n",
      " [  95    1 1448]]\n",
      "              precision    recall  f1-score   support\n",
      "\n",
      "          -1       0.55      0.40      0.46       290\n",
      "           0       0.00      0.00      0.00         3\n",
      "           1       0.89      0.94      0.91      1544\n",
      "\n",
      "    accuracy                           0.85      1837\n",
      "   macro avg       0.48      0.44      0.46      1837\n",
      "weighted avg       0.83      0.85      0.84      1837\n",
      "\n"
     ]
    }
   ],
   "source": [
    "from sklearn.metrics import accuracy_score,classification_report,confusion_matrix\n",
    "\n",
    "print('Testing accuracy:',accuracy_score(y_test,y_pred16))\n",
    "print(confusion_matrix(y_test,y_pred16))\n",
    "print(classification_report(y_test,y_pred16))"
   ]
  },
  {
   "cell_type": "code",
   "execution_count": 140,
   "metadata": {
    "execution": {
     "iopub.execute_input": "2021-08-24T20:42:53.304362Z",
     "iopub.status.busy": "2021-08-24T20:42:53.304065Z",
     "iopub.status.idle": "2021-08-24T20:42:53.323368Z",
     "shell.execute_reply": "2021-08-24T20:42:53.322214Z",
     "shell.execute_reply.started": "2021-08-24T20:42:53.304323Z"
    }
   },
   "outputs": [
    {
     "name": "stdout",
     "output_type": "stream",
     "text": [
      "274\n"
     ]
    },
    {
     "data": {
      "text/plain": [
       "0.37327330094306954"
      ]
     },
     "execution_count": 140,
     "metadata": {},
     "output_type": "execute_result"
    }
   ],
   "source": [
    "n_errors_BC_SM=print((y_pred16!=y_test).sum())\n",
    "cohen_kappa_score(y_test,y_pred16) #0.5220\n"
   ]
  },
  {
   "cell_type": "code",
   "execution_count": 141,
   "metadata": {
    "execution": {
     "iopub.execute_input": "2021-08-24T20:42:53.325256Z",
     "iopub.status.busy": "2021-08-24T20:42:53.324953Z",
     "iopub.status.idle": "2021-08-24T20:42:53.366566Z",
     "shell.execute_reply": "2021-08-24T20:42:53.365449Z",
     "shell.execute_reply.started": "2021-08-24T20:42:53.325227Z"
    }
   },
   "outputs": [
    {
     "name": "stdout",
     "output_type": "stream",
     "text": [
      "Training accuracy: 0.9813345776948204\n"
     ]
    }
   ],
   "source": [
    "print('Training accuracy:',accuracy_score(y_train,model16.predict(X_train)))"
   ]
  },
  {
   "cell_type": "markdown",
   "metadata": {},
   "source": [
    "# Linear SVC"
   ]
  },
  {
   "cell_type": "code",
   "execution_count": 142,
   "metadata": {
    "execution": {
     "iopub.execute_input": "2021-08-24T20:42:53.371018Z",
     "iopub.status.busy": "2021-08-24T20:42:53.370681Z",
     "iopub.status.idle": "2021-08-24T20:42:53.428147Z",
     "shell.execute_reply": "2021-08-24T20:42:53.427141Z",
     "shell.execute_reply.started": "2021-08-24T20:42:53.370986Z"
    }
   },
   "outputs": [
    {
     "data": {
      "text/plain": [
       "LinearSVC()"
      ]
     },
     "execution_count": 142,
     "metadata": {},
     "output_type": "execute_result"
    }
   ],
   "source": [
    "from sklearn.svm import LinearSVC\n",
    "\n",
    "model18= LinearSVC()\n",
    "\n",
    "model18.fit(X_train,y_train)"
   ]
  },
  {
   "cell_type": "code",
   "execution_count": 143,
   "metadata": {
    "execution": {
     "iopub.execute_input": "2021-08-24T20:42:53.429820Z",
     "iopub.status.busy": "2021-08-24T20:42:53.429487Z",
     "iopub.status.idle": "2021-08-24T20:42:53.435598Z",
     "shell.execute_reply": "2021-08-24T20:42:53.434557Z",
     "shell.execute_reply.started": "2021-08-24T20:42:53.429783Z"
    }
   },
   "outputs": [],
   "source": [
    "y_pred18=model18.predict(X_test)"
   ]
  },
  {
   "cell_type": "code",
   "execution_count": 144,
   "metadata": {
    "execution": {
     "iopub.execute_input": "2021-08-24T20:42:53.437690Z",
     "iopub.status.busy": "2021-08-24T20:42:53.437240Z",
     "iopub.status.idle": "2021-08-24T20:42:53.531348Z",
     "shell.execute_reply": "2021-08-24T20:42:53.530108Z",
     "shell.execute_reply.started": "2021-08-24T20:42:53.437639Z"
    }
   },
   "outputs": [
    {
     "name": "stdout",
     "output_type": "stream",
     "text": [
      "Testing accuracy: 0.8671747414262384\n",
      "[[  83    0  207]\n",
      " [   0    0    3]\n",
      " [  34    0 1510]]\n",
      "              precision    recall  f1-score   support\n",
      "\n",
      "          -1       0.71      0.29      0.41       290\n",
      "           0       0.00      0.00      0.00         3\n",
      "           1       0.88      0.98      0.93      1544\n",
      "\n",
      "    accuracy                           0.87      1837\n",
      "   macro avg       0.53      0.42      0.44      1837\n",
      "weighted avg       0.85      0.87      0.84      1837\n",
      "\n"
     ]
    },
    {
     "name": "stderr",
     "output_type": "stream",
     "text": [
      "C:\\Users\\khann\\anaconda3\\lib\\site-packages\\sklearn\\metrics\\_classification.py:1221: UndefinedMetricWarning: Precision and F-score are ill-defined and being set to 0.0 in labels with no predicted samples. Use `zero_division` parameter to control this behavior.\n",
      "  _warn_prf(average, modifier, msg_start, len(result))\n"
     ]
    }
   ],
   "source": [
    "from sklearn.metrics import accuracy_score,classification_report,confusion_matrix\n",
    "\n",
    "print('Testing accuracy:',accuracy_score(y_test,y_pred18))\n",
    "print(confusion_matrix(y_test,y_pred18))\n",
    "print(classification_report(y_test,y_pred18))"
   ]
  },
  {
   "cell_type": "code",
   "execution_count": 145,
   "metadata": {
    "execution": {
     "iopub.execute_input": "2021-08-24T20:42:53.533322Z",
     "iopub.status.busy": "2021-08-24T20:42:53.532900Z",
     "iopub.status.idle": "2021-08-24T20:42:53.553275Z",
     "shell.execute_reply": "2021-08-24T20:42:53.552038Z",
     "shell.execute_reply.started": "2021-08-24T20:42:53.533261Z"
    }
   },
   "outputs": [
    {
     "name": "stdout",
     "output_type": "stream",
     "text": [
      "244\n"
     ]
    },
    {
     "data": {
      "text/plain": [
       "0.34561338707864264"
      ]
     },
     "execution_count": 145,
     "metadata": {},
     "output_type": "execute_result"
    }
   ],
   "source": [
    "n_errors_LSVC=print((y_pred18!=y_test).sum())\n",
    "cohen_kappa_score(y_test,y_pred18) "
   ]
  },
  {
   "cell_type": "code",
   "execution_count": 146,
   "metadata": {
    "execution": {
     "iopub.execute_input": "2021-08-24T20:42:53.555213Z",
     "iopub.status.busy": "2021-08-24T20:42:53.554804Z",
     "iopub.status.idle": "2021-08-24T20:42:53.571517Z",
     "shell.execute_reply": "2021-08-24T20:42:53.570597Z",
     "shell.execute_reply.started": "2021-08-24T20:42:53.555163Z"
    }
   },
   "outputs": [
    {
     "name": "stdout",
     "output_type": "stream",
     "text": [
      "Training accuracy: 0.9941670555296314\n"
     ]
    }
   ],
   "source": [
    "print('Training accuracy:',accuracy_score(y_train,model18.predict(X_train)))"
   ]
  },
  {
   "cell_type": "markdown",
   "metadata": {},
   "source": [
    "# Linear SVC _after smote"
   ]
  },
  {
   "cell_type": "code",
   "execution_count": 147,
   "metadata": {
    "execution": {
     "iopub.execute_input": "2021-08-24T20:42:53.573312Z",
     "iopub.status.busy": "2021-08-24T20:42:53.572917Z",
     "iopub.status.idle": "2021-08-24T20:42:53.834583Z",
     "shell.execute_reply": "2021-08-24T20:42:53.833452Z",
     "shell.execute_reply.started": "2021-08-24T20:42:53.573243Z"
    }
   },
   "outputs": [
    {
     "data": {
      "text/plain": [
       "LinearSVC()"
      ]
     },
     "execution_count": 147,
     "metadata": {},
     "output_type": "execute_result"
    }
   ],
   "source": [
    "from sklearn.svm import LinearSVC\n",
    "\n",
    "model19= LinearSVC()\n",
    "\n",
    "model19.fit(X_train_res,y_train_res)"
   ]
  },
  {
   "cell_type": "code",
   "execution_count": 148,
   "metadata": {
    "execution": {
     "iopub.execute_input": "2021-08-24T20:42:53.836155Z",
     "iopub.status.busy": "2021-08-24T20:42:53.835847Z",
     "iopub.status.idle": "2021-08-24T20:42:53.840932Z",
     "shell.execute_reply": "2021-08-24T20:42:53.840164Z",
     "shell.execute_reply.started": "2021-08-24T20:42:53.836125Z"
    }
   },
   "outputs": [],
   "source": [
    "y_pred19=model19.predict(X_test)"
   ]
  },
  {
   "cell_type": "code",
   "execution_count": 149,
   "metadata": {
    "execution": {
     "iopub.execute_input": "2021-08-24T20:42:53.842117Z",
     "iopub.status.busy": "2021-08-24T20:42:53.841841Z",
     "iopub.status.idle": "2021-08-24T20:42:53.939688Z",
     "shell.execute_reply": "2021-08-24T20:42:53.938481Z",
     "shell.execute_reply.started": "2021-08-24T20:42:53.842090Z"
    }
   },
   "outputs": [
    {
     "name": "stdout",
     "output_type": "stream",
     "text": [
      "Testing accuracy: 0.8508437670114317\n",
      "[[ 131    0  159]\n",
      " [   0    0    3]\n",
      " [ 112    0 1432]]\n",
      "              precision    recall  f1-score   support\n",
      "\n",
      "          -1       0.54      0.45      0.49       290\n",
      "           0       0.00      0.00      0.00         3\n",
      "           1       0.90      0.93      0.91      1544\n",
      "\n",
      "    accuracy                           0.85      1837\n",
      "   macro avg       0.48      0.46      0.47      1837\n",
      "weighted avg       0.84      0.85      0.84      1837\n",
      "\n"
     ]
    }
   ],
   "source": [
    "from sklearn.metrics import accuracy_score,classification_report,confusion_matrix\n",
    "\n",
    "print('Testing accuracy:',accuracy_score(y_test,y_pred19))\n",
    "print(confusion_matrix(y_test,y_pred19))\n",
    "print(classification_report(y_test,y_pred19))"
   ]
  },
  {
   "cell_type": "code",
   "execution_count": 150,
   "metadata": {
    "execution": {
     "iopub.execute_input": "2021-08-24T20:42:53.941604Z",
     "iopub.status.busy": "2021-08-24T20:42:53.941202Z",
     "iopub.status.idle": "2021-08-24T20:42:53.962316Z",
     "shell.execute_reply": "2021-08-24T20:42:53.961360Z",
     "shell.execute_reply.started": "2021-08-24T20:42:53.941572Z"
    }
   },
   "outputs": [
    {
     "name": "stdout",
     "output_type": "stream",
     "text": [
      "274\n"
     ]
    },
    {
     "data": {
      "text/plain": [
       "0.40289431445982804"
      ]
     },
     "execution_count": 150,
     "metadata": {},
     "output_type": "execute_result"
    }
   ],
   "source": [
    "n_errors_LSVCSM=print((y_pred19!=y_test).sum())\n",
    "cohen_kappa_score(y_test,y_pred19) \n"
   ]
  },
  {
   "cell_type": "code",
   "execution_count": 151,
   "metadata": {
    "execution": {
     "iopub.execute_input": "2021-08-24T20:42:53.963862Z",
     "iopub.status.busy": "2021-08-24T20:42:53.963569Z",
     "iopub.status.idle": "2021-08-24T20:42:53.976667Z",
     "shell.execute_reply": "2021-08-24T20:42:53.975647Z",
     "shell.execute_reply.started": "2021-08-24T20:42:53.963835Z"
    }
   },
   "outputs": [
    {
     "name": "stdout",
     "output_type": "stream",
     "text": [
      "Training accuracy: 0.9979001399906673\n"
     ]
    }
   ],
   "source": [
    "print('Training accuracy:',accuracy_score(y_train,model19.predict(X_train)))"
   ]
  },
  {
   "cell_type": "markdown",
   "metadata": {},
   "source": [
    "# Naive Bayes_before SMOTE"
   ]
  },
  {
   "cell_type": "code",
   "execution_count": 152,
   "metadata": {
    "execution": {
     "iopub.execute_input": "2021-08-24T20:42:53.978129Z",
     "iopub.status.busy": "2021-08-24T20:42:53.977848Z",
     "iopub.status.idle": "2021-08-24T20:42:54.007611Z",
     "shell.execute_reply": "2021-08-24T20:42:54.006540Z",
     "shell.execute_reply.started": "2021-08-24T20:42:53.978092Z"
    }
   },
   "outputs": [
    {
     "data": {
      "text/plain": [
       "MultinomialNB()"
      ]
     },
     "execution_count": 152,
     "metadata": {},
     "output_type": "execute_result"
    }
   ],
   "source": [
    "from sklearn.naive_bayes import MultinomialNB\n",
    "\n",
    "model20= MultinomialNB()\n",
    "\n",
    "model20.fit(X_train,y_train)"
   ]
  },
  {
   "cell_type": "code",
   "execution_count": 153,
   "metadata": {
    "execution": {
     "iopub.execute_input": "2021-08-24T20:42:54.009262Z",
     "iopub.status.busy": "2021-08-24T20:42:54.008977Z",
     "iopub.status.idle": "2021-08-24T20:42:54.014416Z",
     "shell.execute_reply": "2021-08-24T20:42:54.013241Z",
     "shell.execute_reply.started": "2021-08-24T20:42:54.009233Z"
    }
   },
   "outputs": [],
   "source": [
    "y_pred20=model20.predict(X_test)"
   ]
  },
  {
   "cell_type": "code",
   "execution_count": 154,
   "metadata": {
    "execution": {
     "iopub.execute_input": "2021-08-24T20:42:54.016308Z",
     "iopub.status.busy": "2021-08-24T20:42:54.015994Z",
     "iopub.status.idle": "2021-08-24T20:42:54.079152Z",
     "shell.execute_reply": "2021-08-24T20:42:54.078174Z",
     "shell.execute_reply.started": "2021-08-24T20:42:54.016272Z"
    }
   },
   "outputs": [
    {
     "name": "stdout",
     "output_type": "stream",
     "text": [
      "Testing accuracy: 0.8405008165487208\n",
      "[[   0    0  290]\n",
      " [   0    0    3]\n",
      " [   0    0 1544]]\n",
      "              precision    recall  f1-score   support\n",
      "\n",
      "          -1       0.00      0.00      0.00       290\n",
      "           0       0.00      0.00      0.00         3\n",
      "           1       0.84      1.00      0.91      1544\n",
      "\n",
      "    accuracy                           0.84      1837\n",
      "   macro avg       0.28      0.33      0.30      1837\n",
      "weighted avg       0.71      0.84      0.77      1837\n",
      "\n"
     ]
    },
    {
     "name": "stderr",
     "output_type": "stream",
     "text": [
      "C:\\Users\\khann\\anaconda3\\lib\\site-packages\\sklearn\\metrics\\_classification.py:1221: UndefinedMetricWarning: Precision and F-score are ill-defined and being set to 0.0 in labels with no predicted samples. Use `zero_division` parameter to control this behavior.\n",
      "  _warn_prf(average, modifier, msg_start, len(result))\n"
     ]
    }
   ],
   "source": [
    "from sklearn.metrics import accuracy_score,classification_report,confusion_matrix\n",
    "\n",
    "print('Testing accuracy:',accuracy_score(y_test,y_pred20))\n",
    "print(confusion_matrix(y_test,y_pred20))\n",
    "print(classification_report(y_test,y_pred20))"
   ]
  },
  {
   "cell_type": "code",
   "execution_count": 155,
   "metadata": {
    "execution": {
     "iopub.execute_input": "2021-08-24T20:42:54.080840Z",
     "iopub.status.busy": "2021-08-24T20:42:54.080495Z",
     "iopub.status.idle": "2021-08-24T20:42:54.096140Z",
     "shell.execute_reply": "2021-08-24T20:42:54.095375Z",
     "shell.execute_reply.started": "2021-08-24T20:42:54.080810Z"
    }
   },
   "outputs": [
    {
     "name": "stdout",
     "output_type": "stream",
     "text": [
      "293\n"
     ]
    },
    {
     "data": {
      "text/plain": [
       "0.0"
      ]
     },
     "execution_count": 155,
     "metadata": {},
     "output_type": "execute_result"
    }
   ],
   "source": [
    "n_errors_MNB=print((y_pred20!=y_test).sum())\n",
    "cohen_kappa_score(y_test,y_pred20) \n"
   ]
  },
  {
   "cell_type": "code",
   "execution_count": 156,
   "metadata": {
    "execution": {
     "iopub.execute_input": "2021-08-24T20:42:54.097620Z",
     "iopub.status.busy": "2021-08-24T20:42:54.097324Z",
     "iopub.status.idle": "2021-08-24T20:42:54.108143Z",
     "shell.execute_reply": "2021-08-24T20:42:54.107156Z",
     "shell.execute_reply.started": "2021-08-24T20:42:54.097591Z"
    }
   },
   "outputs": [
    {
     "name": "stdout",
     "output_type": "stream",
     "text": [
      "Training accuracy: 0.8450769948670088\n"
     ]
    }
   ],
   "source": [
    "print('Training accuracy:',accuracy_score(y_train,model20.predict(X_train)))"
   ]
  },
  {
   "cell_type": "markdown",
   "metadata": {},
   "source": [
    "# Naive Bayes _after smote"
   ]
  },
  {
   "cell_type": "code",
   "execution_count": 157,
   "metadata": {
    "execution": {
     "iopub.execute_input": "2021-08-24T20:42:54.109940Z",
     "iopub.status.busy": "2021-08-24T20:42:54.109606Z",
     "iopub.status.idle": "2021-08-24T20:42:54.176025Z",
     "shell.execute_reply": "2021-08-24T20:42:54.174866Z",
     "shell.execute_reply.started": "2021-08-24T20:42:54.109910Z"
    }
   },
   "outputs": [
    {
     "data": {
      "text/plain": [
       "MultinomialNB()"
      ]
     },
     "execution_count": 157,
     "metadata": {},
     "output_type": "execute_result"
    }
   ],
   "source": [
    "from sklearn.naive_bayes import MultinomialNB\n",
    "\n",
    "model21= MultinomialNB()\n",
    "\n",
    "model21.fit(X_train_res,y_train_res)"
   ]
  },
  {
   "cell_type": "code",
   "execution_count": 158,
   "metadata": {
    "execution": {
     "iopub.execute_input": "2021-08-24T20:42:54.177484Z",
     "iopub.status.busy": "2021-08-24T20:42:54.177182Z",
     "iopub.status.idle": "2021-08-24T20:42:54.183279Z",
     "shell.execute_reply": "2021-08-24T20:42:54.182002Z",
     "shell.execute_reply.started": "2021-08-24T20:42:54.177456Z"
    }
   },
   "outputs": [],
   "source": [
    "y_pred21=model21.predict(X_test)"
   ]
  },
  {
   "cell_type": "code",
   "execution_count": 159,
   "metadata": {
    "execution": {
     "iopub.execute_input": "2021-08-24T20:42:54.184942Z",
     "iopub.status.busy": "2021-08-24T20:42:54.184644Z",
     "iopub.status.idle": "2021-08-24T20:42:54.246982Z",
     "shell.execute_reply": "2021-08-24T20:42:54.245916Z",
     "shell.execute_reply.started": "2021-08-24T20:42:54.184916Z"
    }
   },
   "outputs": [
    {
     "name": "stdout",
     "output_type": "stream",
     "text": [
      "Testing accuracy: 0.773543821448013\n",
      "[[ 198    0   92]\n",
      " [   2    0    1]\n",
      " [ 320    1 1223]]\n",
      "              precision    recall  f1-score   support\n",
      "\n",
      "          -1       0.38      0.68      0.49       290\n",
      "           0       0.00      0.00      0.00         3\n",
      "           1       0.93      0.79      0.86      1544\n",
      "\n",
      "    accuracy                           0.77      1837\n",
      "   macro avg       0.44      0.49      0.45      1837\n",
      "weighted avg       0.84      0.77      0.80      1837\n",
      "\n"
     ]
    }
   ],
   "source": [
    "from sklearn.metrics import accuracy_score,classification_report,confusion_matrix\n",
    "\n",
    "print('Testing accuracy:',accuracy_score(y_test,y_pred21))\n",
    "print(confusion_matrix(y_test,y_pred21))\n",
    "print(classification_report(y_test,y_pred21))"
   ]
  },
  {
   "cell_type": "code",
   "execution_count": 160,
   "metadata": {
    "execution": {
     "iopub.execute_input": "2021-08-24T20:42:54.248381Z",
     "iopub.status.busy": "2021-08-24T20:42:54.248100Z",
     "iopub.status.idle": "2021-08-24T20:42:54.266285Z",
     "shell.execute_reply": "2021-08-24T20:42:54.265359Z",
     "shell.execute_reply.started": "2021-08-24T20:42:54.248355Z"
    }
   },
   "outputs": [
    {
     "name": "stdout",
     "output_type": "stream",
     "text": [
      "416\n"
     ]
    },
    {
     "data": {
      "text/plain": [
       "0.35882509887889713"
      ]
     },
     "execution_count": 160,
     "metadata": {},
     "output_type": "execute_result"
    }
   ],
   "source": [
    "n_errors_MNBSM=print((y_pred21!=y_test).sum())\n",
    "cohen_kappa_score(y_test,y_pred21) \n"
   ]
  },
  {
   "cell_type": "code",
   "execution_count": 161,
   "metadata": {
    "execution": {
     "iopub.execute_input": "2021-08-24T20:42:54.267840Z",
     "iopub.status.busy": "2021-08-24T20:42:54.267522Z",
     "iopub.status.idle": "2021-08-24T20:42:54.281634Z",
     "shell.execute_reply": "2021-08-24T20:42:54.280475Z",
     "shell.execute_reply.started": "2021-08-24T20:42:54.267811Z"
    }
   },
   "outputs": [
    {
     "name": "stdout",
     "output_type": "stream",
     "text": [
      "Training accuracy: 0.8838077461502567\n"
     ]
    }
   ],
   "source": [
    "print('Training accuracy:',accuracy_score(y_train,model21.predict(X_train)))"
   ]
  }
 ],
 "metadata": {
  "kernelspec": {
   "display_name": "Python 3",
   "language": "python",
   "name": "python3"
  },
  "language_info": {
   "codemirror_mode": {
    "name": "ipython",
    "version": 3
   },
   "file_extension": ".py",
   "mimetype": "text/x-python",
   "name": "python",
   "nbconvert_exporter": "python",
   "pygments_lexer": "ipython3",
   "version": "3.8.5"
  }
 },
 "nbformat": 4,
 "nbformat_minor": 4
}
