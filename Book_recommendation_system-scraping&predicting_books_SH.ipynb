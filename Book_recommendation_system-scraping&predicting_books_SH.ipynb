{
 "cells": [
  {
   "cell_type": "code",
   "execution_count": 1,
   "metadata": {},
   "outputs": [],
   "source": [
    "import pandas as pd\n",
    "import numpy as np\n",
    "from bs4 import BeautifulSoup as bs\n",
    "import requests\n",
    "from time import time\n",
    "\n",
    "#data processing libraries \n",
    "\n",
    "from sklearn import preprocessing\n",
    "\n",
    "import nltk\n",
    "from nltk.stem.porter import PorterStemmer\n",
    "\n",
    "from sklearn.model_selection import train_test_split\n",
    "from sklearn.feature_extraction.text import CountVectorizer\n",
    "from sklearn.naive_bayes import MultinomialNB\n",
    "from sklearn.naive_bayes import GaussianNB\n",
    "from sklearn.ensemble import RandomForestClassifier\n",
    "from sklearn.neighbors import KNeighborsClassifier\n",
    "from sklearn.linear_model import LogisticRegression\n",
    "from sklearn.svm import SVC\n",
    "from sklearn import tree\n",
    "import tensorflow as tf\n",
    "from keras.models import Sequential\n",
    "from keras.layers import Dense\n",
    "from tensorflow.keras.optimizers import Adam\n",
    "import warnings\n",
    "import re\n",
    "warnings.filterwarnings('ignore')\n",
    "\n",
    "\n",
    "\n",
    "\n",
    "#Evaluate the model\n",
    "from sklearn.metrics import classification_report\n",
    "from sklearn.metrics import confusion_matrix\n",
    "from sklearn.metrics import accuracy_score\n",
    "\n"
   ]
  },
  {
   "cell_type": "code",
   "execution_count": null,
   "metadata": {},
   "outputs": [],
   "source": [
    "#pip install tensorflow"
   ]
  },
  {
   "cell_type": "code",
   "execution_count": 2,
   "metadata": {},
   "outputs": [],
   "source": [
    "def get_page(url):\n",
    "    page = requests.get(url)\n",
    "    soup = bs(page.text,\"lxml\")\n",
    "    return soup"
   ]
  },
  {
   "cell_type": "code",
   "execution_count": 3,
   "metadata": {
    "scrolled": true
   },
   "outputs": [],
   "source": [
    "def get_links(soup):\n",
    "    links=[]\n",
    "    listings = soup.find_all('a' ,{'class' : 'bookTitle'})\n",
    "    base_url=\"https://www.goodreads.com\"\n",
    "    for i in listings:\n",
    "        book_link = i.get(\"href\")\n",
    "        complete_link  = base_url + book_link\n",
    "        links.append(complete_link)\n",
    "    return links"
   ]
  },
  {
   "cell_type": "code",
   "execution_count": 4,
   "metadata": {
    "scrolled": true
   },
   "outputs": [],
   "source": [
    "#extract info from each link\n",
    "\n",
    "def extract_info(links):\n",
    "    for link in links:\n",
    "        res = requests.get(link).text\n",
    "        book_soup = bs(res,'html.parser')\n",
    "        try:\n",
    "            book_id = book_soup.find('div',{'id':'buyButtonContainer'}).get('data-book-id')\n",
    "            title = book_soup.find('h1',{'id':\"bookTitle\"}).text.strip()\n",
    "            author = book_soup.find('span',{'itemprop':\"name\"}).text.strip()\n",
    "            average_rating = book_soup.find('span',{'itemprop':\"ratingValue\"}).text.strip()\n",
    "            #description = book_soup.find('div',{'id':\"description\"}).text.strip()\n",
    "            description = book_soup.find('div', {'id': \"description\"}).find_all('span')[-1].text.strip()\n",
    "            genre = book_soup.find('a',{'class':\"actionLinkLite bookPageGenreLink\"}).text.strip()\n",
    "            book_image_url = book_soup.find('img', {'id': 'coverImage'}).get('src').strip()\n",
    "            book_url = link\n",
    "        except AttributeError:\n",
    "            continue\n",
    "        \n",
    "        book = {'book_id':book_id,'title': title,'author': author,'average_rating':average_rating,'genre':genre,'description':description,'url':book_url,'image_url':book_image_url}\n",
    "        all_books.append(book)\n",
    "    return len(all_books)\n"
   ]
  },
  {
   "cell_type": "code",
   "execution_count": null,
   "metadata": {
    "scrolled": true
   },
   "outputs": [],
   "source": [
    "all_books = []\n",
    "books  = pd.DataFrame()\n",
    "for page in range(1,51):\n",
    "    url = \"https://www.goodreads.com/list/show/264.Books_That_Everyone_Should_Read_At_Least_Once?page={}\".format(page)\n",
    "    soup = get_page(url)\n",
    "    links = get_links(soup)\n",
    "    (extract_info(links))\n"
   ]
  },
  {
   "cell_type": "code",
   "execution_count": 2,
   "metadata": {},
   "outputs": [
    {
     "ename": "NameError",
     "evalue": "name 'all_books' is not defined",
     "output_type": "error",
     "traceback": [
      "\u001b[1;31m---------------------------------------------------------------------------\u001b[0m",
      "\u001b[1;31mNameError\u001b[0m                                 Traceback (most recent call last)",
      "\u001b[1;32m<ipython-input-2-15e0b7818673>\u001b[0m in \u001b[0;36m<module>\u001b[1;34m\u001b[0m\n\u001b[1;32m----> 1\u001b[1;33m \u001b[0mbooks\u001b[0m \u001b[1;33m=\u001b[0m \u001b[0mpd\u001b[0m\u001b[1;33m.\u001b[0m\u001b[0mDataFrame\u001b[0m\u001b[1;33m(\u001b[0m\u001b[0mall_books\u001b[0m\u001b[1;33m)\u001b[0m\u001b[1;33m\u001b[0m\u001b[1;33m\u001b[0m\u001b[0m\n\u001b[0m",
      "\u001b[1;31mNameError\u001b[0m: name 'all_books' is not defined"
     ]
    }
   ],
   "source": [
    "books = pd.DataFrame(all_books)"
   ]
  },
  {
   "cell_type": "code",
   "execution_count": null,
   "metadata": {},
   "outputs": [],
   "source": [
    "books.to_csv('books_data_50_b.csv')"
   ]
  },
  {
   "cell_type": "code",
   "execution_count": 3,
   "metadata": {},
   "outputs": [],
   "source": [
    "books = pd.read_csv('books_data_50_b.csv')\n",
    "books.drop('Unnamed: 0',axis = 1,inplace = True)"
   ]
  },
  {
   "cell_type": "code",
   "execution_count": 4,
   "metadata": {},
   "outputs": [
    {
     "name": "stdout",
     "output_type": "stream",
     "text": [
      "<class 'pandas.core.frame.DataFrame'>\n",
      "RangeIndex: 6585 entries, 0 to 6584\n",
      "Data columns (total 8 columns):\n",
      " #   Column          Non-Null Count  Dtype  \n",
      "---  ------          --------------  -----  \n",
      " 0   book_id         6585 non-null   int64  \n",
      " 1   title           6585 non-null   object \n",
      " 2   author          6585 non-null   object \n",
      " 3   average_rating  6585 non-null   float64\n",
      " 4   genre           6585 non-null   object \n",
      " 5   description     6584 non-null   object \n",
      " 6   url             6585 non-null   object \n",
      " 7   image_url       6585 non-null   object \n",
      "dtypes: float64(1), int64(1), object(6)\n",
      "memory usage: 411.7+ KB\n"
     ]
    }
   ],
   "source": [
    "books.info()"
   ]
  },
  {
   "cell_type": "code",
   "execution_count": 5,
   "metadata": {
    "scrolled": true
   },
   "outputs": [
    {
     "data": {
      "text/plain": [
       "(6585, 8)"
      ]
     },
     "execution_count": 5,
     "metadata": {},
     "output_type": "execute_result"
    }
   ],
   "source": [
    "#shape of the final dataframe\n",
    "books.shape"
   ]
  },
  {
   "cell_type": "markdown",
   "metadata": {},
   "source": [
    "## EDA"
   ]
  },
  {
   "cell_type": "code",
   "execution_count": 6,
   "metadata": {},
   "outputs": [
    {
     "data": {
      "text/plain": [
       "book_id           0\n",
       "title             0\n",
       "author            0\n",
       "average_rating    0\n",
       "genre             0\n",
       "description       1\n",
       "url               0\n",
       "image_url         0\n",
       "dtype: int64"
      ]
     },
     "execution_count": 6,
     "metadata": {},
     "output_type": "execute_result"
    }
   ],
   "source": [
    "#checking null values\n",
    "books.isnull().sum()"
   ]
  },
  {
   "cell_type": "code",
   "execution_count": 7,
   "metadata": {},
   "outputs": [
    {
     "data": {
      "text/html": [
       "<div>\n",
       "<style scoped>\n",
       "    .dataframe tbody tr th:only-of-type {\n",
       "        vertical-align: middle;\n",
       "    }\n",
       "\n",
       "    .dataframe tbody tr th {\n",
       "        vertical-align: top;\n",
       "    }\n",
       "\n",
       "    .dataframe thead th {\n",
       "        text-align: right;\n",
       "    }\n",
       "</style>\n",
       "<table border=\"1\" class=\"dataframe\">\n",
       "  <thead>\n",
       "    <tr style=\"text-align: right;\">\n",
       "      <th></th>\n",
       "      <th>book_id</th>\n",
       "      <th>title</th>\n",
       "      <th>author</th>\n",
       "      <th>average_rating</th>\n",
       "      <th>genre</th>\n",
       "      <th>description</th>\n",
       "      <th>url</th>\n",
       "      <th>image_url</th>\n",
       "    </tr>\n",
       "  </thead>\n",
       "  <tbody>\n",
       "    <tr>\n",
       "      <th>6567</th>\n",
       "      <td>117531</td>\n",
       "      <td>Dark Night of the Soul</td>\n",
       "      <td>John of the Cross</td>\n",
       "      <td>4.1</td>\n",
       "      <td>Religion</td>\n",
       "      <td>NaN</td>\n",
       "      <td>https://www.goodreads.com/book/show/117531.Dar...</td>\n",
       "      <td>https://i.gr-assets.com/images/S/compressed.ph...</td>\n",
       "    </tr>\n",
       "  </tbody>\n",
       "</table>\n",
       "</div>"
      ],
      "text/plain": [
       "      book_id                   title             author  average_rating  \\\n",
       "6567   117531  Dark Night of the Soul  John of the Cross             4.1   \n",
       "\n",
       "         genre description                                                url  \\\n",
       "6567  Religion         NaN  https://www.goodreads.com/book/show/117531.Dar...   \n",
       "\n",
       "                                              image_url  \n",
       "6567  https://i.gr-assets.com/images/S/compressed.ph...  "
      ]
     },
     "execution_count": 7,
     "metadata": {},
     "output_type": "execute_result"
    }
   ],
   "source": [
    "is_NaN = books.isnull()\n",
    "row_has_NaN = is_NaN.any(axis=1)\n",
    "rows_with_NaN = books[row_has_NaN]\n",
    "rows_with_NaN\n"
   ]
  },
  {
   "cell_type": "code",
   "execution_count": 8,
   "metadata": {},
   "outputs": [],
   "source": [
    "books  = books.drop(6567)\n"
   ]
  },
  {
   "cell_type": "code",
   "execution_count": 9,
   "metadata": {},
   "outputs": [
    {
     "data": {
      "text/plain": [
       "book_id           0\n",
       "title             0\n",
       "author            0\n",
       "average_rating    0\n",
       "genre             0\n",
       "description       0\n",
       "url               0\n",
       "image_url         0\n",
       "dtype: int64"
      ]
     },
     "execution_count": 9,
     "metadata": {},
     "output_type": "execute_result"
    }
   ],
   "source": [
    "books.isnull().sum()\n"
   ]
  },
  {
   "cell_type": "code",
   "execution_count": 10,
   "metadata": {},
   "outputs": [
    {
     "data": {
      "text/plain": [
       "0"
      ]
     },
     "execution_count": 10,
     "metadata": {},
     "output_type": "execute_result"
    }
   ],
   "source": [
    "#checking duplicate rows\n",
    "books.duplicated().sum()"
   ]
  },
  {
   "cell_type": "code",
   "execution_count": 11,
   "metadata": {},
   "outputs": [],
   "source": [
    "#dropping duplicates\n",
    "books.drop_duplicates(keep = 'first',inplace = True)"
   ]
  },
  {
   "cell_type": "code",
   "execution_count": 12,
   "metadata": {},
   "outputs": [
    {
     "data": {
      "text/plain": [
       "Fiction             1372\n",
       "Fantasy              734\n",
       "Nonfiction           678\n",
       "Classics             425\n",
       "Young Adult          340\n",
       "                    ... \n",
       "Military History       1\n",
       "Humanities             1\n",
       "Love                   1\n",
       "Death                  1\n",
       "Mental Health          1\n",
       "Name: genre, Length: 101, dtype: int64"
      ]
     },
     "execution_count": 12,
     "metadata": {},
     "output_type": "execute_result"
    }
   ],
   "source": [
    "#check value count by genre\n",
    "books.genre.value_counts()"
   ]
  },
  {
   "cell_type": "markdown",
   "metadata": {},
   "source": [
    "### Distribution of data by Genre"
   ]
  },
  {
   "cell_type": "code",
   "execution_count": 13,
   "metadata": {
    "scrolled": false
   },
   "outputs": [
    {
     "data": {
      "text/plain": [
       "<AxesSubplot:>"
      ]
     },
     "execution_count": 13,
     "metadata": {},
     "output_type": "execute_result"
    },
    {
     "data": {
      "image/png": "[encoded data removed]",
      "text/plain": [
       "<Figure size 1440x360 with 1 Axes>"
      ]
     },
     "metadata": {
      "needs_background": "light"
     },
     "output_type": "display_data"
    }
   ],
   "source": [
    "books['genre'].value_counts().plot(x='genre',y = 'count',kind = 'bar',figsize = (20,5))"
   ]
  },
  {
   "cell_type": "markdown",
   "metadata": {},
   "source": [
    "The data is quite unbalanced. we will consider the first six categories for the final analysis."
   ]
  },
  {
   "cell_type": "code",
   "execution_count": 14,
   "metadata": {},
   "outputs": [
    {
     "data": {
      "text/plain": [
       "0"
      ]
     },
     "execution_count": 14,
     "metadata": {},
     "output_type": "execute_result"
    }
   ],
   "source": [
    "#print the title and description of a random sample\n",
    "\n",
    "books.duplicated().sum()"
   ]
  },
  {
   "cell_type": "code",
   "execution_count": 15,
   "metadata": {},
   "outputs": [
    {
     "data": {
      "text/plain": [
       "<seaborn.axisgrid.FacetGrid at 0x289ccc78f70>"
      ]
     },
     "execution_count": 15,
     "metadata": {},
     "output_type": "execute_result"
    },
    {
     "data": {
      "text/plain": [
       "<Figure size 864x720 with 0 Axes>"
      ]
     },
     "metadata": {},
     "output_type": "display_data"
    },
    {
     "data": {
      "image/png": "[encoded data removed]",
      "text/plain": [
       "<Figure size 360x360 with 1 Axes>"
      ]
     },
     "metadata": {
      "needs_background": "light"
     },
     "output_type": "display_data"
    }
   ],
   "source": [
    "#Calculating the word count for book description and adding a new column to the dataframe\n",
    "\n",
    "import seaborn as sns\n",
    "import matplotlib.pyplot as plt\n",
    "\n",
    "books['word_count'] = books['description'].apply(lambda x: len(str(x).split()))  # Plotting the word count\n",
    "plt.figure(figsize=[12, 10])\n",
    "sns.displot(books['word_count'])\n"
   ]
  },
  {
   "cell_type": "markdown",
   "metadata": {},
   "source": [
    "The book descriptions are not too leangthy. Average length of book descriptions are mostly of 200 words."
   ]
  },
  {
   "cell_type": "code",
   "execution_count": 16,
   "metadata": {},
   "outputs": [
    {
     "data": {
      "text/html": [
       "<div>\n",
       "<style scoped>\n",
       "    .dataframe tbody tr th:only-of-type {\n",
       "        vertical-align: middle;\n",
       "    }\n",
       "\n",
       "    .dataframe tbody tr th {\n",
       "        vertical-align: top;\n",
       "    }\n",
       "\n",
       "    .dataframe thead th {\n",
       "        text-align: right;\n",
       "    }\n",
       "</style>\n",
       "<table border=\"1\" class=\"dataframe\">\n",
       "  <thead>\n",
       "    <tr style=\"text-align: right;\">\n",
       "      <th></th>\n",
       "      <th>book_id</th>\n",
       "      <th>title</th>\n",
       "      <th>author</th>\n",
       "      <th>average_rating</th>\n",
       "      <th>genre</th>\n",
       "      <th>description</th>\n",
       "      <th>url</th>\n",
       "      <th>image_url</th>\n",
       "      <th>word_count</th>\n",
       "    </tr>\n",
       "  </thead>\n",
       "  <tbody>\n",
       "    <tr>\n",
       "      <th>0</th>\n",
       "      <td>2657</td>\n",
       "      <td>To Kill a Mockingbird</td>\n",
       "      <td>Harper Lee</td>\n",
       "      <td>4.27</td>\n",
       "      <td>Classics</td>\n",
       "      <td>The unforgettable novel of a childhood in a sl...</td>\n",
       "      <td>https://www.goodreads.com/book/show/2657.To_Ki...</td>\n",
       "      <td>https://i.gr-assets.com/images/S/compressed.ph...</td>\n",
       "      <td>137</td>\n",
       "    </tr>\n",
       "    <tr>\n",
       "      <th>1</th>\n",
       "      <td>3</td>\n",
       "      <td>Harry Potter and the Sorcerer's Stone</td>\n",
       "      <td>J.K. Rowling</td>\n",
       "      <td>4.47</td>\n",
       "      <td>Fantasy</td>\n",
       "      <td>Harry Potter's life is miserable. His parents ...</td>\n",
       "      <td>https://www.goodreads.com/book/show/3.Harry_Po...</td>\n",
       "      <td>https://i.gr-assets.com/images/S/compressed.ph...</td>\n",
       "      <td>220</td>\n",
       "    </tr>\n",
       "    <tr>\n",
       "      <th>2</th>\n",
       "      <td>1885</td>\n",
       "      <td>Pride and Prejudice</td>\n",
       "      <td>Jane Austen</td>\n",
       "      <td>4.27</td>\n",
       "      <td>Classics</td>\n",
       "      <td>Alternate cover edition of ISBN 9780679783268S...</td>\n",
       "      <td>https://www.goodreads.com/book/show/1885.Pride...</td>\n",
       "      <td>https://i.gr-assets.com/images/S/compressed.ph...</td>\n",
       "      <td>100</td>\n",
       "    </tr>\n",
       "    <tr>\n",
       "      <th>3</th>\n",
       "      <td>48855</td>\n",
       "      <td>The Diary of a Young Girl</td>\n",
       "      <td>Anne Frank</td>\n",
       "      <td>4.17</td>\n",
       "      <td>Nonfiction</td>\n",
       "      <td>Discovered in the attic in which she spent the...</td>\n",
       "      <td>https://www.goodreads.com/book/show/48855.The_...</td>\n",
       "      <td>https://i.gr-assets.com/images/S/compressed.ph...</td>\n",
       "      <td>166</td>\n",
       "    </tr>\n",
       "    <tr>\n",
       "      <th>4</th>\n",
       "      <td>170448</td>\n",
       "      <td>Animal Farm</td>\n",
       "      <td>George Orwell</td>\n",
       "      <td>3.97</td>\n",
       "      <td>Classics</td>\n",
       "      <td>Librarian's note: There is an Alternate Cover ...</td>\n",
       "      <td>https://www.goodreads.com/book/show/170448.Ani...</td>\n",
       "      <td>https://i.gr-assets.com/images/S/compressed.ph...</td>\n",
       "      <td>123</td>\n",
       "    </tr>\n",
       "  </tbody>\n",
       "</table>\n",
       "</div>"
      ],
      "text/plain": [
       "   book_id                                  title         author  \\\n",
       "0     2657                  To Kill a Mockingbird     Harper Lee   \n",
       "1        3  Harry Potter and the Sorcerer's Stone   J.K. Rowling   \n",
       "2     1885                    Pride and Prejudice    Jane Austen   \n",
       "3    48855              The Diary of a Young Girl     Anne Frank   \n",
       "4   170448                            Animal Farm  George Orwell   \n",
       "\n",
       "   average_rating       genre  \\\n",
       "0            4.27    Classics   \n",
       "1            4.47     Fantasy   \n",
       "2            4.27    Classics   \n",
       "3            4.17  Nonfiction   \n",
       "4            3.97    Classics   \n",
       "\n",
       "                                         description  \\\n",
       "0  The unforgettable novel of a childhood in a sl...   \n",
       "1  Harry Potter's life is miserable. His parents ...   \n",
       "2  Alternate cover edition of ISBN 9780679783268S...   \n",
       "3  Discovered in the attic in which she spent the...   \n",
       "4  Librarian's note: There is an Alternate Cover ...   \n",
       "\n",
       "                                                 url  \\\n",
       "0  https://www.goodreads.com/book/show/2657.To_Ki...   \n",
       "1  https://www.goodreads.com/book/show/3.Harry_Po...   \n",
       "2  https://www.goodreads.com/book/show/1885.Pride...   \n",
       "3  https://www.goodreads.com/book/show/48855.The_...   \n",
       "4  https://www.goodreads.com/book/show/170448.Ani...   \n",
       "\n",
       "                                           image_url  word_count  \n",
       "0  https://i.gr-assets.com/images/S/compressed.ph...         137  \n",
       "1  https://i.gr-assets.com/images/S/compressed.ph...         220  \n",
       "2  https://i.gr-assets.com/images/S/compressed.ph...         100  \n",
       "3  https://i.gr-assets.com/images/S/compressed.ph...         166  \n",
       "4  https://i.gr-assets.com/images/S/compressed.ph...         123  "
      ]
     },
     "execution_count": 16,
     "metadata": {},
     "output_type": "execute_result"
    }
   ],
   "source": [
    "books.head()"
   ]
  },
  {
   "cell_type": "markdown",
   "metadata": {},
   "source": [
    "## Data Preprocessing"
   ]
  },
  {
   "cell_type": "code",
   "execution_count": 17,
   "metadata": {},
   "outputs": [
    {
     "data": {
      "text/plain": [
       "array(['Classics', 'Fantasy', 'Nonfiction', 'Historical', 'Fiction',\n",
       "       'Young Adult', 'Childrens', 'Science Fiction', 'Poetry', 'Horror',\n",
       "       'Religion', 'History', 'Mystery', 'Travel', 'Romance',\n",
       "       'Philosophy', 'Thriller', 'Sequential Art', 'Academic', 'Science',\n",
       "       'Self Help', 'Language', 'Plays', 'Christian', 'Contemporary',\n",
       "       'Drama', 'Autobiography', 'Esoterica', 'Short Stories', 'Crime',\n",
       "       'Psychology', 'Feminism', 'Christian Fiction', 'Biography',\n",
       "       'Business', 'Novels', 'Paranormal', 'Apocalyptic', 'Inspirational',\n",
       "       'Economics', 'Spirituality', 'Epic', 'Book Club', 'Marriage',\n",
       "       'Education', 'Humor', 'Art', 'Politics', 'Polyamorous',\n",
       "       'Womens Fiction', 'Health', 'New Adult', 'Erotica',\n",
       "       'Shapeshifters', 'War', 'Design', 'Cultural', 'Adult', 'Parenting',\n",
       "       'Realistic Fiction', 'Gender', 'Gothic', 'Animals', 'LGBT',\n",
       "       'Modern', 'Literature', 'Music', 'Dark', 'Leadership', 'Adventure',\n",
       "       'Suspense', 'Westerns', 'Adult Fiction', 'Holiday',\n",
       "       'Food and Drink', 'Architecture', 'Relationships',\n",
       "       'Asian Literature', 'Games', 'World War II', 'Occult', 'Sports',\n",
       "       'True Story', 'Anthologies', 'Military History', 'Audiobook',\n",
       "       'Sociology', 'Christianity', 'Lds', 'Northern Africa', 'Death',\n",
       "       'Race', 'Anthropology', 'European Literature', 'Media Tie In',\n",
       "       'Love', 'Writing', 'Mental Health', 'Humanities', 'Culture',\n",
       "       'Prayer'], dtype=object)"
      ]
     },
     "execution_count": 17,
     "metadata": {},
     "output_type": "execute_result"
    }
   ],
   "source": [
    "books['genre'].unique()"
   ]
  },
  {
   "cell_type": "code",
   "execution_count": 18,
   "metadata": {},
   "outputs": [],
   "source": [
    "#filtering #1  books with genres consiting more than 100 books\n",
    "df = books[books['genre'].map(books['genre'].value_counts()) > 100]"
   ]
  },
  {
   "cell_type": "code",
   "execution_count": 19,
   "metadata": {},
   "outputs": [
    {
     "data": {
      "text/plain": [
       "Fiction            1372\n",
       "Fantasy             734\n",
       "Nonfiction          678\n",
       "Classics            425\n",
       "Young Adult         340\n",
       "Historical          331\n",
       "Mystery             257\n",
       "Romance             223\n",
       "Science Fiction     213\n",
       "Thriller            156\n",
       "History             151\n",
       "Horror              150\n",
       "Philosophy          104\n",
       "Poetry              101\n",
       "Name: genre, dtype: int64"
      ]
     },
     "execution_count": 19,
     "metadata": {},
     "output_type": "execute_result"
    }
   ],
   "source": [
    "df['genre'].value_counts()"
   ]
  },
  {
   "cell_type": "code",
   "execution_count": 20,
   "metadata": {},
   "outputs": [],
   "source": [
    "# creating a sub dataframe of fiction books with  less than 160 word count.\n",
    "# As description is our main criteria for model accuracy and prediction , we are removing the books which has low word count.\n",
    "df2 = df[(df.genre == 'Fiction') & (df.word_count <= 160)]\n",
    "# dropping the  rows created in df2 from the df column.\n",
    "df.drop(df2.index,axis=0,inplace=True)"
   ]
  },
  {
   "cell_type": "code",
   "execution_count": 21,
   "metadata": {},
   "outputs": [
    {
     "data": {
      "text/plain": [
       "Fantasy            734\n",
       "Nonfiction         678\n",
       "Fiction            499\n",
       "Classics           425\n",
       "Young Adult        340\n",
       "Historical         331\n",
       "Mystery            257\n",
       "Romance            223\n",
       "Science Fiction    213\n",
       "Thriller           156\n",
       "History            151\n",
       "Horror             150\n",
       "Philosophy         104\n",
       "Poetry             101\n",
       "Name: genre, dtype: int64"
      ]
     },
     "execution_count": 21,
     "metadata": {},
     "output_type": "execute_result"
    }
   ],
   "source": [
    "df.genre.value_counts()\n",
    "# Updated genre count."
   ]
  },
  {
   "cell_type": "code",
   "execution_count": 22,
   "metadata": {},
   "outputs": [
    {
     "data": {
      "text/plain": [
       "array([<AxesSubplot:ylabel='genre'>], dtype=object)"
      ]
     },
     "execution_count": 22,
     "metadata": {},
     "output_type": "execute_result"
    },
    {
     "data": {
      "image/png": "[encoded data removed]",
      "text/plain": [
       "<Figure size 1080x720 with 1 Axes>"
      ]
     },
     "metadata": {},
     "output_type": "display_data"
    }
   ],
   "source": [
    "df.genre.value_counts().plot(kind='pie', subplots=True, startangle=90,\n",
    "figsize=(15,10), autopct='%1.1f%%')"
   ]
  },
  {
   "cell_type": "code",
   "execution_count": 23,
   "metadata": {},
   "outputs": [],
   "source": [
    "# Label encoding the Class column : Abusive = 0 and Non Abusive = 1\n",
    "\n",
    "le = preprocessing.LabelEncoder()\n",
    "le_fit = le.fit_transform(df.genre)\n",
    "df['genre_le'] = le.fit_transform(df.genre)\n"
   ]
  },
  {
   "cell_type": "code",
   "execution_count": 24,
   "metadata": {},
   "outputs": [
    {
     "data": {
      "text/plain": [
       "array([ 0,  1,  0, ...,  0, 13,  4])"
      ]
     },
     "execution_count": 24,
     "metadata": {},
     "output_type": "execute_result"
    }
   ],
   "source": [
    "le_fit"
   ]
  },
  {
   "cell_type": "code",
   "execution_count": 25,
   "metadata": {},
   "outputs": [],
   "source": [
    "df['author'] = df['author'].str.replace(\" \",\"\")\n",
    "df['tags'] = df['author'] + \" \" + df['title'] + \" \" + df['description']\n",
    "df.drop(['word_count', 'author', 'description'], axis=1, inplace=True)\n",
    "\n"
   ]
  },
  {
   "cell_type": "code",
   "execution_count": 26,
   "metadata": {},
   "outputs": [],
   "source": [
    "#text cleaning,lowercase,removing special characters and stemming words. Note: We are handling stopwords directly using CountVectorizer's inbuilt stop_words functions.\n",
    "#stemming\n",
    "ps = PorterStemmer()\n",
    "def clean_summary(text):\n",
    "    # removing everything other than alphabets and numbers with spaces\n",
    "    text = re.sub('\\W+', ' ', text)\n",
    "    text = text.lower()  # converts all the text to lowercase\n",
    "    #stemming words now.\n",
    "    y = []\n",
    "    for i in text.split():\n",
    "        y.append(ps.stem(i))\n",
    "    return \" \".join(y)\n"
   ]
  },
  {
   "cell_type": "code",
   "execution_count": 27,
   "metadata": {},
   "outputs": [
    {
     "data": {
      "text/html": [
       "<div>\n",
       "<style scoped>\n",
       "    .dataframe tbody tr th:only-of-type {\n",
       "        vertical-align: middle;\n",
       "    }\n",
       "\n",
       "    .dataframe tbody tr th {\n",
       "        vertical-align: top;\n",
       "    }\n",
       "\n",
       "    .dataframe thead th {\n",
       "        text-align: right;\n",
       "    }\n",
       "</style>\n",
       "<table border=\"1\" class=\"dataframe\">\n",
       "  <thead>\n",
       "    <tr style=\"text-align: right;\">\n",
       "      <th></th>\n",
       "      <th>book_id</th>\n",
       "      <th>title</th>\n",
       "      <th>average_rating</th>\n",
       "      <th>genre</th>\n",
       "      <th>url</th>\n",
       "      <th>image_url</th>\n",
       "      <th>genre_le</th>\n",
       "      <th>tags</th>\n",
       "    </tr>\n",
       "  </thead>\n",
       "  <tbody>\n",
       "    <tr>\n",
       "      <th>548</th>\n",
       "      <td>78427</td>\n",
       "      <td>The Total Money Makeover: A Proven Plan for Fi...</td>\n",
       "      <td>4.22</td>\n",
       "      <td>Nonfiction</td>\n",
       "      <td>https://www.goodreads.com/book/show/78427.The_...</td>\n",
       "      <td>https://i.gr-assets.com/images/S/compressed.ph...</td>\n",
       "      <td>7</td>\n",
       "      <td>daveramsey the total money makeov a proven pla...</td>\n",
       "    </tr>\n",
       "    <tr>\n",
       "      <th>5173</th>\n",
       "      <td>16067631</td>\n",
       "      <td>La bibliotecaria de Auschwitz</td>\n",
       "      <td>4.13</td>\n",
       "      <td>Historical</td>\n",
       "      <td>https://www.goodreads.com/book/show/16067631-l...</td>\n",
       "      <td>https://i.gr-assets.com/images/S/compressed.ph...</td>\n",
       "      <td>3</td>\n",
       "      <td>antonioiturb la bibliotecaria de auschwitz sob...</td>\n",
       "    </tr>\n",
       "    <tr>\n",
       "      <th>1749</th>\n",
       "      <td>781787</td>\n",
       "      <td>Out of Africa</td>\n",
       "      <td>3.89</td>\n",
       "      <td>Nonfiction</td>\n",
       "      <td>https://www.goodreads.com/book/show/781787.Out...</td>\n",
       "      <td>https://i.gr-assets.com/images/S/compressed.ph...</td>\n",
       "      <td>7</td>\n",
       "      <td>isakdinesen out of africa out of africa is isa...</td>\n",
       "    </tr>\n",
       "    <tr>\n",
       "      <th>3303</th>\n",
       "      <td>36626748</td>\n",
       "      <td>The Last Time I Lied</td>\n",
       "      <td>4.05</td>\n",
       "      <td>Thriller</td>\n",
       "      <td>https://www.goodreads.com/book/show/36626748-t...</td>\n",
       "      <td>https://i.gr-assets.com/images/S/compressed.ph...</td>\n",
       "      <td>12</td>\n",
       "      <td>rileysag the last time i lie fifteen year ago ...</td>\n",
       "    </tr>\n",
       "    <tr>\n",
       "      <th>257</th>\n",
       "      <td>30118</td>\n",
       "      <td>A Light in the Attic</td>\n",
       "      <td>4.33</td>\n",
       "      <td>Poetry</td>\n",
       "      <td>https://www.goodreads.com/book/show/30118.A_Li...</td>\n",
       "      <td>https://i.gr-assets.com/images/S/compressed.ph...</td>\n",
       "      <td>9</td>\n",
       "      <td>shelsilverstein a light in the attic last nigh...</td>\n",
       "    </tr>\n",
       "    <tr>\n",
       "      <th>2343</th>\n",
       "      <td>15842439</td>\n",
       "      <td>Warm Bodies</td>\n",
       "      <td>3.91</td>\n",
       "      <td>Romance</td>\n",
       "      <td>https://www.goodreads.com/book/show/15842439-w...</td>\n",
       "      <td>https://i.gr-assets.com/images/S/compressed.ph...</td>\n",
       "      <td>10</td>\n",
       "      <td>isaacmarion warm bodi now a major motion pictu...</td>\n",
       "    </tr>\n",
       "    <tr>\n",
       "      <th>6345</th>\n",
       "      <td>30551</td>\n",
       "      <td>Why Orwell Matters</td>\n",
       "      <td>3.95</td>\n",
       "      <td>Nonfiction</td>\n",
       "      <td>https://www.goodreads.com/book/show/30551.Why_...</td>\n",
       "      <td>https://i.gr-assets.com/images/S/compressed.ph...</td>\n",
       "      <td>7</td>\n",
       "      <td>christopherhitchen whi orwel matter in thi wid...</td>\n",
       "    </tr>\n",
       "    <tr>\n",
       "      <th>1954</th>\n",
       "      <td>34273236</td>\n",
       "      <td>Little Fires Everywhere</td>\n",
       "      <td>4.09</td>\n",
       "      <td>Fiction</td>\n",
       "      <td>https://www.goodreads.com/book/show/34273236-l...</td>\n",
       "      <td>https://i.gr-assets.com/images/S/compressed.ph...</td>\n",
       "      <td>2</td>\n",
       "      <td>celesteng littl fire everywher in shaker heigh...</td>\n",
       "    </tr>\n",
       "    <tr>\n",
       "      <th>6422</th>\n",
       "      <td>7405450</td>\n",
       "      <td>Rock Chick Rescue</td>\n",
       "      <td>4.30</td>\n",
       "      <td>Romance</td>\n",
       "      <td>https://www.goodreads.com/book/show/7405450-ro...</td>\n",
       "      <td>https://i.gr-assets.com/images/S/compressed.ph...</td>\n",
       "      <td>10</td>\n",
       "      <td>kristenashley rock chick rescu jet mcalist ha ...</td>\n",
       "    </tr>\n",
       "    <tr>\n",
       "      <th>5030</th>\n",
       "      <td>18126198</td>\n",
       "      <td>Four: A Divergent Story Collection</td>\n",
       "      <td>4.00</td>\n",
       "      <td>Young Adult</td>\n",
       "      <td>https://www.goodreads.com/book/show/18126198-four</td>\n",
       "      <td>https://i.gr-assets.com/images/S/compressed.ph...</td>\n",
       "      <td>13</td>\n",
       "      <td>veronicaroth four a diverg stori collect two y...</td>\n",
       "    </tr>\n",
       "  </tbody>\n",
       "</table>\n",
       "</div>"
      ],
      "text/plain": [
       "       book_id                                              title  \\\n",
       "548      78427  The Total Money Makeover: A Proven Plan for Fi...   \n",
       "5173  16067631                      La bibliotecaria de Auschwitz   \n",
       "1749    781787                                      Out of Africa   \n",
       "3303  36626748                               The Last Time I Lied   \n",
       "257      30118                               A Light in the Attic   \n",
       "2343  15842439                                        Warm Bodies   \n",
       "6345     30551                                 Why Orwell Matters   \n",
       "1954  34273236                            Little Fires Everywhere   \n",
       "6422   7405450                                  Rock Chick Rescue   \n",
       "5030  18126198                 Four: A Divergent Story Collection   \n",
       "\n",
       "      average_rating        genre  \\\n",
       "548             4.22   Nonfiction   \n",
       "5173            4.13   Historical   \n",
       "1749            3.89   Nonfiction   \n",
       "3303            4.05     Thriller   \n",
       "257             4.33       Poetry   \n",
       "2343            3.91      Romance   \n",
       "6345            3.95   Nonfiction   \n",
       "1954            4.09      Fiction   \n",
       "6422            4.30      Romance   \n",
       "5030            4.00  Young Adult   \n",
       "\n",
       "                                                    url  \\\n",
       "548   https://www.goodreads.com/book/show/78427.The_...   \n",
       "5173  https://www.goodreads.com/book/show/16067631-l...   \n",
       "1749  https://www.goodreads.com/book/show/781787.Out...   \n",
       "3303  https://www.goodreads.com/book/show/36626748-t...   \n",
       "257   https://www.goodreads.com/book/show/30118.A_Li...   \n",
       "2343  https://www.goodreads.com/book/show/15842439-w...   \n",
       "6345  https://www.goodreads.com/book/show/30551.Why_...   \n",
       "1954  https://www.goodreads.com/book/show/34273236-l...   \n",
       "6422  https://www.goodreads.com/book/show/7405450-ro...   \n",
       "5030  https://www.goodreads.com/book/show/18126198-four   \n",
       "\n",
       "                                              image_url  genre_le  \\\n",
       "548   https://i.gr-assets.com/images/S/compressed.ph...         7   \n",
       "5173  https://i.gr-assets.com/images/S/compressed.ph...         3   \n",
       "1749  https://i.gr-assets.com/images/S/compressed.ph...         7   \n",
       "3303  https://i.gr-assets.com/images/S/compressed.ph...        12   \n",
       "257   https://i.gr-assets.com/images/S/compressed.ph...         9   \n",
       "2343  https://i.gr-assets.com/images/S/compressed.ph...        10   \n",
       "6345  https://i.gr-assets.com/images/S/compressed.ph...         7   \n",
       "1954  https://i.gr-assets.com/images/S/compressed.ph...         2   \n",
       "6422  https://i.gr-assets.com/images/S/compressed.ph...        10   \n",
       "5030  https://i.gr-assets.com/images/S/compressed.ph...        13   \n",
       "\n",
       "                                                   tags  \n",
       "548   daveramsey the total money makeov a proven pla...  \n",
       "5173  antonioiturb la bibliotecaria de auschwitz sob...  \n",
       "1749  isakdinesen out of africa out of africa is isa...  \n",
       "3303  rileysag the last time i lie fifteen year ago ...  \n",
       "257   shelsilverstein a light in the attic last nigh...  \n",
       "2343  isaacmarion warm bodi now a major motion pictu...  \n",
       "6345  christopherhitchen whi orwel matter in thi wid...  \n",
       "1954  celesteng littl fire everywher in shaker heigh...  \n",
       "6422  kristenashley rock chick rescu jet mcalist ha ...  \n",
       "5030  veronicaroth four a diverg stori collect two y...  "
      ]
     },
     "execution_count": 27,
     "metadata": {},
     "output_type": "execute_result"
    }
   ],
   "source": [
    "df['tags'] = df['tags'].apply(clean_summary)\n",
    "df.sample(10)\n"
   ]
  },
  {
   "cell_type": "code",
   "execution_count": 28,
   "metadata": {},
   "outputs": [],
   "source": [
    "# assign the independent features (text) to X variable and the target to y\n",
    "X = pd.DataFrame(df['tags'])\n",
    "y = df['genre_le']\n"
   ]
  },
  {
   "cell_type": "code",
   "execution_count": 29,
   "metadata": {},
   "outputs": [
    {
     "data": {
      "text/plain": [
       "0        0\n",
       "1        1\n",
       "2        0\n",
       "3        7\n",
       "4        0\n",
       "        ..\n",
       "6579     0\n",
       "6580     1\n",
       "6582     0\n",
       "6583    13\n",
       "6584     4\n",
       "Name: genre_le, Length: 4362, dtype: int32"
      ]
     },
     "execution_count": 29,
     "metadata": {},
     "output_type": "execute_result"
    }
   ],
   "source": [
    "y"
   ]
  },
  {
   "cell_type": "code",
   "execution_count": 30,
   "metadata": {},
   "outputs": [],
   "source": [
    "from imblearn.over_sampling import RandomOverSampler\n",
    "from imblearn.under_sampling import RandomUnderSampler"
   ]
  },
  {
   "cell_type": "code",
   "execution_count": 31,
   "metadata": {
    "scrolled": true
   },
   "outputs": [
    {
     "data": {
      "text/plain": [
       "1     734\n",
       "7     678\n",
       "2     499\n",
       "0     425\n",
       "13    340\n",
       "3     331\n",
       "6     257\n",
       "10    223\n",
       "11    213\n",
       "12    156\n",
       "4     151\n",
       "5     150\n",
       "8     104\n",
       "9     101\n",
       "Name: genre_le, dtype: int64"
      ]
     },
     "execution_count": 31,
     "metadata": {},
     "output_type": "execute_result"
    }
   ],
   "source": [
    "y.value_counts()"
   ]
  },
  {
   "cell_type": "code",
   "execution_count": 32,
   "metadata": {},
   "outputs": [],
   "source": [
    "#performing oversampling on most genres.\n",
    "strategy = {0:500, 1:734, 2:500, 3:500, 4:500, 5:500,6:500,7:678,8:500,9:500,10:500,11:500,12:500,13:500}\n",
    "os = RandomOverSampler(sampling_strategy = strategy)"
   ]
  },
  {
   "cell_type": "code",
   "execution_count": 33,
   "metadata": {},
   "outputs": [],
   "source": [
    "X_rs, y_rs = os.fit_resample(X,y)"
   ]
  },
  {
   "cell_type": "code",
   "execution_count": 34,
   "metadata": {},
   "outputs": [
    {
     "name": "stdout",
     "output_type": "stream",
     "text": [
      "Counter({1: 734, 7: 678, 2: 499, 0: 425, 13: 340, 3: 331, 6: 257, 10: 223, 11: 213, 12: 156, 4: 151, 5: 150, 8: 104, 9: 101})\n"
     ]
    }
   ],
   "source": [
    "from collections import Counter\n",
    "print(Counter(y))\n"
   ]
  },
  {
   "cell_type": "code",
   "execution_count": 35,
   "metadata": {},
   "outputs": [
    {
     "name": "stdout",
     "output_type": "stream",
     "text": [
      "Counter({1: 734, 7: 678, 0: 500, 3: 500, 13: 500, 11: 500, 9: 500, 2: 500, 5: 500, 4: 500, 6: 500, 10: 500, 8: 500, 12: 500})\n"
     ]
    }
   ],
   "source": [
    "print(Counter(y_rs))"
   ]
  },
  {
   "cell_type": "code",
   "execution_count": 36,
   "metadata": {},
   "outputs": [],
   "source": [
    "#performing undersampling on class 2\n",
    "strategy = {0:500, 1:500, 2:500, 3:500, 4:500, 5:500,6:500,7:500,8:500,9:500,10:500,11:500,12:500,13:500}\n",
    "us = RandomUnderSampler(sampling_strategy = strategy)"
   ]
  },
  {
   "cell_type": "code",
   "execution_count": 37,
   "metadata": {},
   "outputs": [],
   "source": [
    "X_new, y_new = us.fit_resample(X_rs,y_rs)"
   ]
  },
  {
   "cell_type": "code",
   "execution_count": 38,
   "metadata": {},
   "outputs": [
    {
     "name": "stdout",
     "output_type": "stream",
     "text": [
      "Counter({0: 500, 1: 500, 2: 500, 3: 500, 4: 500, 5: 500, 6: 500, 7: 500, 8: 500, 9: 500, 10: 500, 11: 500, 12: 500, 13: 500})\n"
     ]
    }
   ],
   "source": [
    "print(Counter(y_new))"
   ]
  },
  {
   "cell_type": "code",
   "execution_count": 39,
   "metadata": {
    "scrolled": true
   },
   "outputs": [
    {
     "data": {
      "text/plain": [
       "<AxesSubplot:>"
      ]
     },
     "execution_count": 39,
     "metadata": {},
     "output_type": "execute_result"
    },
    {
     "data": {
      "image/png": "[encoded data removed]",
      "text/plain": [
       "<Figure size 432x288 with 1 Axes>"
      ]
     },
     "metadata": {
      "needs_background": "light"
     },
     "output_type": "display_data"
    }
   ],
   "source": [
    "y_new.value_counts().plot(x='y_new',y = 'count',kind = 'bar')"
   ]
  },
  {
   "cell_type": "code",
   "execution_count": 40,
   "metadata": {},
   "outputs": [
    {
     "data": {
      "text/plain": [
       "(7000,)"
      ]
     },
     "execution_count": 40,
     "metadata": {},
     "output_type": "execute_result"
    }
   ],
   "source": [
    "y_new.shape"
   ]
  },
  {
   "cell_type": "markdown",
   "metadata": {},
   "source": [
    "## Split the dataset into Train and Test sets"
   ]
  },
  {
   "cell_type": "code",
   "execution_count": 41,
   "metadata": {},
   "outputs": [],
   "source": [
    "#split data into training 80% and test 20%\n",
    "X_train, X_test, y_train, y_test = train_test_split(X_new, y_new, test_size=0.20)"
   ]
  },
  {
   "cell_type": "code",
   "execution_count": 42,
   "metadata": {
    "scrolled": false
   },
   "outputs": [
    {
     "data": {
      "text/html": [
       "<div>\n",
       "<style scoped>\n",
       "    .dataframe tbody tr th:only-of-type {\n",
       "        vertical-align: middle;\n",
       "    }\n",
       "\n",
       "    .dataframe tbody tr th {\n",
       "        vertical-align: top;\n",
       "    }\n",
       "\n",
       "    .dataframe thead th {\n",
       "        text-align: right;\n",
       "    }\n",
       "</style>\n",
       "<table border=\"1\" class=\"dataframe\">\n",
       "  <thead>\n",
       "    <tr style=\"text-align: right;\">\n",
       "      <th></th>\n",
       "      <th>tags</th>\n",
       "    </tr>\n",
       "  </thead>\n",
       "  <tbody>\n",
       "    <tr>\n",
       "      <th>3871</th>\n",
       "      <td>eriklarson dead wake the last cross of the lus...</td>\n",
       "    </tr>\n",
       "    <tr>\n",
       "      <th>6163</th>\n",
       "      <td>claremackintosh i see you the twisti grip numb...</td>\n",
       "    </tr>\n",
       "    <tr>\n",
       "      <th>2424</th>\n",
       "      <td>charlesc mann 1491 new revel of the america be...</td>\n",
       "    </tr>\n",
       "    <tr>\n",
       "      <th>3166</th>\n",
       "      <td>trentonleestewart the mysteri benedict societi...</td>\n",
       "    </tr>\n",
       "    <tr>\n",
       "      <th>1683</th>\n",
       "      <td>oliverpötzsch the hangman s daughter magdalena...</td>\n",
       "    </tr>\n",
       "  </tbody>\n",
       "</table>\n",
       "</div>"
      ],
      "text/plain": [
       "                                                   tags\n",
       "3871  eriklarson dead wake the last cross of the lus...\n",
       "6163  claremackintosh i see you the twisti grip numb...\n",
       "2424  charlesc mann 1491 new revel of the america be...\n",
       "3166  trentonleestewart the mysteri benedict societi...\n",
       "1683  oliverpötzsch the hangman s daughter magdalena..."
      ]
     },
     "execution_count": 42,
     "metadata": {},
     "output_type": "execute_result"
    }
   ],
   "source": [
    "X_train.head()"
   ]
  },
  {
   "cell_type": "code",
   "execution_count": 43,
   "metadata": {},
   "outputs": [
    {
     "data": {
      "text/plain": [
       "3871    eriklarson dead wake the last cross of the lus...\n",
       "6163    claremackintosh i see you the twisti grip numb...\n",
       "2424    charlesc mann 1491 new revel of the america be...\n",
       "3166    trentonleestewart the mysteri benedict societi...\n",
       "1683    oliverpötzsch the hangman s daughter magdalena...\n",
       "Name: tags, dtype: object"
      ]
     },
     "execution_count": 43,
     "metadata": {},
     "output_type": "execute_result"
    }
   ],
   "source": [
    "x_train = X_train.iloc[:,0]\n",
    "x_train.head()"
   ]
  },
  {
   "cell_type": "markdown",
   "metadata": {},
   "source": [
    "## CountVectorizer - Feature Extraction"
   ]
  },
  {
   "cell_type": "code",
   "execution_count": 44,
   "metadata": {},
   "outputs": [],
   "source": [
    "#using countvectorizer and setting max features and handling stopwords.\n",
    "cv = CountVectorizer(max_features = 10000,stop_words = 'english')"
   ]
  },
  {
   "cell_type": "code",
   "execution_count": 45,
   "metadata": {},
   "outputs": [
    {
     "data": {
      "text/plain": [
       "array([[0, 0, 0, ..., 0, 0, 0],\n",
       "       [0, 0, 0, ..., 0, 0, 0],\n",
       "       [0, 0, 0, ..., 0, 0, 0],\n",
       "       ...,\n",
       "       [0, 0, 0, ..., 0, 0, 0],\n",
       "       [0, 0, 0, ..., 0, 0, 0],\n",
       "       [0, 0, 0, ..., 0, 0, 0]], dtype=int64)"
      ]
     },
     "execution_count": 45,
     "metadata": {},
     "output_type": "execute_result"
    }
   ],
   "source": [
    "x = cv.fit_transform(x_train).toarray()\n",
    "x"
   ]
  },
  {
   "cell_type": "code",
   "execution_count": 46,
   "metadata": {},
   "outputs": [
    {
     "data": {
      "text/plain": [
       "3837    lindywest shrill note from a loud woman come o...\n",
       "897     terrypratchett reaper man death ha to happen t...\n",
       "1957    jamesa michen caribbean in thi acclaim classic...\n",
       "5855    iainm bank the algebraist it is 4034 human ha ...\n",
       "914     lucianban the judgement ruin wake up on earth ...\n",
       "Name: tags, dtype: object"
      ]
     },
     "execution_count": 46,
     "metadata": {},
     "output_type": "execute_result"
    }
   ],
   "source": [
    "x_test = X_test.iloc[:,0]\n",
    "x_test.head()"
   ]
  },
  {
   "cell_type": "code",
   "execution_count": 47,
   "metadata": {},
   "outputs": [
    {
     "data": {
      "text/plain": [
       "(1400, 10000)"
      ]
     },
     "execution_count": 47,
     "metadata": {},
     "output_type": "execute_result"
    }
   ],
   "source": [
    "test_x = cv.transform(x_test).toarray()\n",
    "test_x.shape"
   ]
  },
  {
   "cell_type": "markdown",
   "metadata": {},
   "source": [
    "## Model Fitting"
   ]
  },
  {
   "cell_type": "code",
   "execution_count": 48,
   "metadata": {},
   "outputs": [],
   "source": [
    "# Creating empty lists to store model training time, model predicting time, model accuracy scores, model precision scores.\n",
    "training_time = []\n",
    "predicting_time = []\n",
    "accuracy_scores = []\n",
    "train_accuracy_scores = []\n",
    "precision_scores = []\n",
    "recall_scores = []\n",
    "f1_scores = []"
   ]
  },
  {
   "cell_type": "code",
   "execution_count": 49,
   "metadata": {},
   "outputs": [],
   "source": [
    "model1 = MultinomialNB()"
   ]
  },
  {
   "cell_type": "code",
   "execution_count": 50,
   "metadata": {},
   "outputs": [
    {
     "name": "stdout",
     "output_type": "stream",
     "text": [
      "\n",
      "Training time: 7.653 s\n",
      "\n"
     ]
    }
   ],
   "source": [
    "#train model and predict model training time\n",
    "t0 = time()\n",
    "model1.fit(x, y_train)\n",
    "print(\"\\nTraining time:\", round(time()-t0, 3), \"s\\n\")\n",
    "training_time.append(round(time()-t0, 3))"
   ]
  },
  {
   "cell_type": "code",
   "execution_count": 51,
   "metadata": {},
   "outputs": [
    {
     "name": "stdout",
     "output_type": "stream",
     "text": [
      "Predicting time: 0.114 s\n",
      "\n",
      "\n",
      "Accuracy Score for training data:  0.9583928571428572\n"
     ]
    }
   ],
   "source": [
    "# Predict using the trained model on test data.\n",
    "t1 = time()\n",
    "predicted = model1.predict(test_x)\n",
    "print(\"Predicting time:\", round(time()-t1, 3), \"s\\n\")\n",
    "predicting_time.append(round(time()-t1, 3))\n",
    "\n",
    "# predicting train data.\n",
    "train_pred1 = model1.predict(x)\n",
    "print('\\nAccuracy Score for training data: ',accuracy_score(y_train,train_pred1))\n",
    "train_accuracy_scores.append(accuracy_score(y_train,train_pred1))"
   ]
  },
  {
   "cell_type": "code",
   "execution_count": 52,
   "metadata": {},
   "outputs": [
    {
     "name": "stdout",
     "output_type": "stream",
     "text": [
      "\n",
      "Accuracy Score 0.8407142857142857\n",
      "Classification Report:\n",
      "               precision    recall  f1-score   support\n",
      "\n",
      "           0       0.87      0.78      0.82        85\n",
      "           1       0.81      0.80      0.81       101\n",
      "           2       0.53      0.67      0.59       104\n",
      "           3       0.79      0.79      0.79       102\n",
      "           4       0.92      0.95      0.94       101\n",
      "           5       0.94      0.91      0.93       102\n",
      "           6       0.85      0.89      0.87        92\n",
      "           7       0.77      0.65      0.71        98\n",
      "           8       0.96      1.00      0.98       108\n",
      "           9       0.96      0.94      0.95       106\n",
      "          10       0.84      0.88      0.86       105\n",
      "          11       0.94      0.84      0.89        99\n",
      "          12       0.85      0.90      0.88        93\n",
      "          13       0.81      0.74      0.77       104\n",
      "\n",
      "    accuracy                           0.84      1400\n",
      "   macro avg       0.85      0.84      0.84      1400\n",
      "weighted avg       0.85      0.84      0.84      1400\n",
      "\n",
      "confusion matrix:\n",
      " [[ 66   2   1   4   1   1   0   0   1   1   3   1   1   3]\n",
      " [  2  81   6   0   0   0   2   1   0   0   5   0   0   4]\n",
      " [  6   3  70   9   0   2   1   4   0   0   0   2   7   0]\n",
      " [  1   3  10  81   4   0   0   1   0   0   0   0   2   0]\n",
      " [  0   0   0   0  96   0   1   3   1   0   0   0   0   0]\n",
      " [  0   0   1   0   0  93   0   0   0   0   1   1   0   6]\n",
      " [  0   0   6   0   0   0  82   0   0   0   0   0   3   1]\n",
      " [  1   1  15   4   3   1   1  64   2   0   3   1   2   0]\n",
      " [  0   0   0   0   0   0   0   0 108   0   0   0   0   0]\n",
      " [  0   0   0   0   0   0   0   6   0 100   0   0   0   0]\n",
      " [  0   1   5   3   0   0   4   0   0   0  92   0   0   0]\n",
      " [  0   2   5   0   0   2   0   3   0   1   0  83   0   3]\n",
      " [  0   0   1   0   0   0   5   0   0   0   2   0  84   1]\n",
      " [  0   7  13   1   0   0   0   1   0   2   3   0   0  77]]\n"
     ]
    }
   ],
   "source": [
    "## Evaluate model - Accuracy, Precision, Recall\n",
    "from sklearn.metrics import precision_recall_fscore_support\n",
    "\n",
    "print('\\nAccuracy Score',accuracy_score(y_test,predicted))\n",
    "\n",
    "accuracy_scores.append(accuracy_score(y_test,predicted).round(2))\n",
    "\n",
    "print(\"Classification Report:\\n\",classification_report(y_test, predicted))\n",
    "clf_rep = precision_recall_fscore_support(y_test,predicted)\n",
    "precision_scores.append(clf_rep[0][0].round(2))\n",
    "recall_scores.append(clf_rep[1][0].round(2))\n",
    "f1_scores.append(clf_rep[2][0].round(2))\n",
    "\n",
    "## Plot confusion matrix\n",
    "print(\"confusion matrix:\\n\",confusion_matrix(y_test, predicted))\n",
    "\n"
   ]
  },
  {
   "cell_type": "code",
   "execution_count": 53,
   "metadata": {},
   "outputs": [],
   "source": [
    "model2 = GaussianNB()"
   ]
  },
  {
   "cell_type": "code",
   "execution_count": 54,
   "metadata": {},
   "outputs": [
    {
     "name": "stdout",
     "output_type": "stream",
     "text": [
      "\n",
      "Training time: 1.475 s\n",
      "\n"
     ]
    }
   ],
   "source": [
    "#train model and predict model training time\n",
    "t0 = time()\n",
    "model2.fit(x, y_train)\n",
    "print(\"\\nTraining time:\", round(time()-t0, 3), \"s\\n\")\n",
    "training_time.append(round(time()-t0, 3))"
   ]
  },
  {
   "cell_type": "code",
   "execution_count": 55,
   "metadata": {},
   "outputs": [
    {
     "name": "stdout",
     "output_type": "stream",
     "text": [
      "Predicting time: 2.644 s\n",
      "\n",
      "\n",
      "Accuracy Score for training data:  0.9583928571428572\n"
     ]
    }
   ],
   "source": [
    "# Predit using the trained model\n",
    "t1 = time()\n",
    "predicted = model2.predict(test_x)\n",
    "print(\"Predicting time:\", round(time()-t1, 3), \"s\\n\")\n",
    "predicting_time.append(round(time()-t1, 3))\n",
    "# predicting train data.\n",
    "train_pred2 = model2.predict(x)\n",
    "print('\\nAccuracy Score for training data: ',accuracy_score(y_train,train_pred1))\n",
    "train_accuracy_scores.append(accuracy_score(y_train,train_pred2))"
   ]
  },
  {
   "cell_type": "code",
   "execution_count": 56,
   "metadata": {},
   "outputs": [
    {
     "name": "stdout",
     "output_type": "stream",
     "text": [
      "\n",
      "Accuracy Score 0.7857142857142857\n",
      "Classification Report:\n",
      "               precision    recall  f1-score   support\n",
      "\n",
      "           0       0.83      0.59      0.69        85\n",
      "           1       0.74      0.51      0.61       101\n",
      "           2       0.29      0.63      0.40       104\n",
      "           3       0.75      0.73      0.74       102\n",
      "           4       0.97      0.95      0.96       101\n",
      "           5       1.00      0.94      0.97       102\n",
      "           6       0.92      0.79      0.85        92\n",
      "           7       0.51      0.58      0.55        98\n",
      "           8       1.00      1.00      1.00       108\n",
      "           9       0.98      0.92      0.95       106\n",
      "          10       0.88      0.84      0.86       105\n",
      "          11       0.98      0.91      0.94        99\n",
      "          12       0.98      0.92      0.95        93\n",
      "          13       0.92      0.64      0.76       104\n",
      "\n",
      "    accuracy                           0.79      1400\n",
      "   macro avg       0.84      0.78      0.80      1400\n",
      "weighted avg       0.84      0.79      0.80      1400\n",
      "\n",
      "confusion matrix:\n",
      " [[ 50   4  17   4   0   0   0   6   0   2   1   0   0   1]\n",
      " [  2  52  28   7   0   0   2   7   0   0   2   0   0   1]\n",
      " [  3   7  66   4   0   0   1  21   0   0   1   0   1   0]\n",
      " [  0   1  14  74   2   0   0   9   0   0   0   0   1   1]\n",
      " [  0   0   2   0  96   0   0   3   0   0   0   0   0   0]\n",
      " [  0   0   3   0   0  96   0   1   0   0   0   0   0   2]\n",
      " [  1   0  14   0   0   0  73   2   0   0   2   0   0   0]\n",
      " [  4   2  30   1   1   0   1  57   0   0   0   2   0   0]\n",
      " [  0   0   0   0   0   0   0   0 108   0   0   0   0   0]\n",
      " [  0   0   8   0   0   0   0   1   0  97   0   0   0   0]\n",
      " [  0   1  10   3   0   0   0   2   0   0  88   0   0   1]\n",
      " [  0   1   6   2   0   0   0   0   0   0   0  90   0   0]\n",
      " [  0   0   6   1   0   0   0   0   0   0   0   0  86   0]\n",
      " [  0   2  22   3   0   0   2   2   0   0   6   0   0  67]]\n"
     ]
    }
   ],
   "source": [
    "## Evaluate model - Accuracy, Precision, Recall\n",
    "from sklearn.metrics import precision_recall_fscore_support\n",
    "\n",
    "print('\\nAccuracy Score',accuracy_score(y_test,predicted))\n",
    "\n",
    "accuracy_scores.append(accuracy_score(y_test,predicted).round(2))\n",
    "\n",
    "print(\"Classification Report:\\n\",classification_report(y_test, predicted))\n",
    "clf_rep = precision_recall_fscore_support(y_test,predicted)\n",
    "precision_scores.append(clf_rep[0][0].round(2))\n",
    "recall_scores.append(clf_rep[1][0].round(2))\n",
    "f1_scores.append(clf_rep[2][0].round(2))\n",
    "\n",
    "## Plot confusion matrix\n",
    "print(\"confusion matrix:\\n\",confusion_matrix(y_test, predicted))\n"
   ]
  },
  {
   "cell_type": "code",
   "execution_count": 57,
   "metadata": {},
   "outputs": [],
   "source": [
    "model3 = tree.DecisionTreeClassifier()"
   ]
  },
  {
   "cell_type": "code",
   "execution_count": 58,
   "metadata": {},
   "outputs": [
    {
     "name": "stdout",
     "output_type": "stream",
     "text": [
      "\n",
      "Training time: 27.137 s\n",
      "\n"
     ]
    }
   ],
   "source": [
    "#train model and predict model training time\n",
    "t0 = time()\n",
    "model3.fit(x, y_train)\n",
    "print(\"\\nTraining time:\", round(time()-t0, 3), \"s\\n\")\n",
    "training_time.append(round(time()-t0, 3))"
   ]
  },
  {
   "cell_type": "code",
   "execution_count": 59,
   "metadata": {},
   "outputs": [
    {
     "name": "stdout",
     "output_type": "stream",
     "text": [
      "Predicting time: 0.069 s\n",
      "\n",
      "\n",
      "Accuracy Score for training data:  0.9583928571428572\n"
     ]
    }
   ],
   "source": [
    "# Predit using the trained model\n",
    "t1 = time()\n",
    "predicted = model3.predict(test_x)\n",
    "print(\"Predicting time:\", round(time()-t1, 3), \"s\\n\")\n",
    "predicting_time.append(round(time()-t1, 3))\n",
    "\n",
    "# predicting train data.\n",
    "train_pred3 = model3.predict(x)\n",
    "print('\\nAccuracy Score for training data: ',accuracy_score(y_train,train_pred1))\n",
    "train_accuracy_scores.append(accuracy_score(y_train,train_pred3))"
   ]
  },
  {
   "cell_type": "code",
   "execution_count": 60,
   "metadata": {},
   "outputs": [
    {
     "name": "stdout",
     "output_type": "stream",
     "text": [
      "\n",
      "Accuracy Score 0.7421428571428571\n",
      "Classification Report:\n",
      "               precision    recall  f1-score   support\n",
      "\n",
      "           0       0.49      0.58      0.53        85\n",
      "           1       0.54      0.43      0.48       101\n",
      "           2       0.33      0.16      0.22       104\n",
      "           3       0.62      0.69      0.65       102\n",
      "           4       0.88      0.99      0.93       101\n",
      "           5       0.89      0.94      0.91       102\n",
      "           6       0.77      0.88      0.82        92\n",
      "           7       0.51      0.30      0.37        98\n",
      "           8       0.92      1.00      0.96       108\n",
      "           9       0.89      0.94      0.92       106\n",
      "          10       0.84      0.89      0.86       105\n",
      "          11       0.87      0.92      0.89        99\n",
      "          12       0.88      0.91      0.89        93\n",
      "          13       0.58      0.74      0.65       104\n",
      "\n",
      "    accuracy                           0.74      1400\n",
      "   macro avg       0.72      0.74      0.72      1400\n",
      "weighted avg       0.72      0.74      0.72      1400\n",
      "\n",
      "confusion matrix:\n",
      " [[ 49   4   1   8   1   0   2   1   1   6   4   0   0   8]\n",
      " [  6  43   6   7   1   2   3   7   2   0   4   3   4  13]\n",
      " [ 16  10  17  17   2   3   5   4   2   2   3   4   4  15]\n",
      " [  8   4   6  70   1   0   3   3   1   2   1   0   0   3]\n",
      " [  0   0   0   0 100   0   0   0   0   0   0   1   0   0]\n",
      " [  0   4   0   0   0  96   1   0   0   1   0   0   0   0]\n",
      " [  1   0   2   0   0   1  81   2   0   0   0   1   1   3]\n",
      " [  8   5  10   6   6   3   3  29   4   1   3   3   3  14]\n",
      " [  0   0   0   0   0   0   0   0 108   0   0   0   0   0]\n",
      " [  0   0   0   0   2   0   0   4   0 100   0   0   0   0]\n",
      " [  3   1   3   0   0   1   0   2   0   0  93   2   0   0]\n",
      " [  6   0   1   0   0   0   1   0   0   0   0  91   0   0]\n",
      " [  1   2   0   0   0   0   5   0   0   0   0   0  85   0]\n",
      " [  1   6   5   4   0   2   1   5   0   0   3   0   0  77]]\n"
     ]
    }
   ],
   "source": [
    "## Evaluate model - Accuracy, Precision, Recall\n",
    "from sklearn.metrics import precision_recall_fscore_support\n",
    "\n",
    "print('\\nAccuracy Score',accuracy_score(y_test,predicted))\n",
    "\n",
    "accuracy_scores.append(accuracy_score(y_test,predicted).round(2))\n",
    "\n",
    "print(\"Classification Report:\\n\",classification_report(y_test, predicted))\n",
    "clf_rep = precision_recall_fscore_support(y_test,predicted)\n",
    "precision_scores.append(clf_rep[0][0].round(2))\n",
    "recall_scores.append(clf_rep[1][0].round(2))\n",
    "f1_scores.append(clf_rep[2][0].round(2))\n",
    "\n",
    "## Plot confusion matrix\n",
    "print(\"confusion matrix:\\n\",confusion_matrix(y_test, predicted))\n"
   ]
  },
  {
   "cell_type": "code",
   "execution_count": 61,
   "metadata": {},
   "outputs": [],
   "source": [
    "model5 = KNeighborsClassifier(n_neighbors=5, metric='euclidean')"
   ]
  },
  {
   "cell_type": "code",
   "execution_count": 62,
   "metadata": {},
   "outputs": [
    {
     "name": "stdout",
     "output_type": "stream",
     "text": [
      "\n",
      "Training time: 0.006 s\n",
      "\n"
     ]
    }
   ],
   "source": [
    "#train model and predict model training time\n",
    "t0 = time()\n",
    "model5.fit(x, y_train)\n",
    "print(\"\\nTraining time:\", round(time()-t0, 3), \"s\\n\")\n",
    "training_time.append(round(time()-t0, 3))"
   ]
  },
  {
   "cell_type": "code",
   "execution_count": 63,
   "metadata": {},
   "outputs": [
    {
     "name": "stdout",
     "output_type": "stream",
     "text": [
      "Predicting time: 2.38 s\n",
      "\n",
      "\n",
      "Accuracy Score for training data:  0.9583928571428572\n"
     ]
    }
   ],
   "source": [
    "# Predit using the trained model\n",
    "t1 = time()\n",
    "predicted = model5.predict(test_x)\n",
    "print(\"Predicting time:\", round(time()-t1, 3), \"s\\n\")\n",
    "predicting_time.append(round(time()-t1, 3))\n",
    "\n",
    "# predicting train data.\n",
    "train_pred5 = model5.predict(x)\n",
    "print('\\nAccuracy Score for training data: ',accuracy_score(y_train,train_pred1))\n",
    "train_accuracy_scores.append(accuracy_score(y_train,train_pred5))"
   ]
  },
  {
   "cell_type": "code",
   "execution_count": 64,
   "metadata": {},
   "outputs": [
    {
     "name": "stdout",
     "output_type": "stream",
     "text": [
      "\n",
      "Accuracy Score 0.48714285714285716\n",
      "Classification Report:\n",
      "               precision    recall  f1-score   support\n",
      "\n",
      "           0       0.12      0.51      0.20        85\n",
      "           1       0.29      0.18      0.22       101\n",
      "           2       0.00      0.00      0.00       104\n",
      "           3       0.37      0.42      0.39       102\n",
      "           4       0.98      0.83      0.90       101\n",
      "           5       0.63      0.75      0.68       102\n",
      "           6       0.74      0.34      0.46        92\n",
      "           7       0.60      0.03      0.06        98\n",
      "           8       0.77      0.94      0.85       108\n",
      "           9       0.81      0.88      0.84       106\n",
      "          10       0.78      0.44      0.56       105\n",
      "          11       0.32      0.64      0.42        99\n",
      "          12       0.74      0.70      0.72        93\n",
      "          13       0.68      0.14      0.24       104\n",
      "\n",
      "    accuracy                           0.49      1400\n",
      "   macro avg       0.56      0.48      0.47      1400\n",
      "weighted avg       0.56      0.49      0.47      1400\n",
      "\n",
      "confusion matrix:\n",
      " [[ 43   5   0   4   0   0   0   0   1   5   1  23   3   0]\n",
      " [ 26  18   0   9   0   7   1   0   5   3   1  26   3   2]\n",
      " [ 43   7   0  11   2   9   3   0   5   4   2  14   2   2]\n",
      " [ 26   5   0  43   0   2   1   0   2   1   1  16   5   0]\n",
      " [ 12   0   0   0  84   0   0   0   2   0   0   3   0   0]\n",
      " [ 15   1   0   3   0  76   0   0   1   0   1   5   0   0]\n",
      " [ 37   5   0   7   0   4  31   0   1   0   0   5   0   2]\n",
      " [ 27   6   1   8   0   6   1   3   9   6   5  23   3   0]\n",
      " [  4   0   0   0   0   0   0   0 102   2   0   0   0   0]\n",
      " [  5   1   0   0   0   0   0   2   1  93   0   4   0   0]\n",
      " [ 39   3   0   9   0   2   0   0   0   0  46   3   2   1]\n",
      " [ 23   2   0   4   0   3   1   0   1   0   2  63   0   0]\n",
      " [ 13   5   0   1   0   5   2   0   1   1   0   0  65   0]\n",
      " [ 36   5   0  18   0   7   2   0   1   0   0  15   5  15]]\n"
     ]
    }
   ],
   "source": [
    "## Evaluate model - Accuracy, Precision, Recall\n",
    "from sklearn.metrics import precision_recall_fscore_support\n",
    "\n",
    "print('\\nAccuracy Score',accuracy_score(y_test,predicted))\n",
    "\n",
    "accuracy_scores.append(accuracy_score(y_test,predicted).round(2))\n",
    "\n",
    "print(\"Classification Report:\\n\",classification_report(y_test, predicted))\n",
    "clf_rep = precision_recall_fscore_support(y_test,predicted)\n",
    "precision_scores.append(clf_rep[0][0].round(2))\n",
    "recall_scores.append(clf_rep[1][0].round(2))\n",
    "f1_scores.append(clf_rep[2][0].round(2))\n",
    "\n",
    "## Plot confusion matrix\n",
    "print(\"confusion matrix:\\n\",confusion_matrix(y_test, predicted))\n"
   ]
  },
  {
   "cell_type": "code",
   "execution_count": 65,
   "metadata": {},
   "outputs": [],
   "source": [
    "model6 = LogisticRegression(max_iter=2000)"
   ]
  },
  {
   "cell_type": "code",
   "execution_count": 66,
   "metadata": {},
   "outputs": [
    {
     "name": "stdout",
     "output_type": "stream",
     "text": [
      "\n",
      "Training time: 20.772 s\n",
      "\n"
     ]
    }
   ],
   "source": [
    "#train model and predict model training time\n",
    "t0 = time()\n",
    "model6.fit(x, y_train)\n",
    "print(\"\\nTraining time:\", round(time()-t0, 3), \"s\\n\")\n",
    "training_time.append(round(time()-t0, 3))"
   ]
  },
  {
   "cell_type": "code",
   "execution_count": 67,
   "metadata": {},
   "outputs": [
    {
     "name": "stdout",
     "output_type": "stream",
     "text": [
      "Predicting time: 0.065 s\n",
      "\n",
      "\n",
      "Accuracy Score for training data:  0.9583928571428572\n"
     ]
    }
   ],
   "source": [
    "# Predit using the trained model\n",
    "t1 = time()\n",
    "predicted = model6.predict(test_x)\n",
    "print(\"Predicting time:\", round(time()-t1, 3), \"s\\n\")\n",
    "predicting_time.append(round(time()-t1, 3))\n",
    "\n",
    "# predicting train data.\n",
    "train_pred6 = model6.predict(x)\n",
    "print('\\nAccuracy Score for training data: ',accuracy_score(y_train,train_pred1))\n",
    "train_accuracy_scores.append(accuracy_score(y_train,train_pred6))"
   ]
  },
  {
   "cell_type": "code",
   "execution_count": 68,
   "metadata": {},
   "outputs": [
    {
     "name": "stdout",
     "output_type": "stream",
     "text": [
      "\n",
      "Accuracy Score 0.8492857142857143\n",
      "Classification Report:\n",
      "               precision    recall  f1-score   support\n",
      "\n",
      "           0       0.68      0.85      0.75        85\n",
      "           1       0.79      0.75      0.77       101\n",
      "           2       0.65      0.53      0.58       104\n",
      "           3       0.73      0.81      0.77       102\n",
      "           4       0.94      0.95      0.95       101\n",
      "           5       0.92      0.96      0.94       102\n",
      "           6       0.87      0.93      0.90        92\n",
      "           7       0.80      0.61      0.69        98\n",
      "           8       0.96      1.00      0.98       108\n",
      "           9       0.98      0.93      0.96       106\n",
      "          10       0.90      0.89      0.89       105\n",
      "          11       0.94      0.93      0.93        99\n",
      "          12       0.92      0.91      0.92        93\n",
      "          13       0.79      0.83      0.81       104\n",
      "\n",
      "    accuracy                           0.85      1400\n",
      "   macro avg       0.85      0.85      0.85      1400\n",
      "weighted avg       0.85      0.85      0.85      1400\n",
      "\n",
      "confusion matrix:\n",
      " [[ 72   1   0   5   0   2   0   0   1   0   2   1   0   1]\n",
      " [  4  76   1   1   0   4   2   2   0   0   4   0   0   7]\n",
      " [ 12   2  55  14   0   2   3   4   0   1   2   2   4   3]\n",
      " [  7   2   6  83   2   0   2   0   0   0   0   0   0   0]\n",
      " [  1   0   0   0  96   0   0   4   0   0   0   0   0   0]\n",
      " [  0   0   0   1   0  98   0   0   0   0   0   0   1   2]\n",
      " [  1   0   3   0   0   0  86   0   0   0   0   0   0   2]\n",
      " [  3   2  10   5   4   1   1  60   4   0   1   2   1   4]\n",
      " [  0   0   0   0   0   0   0   0 108   0   0   0   0   0]\n",
      " [  2   0   0   0   0   0   0   5   0  99   0   0   0   0]\n",
      " [  0   2   5   3   0   0   1   0   0   0  93   0   0   1]\n",
      " [  2   1   1   0   0   0   0   0   0   1   0  92   0   2]\n",
      " [  0   1   3   0   0   0   3   0   0   0   0   0  85   1]\n",
      " [  2   9   1   2   0   0   1   0   0   0   1   1   1  86]]\n"
     ]
    }
   ],
   "source": [
    "## Evaluate model - Accuracy, Precision, Recall\n",
    "from sklearn.metrics import precision_recall_fscore_support\n",
    "\n",
    "print('\\nAccuracy Score',accuracy_score(y_test,predicted))\n",
    "\n",
    "accuracy_scores.append(accuracy_score(y_test,predicted).round(2))\n",
    "\n",
    "print(\"Classification Report:\\n\",classification_report(y_test, predicted))\n",
    "clf_rep = precision_recall_fscore_support(y_test,predicted)\n",
    "precision_scores.append(clf_rep[0][0].round(2))\n",
    "recall_scores.append(clf_rep[1][0].round(2))\n",
    "f1_scores.append(clf_rep[2][0].round(2))\n",
    "\n",
    "## Plot confusion matrix\n",
    "print(\"confusion matrix:\\n\",confusion_matrix(y_test, predicted))\n"
   ]
  },
  {
   "cell_type": "code",
   "execution_count": 69,
   "metadata": {},
   "outputs": [],
   "source": [
    "model7 = SVC(kernel='linear',gamma='auto')"
   ]
  },
  {
   "cell_type": "code",
   "execution_count": 70,
   "metadata": {},
   "outputs": [
    {
     "name": "stdout",
     "output_type": "stream",
     "text": [
      "\n",
      "Training time: 166.935 s\n",
      "\n"
     ]
    }
   ],
   "source": [
    "#train model and predict model training time\n",
    "t0 = time()\n",
    "model7.fit(x, y_train)\n",
    "print(\"\\nTraining time:\", round(time()-t0, 3), \"s\\n\")\n",
    "training_time.append(round(time()-t0, 3))"
   ]
  },
  {
   "cell_type": "code",
   "execution_count": 71,
   "metadata": {},
   "outputs": [
    {
     "name": "stdout",
     "output_type": "stream",
     "text": [
      "Predicting time: 34.744 s\n",
      "\n",
      "\n",
      "Accuracy Score for training data:  0.9583928571428572\n"
     ]
    }
   ],
   "source": [
    "# Predict using the trained model\n",
    "t1 = time()\n",
    "predicted = model7.predict(test_x)\n",
    "print(\"Predicting time:\", round(time()-t1, 3), \"s\\n\")\n",
    "predicting_time.append(round(time()-t1, 3))\n",
    "\n",
    "# predicting train data.\n",
    "train_pred7 = model7.predict(x)\n",
    "print('\\nAccuracy Score for training data: ',accuracy_score(y_train,train_pred1))\n",
    "train_accuracy_scores.append(accuracy_score(y_train,train_pred7))"
   ]
  },
  {
   "cell_type": "code",
   "execution_count": 72,
   "metadata": {},
   "outputs": [
    {
     "name": "stdout",
     "output_type": "stream",
     "text": [
      "\n",
      "Accuracy Score 0.845\n",
      "Classification Report:\n",
      "               precision    recall  f1-score   support\n",
      "\n",
      "           0       0.62      0.80      0.70        85\n",
      "           1       0.79      0.73      0.76       101\n",
      "           2       0.62      0.54      0.57       104\n",
      "           3       0.77      0.77      0.77       102\n",
      "           4       0.94      0.96      0.95       101\n",
      "           5       0.92      0.96      0.94       102\n",
      "           6       0.86      0.92      0.89        92\n",
      "           7       0.78      0.64      0.70        98\n",
      "           8       0.97      1.00      0.99       108\n",
      "           9       0.95      0.93      0.94       106\n",
      "          10       0.89      0.88      0.88       105\n",
      "          11       0.93      0.95      0.94        99\n",
      "          12       0.93      0.91      0.92        93\n",
      "          13       0.83      0.82      0.82       104\n",
      "\n",
      "    accuracy                           0.84      1400\n",
      "   macro avg       0.84      0.84      0.84      1400\n",
      "weighted avg       0.85      0.84      0.84      1400\n",
      "\n",
      "confusion matrix:\n",
      " [[ 68   2   2   4   1   1   0   0   0   3   2   1   0   1]\n",
      " [  5  74   1   0   0   5   4   4   0   0   3   0   0   5]\n",
      " [ 11   5  56   9   1   2   3   4   0   1   3   3   2   4]\n",
      " [  8   2   8  79   1   0   1   2   0   0   0   0   0   1]\n",
      " [  1   0   0   0  97   0   0   3   0   0   0   0   0   0]\n",
      " [  0   2   0   1   0  98   1   0   0   0   0   0   0   0]\n",
      " [  2   0   2   0   0   0  85   0   0   0   0   0   0   3]\n",
      " [  3   2  12   4   3   1   1  63   3   0   1   2   1   2]\n",
      " [  0   0   0   0   0   0   0   0 108   0   0   0   0   0]\n",
      " [  3   0   0   0   0   0   0   4   0  99   0   0   0   0]\n",
      " [  1   1   4   4   0   0   0   1   0   0  92   0   0   2]\n",
      " [  3   0   0   0   0   0   1   0   0   1   0  94   0   0]\n",
      " [  0   1   5   0   0   0   1   0   0   0   1   0  85   0]\n",
      " [  4   5   1   2   0   0   2   0   0   0   1   1   3  85]]\n"
     ]
    }
   ],
   "source": [
    "## Evaluate model - Accuracy, Precision, Recall\n",
    "from sklearn.metrics import precision_recall_fscore_support\n",
    "\n",
    "print('\\nAccuracy Score',accuracy_score(y_test,predicted))\n",
    "\n",
    "accuracy_scores.append(accuracy_score(y_test,predicted).round(2))\n",
    "\n",
    "print(\"Classification Report:\\n\",classification_report(y_test, predicted))\n",
    "clf_rep = precision_recall_fscore_support(y_test,predicted)\n",
    "precision_scores.append(clf_rep[0][0].round(2))\n",
    "recall_scores.append(clf_rep[1][0].round(2))\n",
    "f1_scores.append(clf_rep[2][0].round(2))\n",
    "\n",
    "## Plot confusion matrix\n",
    "print(\"confusion matrix:\\n\",confusion_matrix(y_test, predicted))\n"
   ]
  },
  {
   "cell_type": "code",
   "execution_count": 73,
   "metadata": {},
   "outputs": [],
   "source": [
    "from keras.wrappers.scikit_learn import KerasClassifier\n",
    "\n",
    "# create model\n",
    "def create_model():\n",
    "    model8 = Sequential()\n",
    "    model8.add(Dense(10, input_dim=10000, kernel_initializer='uniform', activation='relu'))\n",
    "    model8.add(Dense(1, kernel_initializer='uniform', activation='sigmoid'))\n",
    "    \n",
    "    adam=Adam(lr=0.01)\n",
    "    model8.compile(loss='binary_crossentropy', optimizer=adam, metrics=['accuracy'])\n",
    "    return model8\n",
    "\n",
    "# Create the model\n",
    "\n",
    "model8 = KerasClassifier(build_fn=create_model,verbose = 0, batch_size = 10, epochs = 50 )"
   ]
  },
  {
   "cell_type": "code",
   "execution_count": 74,
   "metadata": {},
   "outputs": [
    {
     "name": "stdout",
     "output_type": "stream",
     "text": [
      "\n",
      "Training time: 62.843 s\n",
      "\n"
     ]
    }
   ],
   "source": [
    "t0 = time()\n",
    "nn = model8.fit(x, y_train)\n",
    "print(\"\\nTraining time:\", round(time()-t0, 3), \"s\\n\")\n",
    "training_time.append(round(time()-t0, 3))"
   ]
  },
  {
   "cell_type": "code",
   "execution_count": 75,
   "metadata": {},
   "outputs": [
    {
     "name": "stdout",
     "output_type": "stream",
     "text": [
      "[[1]\n",
      " [1]\n",
      " [1]\n",
      " [1]\n",
      " [1]]\n",
      "\n",
      "Accuracy Score for training data:  0.9583928571428572\n"
     ]
    }
   ],
   "source": [
    "t1 = time()\n",
    "pred = model8.predict(test_x).round(1) \n",
    "predicting_time.append(round(time()-t1, 3))\n",
    "\n",
    "print(pred[0:5]) \n",
    "\n",
    "# predicting train data.\n",
    "train_pred8 = model8.predict(x)\n",
    "print('\\nAccuracy Score for training data: ',accuracy_score(y_train,train_pred1))\n",
    "train_accuracy_scores.append(accuracy_score(y_train,train_pred8))\n"
   ]
  },
  {
   "cell_type": "code",
   "execution_count": 76,
   "metadata": {},
   "outputs": [
    {
     "name": "stdout",
     "output_type": "stream",
     "text": [
      "\n",
      "Accuracy Score 0.07214285714285715\n",
      "Classification Report:\n",
      "               precision    recall  f1-score   support\n",
      "\n",
      "           0       0.00      0.00      0.00        85\n",
      "           1       0.07      1.00      0.13       101\n",
      "           2       0.00      0.00      0.00       104\n",
      "           3       0.00      0.00      0.00       102\n",
      "           4       0.00      0.00      0.00       101\n",
      "           5       0.00      0.00      0.00       102\n",
      "           6       0.00      0.00      0.00        92\n",
      "           7       0.00      0.00      0.00        98\n",
      "           8       0.00      0.00      0.00       108\n",
      "           9       0.00      0.00      0.00       106\n",
      "          10       0.00      0.00      0.00       105\n",
      "          11       0.00      0.00      0.00        99\n",
      "          12       0.00      0.00      0.00        93\n",
      "          13       0.00      0.00      0.00       104\n",
      "\n",
      "    accuracy                           0.07      1400\n",
      "   macro avg       0.01      0.07      0.01      1400\n",
      "weighted avg       0.01      0.07      0.01      1400\n",
      "\n",
      "confusion matrix:\n",
      " [[  0  85   0   0   0   0   0   0   0   0   0   0   0   0]\n",
      " [  0 101   0   0   0   0   0   0   0   0   0   0   0   0]\n",
      " [  0 104   0   0   0   0   0   0   0   0   0   0   0   0]\n",
      " [  0 102   0   0   0   0   0   0   0   0   0   0   0   0]\n",
      " [  0 101   0   0   0   0   0   0   0   0   0   0   0   0]\n",
      " [  0 102   0   0   0   0   0   0   0   0   0   0   0   0]\n",
      " [  0  92   0   0   0   0   0   0   0   0   0   0   0   0]\n",
      " [  0  98   0   0   0   0   0   0   0   0   0   0   0   0]\n",
      " [  0 108   0   0   0   0   0   0   0   0   0   0   0   0]\n",
      " [  0 106   0   0   0   0   0   0   0   0   0   0   0   0]\n",
      " [  0 105   0   0   0   0   0   0   0   0   0   0   0   0]\n",
      " [  0  99   0   0   0   0   0   0   0   0   0   0   0   0]\n",
      " [  0  93   0   0   0   0   0   0   0   0   0   0   0   0]\n",
      " [  0 104   0   0   0   0   0   0   0   0   0   0   0   0]]\n"
     ]
    }
   ],
   "source": [
    "## Evaluate model - Accuracy, Precision, Recall\n",
    "from sklearn.metrics import precision_recall_fscore_support\n",
    "\n",
    "print('\\nAccuracy Score',accuracy_score(y_test,pred))\n",
    "\n",
    "accuracy_scores.append(accuracy_score(y_test,pred).round(2))\n",
    "\n",
    "print(\"Classification Report:\\n\",classification_report(y_test, pred))\n",
    "clf_rep = precision_recall_fscore_support(y_test,pred)\n",
    "precision_scores.append(clf_rep[0][0].round(2))\n",
    "recall_scores.append(clf_rep[1][0].round(2))\n",
    "f1_scores.append(clf_rep[2][0].round(2))\n",
    "\n",
    "## Plot confusion matrix\n",
    "print(\"confusion matrix:\\n\",confusion_matrix(y_test, pred))\n"
   ]
  },
  {
   "cell_type": "code",
   "execution_count": 77,
   "metadata": {},
   "outputs": [],
   "source": [
    "model4 = RandomForestClassifier(max_depth=2, random_state=0)"
   ]
  },
  {
   "cell_type": "code",
   "execution_count": 78,
   "metadata": {},
   "outputs": [
    {
     "name": "stdout",
     "output_type": "stream",
     "text": [
      "\n",
      "Training time: 3.004 s\n",
      "\n"
     ]
    }
   ],
   "source": [
    "#train model and predict model training time\n",
    "t0 = time()\n",
    "model4.fit(x, y_train)\n",
    "print(\"\\nTraining time:\", round(time()-t0, 3), \"s\\n\")\n",
    "training_time.append(round(time()-t0, 3))"
   ]
  },
  {
   "cell_type": "code",
   "execution_count": 79,
   "metadata": {},
   "outputs": [
    {
     "name": "stdout",
     "output_type": "stream",
     "text": [
      "Predicting time: 0.148 s\n",
      "\n",
      "\n",
      "Accuracy Score for training data:  0.9583928571428572\n"
     ]
    }
   ],
   "source": [
    "# Predit using the trained model\n",
    "t1 = time()\n",
    "predicted = model4.predict(test_x)\n",
    "print(\"Predicting time:\", round(time()-t1, 3), \"s\\n\")\n",
    "predicting_time.append(round(time()-t1, 3))\n",
    "\n",
    "# predicting train data.\n",
    "train_pred4 = model4.predict(x)\n",
    "print('\\nAccuracy Score for training data: ',accuracy_score(y_train,train_pred1))\n",
    "train_accuracy_scores.append(accuracy_score(y_train,train_pred4))"
   ]
  },
  {
   "cell_type": "code",
   "execution_count": 80,
   "metadata": {},
   "outputs": [
    {
     "name": "stdout",
     "output_type": "stream",
     "text": [
      "\n",
      "Accuracy Score 0.44785714285714284\n",
      "Classification Report:\n",
      "               precision    recall  f1-score   support\n",
      "\n",
      "           0       0.16      0.55      0.25        85\n",
      "           1       0.72      0.34      0.46       101\n",
      "           2       0.55      0.12      0.19       104\n",
      "           3       0.38      0.18      0.24       102\n",
      "           4       0.45      0.80      0.57       101\n",
      "           5       0.69      0.40      0.51       102\n",
      "           6       0.42      0.71      0.53        92\n",
      "           7       0.48      0.16      0.24        98\n",
      "           8       0.73      0.69      0.71       108\n",
      "           9       0.73      0.78      0.75       106\n",
      "          10       0.47      0.31      0.38       105\n",
      "          11       0.49      0.46      0.48        99\n",
      "          12       0.40      0.47      0.43        93\n",
      "          13       0.46      0.32      0.38       104\n",
      "\n",
      "    accuracy                           0.45      1400\n",
      "   macro avg       0.51      0.45      0.44      1400\n",
      "weighted avg       0.52      0.45      0.44      1400\n",
      "\n",
      "confusion matrix:\n",
      " [[47  0  0  3  4  0  6  1  3  8  5  2  2  4]\n",
      " [15 34  2  4  9  6  2  2  0  1  5  9  8  4]\n",
      " [29  3 12  5 15  3 12  2  1  3  2  8  8  1]\n",
      " [39  1  0 18 20  0  4  2  2  2  4  1  7  2]\n",
      " [ 2  0  0  2 81  0  3  4  6  3  0  0  0  0]\n",
      " [21  2  1  1  1 41 12  0  0  0  3  7 11  2]\n",
      " [ 3  1  1  0  5  0 65  0  0  0  0  0  8  9]\n",
      " [19  2  0  1 25  2 10 16  8  3  4  5  0  3]\n",
      " [19  1  1  0  5  0  0  4 74  4  0  0  0  0]\n",
      " [ 8  0  0  5  4  0  0  0  4 83  0  2  0  0]\n",
      " [25  0  2  3  2  3 10  0  2  2 33  1 11 11]\n",
      " [28  0  0  4  4  1  7  0  0  2  2 46  5  0]\n",
      " [10  1  1  1  6  1 19  0  1  1  3  3 44  2]\n",
      " [31  2  2  1  1  2  4  2  0  2  9  9  6 33]]\n"
     ]
    }
   ],
   "source": [
    "## Evaluate model - Accuracy, Precision, Recall\n",
    "from sklearn.metrics import precision_recall_fscore_support\n",
    "\n",
    "print('\\nAccuracy Score',accuracy_score(y_test,predicted))\n",
    "\n",
    "accuracy_scores.append(accuracy_score(y_test,predicted).round(2))\n",
    "\n",
    "print(\"Classification Report:\\n\",classification_report(y_test, predicted))\n",
    "clf_rep = precision_recall_fscore_support(y_test,predicted)\n",
    "precision_scores.append(clf_rep[0][0].round(2))\n",
    "recall_scores.append(clf_rep[1][0].round(2))\n",
    "f1_scores.append(clf_rep[2][0].round(2))\n",
    "\n",
    "## Plot confusion matrix\n",
    "print(\"confusion matrix:\\n\",confusion_matrix(y_test, predicted))\n"
   ]
  },
  {
   "cell_type": "code",
   "execution_count": 81,
   "metadata": {},
   "outputs": [],
   "source": [
    "model_name = ['Multinomial Bayes','Gaussian Bayes','Decision Tree','RandomForest','KNN','Logistic Regression','SVM','Neural Network']"
   ]
  },
  {
   "cell_type": "code",
   "execution_count": 82,
   "metadata": {},
   "outputs": [],
   "source": [
    "performance_table = pd.DataFrame({'Model_name' : model_name,\n",
    "                            'Training time' : training_time,\n",
    "                            'Prediction time' : predicting_time,\n",
    "                            'Test Accuracy' : accuracy_scores,\n",
    "                            'Train Accuracy': train_accuracy_scores,\n",
    "                            'Precision' : precision_scores,\n",
    "                            'Recall' : recall_scores,\n",
    "                            'F1-scores' : f1_scores}).sort_values('F1-scores',ascending=False)"
   ]
  },
  {
   "cell_type": "code",
   "execution_count": 83,
   "metadata": {},
   "outputs": [
    {
     "data": {
      "text/html": [
       "<div>\n",
       "<style scoped>\n",
       "    .dataframe tbody tr th:only-of-type {\n",
       "        vertical-align: middle;\n",
       "    }\n",
       "\n",
       "    .dataframe tbody tr th {\n",
       "        vertical-align: top;\n",
       "    }\n",
       "\n",
       "    .dataframe thead th {\n",
       "        text-align: right;\n",
       "    }\n",
       "</style>\n",
       "<table border=\"1\" class=\"dataframe\">\n",
       "  <thead>\n",
       "    <tr style=\"text-align: right;\">\n",
       "      <th></th>\n",
       "      <th>Model_name</th>\n",
       "      <th>Training time</th>\n",
       "      <th>Prediction time</th>\n",
       "      <th>Test Accuracy</th>\n",
       "      <th>Train Accuracy</th>\n",
       "      <th>Precision</th>\n",
       "      <th>Recall</th>\n",
       "      <th>F1-scores</th>\n",
       "    </tr>\n",
       "  </thead>\n",
       "  <tbody>\n",
       "    <tr>\n",
       "      <th>0</th>\n",
       "      <td>Multinomial Bayes</td>\n",
       "      <td>7.655</td>\n",
       "      <td>0.115</td>\n",
       "      <td>0.84</td>\n",
       "      <td>0.958393</td>\n",
       "      <td>0.87</td>\n",
       "      <td>0.78</td>\n",
       "      <td>0.82</td>\n",
       "    </tr>\n",
       "    <tr>\n",
       "      <th>4</th>\n",
       "      <td>KNN</td>\n",
       "      <td>20.773</td>\n",
       "      <td>0.066</td>\n",
       "      <td>0.85</td>\n",
       "      <td>1.000000</td>\n",
       "      <td>0.68</td>\n",
       "      <td>0.85</td>\n",
       "      <td>0.75</td>\n",
       "    </tr>\n",
       "    <tr>\n",
       "      <th>5</th>\n",
       "      <td>Logistic Regression</td>\n",
       "      <td>166.936</td>\n",
       "      <td>34.746</td>\n",
       "      <td>0.84</td>\n",
       "      <td>1.000000</td>\n",
       "      <td>0.62</td>\n",
       "      <td>0.80</td>\n",
       "      <td>0.70</td>\n",
       "    </tr>\n",
       "    <tr>\n",
       "      <th>1</th>\n",
       "      <td>Gaussian Bayes</td>\n",
       "      <td>1.476</td>\n",
       "      <td>2.645</td>\n",
       "      <td>0.79</td>\n",
       "      <td>0.993750</td>\n",
       "      <td>0.83</td>\n",
       "      <td>0.59</td>\n",
       "      <td>0.69</td>\n",
       "    </tr>\n",
       "    <tr>\n",
       "      <th>2</th>\n",
       "      <td>Decision Tree</td>\n",
       "      <td>27.138</td>\n",
       "      <td>0.071</td>\n",
       "      <td>0.74</td>\n",
       "      <td>1.000000</td>\n",
       "      <td>0.49</td>\n",
       "      <td>0.58</td>\n",
       "      <td>0.53</td>\n",
       "    </tr>\n",
       "    <tr>\n",
       "      <th>7</th>\n",
       "      <td>Neural Network</td>\n",
       "      <td>3.007</td>\n",
       "      <td>0.151</td>\n",
       "      <td>0.45</td>\n",
       "      <td>0.479821</td>\n",
       "      <td>0.16</td>\n",
       "      <td>0.55</td>\n",
       "      <td>0.25</td>\n",
       "    </tr>\n",
       "    <tr>\n",
       "      <th>3</th>\n",
       "      <td>RandomForest</td>\n",
       "      <td>0.008</td>\n",
       "      <td>2.381</td>\n",
       "      <td>0.49</td>\n",
       "      <td>0.704464</td>\n",
       "      <td>0.12</td>\n",
       "      <td>0.51</td>\n",
       "      <td>0.20</td>\n",
       "    </tr>\n",
       "    <tr>\n",
       "      <th>6</th>\n",
       "      <td>SVM</td>\n",
       "      <td>62.844</td>\n",
       "      <td>0.924</td>\n",
       "      <td>0.07</td>\n",
       "      <td>0.071250</td>\n",
       "      <td>0.00</td>\n",
       "      <td>0.00</td>\n",
       "      <td>0.00</td>\n",
       "    </tr>\n",
       "  </tbody>\n",
       "</table>\n",
       "</div>"
      ],
      "text/plain": [
       "            Model_name  Training time  Prediction time  Test Accuracy  \\\n",
       "0    Multinomial Bayes          7.655            0.115           0.84   \n",
       "4                  KNN         20.773            0.066           0.85   \n",
       "5  Logistic Regression        166.936           34.746           0.84   \n",
       "1       Gaussian Bayes          1.476            2.645           0.79   \n",
       "2        Decision Tree         27.138            0.071           0.74   \n",
       "7       Neural Network          3.007            0.151           0.45   \n",
       "3         RandomForest          0.008            2.381           0.49   \n",
       "6                  SVM         62.844            0.924           0.07   \n",
       "\n",
       "   Train Accuracy  Precision  Recall  F1-scores  \n",
       "0        0.958393       0.87    0.78       0.82  \n",
       "4        1.000000       0.68    0.85       0.75  \n",
       "5        1.000000       0.62    0.80       0.70  \n",
       "1        0.993750       0.83    0.59       0.69  \n",
       "2        1.000000       0.49    0.58       0.53  \n",
       "7        0.479821       0.16    0.55       0.25  \n",
       "3        0.704464       0.12    0.51       0.20  \n",
       "6        0.071250       0.00    0.00       0.00  "
      ]
     },
     "execution_count": 83,
     "metadata": {},
     "output_type": "execute_result"
    }
   ],
   "source": [
    "performance_table"
   ]
  },
  {
   "cell_type": "markdown",
   "metadata": {},
   "source": [
    "## Model Prediction"
   ]
  },
  {
   "cell_type": "code",
   "execution_count": 84,
   "metadata": {},
   "outputs": [],
   "source": [
    "rec = [\"For Vintago Hawkins, it was just another month. That was until the virus outbreak started. In an attempt to protect his family, he decides to flee north to a place he visited as a child, a fish hatchery. Through his journey he encounters other survivors, an ex-Navy Seal, the remnants of a military company, and other groups of survivors. Vintago will have to decide who gets to stay, and who has to go, because not everyone can be part of a fledgling empire.\"]"
   ]
  },
  {
   "cell_type": "code",
   "execution_count": 85,
   "metadata": {},
   "outputs": [],
   "source": [
    "t = cv.transform(rec).toarray()"
   ]
  },
  {
   "cell_type": "code",
   "execution_count": 86,
   "metadata": {},
   "outputs": [],
   "source": [
    "pr = le.inverse_transform(model1.predict(t))\n"
   ]
  },
  {
   "cell_type": "code",
   "execution_count": 87,
   "metadata": {},
   "outputs": [
    {
     "data": {
      "text/plain": [
       "'Horror'"
      ]
     },
     "execution_count": 87,
     "metadata": {},
     "output_type": "execute_result"
    }
   ],
   "source": [
    "pr[0]"
   ]
  },
  {
   "cell_type": "markdown",
   "metadata": {},
   "source": [
    "## Predicting Recommendation"
   ]
  },
  {
   "cell_type": "code",
   "execution_count": 88,
   "metadata": {},
   "outputs": [],
   "source": [
    "def recommend(genre):\n",
    "    recommended_books = df[df['genre'] == genre].sort_values(by = 'average_rating',ascending = False).head()\n",
    "    print(recommended_books.title)\n",
    "        \n",
    "    return\n",
    "    "
   ]
  },
  {
   "cell_type": "code",
   "execution_count": 89,
   "metadata": {},
   "outputs": [
    {
     "name": "stdout",
     "output_type": "stream",
     "text": [
      "4953    Orion: The Fight for Vox\n",
      "6392             Pirates in Hell\n",
      "3365           Words of Radiance\n",
      "3792              Dangerous Ways\n",
      "3191            The High Auction\n",
      "Name: title, dtype: object\n"
     ]
    }
   ],
   "source": [
    "recommend('Fantasy')"
   ]
  },
  {
   "cell_type": "markdown",
   "metadata": {},
   "source": [
    "## Exporting PKL files"
   ]
  },
  {
   "cell_type": "code",
   "execution_count": 90,
   "metadata": {},
   "outputs": [],
   "source": [
    "import pickle\n",
    "\n",
    "pickle.dump(model1,open('model.pkl','wb'))\n",
    "pickle.dump(df,open('books.pkl','wb'))\n",
    "pickle.dump(cv,open('CountVectorizer.pkl','wb'))"
   ]
  },
  {
   "cell_type": "markdown",
   "metadata": {},
   "source": [
    "## Logic for app.py"
   ]
  },
  {
   "cell_type": "code",
   "execution_count": 91,
   "metadata": {},
   "outputs": [
    {
     "data": {
      "text/plain": [
       "['after a lifetim of bottl up hi magic power harri final feel like a normal kid']"
      ]
     },
     "execution_count": 91,
     "metadata": {},
     "output_type": "execute_result"
    }
   ],
   "source": [
    "rec = [clean_summary('After a lifetime of bottling up his magical powers, Harry finally feels like a normal kid.')]\n",
    "rec\n",
    "\n"
   ]
  },
  {
   "cell_type": "code",
   "execution_count": 92,
   "metadata": {},
   "outputs": [],
   "source": [
    "tags= pd.DataFrame({'tags': rec})\n",
    "df_tags = df[['tags']]\n"
   ]
  },
  {
   "cell_type": "code",
   "execution_count": 93,
   "metadata": {},
   "outputs": [],
   "source": [
    "tags = tags.append(df_tags,ignore_index=True)\n"
   ]
  },
  {
   "cell_type": "code",
   "execution_count": 94,
   "metadata": {},
   "outputs": [
    {
     "data": {
      "text/html": [
       "<div>\n",
       "<style scoped>\n",
       "    .dataframe tbody tr th:only-of-type {\n",
       "        vertical-align: middle;\n",
       "    }\n",
       "\n",
       "    .dataframe tbody tr th {\n",
       "        vertical-align: top;\n",
       "    }\n",
       "\n",
       "    .dataframe thead th {\n",
       "        text-align: right;\n",
       "    }\n",
       "</style>\n",
       "<table border=\"1\" class=\"dataframe\">\n",
       "  <thead>\n",
       "    <tr style=\"text-align: right;\">\n",
       "      <th></th>\n",
       "      <th>tags</th>\n",
       "    </tr>\n",
       "  </thead>\n",
       "  <tbody>\n",
       "    <tr>\n",
       "      <th>0</th>\n",
       "      <td>after a lifetim of bottl up hi magic power har...</td>\n",
       "    </tr>\n",
       "    <tr>\n",
       "      <th>1</th>\n",
       "      <td>harperle to kill a mockingbird the unforgett n...</td>\n",
       "    </tr>\n",
       "    <tr>\n",
       "      <th>2</th>\n",
       "      <td>j k rowl harri potter and the sorcer s stone h...</td>\n",
       "    </tr>\n",
       "    <tr>\n",
       "      <th>3</th>\n",
       "      <td>janeausten pride and prejudic altern cover edi...</td>\n",
       "    </tr>\n",
       "    <tr>\n",
       "      <th>4</th>\n",
       "      <td>annefrank the diari of a young girl discov in ...</td>\n",
       "    </tr>\n",
       "    <tr>\n",
       "      <th>...</th>\n",
       "      <td>...</td>\n",
       "    </tr>\n",
       "    <tr>\n",
       "      <th>4358</th>\n",
       "      <td>katedouglaswiggin rebecca of sunnybrook farm f...</td>\n",
       "    </tr>\n",
       "    <tr>\n",
       "      <th>4359</th>\n",
       "      <td>georger r martin fevr dream when struggl river...</td>\n",
       "    </tr>\n",
       "    <tr>\n",
       "      <th>4360</th>\n",
       "      <td>molièr le bourgeoi gentilhomm le bourgeoi gent...</td>\n",
       "    </tr>\n",
       "    <tr>\n",
       "      <th>4361</th>\n",
       "      <td>laurenk fallen in love and in a twist of fate ...</td>\n",
       "    </tr>\n",
       "    <tr>\n",
       "      <th>4362</th>\n",
       "      <td>johntayman the coloni the harrow true stori of...</td>\n",
       "    </tr>\n",
       "  </tbody>\n",
       "</table>\n",
       "<p>4363 rows × 1 columns</p>\n",
       "</div>"
      ],
      "text/plain": [
       "                                                   tags\n",
       "0     after a lifetim of bottl up hi magic power har...\n",
       "1     harperle to kill a mockingbird the unforgett n...\n",
       "2     j k rowl harri potter and the sorcer s stone h...\n",
       "3     janeausten pride and prejudic altern cover edi...\n",
       "4     annefrank the diari of a young girl discov in ...\n",
       "...                                                 ...\n",
       "4358  katedouglaswiggin rebecca of sunnybrook farm f...\n",
       "4359  georger r martin fevr dream when struggl river...\n",
       "4360  molièr le bourgeoi gentilhomm le bourgeoi gent...\n",
       "4361  laurenk fallen in love and in a twist of fate ...\n",
       "4362  johntayman the coloni the harrow true stori of...\n",
       "\n",
       "[4363 rows x 1 columns]"
      ]
     },
     "execution_count": 94,
     "metadata": {},
     "output_type": "execute_result"
    }
   ],
   "source": [
    "tags"
   ]
  },
  {
   "cell_type": "code",
   "execution_count": 95,
   "metadata": {},
   "outputs": [
    {
     "data": {
      "text/plain": [
       "array([[0, 0, 0, ..., 0, 0, 0],\n",
       "       [0, 0, 0, ..., 0, 0, 0],\n",
       "       [0, 0, 0, ..., 0, 0, 0],\n",
       "       ...,\n",
       "       [0, 0, 0, ..., 0, 0, 0],\n",
       "       [0, 0, 0, ..., 0, 0, 0],\n",
       "       [0, 0, 0, ..., 0, 0, 0]], dtype=int64)"
      ]
     },
     "execution_count": 95,
     "metadata": {},
     "output_type": "execute_result"
    }
   ],
   "source": [
    "tags_test_cv = cv.fit_transform(tags['tags']).toarray()\n",
    "tags_test_cv\n"
   ]
  },
  {
   "cell_type": "code",
   "execution_count": 96,
   "metadata": {},
   "outputs": [],
   "source": [
    "from sklearn.metrics.pairwise import cosine_similarity\n",
    "\n",
    "similarity_tags = cosine_similarity(tags_test_cv)\n"
   ]
  },
  {
   "cell_type": "code",
   "execution_count": 97,
   "metadata": {},
   "outputs": [
    {
     "data": {
      "text/plain": [
       "array([1.        , 0.        , 0.46807554, ..., 0.        , 0.03143473,\n",
       "       0.02266298])"
      ]
     },
     "execution_count": 97,
     "metadata": {},
     "output_type": "execute_result"
    }
   ],
   "source": [
    "similarity_tags[0]"
   ]
  },
  {
   "cell_type": "code",
   "execution_count": 98,
   "metadata": {},
   "outputs": [],
   "source": [
    "recommended_sorted_list = sorted(list(enumerate(similarity_tags[0])),reverse= True,key= lambda x:x[1])[1:6]\n",
    "recommended_sorted_list\n",
    "recommended_books = []\n",
    "recommended_book_posters = []\n",
    "for i in recommended_sorted_list:\n",
    "    recommended_books.append(df.iloc[i[0]].title)\n",
    "    recommended_book_posters.append(df.iloc[i[0]].image_url)\n"
   ]
  },
  {
   "cell_type": "code",
   "execution_count": 99,
   "metadata": {},
   "outputs": [
    {
     "data": {
      "text/plain": [
       "['https://i.gr-assets.com/images/S/compressed.photo.goodreads.com/books/1320399351l/1885.jpg',\n",
       " 'https://i.gr-assets.com/images/S/compressed.photo.goodreads.com/books/1387770323l/20256797.jpg',\n",
       " 'https://i.gr-assets.com/images/S/compressed.photo.goodreads.com/books/1331362619l/13152282.jpg',\n",
       " 'https://i.gr-assets.com/images/S/compressed.photo.goodreads.com/books/1559986152l/386162.jpg',\n",
       " 'https://i.gr-assets.com/images/S/compressed.photo.goodreads.com/books/1437733293l/37442._SY475_.jpg']"
      ]
     },
     "execution_count": 99,
     "metadata": {},
     "output_type": "execute_result"
    }
   ],
   "source": [
    "recommended_book_posters"
   ]
  },
  {
   "cell_type": "code",
   "execution_count": 100,
   "metadata": {},
   "outputs": [
    {
     "data": {
      "text/plain": [
       "['Pride and Prejudice',\n",
       " 'Safe & Sound',\n",
       " 'The Extraordinary Education of Nicholas Benedict',\n",
       " \"The Hitchhiker's Guide to the Galaxy\",\n",
       " 'Wicked: The Life and Times of the Wicked Witch of the West']"
      ]
     },
     "execution_count": 100,
     "metadata": {},
     "output_type": "execute_result"
    }
   ],
   "source": [
    "recommended_books"
   ]
  },
  {
   "cell_type": "code",
   "execution_count": null,
   "metadata": {},
   "outputs": [],
   "source": []
  },
  {
   "cell_type": "code",
   "execution_count": null,
   "metadata": {},
   "outputs": [],
   "source": []
  },
  {
   "cell_type": "code",
   "execution_count": null,
   "metadata": {},
   "outputs": [],
   "source": []
  }
 ],
 "metadata": {
  "interpreter": {
   "hash": "dca0ade3e726a953b501b15e8e990130d2b7799f14cfd9f4271676035ebe5511"
  },
  "kernelspec": {
   "display_name": "Python 3",
   "language": "python",
   "name": "python3"
  },
  "language_info": {
   "codemirror_mode": {
    "name": "ipython",
    "version": 3
   },
   "file_extension": ".py",
   "mimetype": "text/x-python",
   "name": "python",
   "nbconvert_exporter": "python",
   "pygments_lexer": "ipython3",
   "version": "3.8.5"
  }
 },
 "nbformat": 4,
 "nbformat_minor": 4
}
