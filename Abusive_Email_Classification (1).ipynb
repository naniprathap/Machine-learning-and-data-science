{
 "cells": [
  {
   "cell_type": "markdown",
   "metadata": {},
   "source": [
    "# ABUSIVE E-MAIL CLASSIFICTION"
   ]
  },
  {
   "cell_type": "code",
   "execution_count": 1,
   "metadata": {},
   "outputs": [],
   "source": [
    "#Python Packages\n",
    "import pandas as pd"
   ]
  },
  {
   "cell_type": "code",
   "execution_count": 2,
   "metadata": {},
   "outputs": [],
   "source": [
    "#EMAIL DATASET\n",
    "D = pd.read_csv('C:/Users/prath/Downloads/emails1 (1).txt')"
   ]
  },
  {
   "cell_type": "markdown",
   "metadata": {},
   "source": [
    "# EDA (EXPLORATORY DATA ANALYSIS)"
   ]
  },
  {
   "cell_type": "code",
   "execution_count": 3,
   "metadata": {},
   "outputs": [],
   "source": [
    "data = D.copy()"
   ]
  },
  {
   "cell_type": "code",
   "execution_count": 4,
   "metadata": {},
   "outputs": [
    {
     "data": {
      "text/plain": [
       "(48076, 5)"
      ]
     },
     "execution_count": 4,
     "metadata": {},
     "output_type": "execute_result"
    }
   ],
   "source": [
    "data.shape"
   ]
  },
  {
   "cell_type": "code",
   "execution_count": 5,
   "metadata": {},
   "outputs": [
    {
     "data": {
      "text/plain": [
       "Unnamed: 0    0\n",
       "filename      0\n",
       "Message-ID    0\n",
       "content       0\n",
       "Class         0\n",
       "dtype: int64"
      ]
     },
     "execution_count": 5,
     "metadata": {},
     "output_type": "execute_result"
    }
   ],
   "source": [
    "#FIND ANY DATA WHY IS NULL OR NOT.\n",
    "data.isnull().sum()"
   ]
  },
  {
   "cell_type": "code",
   "execution_count": 6,
   "metadata": {},
   "outputs": [
    {
     "data": {
      "text/plain": [
       "0"
      ]
     },
     "execution_count": 6,
     "metadata": {},
     "output_type": "execute_result"
    }
   ],
   "source": [
    "#CHECK ANY DUPLIACTED DATA IN THE DATASET\n",
    "data.duplicated().sum()"
   ]
  },
  {
   "cell_type": "code",
   "execution_count": 7,
   "metadata": {},
   "outputs": [],
   "source": [
    "#DROP UNNESSASSRY COLUMNS\n",
    "data = data.drop('Unnamed: 0',axis=1).drop('Class',axis=1)"
   ]
  },
  {
   "cell_type": "code",
   "execution_count": 8,
   "metadata": {},
   "outputs": [],
   "source": [
    "#RENAME COLUMNS TO SIMPLER FORM\n",
    "data = data.rename({'filename':'Name'},axis=1)\n",
    "data = data.rename({'content':'Content'},axis=1)\n",
    "data = data.rename({'Message-ID':'Mail-ID'},axis=1)"
   ]
  },
  {
   "cell_type": "code",
   "execution_count": 9,
   "metadata": {},
   "outputs": [
    {
     "data": {
      "text/html": [
       "<div>\n",
       "<style scoped>\n",
       "    .dataframe tbody tr th:only-of-type {\n",
       "        vertical-align: middle;\n",
       "    }\n",
       "\n",
       "    .dataframe tbody tr th {\n",
       "        vertical-align: top;\n",
       "    }\n",
       "\n",
       "    .dataframe thead th {\n",
       "        text-align: right;\n",
       "    }\n",
       "</style>\n",
       "<table border=\"1\" class=\"dataframe\">\n",
       "  <thead>\n",
       "    <tr style=\"text-align: right;\">\n",
       "      <th></th>\n",
       "      <th>Name</th>\n",
       "      <th>Mail-ID</th>\n",
       "      <th>Content</th>\n",
       "    </tr>\n",
       "  </thead>\n",
       "  <tbody>\n",
       "    <tr>\n",
       "      <th>0</th>\n",
       "      <td>arnold-j/_sent_mail/34.</td>\n",
       "      <td>&lt;15267340.1075857594923.JavaMail.evans@thyme&gt;</td>\n",
       "      <td>eat shit\\n\\n\\n\\n\\nJohn J Lavorato@excelr\\n11/1...</td>\n",
       "    </tr>\n",
       "    <tr>\n",
       "      <th>1</th>\n",
       "      <td>arnold-j/_sent_mail/517.</td>\n",
       "      <td>&lt;15539583.1075857652152.JavaMail.evans@thyme&gt;</td>\n",
       "      <td>fuck you</td>\n",
       "    </tr>\n",
       "    <tr>\n",
       "      <th>2</th>\n",
       "      <td>arnold-j/_sent_mail/743.</td>\n",
       "      <td>&lt;4339799.1075857657711.JavaMail.evans@thyme&gt;</td>\n",
       "      <td>Gentlemen:\\nThe following champagne is availab...</td>\n",
       "    </tr>\n",
       "    <tr>\n",
       "      <th>3</th>\n",
       "      <td>arnold-j/_sent_mail/766.</td>\n",
       "      <td>&lt;25574783.1075857658215.JavaMail.evans@thyme&gt;</td>\n",
       "      <td>sorry i've taken so long...just been trying to...</td>\n",
       "    </tr>\n",
       "    <tr>\n",
       "      <th>4</th>\n",
       "      <td>arnold-j/_sent_mail/797.</td>\n",
       "      <td>&lt;19506151.1075857658895.JavaMail.evans@thyme&gt;</td>\n",
       "      <td>asshole\\n\\n\\n\\n\\nJohn J Lavorato@excelr\\n12/23...</td>\n",
       "    </tr>\n",
       "  </tbody>\n",
       "</table>\n",
       "</div>"
      ],
      "text/plain": [
       "                       Name                                        Mail-ID  \\\n",
       "0   arnold-j/_sent_mail/34.  <15267340.1075857594923.JavaMail.evans@thyme>   \n",
       "1  arnold-j/_sent_mail/517.  <15539583.1075857652152.JavaMail.evans@thyme>   \n",
       "2  arnold-j/_sent_mail/743.   <4339799.1075857657711.JavaMail.evans@thyme>   \n",
       "3  arnold-j/_sent_mail/766.  <25574783.1075857658215.JavaMail.evans@thyme>   \n",
       "4  arnold-j/_sent_mail/797.  <19506151.1075857658895.JavaMail.evans@thyme>   \n",
       "\n",
       "                                             Content  \n",
       "0  eat shit\\n\\n\\n\\n\\nJohn J Lavorato@excelr\\n11/1...  \n",
       "1                                           fuck you  \n",
       "2  Gentlemen:\\nThe following champagne is availab...  \n",
       "3  sorry i've taken so long...just been trying to...  \n",
       "4  asshole\\n\\n\\n\\n\\nJohn J Lavorato@excelr\\n12/23...  "
      ]
     },
     "execution_count": 9,
     "metadata": {},
     "output_type": "execute_result"
    }
   ],
   "source": [
    "data.head()"
   ]
  },
  {
   "cell_type": "code",
   "execution_count": 10,
   "metadata": {},
   "outputs": [
    {
     "name": "stderr",
     "output_type": "stream",
     "text": [
      "Since the GPL-licensed package `unidecode` is not installed, using Python's `unicodedata` package which yields worse results.\n"
     ]
    }
   ],
   "source": [
    "import cleantext"
   ]
  },
  {
   "cell_type": "code",
   "execution_count": 11,
   "metadata": {},
   "outputs": [],
   "source": [
    "for i in range (len(data.Content)):\n",
    "    x = cleantext.clean(data.Content[i])\n",
    "    data.Content[i] = x"
   ]
  },
  {
   "cell_type": "code",
   "execution_count": 12,
   "metadata": {},
   "outputs": [],
   "source": [
    "from sklearn import preprocessing\n",
    "LE = preprocessing.LabelEncoder()\n",
    "data['Original'] = LE.fit_transform(D['Class'])"
   ]
  },
  {
   "cell_type": "code",
   "execution_count": 13,
   "metadata": {},
   "outputs": [
    {
     "data": {
      "text/html": [
       "<div>\n",
       "<style scoped>\n",
       "    .dataframe tbody tr th:only-of-type {\n",
       "        vertical-align: middle;\n",
       "    }\n",
       "\n",
       "    .dataframe tbody tr th {\n",
       "        vertical-align: top;\n",
       "    }\n",
       "\n",
       "    .dataframe thead th {\n",
       "        text-align: right;\n",
       "    }\n",
       "</style>\n",
       "<table border=\"1\" class=\"dataframe\">\n",
       "  <thead>\n",
       "    <tr style=\"text-align: right;\">\n",
       "      <th></th>\n",
       "      <th>Name</th>\n",
       "      <th>Mail-ID</th>\n",
       "      <th>Content</th>\n",
       "      <th>Original</th>\n",
       "    </tr>\n",
       "  </thead>\n",
       "  <tbody>\n",
       "    <tr>\n",
       "      <th>0</th>\n",
       "      <td>arnold-j/_sent_mail/34.</td>\n",
       "      <td>&lt;15267340.1075857594923.JavaMail.evans@thyme&gt;</td>\n",
       "      <td>eat shit\\njohn j lavorato@excelr\\n11/18/2000 0...</td>\n",
       "      <td>0</td>\n",
       "    </tr>\n",
       "    <tr>\n",
       "      <th>1</th>\n",
       "      <td>arnold-j/_sent_mail/517.</td>\n",
       "      <td>&lt;15539583.1075857652152.JavaMail.evans@thyme&gt;</td>\n",
       "      <td>fuck you</td>\n",
       "      <td>0</td>\n",
       "    </tr>\n",
       "    <tr>\n",
       "      <th>2</th>\n",
       "      <td>arnold-j/_sent_mail/743.</td>\n",
       "      <td>&lt;4339799.1075857657711.JavaMail.evans@thyme&gt;</td>\n",
       "      <td>gentlemen:\\nthe following champagne is availab...</td>\n",
       "      <td>0</td>\n",
       "    </tr>\n",
       "    <tr>\n",
       "      <th>3</th>\n",
       "      <td>arnold-j/_sent_mail/766.</td>\n",
       "      <td>&lt;25574783.1075857658215.JavaMail.evans@thyme&gt;</td>\n",
       "      <td>sorry i've taken so long...just been trying to...</td>\n",
       "      <td>0</td>\n",
       "    </tr>\n",
       "    <tr>\n",
       "      <th>4</th>\n",
       "      <td>arnold-j/_sent_mail/797.</td>\n",
       "      <td>&lt;19506151.1075857658895.JavaMail.evans@thyme&gt;</td>\n",
       "      <td>asshole\\njohn j lavorato@excelr\\n12/23/2000 10...</td>\n",
       "      <td>0</td>\n",
       "    </tr>\n",
       "  </tbody>\n",
       "</table>\n",
       "</div>"
      ],
      "text/plain": [
       "                       Name                                        Mail-ID  \\\n",
       "0   arnold-j/_sent_mail/34.  <15267340.1075857594923.JavaMail.evans@thyme>   \n",
       "1  arnold-j/_sent_mail/517.  <15539583.1075857652152.JavaMail.evans@thyme>   \n",
       "2  arnold-j/_sent_mail/743.   <4339799.1075857657711.JavaMail.evans@thyme>   \n",
       "3  arnold-j/_sent_mail/766.  <25574783.1075857658215.JavaMail.evans@thyme>   \n",
       "4  arnold-j/_sent_mail/797.  <19506151.1075857658895.JavaMail.evans@thyme>   \n",
       "\n",
       "                                             Content  Original  \n",
       "0  eat shit\\njohn j lavorato@excelr\\n11/18/2000 0...         0  \n",
       "1                                           fuck you         0  \n",
       "2  gentlemen:\\nthe following champagne is availab...         0  \n",
       "3  sorry i've taken so long...just been trying to...         0  \n",
       "4  asshole\\njohn j lavorato@excelr\\n12/23/2000 10...         0  "
      ]
     },
     "execution_count": 13,
     "metadata": {},
     "output_type": "execute_result"
    }
   ],
   "source": [
    "data.head()"
   ]
  },
  {
   "cell_type": "markdown",
   "metadata": {},
   "source": [
    "# MODEL BUILDING - 1 (SENTIMENTAL ANALYSIS)"
   ]
  },
  {
   "cell_type": "code",
   "execution_count": 14,
   "metadata": {},
   "outputs": [],
   "source": [
    "from textblob import TextBlob"
   ]
  },
  {
   "cell_type": "code",
   "execution_count": 15,
   "metadata": {},
   "outputs": [
    {
     "name": "stderr",
     "output_type": "stream",
     "text": [
      "<ipython-input-15-5f82b595971f>:1: DeprecationWarning: The default dtype for empty Series will be 'object' instead of 'float64' in a future version. Specify a dtype explicitly to silence this warning.\n",
      "  data['SentimentalAnalysis'] = pd.Series()\n"
     ]
    }
   ],
   "source": [
    "data['SentimentalAnalysis'] = pd.Series()"
   ]
  },
  {
   "cell_type": "code",
   "execution_count": 16,
   "metadata": {},
   "outputs": [
    {
     "name": "stderr",
     "output_type": "stream",
     "text": [
      "<ipython-input-16-08d29f58434a>:5: SettingWithCopyWarning: \n",
      "A value is trying to be set on a copy of a slice from a DataFrame\n",
      "\n",
      "See the caveats in the documentation: https://pandas.pydata.org/pandas-docs/stable/user_guide/indexing.html#returning-a-view-versus-a-copy\n",
      "  data.SentimentalAnalysis[j] = 0\n",
      "<ipython-input-16-08d29f58434a>:7: SettingWithCopyWarning: \n",
      "A value is trying to be set on a copy of a slice from a DataFrame\n",
      "\n",
      "See the caveats in the documentation: https://pandas.pydata.org/pandas-docs/stable/user_guide/indexing.html#returning-a-view-versus-a-copy\n",
      "  data.SentimentalAnalysis[j] = 1\n"
     ]
    }
   ],
   "source": [
    "#0 = ABUSIVE and 1 = NON-ABUSIVE\n",
    "for j in range(len(data.Content)):\n",
    "    x = TextBlob(data.Content[j]).sentiment\n",
    "    if x.polarity < 0.0:\n",
    "        data.SentimentalAnalysis[j] = 0\n",
    "    else:\n",
    "        data.SentimentalAnalysis[j] = 1"
   ]
  },
  {
   "cell_type": "code",
   "execution_count": 17,
   "metadata": {},
   "outputs": [
    {
     "data": {
      "text/html": [
       "<div>\n",
       "<style scoped>\n",
       "    .dataframe tbody tr th:only-of-type {\n",
       "        vertical-align: middle;\n",
       "    }\n",
       "\n",
       "    .dataframe tbody tr th {\n",
       "        vertical-align: top;\n",
       "    }\n",
       "\n",
       "    .dataframe thead th {\n",
       "        text-align: right;\n",
       "    }\n",
       "</style>\n",
       "<table border=\"1\" class=\"dataframe\">\n",
       "  <thead>\n",
       "    <tr style=\"text-align: right;\">\n",
       "      <th></th>\n",
       "      <th>Name</th>\n",
       "      <th>Mail-ID</th>\n",
       "      <th>Content</th>\n",
       "      <th>Original</th>\n",
       "      <th>SentimentalAnalysis</th>\n",
       "    </tr>\n",
       "  </thead>\n",
       "  <tbody>\n",
       "    <tr>\n",
       "      <th>0</th>\n",
       "      <td>arnold-j/_sent_mail/34.</td>\n",
       "      <td>&lt;15267340.1075857594923.JavaMail.evans@thyme&gt;</td>\n",
       "      <td>eat shit\\njohn j lavorato@excelr\\n11/18/2000 0...</td>\n",
       "      <td>0</td>\n",
       "      <td>0.0</td>\n",
       "    </tr>\n",
       "    <tr>\n",
       "      <th>1</th>\n",
       "      <td>arnold-j/_sent_mail/517.</td>\n",
       "      <td>&lt;15539583.1075857652152.JavaMail.evans@thyme&gt;</td>\n",
       "      <td>fuck you</td>\n",
       "      <td>0</td>\n",
       "      <td>0.0</td>\n",
       "    </tr>\n",
       "    <tr>\n",
       "      <th>2</th>\n",
       "      <td>arnold-j/_sent_mail/743.</td>\n",
       "      <td>&lt;4339799.1075857657711.JavaMail.evans@thyme&gt;</td>\n",
       "      <td>gentlemen:\\nthe following champagne is availab...</td>\n",
       "      <td>0</td>\n",
       "      <td>1.0</td>\n",
       "    </tr>\n",
       "    <tr>\n",
       "      <th>3</th>\n",
       "      <td>arnold-j/_sent_mail/766.</td>\n",
       "      <td>&lt;25574783.1075857658215.JavaMail.evans@thyme&gt;</td>\n",
       "      <td>sorry i've taken so long...just been trying to...</td>\n",
       "      <td>0</td>\n",
       "      <td>0.0</td>\n",
       "    </tr>\n",
       "    <tr>\n",
       "      <th>4</th>\n",
       "      <td>arnold-j/_sent_mail/797.</td>\n",
       "      <td>&lt;19506151.1075857658895.JavaMail.evans@thyme&gt;</td>\n",
       "      <td>asshole\\njohn j lavorato@excelr\\n12/23/2000 10...</td>\n",
       "      <td>0</td>\n",
       "      <td>0.0</td>\n",
       "    </tr>\n",
       "  </tbody>\n",
       "</table>\n",
       "</div>"
      ],
      "text/plain": [
       "                       Name                                        Mail-ID  \\\n",
       "0   arnold-j/_sent_mail/34.  <15267340.1075857594923.JavaMail.evans@thyme>   \n",
       "1  arnold-j/_sent_mail/517.  <15539583.1075857652152.JavaMail.evans@thyme>   \n",
       "2  arnold-j/_sent_mail/743.   <4339799.1075857657711.JavaMail.evans@thyme>   \n",
       "3  arnold-j/_sent_mail/766.  <25574783.1075857658215.JavaMail.evans@thyme>   \n",
       "4  arnold-j/_sent_mail/797.  <19506151.1075857658895.JavaMail.evans@thyme>   \n",
       "\n",
       "                                             Content  Original  \\\n",
       "0  eat shit\\njohn j lavorato@excelr\\n11/18/2000 0...         0   \n",
       "1                                           fuck you         0   \n",
       "2  gentlemen:\\nthe following champagne is availab...         0   \n",
       "3  sorry i've taken so long...just been trying to...         0   \n",
       "4  asshole\\njohn j lavorato@excelr\\n12/23/2000 10...         0   \n",
       "\n",
       "   SentimentalAnalysis  \n",
       "0                  0.0  \n",
       "1                  0.0  \n",
       "2                  1.0  \n",
       "3                  0.0  \n",
       "4                  0.0  "
      ]
     },
     "execution_count": 17,
     "metadata": {},
     "output_type": "execute_result"
    }
   ],
   "source": [
    "data.head()"
   ]
  },
  {
   "cell_type": "markdown",
   "metadata": {},
   "source": [
    "# MODEL BUILDING-2 (BAG-OF-WORDS)"
   ]
  },
  {
   "cell_type": "code",
   "execution_count": 18,
   "metadata": {},
   "outputs": [],
   "source": [
    "#ABUSIVE WORDS DATASET\n",
    "ABW = pd.read_csv('C:/Users/prath/Downloads/abusive_words.csv')"
   ]
  },
  {
   "cell_type": "code",
   "execution_count": 19,
   "metadata": {},
   "outputs": [
    {
     "data": {
      "text/html": [
       "<div>\n",
       "<style scoped>\n",
       "    .dataframe tbody tr th:only-of-type {\n",
       "        vertical-align: middle;\n",
       "    }\n",
       "\n",
       "    .dataframe tbody tr th {\n",
       "        vertical-align: top;\n",
       "    }\n",
       "\n",
       "    .dataframe thead th {\n",
       "        text-align: right;\n",
       "    }\n",
       "</style>\n",
       "<table border=\"1\" class=\"dataframe\">\n",
       "  <thead>\n",
       "    <tr style=\"text-align: right;\">\n",
       "      <th></th>\n",
       "      <th>abuses</th>\n",
       "    </tr>\n",
       "  </thead>\n",
       "  <tbody>\n",
       "    <tr>\n",
       "      <th>0</th>\n",
       "      <td>shit</td>\n",
       "    </tr>\n",
       "    <tr>\n",
       "      <th>1</th>\n",
       "      <td>fuck</td>\n",
       "    </tr>\n",
       "    <tr>\n",
       "      <th>2</th>\n",
       "      <td>damn</td>\n",
       "    </tr>\n",
       "    <tr>\n",
       "      <th>3</th>\n",
       "      <td>bitch</td>\n",
       "    </tr>\n",
       "    <tr>\n",
       "      <th>4</th>\n",
       "      <td>crap</td>\n",
       "    </tr>\n",
       "  </tbody>\n",
       "</table>\n",
       "</div>"
      ],
      "text/plain": [
       "  abuses\n",
       "0   shit\n",
       "1   fuck\n",
       "2   damn\n",
       "3  bitch\n",
       "4   crap"
      ]
     },
     "execution_count": 19,
     "metadata": {},
     "output_type": "execute_result"
    }
   ],
   "source": [
    "ABW.head(5)"
   ]
  },
  {
   "cell_type": "code",
   "execution_count": 20,
   "metadata": {},
   "outputs": [
    {
     "name": "stderr",
     "output_type": "stream",
     "text": [
      "<ipython-input-20-dc2e0a5f2135>:2: DeprecationWarning: The default dtype for empty Series will be 'object' instead of 'float64' in a future version. Specify a dtype explicitly to silence this warning.\n",
      "  data['BagOfWords'] = pd.Series()\n"
     ]
    }
   ],
   "source": [
    "min_occurance = 1\n",
    "data['BagOfWords'] = pd.Series()"
   ]
  },
  {
   "cell_type": "code",
   "execution_count": 21,
   "metadata": {},
   "outputs": [
    {
     "name": "stderr",
     "output_type": "stream",
     "text": [
      "<ipython-input-21-cf226e05eab8>:10: SettingWithCopyWarning: \n",
      "A value is trying to be set on a copy of a slice from a DataFrame\n",
      "\n",
      "See the caveats in the documentation: https://pandas.pydata.org/pandas-docs/stable/user_guide/indexing.html#returning-a-view-versus-a-copy\n",
      "  data.BagOfWords[k] = 0\n",
      "<ipython-input-21-cf226e05eab8>:12: SettingWithCopyWarning: \n",
      "A value is trying to be set on a copy of a slice from a DataFrame\n",
      "\n",
      "See the caveats in the documentation: https://pandas.pydata.org/pandas-docs/stable/user_guide/indexing.html#returning-a-view-versus-a-copy\n",
      "  data.BagOfWords[k] = 1\n"
     ]
    }
   ],
   "source": [
    "#0 FOR ABUSIVE AND 1 FOR NON-ABUSIVE\n",
    "occurance = []\n",
    "for k in range(len(data.BagOfWords)):\n",
    "    for l in ABW.abuses:\n",
    "        if l in data.Content[k].split():\n",
    "            occurance.append(0)\n",
    "        else:\n",
    "            occurance.append(1)\n",
    "    if occurance.count(0) >= min_occurance:\n",
    "        data.BagOfWords[k] = 0\n",
    "    else:\n",
    "        data.BagOfWords[k] = 1\n",
    "    occurance.clear()"
   ]
  },
  {
   "cell_type": "code",
   "execution_count": 22,
   "metadata": {},
   "outputs": [
    {
     "data": {
      "text/html": [
       "<div>\n",
       "<style scoped>\n",
       "    .dataframe tbody tr th:only-of-type {\n",
       "        vertical-align: middle;\n",
       "    }\n",
       "\n",
       "    .dataframe tbody tr th {\n",
       "        vertical-align: top;\n",
       "    }\n",
       "\n",
       "    .dataframe thead th {\n",
       "        text-align: right;\n",
       "    }\n",
       "</style>\n",
       "<table border=\"1\" class=\"dataframe\">\n",
       "  <thead>\n",
       "    <tr style=\"text-align: right;\">\n",
       "      <th></th>\n",
       "      <th>Name</th>\n",
       "      <th>Mail-ID</th>\n",
       "      <th>Content</th>\n",
       "      <th>Original</th>\n",
       "      <th>SentimentalAnalysis</th>\n",
       "      <th>BagOfWords</th>\n",
       "    </tr>\n",
       "  </thead>\n",
       "  <tbody>\n",
       "    <tr>\n",
       "      <th>0</th>\n",
       "      <td>arnold-j/_sent_mail/34.</td>\n",
       "      <td>&lt;15267340.1075857594923.JavaMail.evans@thyme&gt;</td>\n",
       "      <td>eat shit\\njohn j lavorato@excelr\\n11/18/2000 0...</td>\n",
       "      <td>0</td>\n",
       "      <td>0.0</td>\n",
       "      <td>0.0</td>\n",
       "    </tr>\n",
       "    <tr>\n",
       "      <th>1</th>\n",
       "      <td>arnold-j/_sent_mail/517.</td>\n",
       "      <td>&lt;15539583.1075857652152.JavaMail.evans@thyme&gt;</td>\n",
       "      <td>fuck you</td>\n",
       "      <td>0</td>\n",
       "      <td>0.0</td>\n",
       "      <td>0.0</td>\n",
       "    </tr>\n",
       "    <tr>\n",
       "      <th>2</th>\n",
       "      <td>arnold-j/_sent_mail/743.</td>\n",
       "      <td>&lt;4339799.1075857657711.JavaMail.evans@thyme&gt;</td>\n",
       "      <td>gentlemen:\\nthe following champagne is availab...</td>\n",
       "      <td>0</td>\n",
       "      <td>1.0</td>\n",
       "      <td>1.0</td>\n",
       "    </tr>\n",
       "    <tr>\n",
       "      <th>3</th>\n",
       "      <td>arnold-j/_sent_mail/766.</td>\n",
       "      <td>&lt;25574783.1075857658215.JavaMail.evans@thyme&gt;</td>\n",
       "      <td>sorry i've taken so long...just been trying to...</td>\n",
       "      <td>0</td>\n",
       "      <td>0.0</td>\n",
       "      <td>0.0</td>\n",
       "    </tr>\n",
       "    <tr>\n",
       "      <th>4</th>\n",
       "      <td>arnold-j/_sent_mail/797.</td>\n",
       "      <td>&lt;19506151.1075857658895.JavaMail.evans@thyme&gt;</td>\n",
       "      <td>asshole\\njohn j lavorato@excelr\\n12/23/2000 10...</td>\n",
       "      <td>0</td>\n",
       "      <td>0.0</td>\n",
       "      <td>0.0</td>\n",
       "    </tr>\n",
       "  </tbody>\n",
       "</table>\n",
       "</div>"
      ],
      "text/plain": [
       "                       Name                                        Mail-ID  \\\n",
       "0   arnold-j/_sent_mail/34.  <15267340.1075857594923.JavaMail.evans@thyme>   \n",
       "1  arnold-j/_sent_mail/517.  <15539583.1075857652152.JavaMail.evans@thyme>   \n",
       "2  arnold-j/_sent_mail/743.   <4339799.1075857657711.JavaMail.evans@thyme>   \n",
       "3  arnold-j/_sent_mail/766.  <25574783.1075857658215.JavaMail.evans@thyme>   \n",
       "4  arnold-j/_sent_mail/797.  <19506151.1075857658895.JavaMail.evans@thyme>   \n",
       "\n",
       "                                             Content  Original  \\\n",
       "0  eat shit\\njohn j lavorato@excelr\\n11/18/2000 0...         0   \n",
       "1                                           fuck you         0   \n",
       "2  gentlemen:\\nthe following champagne is availab...         0   \n",
       "3  sorry i've taken so long...just been trying to...         0   \n",
       "4  asshole\\njohn j lavorato@excelr\\n12/23/2000 10...         0   \n",
       "\n",
       "   SentimentalAnalysis  BagOfWords  \n",
       "0                  0.0         0.0  \n",
       "1                  0.0         0.0  \n",
       "2                  1.0         1.0  \n",
       "3                  0.0         0.0  \n",
       "4                  0.0         0.0  "
      ]
     },
     "execution_count": 22,
     "metadata": {},
     "output_type": "execute_result"
    }
   ],
   "source": [
    "data.head()"
   ]
  },
  {
   "cell_type": "markdown",
   "metadata": {},
   "source": [
    "# MODEL-3 (VADER SENTIMENTAL ANALYSIS)"
   ]
  },
  {
   "cell_type": "code",
   "execution_count": 23,
   "metadata": {},
   "outputs": [
    {
     "name": "stdout",
     "output_type": "stream",
     "text": [
      "Requirement already satisfied: vaderSentiment in c:\\users\\prath\\anaconda3\\lib\\site-packages (3.3.2)\n",
      "Requirement already satisfied: requests in c:\\users\\prath\\anaconda3\\lib\\site-packages (from vaderSentiment) (2.24.0)\n",
      "Requirement already satisfied: urllib3!=1.25.0,!=1.25.1,<1.26,>=1.21.1 in c:\\users\\prath\\anaconda3\\lib\\site-packages (from requests->vaderSentiment) (1.25.11)\n",
      "Requirement already satisfied: certifi>=2017.4.17 in c:\\users\\prath\\anaconda3\\lib\\site-packages (from requests->vaderSentiment) (2020.6.20)\n",
      "Requirement already satisfied: idna<3,>=2.5 in c:\\users\\prath\\anaconda3\\lib\\site-packages (from requests->vaderSentiment) (2.10)\n",
      "Requirement already satisfied: chardet<4,>=3.0.2 in c:\\users\\prath\\anaconda3\\lib\\site-packages (from requests->vaderSentiment) (3.0.4)\n"
     ]
    }
   ],
   "source": [
    "!pip install vaderSentiment"
   ]
  },
  {
   "cell_type": "code",
   "execution_count": 24,
   "metadata": {},
   "outputs": [],
   "source": [
    "from vaderSentiment.vaderSentiment import SentimentIntensityAnalyzer"
   ]
  },
  {
   "cell_type": "code",
   "execution_count": 25,
   "metadata": {},
   "outputs": [
    {
     "name": "stderr",
     "output_type": "stream",
     "text": [
      "<ipython-input-25-37cd094e9122>:1: DeprecationWarning: The default dtype for empty Series will be 'object' instead of 'float64' in a future version. Specify a dtype explicitly to silence this warning.\n",
      "  data['VADER'] = pd.Series()\n"
     ]
    }
   ],
   "source": [
    "data['VADER'] = pd.Series()"
   ]
  },
  {
   "cell_type": "code",
   "execution_count": 26,
   "metadata": {},
   "outputs": [
    {
     "name": "stderr",
     "output_type": "stream",
     "text": [
      "<ipython-input-26-79299fa9acb1>:5: SettingWithCopyWarning: \n",
      "A value is trying to be set on a copy of a slice from a DataFrame\n",
      "\n",
      "See the caveats in the documentation: https://pandas.pydata.org/pandas-docs/stable/user_guide/indexing.html#returning-a-view-versus-a-copy\n",
      "  data.VADER[i] = 0\n",
      "<ipython-input-26-79299fa9acb1>:7: SettingWithCopyWarning: \n",
      "A value is trying to be set on a copy of a slice from a DataFrame\n",
      "\n",
      "See the caveats in the documentation: https://pandas.pydata.org/pandas-docs/stable/user_guide/indexing.html#returning-a-view-versus-a-copy\n",
      "  data.VADER[i] = 1\n"
     ]
    }
   ],
   "source": [
    "analyzer = SentimentIntensityAnalyzer()\n",
    "for i in range(len(data.Content)):\n",
    "    vs = analyzer.polarity_scores(data.Content[i])\n",
    "    if (list(vs.values())[0])>0:\n",
    "        data.VADER[i] = 0\n",
    "    else:\n",
    "        data.VADER[i] = 1"
   ]
  },
  {
   "cell_type": "code",
   "execution_count": 27,
   "metadata": {},
   "outputs": [
    {
     "data": {
      "text/html": [
       "<div>\n",
       "<style scoped>\n",
       "    .dataframe tbody tr th:only-of-type {\n",
       "        vertical-align: middle;\n",
       "    }\n",
       "\n",
       "    .dataframe tbody tr th {\n",
       "        vertical-align: top;\n",
       "    }\n",
       "\n",
       "    .dataframe thead th {\n",
       "        text-align: right;\n",
       "    }\n",
       "</style>\n",
       "<table border=\"1\" class=\"dataframe\">\n",
       "  <thead>\n",
       "    <tr style=\"text-align: right;\">\n",
       "      <th></th>\n",
       "      <th>Name</th>\n",
       "      <th>Mail-ID</th>\n",
       "      <th>Content</th>\n",
       "      <th>Original</th>\n",
       "      <th>SentimentalAnalysis</th>\n",
       "      <th>BagOfWords</th>\n",
       "      <th>VADER</th>\n",
       "    </tr>\n",
       "  </thead>\n",
       "  <tbody>\n",
       "    <tr>\n",
       "      <th>0</th>\n",
       "      <td>arnold-j/_sent_mail/34.</td>\n",
       "      <td>&lt;15267340.1075857594923.JavaMail.evans@thyme&gt;</td>\n",
       "      <td>eat shit\\njohn j lavorato@excelr\\n11/18/2000 0...</td>\n",
       "      <td>0</td>\n",
       "      <td>0.0</td>\n",
       "      <td>0.0</td>\n",
       "      <td>0.0</td>\n",
       "    </tr>\n",
       "    <tr>\n",
       "      <th>1</th>\n",
       "      <td>arnold-j/_sent_mail/517.</td>\n",
       "      <td>&lt;15539583.1075857652152.JavaMail.evans@thyme&gt;</td>\n",
       "      <td>fuck you</td>\n",
       "      <td>0</td>\n",
       "      <td>0.0</td>\n",
       "      <td>0.0</td>\n",
       "      <td>0.0</td>\n",
       "    </tr>\n",
       "    <tr>\n",
       "      <th>2</th>\n",
       "      <td>arnold-j/_sent_mail/743.</td>\n",
       "      <td>&lt;4339799.1075857657711.JavaMail.evans@thyme&gt;</td>\n",
       "      <td>gentlemen:\\nthe following champagne is availab...</td>\n",
       "      <td>0</td>\n",
       "      <td>1.0</td>\n",
       "      <td>1.0</td>\n",
       "      <td>1.0</td>\n",
       "    </tr>\n",
       "    <tr>\n",
       "      <th>3</th>\n",
       "      <td>arnold-j/_sent_mail/766.</td>\n",
       "      <td>&lt;25574783.1075857658215.JavaMail.evans@thyme&gt;</td>\n",
       "      <td>sorry i've taken so long...just been trying to...</td>\n",
       "      <td>0</td>\n",
       "      <td>0.0</td>\n",
       "      <td>0.0</td>\n",
       "      <td>0.0</td>\n",
       "    </tr>\n",
       "    <tr>\n",
       "      <th>4</th>\n",
       "      <td>arnold-j/_sent_mail/797.</td>\n",
       "      <td>&lt;19506151.1075857658895.JavaMail.evans@thyme&gt;</td>\n",
       "      <td>asshole\\njohn j lavorato@excelr\\n12/23/2000 10...</td>\n",
       "      <td>0</td>\n",
       "      <td>0.0</td>\n",
       "      <td>0.0</td>\n",
       "      <td>0.0</td>\n",
       "    </tr>\n",
       "  </tbody>\n",
       "</table>\n",
       "</div>"
      ],
      "text/plain": [
       "                       Name                                        Mail-ID  \\\n",
       "0   arnold-j/_sent_mail/34.  <15267340.1075857594923.JavaMail.evans@thyme>   \n",
       "1  arnold-j/_sent_mail/517.  <15539583.1075857652152.JavaMail.evans@thyme>   \n",
       "2  arnold-j/_sent_mail/743.   <4339799.1075857657711.JavaMail.evans@thyme>   \n",
       "3  arnold-j/_sent_mail/766.  <25574783.1075857658215.JavaMail.evans@thyme>   \n",
       "4  arnold-j/_sent_mail/797.  <19506151.1075857658895.JavaMail.evans@thyme>   \n",
       "\n",
       "                                             Content  Original  \\\n",
       "0  eat shit\\njohn j lavorato@excelr\\n11/18/2000 0...         0   \n",
       "1                                           fuck you         0   \n",
       "2  gentlemen:\\nthe following champagne is availab...         0   \n",
       "3  sorry i've taken so long...just been trying to...         0   \n",
       "4  asshole\\njohn j lavorato@excelr\\n12/23/2000 10...         0   \n",
       "\n",
       "   SentimentalAnalysis  BagOfWords  VADER  \n",
       "0                  0.0         0.0    0.0  \n",
       "1                  0.0         0.0    0.0  \n",
       "2                  1.0         1.0    1.0  \n",
       "3                  0.0         0.0    0.0  \n",
       "4                  0.0         0.0    0.0  "
      ]
     },
     "execution_count": 27,
     "metadata": {},
     "output_type": "execute_result"
    }
   ],
   "source": [
    "data.head()"
   ]
  },
  {
   "cell_type": "markdown",
   "metadata": {},
   "source": [
    "# MODEL-4 (SVM)"
   ]
  },
  {
   "cell_type": "code",
   "execution_count": 28,
   "metadata": {},
   "outputs": [],
   "source": [
    "datatrain = data.head(33600)\n",
    "datatest = data.tail(14400)"
   ]
  },
  {
   "cell_type": "code",
   "execution_count": 29,
   "metadata": {},
   "outputs": [],
   "source": [
    "from sklearn.feature_extraction.text import TfidfVectorizer"
   ]
  },
  {
   "cell_type": "code",
   "execution_count": 30,
   "metadata": {},
   "outputs": [],
   "source": [
    "vectorizer = TfidfVectorizer(min_df = 5, max_df = 0.8, sublinear_tf = True, use_idf = True)\n",
    "train_vectors = vectorizer.fit_transform(datatrain['Content'])\n",
    "test_vectors = vectorizer.transform(datatest['Content'])"
   ]
  },
  {
   "cell_type": "code",
   "execution_count": 31,
   "metadata": {},
   "outputs": [
    {
     "name": "stdout",
     "output_type": "stream",
     "text": [
      "Training time: 486.383442s; Prediction time: 91.211272s\n"
     ]
    },
    {
     "name": "stderr",
     "output_type": "stream",
     "text": [
      "C:\\Users\\prath\\anaconda3\\lib\\site-packages\\sklearn\\metrics\\_classification.py:1221: UndefinedMetricWarning: Recall and F-score are ill-defined and being set to 0.0 in labels with no true samples. Use `zero_division` parameter to control this behavior.\n",
      "  _warn_prf(average, modifier, msg_start, len(result))\n"
     ]
    }
   ],
   "source": [
    "import time\n",
    "from sklearn import svm\n",
    "from sklearn.metrics import classification_report\n",
    "\n",
    "# Perform classification with SVM, kernel=linear\n",
    "classifier_linear = svm.SVC(kernel='linear')\n",
    "t0 = time.time()\n",
    "classifier_linear.fit(train_vectors, datatrain['Original'])\n",
    "t1 = time.time()\n",
    "prediction_linear = classifier_linear.predict(test_vectors)\n",
    "t2 = time.time()\n",
    "time_linear_train = t1-t0\n",
    "time_linear_predict = t2-t1\n",
    "\n",
    "# results\n",
    "print(\"Training time: %fs; Prediction time: %fs\" % (time_linear_train, time_linear_predict))\n",
    "report = classification_report(datatest['Original'], prediction_linear, output_dict=True)"
   ]
  },
  {
   "cell_type": "code",
   "execution_count": 32,
   "metadata": {},
   "outputs": [
    {
     "name": "stderr",
     "output_type": "stream",
     "text": [
      "<ipython-input-32-7b171abca0d5>:1: DeprecationWarning: The default dtype for empty Series will be 'object' instead of 'float64' in a future version. Specify a dtype explicitly to silence this warning.\n",
      "  data['SVM'] = pd.Series()\n"
     ]
    }
   ],
   "source": [
    "data['SVM'] = pd.Series()"
   ]
  },
  {
   "cell_type": "code",
   "execution_count": 33,
   "metadata": {},
   "outputs": [
    {
     "name": "stderr",
     "output_type": "stream",
     "text": [
      "<ipython-input-33-4bff51c28569>:4: SettingWithCopyWarning: \n",
      "A value is trying to be set on a copy of a slice from a DataFrame\n",
      "\n",
      "See the caveats in the documentation: https://pandas.pydata.org/pandas-docs/stable/user_guide/indexing.html#returning-a-view-versus-a-copy\n",
      "  data.SVM[i] = (classifier_linear.predict(review_vector))\n"
     ]
    }
   ],
   "source": [
    "for i in range(len(data.Content)):\n",
    "    review = data.Content[i]\n",
    "    review_vector = vectorizer.transform([review])\n",
    "    data.SVM[i] = (classifier_linear.predict(review_vector))"
   ]
  },
  {
   "cell_type": "code",
   "execution_count": 34,
   "metadata": {},
   "outputs": [
    {
     "data": {
      "text/html": [
       "<div>\n",
       "<style scoped>\n",
       "    .dataframe tbody tr th:only-of-type {\n",
       "        vertical-align: middle;\n",
       "    }\n",
       "\n",
       "    .dataframe tbody tr th {\n",
       "        vertical-align: top;\n",
       "    }\n",
       "\n",
       "    .dataframe thead th {\n",
       "        text-align: right;\n",
       "    }\n",
       "</style>\n",
       "<table border=\"1\" class=\"dataframe\">\n",
       "  <thead>\n",
       "    <tr style=\"text-align: right;\">\n",
       "      <th></th>\n",
       "      <th>Name</th>\n",
       "      <th>Mail-ID</th>\n",
       "      <th>Content</th>\n",
       "      <th>Original</th>\n",
       "      <th>SentimentalAnalysis</th>\n",
       "      <th>BagOfWords</th>\n",
       "      <th>VADER</th>\n",
       "      <th>SVM</th>\n",
       "    </tr>\n",
       "  </thead>\n",
       "  <tbody>\n",
       "    <tr>\n",
       "      <th>0</th>\n",
       "      <td>arnold-j/_sent_mail/34.</td>\n",
       "      <td>&lt;15267340.1075857594923.JavaMail.evans@thyme&gt;</td>\n",
       "      <td>eat shit\\njohn j lavorato@excelr\\n11/18/2000 0...</td>\n",
       "      <td>0</td>\n",
       "      <td>0.0</td>\n",
       "      <td>0.0</td>\n",
       "      <td>0.0</td>\n",
       "      <td>0.0</td>\n",
       "    </tr>\n",
       "    <tr>\n",
       "      <th>1</th>\n",
       "      <td>arnold-j/_sent_mail/517.</td>\n",
       "      <td>&lt;15539583.1075857652152.JavaMail.evans@thyme&gt;</td>\n",
       "      <td>fuck you</td>\n",
       "      <td>0</td>\n",
       "      <td>0.0</td>\n",
       "      <td>0.0</td>\n",
       "      <td>0.0</td>\n",
       "      <td>0.0</td>\n",
       "    </tr>\n",
       "    <tr>\n",
       "      <th>2</th>\n",
       "      <td>arnold-j/_sent_mail/743.</td>\n",
       "      <td>&lt;4339799.1075857657711.JavaMail.evans@thyme&gt;</td>\n",
       "      <td>gentlemen:\\nthe following champagne is availab...</td>\n",
       "      <td>0</td>\n",
       "      <td>1.0</td>\n",
       "      <td>1.0</td>\n",
       "      <td>1.0</td>\n",
       "      <td>0.0</td>\n",
       "    </tr>\n",
       "    <tr>\n",
       "      <th>3</th>\n",
       "      <td>arnold-j/_sent_mail/766.</td>\n",
       "      <td>&lt;25574783.1075857658215.JavaMail.evans@thyme&gt;</td>\n",
       "      <td>sorry i've taken so long...just been trying to...</td>\n",
       "      <td>0</td>\n",
       "      <td>0.0</td>\n",
       "      <td>0.0</td>\n",
       "      <td>0.0</td>\n",
       "      <td>0.0</td>\n",
       "    </tr>\n",
       "    <tr>\n",
       "      <th>4</th>\n",
       "      <td>arnold-j/_sent_mail/797.</td>\n",
       "      <td>&lt;19506151.1075857658895.JavaMail.evans@thyme&gt;</td>\n",
       "      <td>asshole\\njohn j lavorato@excelr\\n12/23/2000 10...</td>\n",
       "      <td>0</td>\n",
       "      <td>0.0</td>\n",
       "      <td>0.0</td>\n",
       "      <td>0.0</td>\n",
       "      <td>0.0</td>\n",
       "    </tr>\n",
       "  </tbody>\n",
       "</table>\n",
       "</div>"
      ],
      "text/plain": [
       "                       Name                                        Mail-ID  \\\n",
       "0   arnold-j/_sent_mail/34.  <15267340.1075857594923.JavaMail.evans@thyme>   \n",
       "1  arnold-j/_sent_mail/517.  <15539583.1075857652152.JavaMail.evans@thyme>   \n",
       "2  arnold-j/_sent_mail/743.   <4339799.1075857657711.JavaMail.evans@thyme>   \n",
       "3  arnold-j/_sent_mail/766.  <25574783.1075857658215.JavaMail.evans@thyme>   \n",
       "4  arnold-j/_sent_mail/797.  <19506151.1075857658895.JavaMail.evans@thyme>   \n",
       "\n",
       "                                             Content  Original  \\\n",
       "0  eat shit\\njohn j lavorato@excelr\\n11/18/2000 0...         0   \n",
       "1                                           fuck you         0   \n",
       "2  gentlemen:\\nthe following champagne is availab...         0   \n",
       "3  sorry i've taken so long...just been trying to...         0   \n",
       "4  asshole\\njohn j lavorato@excelr\\n12/23/2000 10...         0   \n",
       "\n",
       "   SentimentalAnalysis  BagOfWords  VADER  SVM  \n",
       "0                  0.0         0.0    0.0  0.0  \n",
       "1                  0.0         0.0    0.0  0.0  \n",
       "2                  1.0         1.0    1.0  0.0  \n",
       "3                  0.0         0.0    0.0  0.0  \n",
       "4                  0.0         0.0    0.0  0.0  "
      ]
     },
     "execution_count": 34,
     "metadata": {},
     "output_type": "execute_result"
    }
   ],
   "source": [
    "data.head()"
   ]
  },
  {
   "cell_type": "markdown",
   "metadata": {},
   "source": [
    "# MODEL - 5 (NAIVE BAYES) DEEP LEARNING MODEL"
   ]
  },
  {
   "cell_type": "code",
   "execution_count": 35,
   "metadata": {},
   "outputs": [],
   "source": [
    "from sklearn.naive_bayes import MultinomialNB\n",
    "from sklearn.model_selection import train_test_split\n",
    "from sklearn.feature_extraction.text import CountVectorizer"
   ]
  },
  {
   "cell_type": "code",
   "execution_count": 36,
   "metadata": {},
   "outputs": [],
   "source": [
    "x = data['Content']\n",
    "y = data['Original']\n",
    "x, x_test, y, y_test = train_test_split(x,y, stratify=y, test_size=0.25, random_state=42)"
   ]
  },
  {
   "cell_type": "code",
   "execution_count": 37,
   "metadata": {},
   "outputs": [],
   "source": [
    "vec = CountVectorizer(stop_words='english')\n",
    "x = vec.fit_transform(x)\n",
    "x_test = vec.transform(x_test)"
   ]
  },
  {
   "cell_type": "code",
   "execution_count": 38,
   "metadata": {},
   "outputs": [
    {
     "data": {
      "text/plain": [
       "MultinomialNB()"
      ]
     },
     "execution_count": 38,
     "metadata": {},
     "output_type": "execute_result"
    }
   ],
   "source": [
    "model = MultinomialNB()\n",
    "model.fit(x, y)"
   ]
  },
  {
   "cell_type": "code",
   "execution_count": 39,
   "metadata": {},
   "outputs": [
    {
     "name": "stderr",
     "output_type": "stream",
     "text": [
      "<ipython-input-39-049bf9b66335>:1: DeprecationWarning: The default dtype for empty Series will be 'object' instead of 'float64' in a future version. Specify a dtype explicitly to silence this warning.\n",
      "  data['NAIVE'] = pd.Series()\n"
     ]
    }
   ],
   "source": [
    "data['NAIVE'] = pd.Series()"
   ]
  },
  {
   "cell_type": "code",
   "execution_count": 40,
   "metadata": {},
   "outputs": [
    {
     "name": "stderr",
     "output_type": "stream",
     "text": [
      "<ipython-input-40-c6143e6c526a>:7: SettingWithCopyWarning: \n",
      "A value is trying to be set on a copy of a slice from a DataFrame\n",
      "\n",
      "See the caveats in the documentation: https://pandas.pydata.org/pandas-docs/stable/user_guide/indexing.html#returning-a-view-versus-a-copy\n",
      "  data.NAIVE[i] = 1\n",
      "<ipython-input-40-c6143e6c526a>:5: SettingWithCopyWarning: \n",
      "A value is trying to be set on a copy of a slice from a DataFrame\n",
      "\n",
      "See the caveats in the documentation: https://pandas.pydata.org/pandas-docs/stable/user_guide/indexing.html#returning-a-view-versus-a-copy\n",
      "  data.NAIVE[i] = 0\n"
     ]
    }
   ],
   "source": [
    "#0 = ABUSIVE and 1 = NON-ABUSIVE\n",
    "for i in range(len(data.Content)):\n",
    "    A = model.predict(vec.transform([data.Content[i]]))\n",
    "    if A[0] == 0:\n",
    "        data.NAIVE[i] = 0\n",
    "    else:\n",
    "        data.NAIVE[i] = 1"
   ]
  },
  {
   "cell_type": "code",
   "execution_count": 41,
   "metadata": {},
   "outputs": [
    {
     "data": {
      "text/html": [
       "<div>\n",
       "<style scoped>\n",
       "    .dataframe tbody tr th:only-of-type {\n",
       "        vertical-align: middle;\n",
       "    }\n",
       "\n",
       "    .dataframe tbody tr th {\n",
       "        vertical-align: top;\n",
       "    }\n",
       "\n",
       "    .dataframe thead th {\n",
       "        text-align: right;\n",
       "    }\n",
       "</style>\n",
       "<table border=\"1\" class=\"dataframe\">\n",
       "  <thead>\n",
       "    <tr style=\"text-align: right;\">\n",
       "      <th></th>\n",
       "      <th>Name</th>\n",
       "      <th>Mail-ID</th>\n",
       "      <th>Content</th>\n",
       "      <th>Original</th>\n",
       "      <th>SentimentalAnalysis</th>\n",
       "      <th>BagOfWords</th>\n",
       "      <th>VADER</th>\n",
       "      <th>SVM</th>\n",
       "      <th>NAIVE</th>\n",
       "    </tr>\n",
       "  </thead>\n",
       "  <tbody>\n",
       "    <tr>\n",
       "      <th>0</th>\n",
       "      <td>arnold-j/_sent_mail/34.</td>\n",
       "      <td>&lt;15267340.1075857594923.JavaMail.evans@thyme&gt;</td>\n",
       "      <td>eat shit\\njohn j lavorato@excelr\\n11/18/2000 0...</td>\n",
       "      <td>0</td>\n",
       "      <td>0.0</td>\n",
       "      <td>0.0</td>\n",
       "      <td>0.0</td>\n",
       "      <td>0.0</td>\n",
       "      <td>1.0</td>\n",
       "    </tr>\n",
       "    <tr>\n",
       "      <th>1</th>\n",
       "      <td>arnold-j/_sent_mail/517.</td>\n",
       "      <td>&lt;15539583.1075857652152.JavaMail.evans@thyme&gt;</td>\n",
       "      <td>fuck you</td>\n",
       "      <td>0</td>\n",
       "      <td>0.0</td>\n",
       "      <td>0.0</td>\n",
       "      <td>0.0</td>\n",
       "      <td>0.0</td>\n",
       "      <td>0.0</td>\n",
       "    </tr>\n",
       "    <tr>\n",
       "      <th>2</th>\n",
       "      <td>arnold-j/_sent_mail/743.</td>\n",
       "      <td>&lt;4339799.1075857657711.JavaMail.evans@thyme&gt;</td>\n",
       "      <td>gentlemen:\\nthe following champagne is availab...</td>\n",
       "      <td>0</td>\n",
       "      <td>1.0</td>\n",
       "      <td>1.0</td>\n",
       "      <td>1.0</td>\n",
       "      <td>0.0</td>\n",
       "      <td>0.0</td>\n",
       "    </tr>\n",
       "    <tr>\n",
       "      <th>3</th>\n",
       "      <td>arnold-j/_sent_mail/766.</td>\n",
       "      <td>&lt;25574783.1075857658215.JavaMail.evans@thyme&gt;</td>\n",
       "      <td>sorry i've taken so long...just been trying to...</td>\n",
       "      <td>0</td>\n",
       "      <td>0.0</td>\n",
       "      <td>0.0</td>\n",
       "      <td>0.0</td>\n",
       "      <td>0.0</td>\n",
       "      <td>0.0</td>\n",
       "    </tr>\n",
       "    <tr>\n",
       "      <th>4</th>\n",
       "      <td>arnold-j/_sent_mail/797.</td>\n",
       "      <td>&lt;19506151.1075857658895.JavaMail.evans@thyme&gt;</td>\n",
       "      <td>asshole\\njohn j lavorato@excelr\\n12/23/2000 10...</td>\n",
       "      <td>0</td>\n",
       "      <td>0.0</td>\n",
       "      <td>0.0</td>\n",
       "      <td>0.0</td>\n",
       "      <td>0.0</td>\n",
       "      <td>1.0</td>\n",
       "    </tr>\n",
       "  </tbody>\n",
       "</table>\n",
       "</div>"
      ],
      "text/plain": [
       "                       Name                                        Mail-ID  \\\n",
       "0   arnold-j/_sent_mail/34.  <15267340.1075857594923.JavaMail.evans@thyme>   \n",
       "1  arnold-j/_sent_mail/517.  <15539583.1075857652152.JavaMail.evans@thyme>   \n",
       "2  arnold-j/_sent_mail/743.   <4339799.1075857657711.JavaMail.evans@thyme>   \n",
       "3  arnold-j/_sent_mail/766.  <25574783.1075857658215.JavaMail.evans@thyme>   \n",
       "4  arnold-j/_sent_mail/797.  <19506151.1075857658895.JavaMail.evans@thyme>   \n",
       "\n",
       "                                             Content  Original  \\\n",
       "0  eat shit\\njohn j lavorato@excelr\\n11/18/2000 0...         0   \n",
       "1                                           fuck you         0   \n",
       "2  gentlemen:\\nthe following champagne is availab...         0   \n",
       "3  sorry i've taken so long...just been trying to...         0   \n",
       "4  asshole\\njohn j lavorato@excelr\\n12/23/2000 10...         0   \n",
       "\n",
       "   SentimentalAnalysis  BagOfWords  VADER  SVM  NAIVE  \n",
       "0                  0.0         0.0    0.0  0.0    1.0  \n",
       "1                  0.0         0.0    0.0  0.0    0.0  \n",
       "2                  1.0         1.0    1.0  0.0    0.0  \n",
       "3                  0.0         0.0    0.0  0.0    0.0  \n",
       "4                  0.0         0.0    0.0  0.0    1.0  "
      ]
     },
     "execution_count": 41,
     "metadata": {},
     "output_type": "execute_result"
    }
   ],
   "source": [
    "data.head()"
   ]
  },
  {
   "cell_type": "markdown",
   "metadata": {},
   "source": [
    "# MODEL - 6 (RANDOM FOREST)"
   ]
  },
  {
   "cell_type": "code",
   "execution_count": 42,
   "metadata": {},
   "outputs": [],
   "source": [
    "from sklearn.model_selection import KFold\n",
    "from sklearn.model_selection import cross_val_score\n",
    "from sklearn.ensemble import RandomForestClassifier\n",
    "from sklearn.feature_extraction.text import CountVectorizer"
   ]
  },
  {
   "cell_type": "code",
   "execution_count": 43,
   "metadata": {},
   "outputs": [],
   "source": [
    "x = data['Content']\n",
    "y = data['Original']\n",
    "x, x_test, y, y_test = train_test_split(x,y, stratify=y, test_size=0.25, random_state=42)"
   ]
  },
  {
   "cell_type": "code",
   "execution_count": 44,
   "metadata": {},
   "outputs": [],
   "source": [
    "vec = CountVectorizer(stop_words='english')\n",
    "x = vec.fit_transform(x)\n",
    "x_test = vec.transform(x_test)"
   ]
  },
  {
   "cell_type": "code",
   "execution_count": 45,
   "metadata": {},
   "outputs": [
    {
     "data": {
      "text/plain": [
       "RandomForestClassifier(max_features=3)"
      ]
     },
     "execution_count": 45,
     "metadata": {},
     "output_type": "execute_result"
    }
   ],
   "source": [
    "kfold = KFold(n_splits=10)\n",
    "model = RandomForestClassifier(n_estimators=100, max_features=3)\n",
    "model.fit(x,y)"
   ]
  },
  {
   "cell_type": "code",
   "execution_count": 46,
   "metadata": {},
   "outputs": [
    {
     "name": "stderr",
     "output_type": "stream",
     "text": [
      "<ipython-input-46-ad1ea022f8d8>:1: DeprecationWarning: The default dtype for empty Series will be 'object' instead of 'float64' in a future version. Specify a dtype explicitly to silence this warning.\n",
      "  data['RF'] = pd.Series()\n"
     ]
    }
   ],
   "source": [
    "data['RF'] = pd.Series()"
   ]
  },
  {
   "cell_type": "code",
   "execution_count": 47,
   "metadata": {},
   "outputs": [
    {
     "name": "stderr",
     "output_type": "stream",
     "text": [
      "<ipython-input-47-26f924bfad95>:5: SettingWithCopyWarning: \n",
      "A value is trying to be set on a copy of a slice from a DataFrame\n",
      "\n",
      "See the caveats in the documentation: https://pandas.pydata.org/pandas-docs/stable/user_guide/indexing.html#returning-a-view-versus-a-copy\n",
      "  data.RF[i] = 0\n",
      "<ipython-input-47-26f924bfad95>:7: SettingWithCopyWarning: \n",
      "A value is trying to be set on a copy of a slice from a DataFrame\n",
      "\n",
      "See the caveats in the documentation: https://pandas.pydata.org/pandas-docs/stable/user_guide/indexing.html#returning-a-view-versus-a-copy\n",
      "  data.RF[i] = 1\n"
     ]
    }
   ],
   "source": [
    "#0 = ABUSIVE and 1 = NON-ABUSIVE\n",
    "for i in range(len(data.Content)):\n",
    "    A = model.predict(vec.transform([data.Content[i]]))\n",
    "    if A[0] == 0:\n",
    "        data.RF[i] = 0\n",
    "    else:\n",
    "        data.RF[i] = 1"
   ]
  },
  {
   "cell_type": "code",
   "execution_count": 48,
   "metadata": {},
   "outputs": [
    {
     "data": {
      "text/html": [
       "<div>\n",
       "<style scoped>\n",
       "    .dataframe tbody tr th:only-of-type {\n",
       "        vertical-align: middle;\n",
       "    }\n",
       "\n",
       "    .dataframe tbody tr th {\n",
       "        vertical-align: top;\n",
       "    }\n",
       "\n",
       "    .dataframe thead th {\n",
       "        text-align: right;\n",
       "    }\n",
       "</style>\n",
       "<table border=\"1\" class=\"dataframe\">\n",
       "  <thead>\n",
       "    <tr style=\"text-align: right;\">\n",
       "      <th></th>\n",
       "      <th>Name</th>\n",
       "      <th>Mail-ID</th>\n",
       "      <th>Content</th>\n",
       "      <th>Original</th>\n",
       "      <th>SentimentalAnalysis</th>\n",
       "      <th>BagOfWords</th>\n",
       "      <th>VADER</th>\n",
       "      <th>SVM</th>\n",
       "      <th>NAIVE</th>\n",
       "      <th>RF</th>\n",
       "    </tr>\n",
       "  </thead>\n",
       "  <tbody>\n",
       "    <tr>\n",
       "      <th>0</th>\n",
       "      <td>arnold-j/_sent_mail/34.</td>\n",
       "      <td>&lt;15267340.1075857594923.JavaMail.evans@thyme&gt;</td>\n",
       "      <td>eat shit\\njohn j lavorato@excelr\\n11/18/2000 0...</td>\n",
       "      <td>0</td>\n",
       "      <td>0.0</td>\n",
       "      <td>0.0</td>\n",
       "      <td>0.0</td>\n",
       "      <td>0.0</td>\n",
       "      <td>1.0</td>\n",
       "      <td>0.0</td>\n",
       "    </tr>\n",
       "    <tr>\n",
       "      <th>1</th>\n",
       "      <td>arnold-j/_sent_mail/517.</td>\n",
       "      <td>&lt;15539583.1075857652152.JavaMail.evans@thyme&gt;</td>\n",
       "      <td>fuck you</td>\n",
       "      <td>0</td>\n",
       "      <td>0.0</td>\n",
       "      <td>0.0</td>\n",
       "      <td>0.0</td>\n",
       "      <td>0.0</td>\n",
       "      <td>0.0</td>\n",
       "      <td>0.0</td>\n",
       "    </tr>\n",
       "    <tr>\n",
       "      <th>2</th>\n",
       "      <td>arnold-j/_sent_mail/743.</td>\n",
       "      <td>&lt;4339799.1075857657711.JavaMail.evans@thyme&gt;</td>\n",
       "      <td>gentlemen:\\nthe following champagne is availab...</td>\n",
       "      <td>0</td>\n",
       "      <td>1.0</td>\n",
       "      <td>1.0</td>\n",
       "      <td>1.0</td>\n",
       "      <td>0.0</td>\n",
       "      <td>0.0</td>\n",
       "      <td>0.0</td>\n",
       "    </tr>\n",
       "    <tr>\n",
       "      <th>3</th>\n",
       "      <td>arnold-j/_sent_mail/766.</td>\n",
       "      <td>&lt;25574783.1075857658215.JavaMail.evans@thyme&gt;</td>\n",
       "      <td>sorry i've taken so long...just been trying to...</td>\n",
       "      <td>0</td>\n",
       "      <td>0.0</td>\n",
       "      <td>0.0</td>\n",
       "      <td>0.0</td>\n",
       "      <td>0.0</td>\n",
       "      <td>0.0</td>\n",
       "      <td>0.0</td>\n",
       "    </tr>\n",
       "    <tr>\n",
       "      <th>4</th>\n",
       "      <td>arnold-j/_sent_mail/797.</td>\n",
       "      <td>&lt;19506151.1075857658895.JavaMail.evans@thyme&gt;</td>\n",
       "      <td>asshole\\njohn j lavorato@excelr\\n12/23/2000 10...</td>\n",
       "      <td>0</td>\n",
       "      <td>0.0</td>\n",
       "      <td>0.0</td>\n",
       "      <td>0.0</td>\n",
       "      <td>0.0</td>\n",
       "      <td>1.0</td>\n",
       "      <td>0.0</td>\n",
       "    </tr>\n",
       "  </tbody>\n",
       "</table>\n",
       "</div>"
      ],
      "text/plain": [
       "                       Name                                        Mail-ID  \\\n",
       "0   arnold-j/_sent_mail/34.  <15267340.1075857594923.JavaMail.evans@thyme>   \n",
       "1  arnold-j/_sent_mail/517.  <15539583.1075857652152.JavaMail.evans@thyme>   \n",
       "2  arnold-j/_sent_mail/743.   <4339799.1075857657711.JavaMail.evans@thyme>   \n",
       "3  arnold-j/_sent_mail/766.  <25574783.1075857658215.JavaMail.evans@thyme>   \n",
       "4  arnold-j/_sent_mail/797.  <19506151.1075857658895.JavaMail.evans@thyme>   \n",
       "\n",
       "                                             Content  Original  \\\n",
       "0  eat shit\\njohn j lavorato@excelr\\n11/18/2000 0...         0   \n",
       "1                                           fuck you         0   \n",
       "2  gentlemen:\\nthe following champagne is availab...         0   \n",
       "3  sorry i've taken so long...just been trying to...         0   \n",
       "4  asshole\\njohn j lavorato@excelr\\n12/23/2000 10...         0   \n",
       "\n",
       "   SentimentalAnalysis  BagOfWords  VADER  SVM  NAIVE   RF  \n",
       "0                  0.0         0.0    0.0  0.0    1.0  0.0  \n",
       "1                  0.0         0.0    0.0  0.0    0.0  0.0  \n",
       "2                  1.0         1.0    1.0  0.0    0.0  0.0  \n",
       "3                  0.0         0.0    0.0  0.0    0.0  0.0  \n",
       "4                  0.0         0.0    0.0  0.0    1.0  0.0  "
      ]
     },
     "execution_count": 48,
     "metadata": {},
     "output_type": "execute_result"
    }
   ],
   "source": [
    "data.head()"
   ]
  },
  {
   "cell_type": "markdown",
   "metadata": {},
   "source": [
    "# MODEL VALIDATION"
   ]
  },
  {
   "cell_type": "code",
   "execution_count": 49,
   "metadata": {},
   "outputs": [],
   "source": [
    "from sklearn.metrics import accuracy_score"
   ]
  },
  {
   "cell_type": "code",
   "execution_count": 50,
   "metadata": {},
   "outputs": [
    {
     "data": {
      "text/plain": [
       "81.25468008985773"
      ]
     },
     "execution_count": 50,
     "metadata": {},
     "output_type": "execute_result"
    }
   ],
   "source": [
    "#SENTIMENTAL ANALYSIS ACCURACY\n",
    "def SentimentalAccuracy():\n",
    "    accuracy = accuracy_score(data.Original,data.SentimentalAnalysis)\n",
    "    return accuracy*100\n",
    "SentimentalAccuracy()"
   ]
  },
  {
   "cell_type": "code",
   "execution_count": 51,
   "metadata": {},
   "outputs": [
    {
     "data": {
      "text/plain": [
       "91.9336051252184"
      ]
     },
     "execution_count": 51,
     "metadata": {},
     "output_type": "execute_result"
    }
   ],
   "source": [
    "#BAG-OF-WORDS ACCURACY\n",
    "def BagofwordsAccuracy():\n",
    "    accuracy = accuracy_score(data.Original,data.BagOfWords)\n",
    "    return accuracy*100\n",
    "BagofwordsAccuracy()"
   ]
  },
  {
   "cell_type": "code",
   "execution_count": 52,
   "metadata": {},
   "outputs": [
    {
     "data": {
      "text/plain": [
       "50.846576254264086"
      ]
     },
     "execution_count": 52,
     "metadata": {},
     "output_type": "execute_result"
    }
   ],
   "source": [
    "#VADER SENTIMENTAL ANALYSIS ACCURACY\n",
    "def VADER():\n",
    "    accuracy = accuracy_score(data.Original,data.VADER)\n",
    "    return accuracy*100\n",
    "VADER()"
   ]
  },
  {
   "cell_type": "code",
   "execution_count": 53,
   "metadata": {},
   "outputs": [
    {
     "data": {
      "text/plain": [
       "99.32814710042433"
      ]
     },
     "execution_count": 53,
     "metadata": {},
     "output_type": "execute_result"
    }
   ],
   "source": [
    "#SVM ACCURACY\n",
    "def SVM():\n",
    "    accuracy = accuracy_score(data.Original,data.SVM)\n",
    "    return accuracy*100\n",
    "SVM()"
   ]
  },
  {
   "cell_type": "code",
   "execution_count": 54,
   "metadata": {},
   "outputs": [
    {
     "data": {
      "text/plain": [
       "97.20858640485898"
      ]
     },
     "execution_count": 54,
     "metadata": {},
     "output_type": "execute_result"
    }
   ],
   "source": [
    "#NAIVE BAYES ACCURACY\n",
    "def NB():\n",
    "    accuracy = accuracy_score(data.Original,data.NAIVE)\n",
    "    return accuracy*100\n",
    "NB()"
   ]
  },
  {
   "cell_type": "code",
   "execution_count": 55,
   "metadata": {},
   "outputs": [
    {
     "data": {
      "text/plain": [
       "99.65679341043348"
      ]
     },
     "execution_count": 55,
     "metadata": {},
     "output_type": "execute_result"
    }
   ],
   "source": [
    "#RANDOM FOREST ACCURACY\n",
    "def RF():\n",
    "    accuracy = accuracy_score(data.Original,data.RF)\n",
    "    return accuracy*100\n",
    "RF()"
   ]
  },
  {
   "cell_type": "code",
   "execution_count": null,
   "metadata": {},
   "outputs": [],
   "source": []
  },
  {
   "cell_type": "code",
   "execution_count": null,
   "metadata": {},
   "outputs": [],
   "source": []
  }
 ],
 "metadata": {
  "kernelspec": {
   "display_name": "Python 3",
   "language": "python",
   "name": "python3"
  },
  "language_info": {
   "codemirror_mode": {
    "name": "ipython",
    "version": 3
   },
   "file_extension": ".py",
   "mimetype": "text/x-python",
   "name": "python",
   "nbconvert_exporter": "python",
   "pygments_lexer": "ipython3",
   "version": "3.8.5"
  }
 },
 "nbformat": 4,
 "nbformat_minor": 5
}
